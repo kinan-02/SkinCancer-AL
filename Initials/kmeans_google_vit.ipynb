{
 "cells": [
  {
   "cell_type": "code",
   "execution_count": 1,
   "id": "ac182454-d923-4a77-8b8c-66b71d741cf9",
   "metadata": {},
   "outputs": [
    {
     "name": "stdout",
     "output_type": "stream",
     "text": [
      "\u001b[33mWARNING: Ignoring invalid distribution -ensorboard (/anaconda/envs/py38_default/lib/python3.9/site-packages)\u001b[0m\u001b[33m\n",
      "\u001b[0m\u001b[33mWARNING: Ignoring invalid distribution -ensorboard-data-server (/anaconda/envs/py38_default/lib/python3.9/site-packages)\u001b[0m\u001b[33m\n",
      "\u001b[0m\u001b[33mWARNING: Ignoring invalid distribution -orch (/anaconda/envs/py38_default/lib/python3.9/site-packages)\u001b[0m\u001b[33m\n",
      "\u001b[0mRequirement already satisfied: transformers in /anaconda/envs/py38_default/lib/python3.9/site-packages (4.39.3)\n",
      "Requirement already satisfied: filelock in /anaconda/envs/py38_default/lib/python3.9/site-packages (from transformers) (3.14.0)\n",
      "Requirement already satisfied: huggingface-hub<1.0,>=0.19.3 in /anaconda/envs/py38_default/lib/python3.9/site-packages (from transformers) (0.25.1)\n",
      "Requirement already satisfied: numpy>=1.17 in /anaconda/envs/py38_default/lib/python3.9/site-packages (from transformers) (1.26.4)\n",
      "Requirement already satisfied: packaging>=20.0 in /anaconda/envs/py38_default/lib/python3.9/site-packages (from transformers) (23.2)\n",
      "Requirement already satisfied: pyyaml>=5.1 in /anaconda/envs/py38_default/lib/python3.9/site-packages (from transformers) (6.0.1)\n",
      "Requirement already satisfied: regex!=2019.12.17 in /anaconda/envs/py38_default/lib/python3.9/site-packages (from transformers) (2024.5.15)\n",
      "Requirement already satisfied: requests in /anaconda/envs/py38_default/lib/python3.9/site-packages (from transformers) (2.31.0)\n",
      "Requirement already satisfied: tokenizers<0.19,>=0.14 in /anaconda/envs/py38_default/lib/python3.9/site-packages (from transformers) (0.15.2)\n",
      "Requirement already satisfied: safetensors>=0.4.1 in /anaconda/envs/py38_default/lib/python3.9/site-packages (from transformers) (0.4.5)\n",
      "Requirement already satisfied: tqdm>=4.27 in /anaconda/envs/py38_default/lib/python3.9/site-packages (from transformers) (4.66.2)\n",
      "Requirement already satisfied: fsspec>=2023.5.0 in /anaconda/envs/py38_default/lib/python3.9/site-packages (from huggingface-hub<1.0,>=0.19.3->transformers) (2024.5.0)\n",
      "Requirement already satisfied: typing-extensions>=3.7.4.3 in /anaconda/envs/py38_default/lib/python3.9/site-packages (from huggingface-hub<1.0,>=0.19.3->transformers) (4.11.0)\n",
      "Requirement already satisfied: charset-normalizer<4,>=2 in /anaconda/envs/py38_default/lib/python3.9/site-packages (from requests->transformers) (2.0.4)\n",
      "Requirement already satisfied: idna<4,>=2.5 in /anaconda/envs/py38_default/lib/python3.9/site-packages (from requests->transformers) (3.7)\n",
      "Requirement already satisfied: urllib3<3,>=1.21.1 in /anaconda/envs/py38_default/lib/python3.9/site-packages (from requests->transformers) (2.2.1)\n",
      "Requirement already satisfied: certifi>=2017.4.17 in /anaconda/envs/py38_default/lib/python3.9/site-packages (from requests->transformers) (2024.8.30)\n",
      "\u001b[33mWARNING: Ignoring invalid distribution -ensorboard (/anaconda/envs/py38_default/lib/python3.9/site-packages)\u001b[0m\u001b[33m\n",
      "\u001b[0m\u001b[33mWARNING: Ignoring invalid distribution -ensorboard-data-server (/anaconda/envs/py38_default/lib/python3.9/site-packages)\u001b[0m\u001b[33m\n",
      "\u001b[0m\u001b[33mWARNING: Ignoring invalid distribution -orch (/anaconda/envs/py38_default/lib/python3.9/site-packages)\u001b[0m\u001b[33m\n",
      "\u001b[0m\u001b[33mWARNING: Ignoring invalid distribution -ensorboard (/anaconda/envs/py38_default/lib/python3.9/site-packages)\u001b[0m\u001b[33m\n",
      "\u001b[0m\u001b[33mWARNING: Ignoring invalid distribution -ensorboard-data-server (/anaconda/envs/py38_default/lib/python3.9/site-packages)\u001b[0m\u001b[33m\n",
      "\u001b[0m\u001b[33mWARNING: Ignoring invalid distribution -orch (/anaconda/envs/py38_default/lib/python3.9/site-packages)\u001b[0m\u001b[33m\n",
      "\u001b[0mRequirement already satisfied: torch in /anaconda/envs/py38_default/lib/python3.9/site-packages (2.2.2)\n",
      "Requirement already satisfied: torchvision in /anaconda/envs/py38_default/lib/python3.9/site-packages (0.18.0)\n",
      "Requirement already satisfied: filelock in /anaconda/envs/py38_default/lib/python3.9/site-packages (from torch) (3.14.0)\n",
      "Requirement already satisfied: typing-extensions>=4.8.0 in /anaconda/envs/py38_default/lib/python3.9/site-packages (from torch) (4.11.0)\n",
      "Requirement already satisfied: sympy in /anaconda/envs/py38_default/lib/python3.9/site-packages (from torch) (1.12)\n",
      "Requirement already satisfied: networkx in /anaconda/envs/py38_default/lib/python3.9/site-packages (from torch) (3.1)\n",
      "Requirement already satisfied: jinja2 in /anaconda/envs/py38_default/lib/python3.9/site-packages (from torch) (3.1.3)\n",
      "Requirement already satisfied: fsspec in /anaconda/envs/py38_default/lib/python3.9/site-packages (from torch) (2024.5.0)\n",
      "Requirement already satisfied: nvidia-cuda-nvrtc-cu12==12.1.105 in /anaconda/envs/py38_default/lib/python3.9/site-packages (from torch) (12.1.105)\n",
      "Requirement already satisfied: nvidia-cuda-runtime-cu12==12.1.105 in /anaconda/envs/py38_default/lib/python3.9/site-packages (from torch) (12.1.105)\n",
      "Requirement already satisfied: nvidia-cuda-cupti-cu12==12.1.105 in /anaconda/envs/py38_default/lib/python3.9/site-packages (from torch) (12.1.105)\n",
      "Requirement already satisfied: nvidia-cudnn-cu12==8.9.2.26 in /anaconda/envs/py38_default/lib/python3.9/site-packages (from torch) (8.9.2.26)\n",
      "Requirement already satisfied: nvidia-cublas-cu12==12.1.3.1 in /anaconda/envs/py38_default/lib/python3.9/site-packages (from torch) (12.1.3.1)\n",
      "Requirement already satisfied: nvidia-cufft-cu12==11.0.2.54 in /anaconda/envs/py38_default/lib/python3.9/site-packages (from torch) (11.0.2.54)\n",
      "Requirement already satisfied: nvidia-curand-cu12==10.3.2.106 in /anaconda/envs/py38_default/lib/python3.9/site-packages (from torch) (10.3.2.106)\n",
      "Requirement already satisfied: nvidia-cusolver-cu12==11.4.5.107 in /anaconda/envs/py38_default/lib/python3.9/site-packages (from torch) (11.4.5.107)\n",
      "Requirement already satisfied: nvidia-cusparse-cu12==12.1.0.106 in /anaconda/envs/py38_default/lib/python3.9/site-packages (from torch) (12.1.0.106)\n",
      "Requirement already satisfied: nvidia-nccl-cu12==2.19.3 in /anaconda/envs/py38_default/lib/python3.9/site-packages (from torch) (2.19.3)\n",
      "Requirement already satisfied: nvidia-nvtx-cu12==12.1.105 in /anaconda/envs/py38_default/lib/python3.9/site-packages (from torch) (12.1.105)\n",
      "Requirement already satisfied: triton==2.2.0 in /anaconda/envs/py38_default/lib/python3.9/site-packages (from torch) (2.2.0)\n",
      "Requirement already satisfied: nvidia-nvjitlink-cu12 in /anaconda/envs/py38_default/lib/python3.9/site-packages (from nvidia-cusolver-cu12==11.4.5.107->torch) (12.6.77)\n",
      "Requirement already satisfied: numpy in /anaconda/envs/py38_default/lib/python3.9/site-packages (from torchvision) (1.26.4)\n",
      "Requirement already satisfied: pillow!=8.3.*,>=5.3.0 in /anaconda/envs/py38_default/lib/python3.9/site-packages (from torchvision) (10.3.0)\n",
      "Requirement already satisfied: MarkupSafe>=2.0 in /anaconda/envs/py38_default/lib/python3.9/site-packages (from jinja2->torch) (2.1.5)\n",
      "Requirement already satisfied: mpmath>=0.19 in /anaconda/envs/py38_default/lib/python3.9/site-packages (from sympy->torch) (1.3.0)\n",
      "\u001b[33mWARNING: Ignoring invalid distribution -ensorboard (/anaconda/envs/py38_default/lib/python3.9/site-packages)\u001b[0m\u001b[33m\n",
      "\u001b[0m\u001b[33mWARNING: Ignoring invalid distribution -ensorboard-data-server (/anaconda/envs/py38_default/lib/python3.9/site-packages)\u001b[0m\u001b[33m\n",
      "\u001b[0m\u001b[33mWARNING: Ignoring invalid distribution -orch (/anaconda/envs/py38_default/lib/python3.9/site-packages)\u001b[0m\u001b[33m\n",
      "\u001b[0m"
     ]
    }
   ],
   "source": [
    "!pip install transformers\n",
    "!pip install torch torchvision"
   ]
  },
  {
   "cell_type": "code",
   "execution_count": 2,
   "id": "78bb2bf0-0d30-49f1-96d9-39f768f952da",
   "metadata": {},
   "outputs": [],
   "source": [
    "import pandas as pd\n",
    "import numpy as np\n",
    "import pickle\n",
    "from sklearn.ensemble import RandomForestClassifier\n",
    "from sklearn.svm import SVC\n",
    "from sklearn.linear_model import LogisticRegression\n",
    "from scipy.stats import entropy\n",
    "from collections import defaultdict\n",
    "import argparse\n",
    "from matplotlib import pyplot as plt\n",
    "from transformers import ViTFeatureExtractor, ViTModel\n",
    "import torch\n",
    "import requests\n",
    "\n",
    "train_df = pd.read_csv('train_dataset/metadata.csv')\n",
    "test_df = pd.read_csv('test_dataset/metadata.csv')\n",
    "val_df = pd.read_csv('validation_dataset/metadata.csv')"
   ]
  },
  {
   "cell_type": "code",
   "execution_count": 3,
   "id": "181b48ba-7d82-4b2d-99a9-95a79e561337",
   "metadata": {},
   "outputs": [
    {
     "name": "stdout",
     "output_type": "stream",
     "text": [
      "diagnosis\n",
      "nevus                         1205\n",
      "melanoma                      1113\n",
      "pigmented benign keratosis    1099\n",
      "basal cell carcinoma           514\n",
      "squamous cell carcinoma        197\n",
      "vascular lesion                142\n",
      "actinic keratosis              130\n",
      "dermatofibroma                 115\n",
      "Name: count, dtype: int64\n"
     ]
    }
   ],
   "source": [
    "print(train_df['diagnosis'].value_counts())"
   ]
  },
  {
   "cell_type": "code",
   "execution_count": 4,
   "id": "9dce2916-3cff-4c72-a13d-79a9d7446c57",
   "metadata": {},
   "outputs": [
    {
     "data": {
      "text/plain": [
       "{'actinic keratosis': 0,\n",
       " 'basal cell carcinoma': 1,\n",
       " 'dermatofibroma': 2,\n",
       " 'melanoma': 3,\n",
       " 'nevus': 4,\n",
       " 'pigmented benign keratosis': 5,\n",
       " 'squamous cell carcinoma': 6,\n",
       " 'vascular lesion': 7}"
      ]
     },
     "execution_count": 4,
     "metadata": {},
     "output_type": "execute_result"
    }
   ],
   "source": [
    "class_mapping = {\n",
    "    \"actinic keratosis\": 0,\n",
    "    \"basal cell carcinoma\": 1,\n",
    "    \"dermatofibroma\": 2,\n",
    "    \"melanoma\": 3,\n",
    "    \"nevus\": 4,\n",
    "    \"pigmented benign keratosis\": 5,\n",
    "    \"squamous cell carcinoma\": 6,\n",
    "    \"vascular lesion\":7\n",
    "}\n",
    "class_mapping"
   ]
  },
  {
   "cell_type": "code",
   "execution_count": 5,
   "id": "d140454d-c528-4ef5-91a5-7e90923232b3",
   "metadata": {},
   "outputs": [],
   "source": [
    "from PIL import Image\n",
    "import os\n",
    "\n",
    "import torchvision.transforms as transforms\n",
    "\n",
    "# Define image transformations (resize, convert to tensor, and normalize)\n",
    "transform = transforms.Compose([\n",
    "    transforms.Resize((224, 224)),          # Resize images to 224x224 (matching ResNet input size)\n",
    "    transforms.ToTensor()\n",
    "])\n",
    "\n",
    "class Dataset():\n",
    "    def __init__(self, dataframe, transform, train='train'):\n",
    "        self.dataframe=dataframe\n",
    "        self.train = train\n",
    "        self.transform = transform\n",
    "        self.path_to_image=self._create_path_to_image_dict()\n",
    "        self.paths=list(self.path_to_image.keys())\n",
    "        self.labels=list(self.path_to_image.values())\n",
    "\n",
    "    def _create_path_to_image_dict(self):\n",
    "      path_to_image={}\n",
    "      for index,row in self.dataframe.iterrows():\n",
    "        if self.train == 'train':\n",
    "          img_path = os.path.join('train_dataset/',row['isic_id']+'.jpg')\n",
    "        elif self.train == 'test':\n",
    "          img_path = os.path.join('test_dataset/',row['isic_id']+'.jpg')\n",
    "        else:\n",
    "            img_path = os.path.join('val_dataset/',row['isic_id']+'.jpg')\n",
    "        label=row['diagnosis']\n",
    "        path_to_image[img_path]=label\n",
    "      return path_to_image\n",
    "\n",
    "    def __len__(self):\n",
    "        return len(self.paths)\n",
    "\n",
    "    def __getitem__(self,index):\n",
    "        img_path=self.paths[index]\n",
    "        img_label=self.labels[index]\n",
    "        image=Image.open(img_path)\n",
    "        image=self.transform(image)\n",
    "        if self.train == 'val':\n",
    "            return image, class_mapping[img_label], index\n",
    "        return image, img_label, index"
   ]
  },
  {
   "cell_type": "code",
   "execution_count": 6,
   "id": "be65fdbd-872a-4b7a-9456-531296a2b6f7",
   "metadata": {},
   "outputs": [],
   "source": [
    "train_df = Dataset(train_df, transform)"
   ]
  },
  {
   "cell_type": "code",
   "execution_count": 7,
   "id": "b72eb7c3-f6de-4406-a4c7-f0b80bee807b",
   "metadata": {},
   "outputs": [
    {
     "name": "stderr",
     "output_type": "stream",
     "text": [
      "/anaconda/envs/py38_default/lib/python3.9/site-packages/huggingface_hub/file_download.py:1142: FutureWarning: `resume_download` is deprecated and will be removed in version 1.0.0. Downloads always resume when possible. If you want to force a new download, use `force_download=True`.\n",
      "  warnings.warn(\n",
      "/anaconda/envs/py38_default/lib/python3.9/site-packages/transformers/models/vit/feature_extraction_vit.py:28: FutureWarning: The class ViTFeatureExtractor is deprecated and will be removed in version 5 of Transformers. Please use ViTImageProcessor instead.\n",
      "  warnings.warn(\n"
     ]
    }
   ],
   "source": [
    "feature_extractor = ViTFeatureExtractor.from_pretrained('google/vit-base-patch16-224-in21k')\n",
    "model = ViTModel.from_pretrained('google/vit-base-patch16-224-in21k')"
   ]
  },
  {
   "cell_type": "code",
   "execution_count": 8,
   "id": "9b8371bf-6ed6-4e7e-84bd-36badc2b8aec",
   "metadata": {},
   "outputs": [
    {
     "name": "stdout",
     "output_type": "stream",
     "text": [
      "(4515, 768)\n"
     ]
    }
   ],
   "source": [
    "import torch\n",
    "import torch.nn as nn\n",
    "import torchvision.models as models\n",
    "import torchvision.transforms as transforms\n",
    "from PIL import Image\n",
    "import os\n",
    "import pandas as pd\n",
    "from torch.utils.data import DataLoader\n",
    "from sklearn.cluster import KMeans\n",
    "import numpy as np\n",
    "\n",
    "train_loader = DataLoader(train_df, batch_size=32, shuffle=True)\n",
    "\n",
    "\n",
    "def extract_vae_features(dataloader, model):\n",
    "    features_list = []\n",
    "    indices_list = []\n",
    "    \n",
    "    with torch.no_grad():\n",
    "        for images, _, indices in dataloader:\n",
    "            # images = images.to(device)  # Move images to GPU if available\n",
    "            images_list = [transforms.ToPILImage()(img) for img in images]\n",
    "            inputs = feature_extractor(images=images_list, return_tensors=\"pt\")\n",
    "            with torch.no_grad():\n",
    "                outputs = model(**inputs)\n",
    "            \n",
    "            x = outputs.last_hidden_state[:, 0, :]\n",
    "            features_list.append(x.cpu().numpy())  # Move to CPU and convert to NumPy\n",
    "            \n",
    "            # Collect indices\n",
    "            indices_list.extend(indices)\n",
    "            \n",
    "    # Stack all features into a 2D array (n_samples, hidden_dim)\n",
    "    features = np.vstack(features_list)\n",
    "    \n",
    "    return features, indices_list\n",
    "\n",
    "# Extract features using the model\n",
    "train_features, train_indices = extract_vae_features(train_loader, model)\n",
    "print(train_features.shape)\n",
    "# Apply K-Means clustering on the train_features\n",
    "n_clusters = 30\n",
    "kmeans = KMeans(n_clusters=n_clusters, init='k-means++', random_state=0)\n",
    "kmeans.fit(train_features)\n",
    "\n",
    "# Get cluster labels for each image\n",
    "cluster_labels = kmeans.labels_"
   ]
  },
  {
   "cell_type": "code",
   "execution_count": 11,
   "id": "5e0ef939-3409-4851-90a6-3860ea5f8ced",
   "metadata": {},
   "outputs": [
    {
     "name": "stdout",
     "output_type": "stream",
     "text": [
      "{0: [tensor(1372), tensor(3158)], 1: [tensor(1277), tensor(1940)], 2: [tensor(1255), tensor(1121)], 3: [tensor(1423), tensor(2966)], 4: [tensor(2925), tensor(3946)], 5: [tensor(1963), tensor(397)], 6: [tensor(2335), tensor(4399)], 7: [tensor(1923), tensor(1874)], 8: [tensor(3791), tensor(3672)], 9: [tensor(1239), tensor(121)], 10: [tensor(909), tensor(1329)], 11: [tensor(134), tensor(1201)], 12: [tensor(1547), tensor(562)], 13: [tensor(3931), tensor(3602)], 14: [tensor(2467), tensor(1928)], 15: [tensor(2832), tensor(4365)], 16: [tensor(1789), tensor(1918)], 17: [tensor(3022), tensor(2914)], 18: [tensor(2424), tensor(2243)], 19: [tensor(780), tensor(2798)], 20: [tensor(2412), tensor(4219)], 21: [tensor(3038), tensor(2026)], 22: [tensor(2158), tensor(630)], 23: [tensor(3335), tensor(114)], 24: [tensor(1868), tensor(2806)], 25: [tensor(1771), tensor(812)], 26: [tensor(2015), tensor(810)], 27: [tensor(1535), tensor(1206)], 28: [tensor(710), tensor(3034)], 29: [tensor(3007), tensor(901)]}\n"
     ]
    }
   ],
   "source": [
    "train_cluster_labels = kmeans.labels_\n",
    "\n",
    "def get_representative_images(cluster_labels, indices):\n",
    "    cluster_to_images = {}\n",
    "    for i in range(kmeans.n_clusters):\n",
    "        cluster_indices = np.where(kmeans.labels_ == i)[0]\n",
    "        cluster_features = train_features[cluster_indices]\n",
    "        distances = np.linalg.norm(cluster_features - kmeans.cluster_centers_[i], axis=1)\n",
    "        nearest_indices = cluster_indices[np.argsort(distances)[:2]]\n",
    "        cluster_to_images[i] = [indices[idx] for idx in nearest_indices]\n",
    "    return cluster_to_images\n",
    "\n",
    "representative_images = get_representative_images(train_cluster_labels, train_indices)\n",
    "print(representative_images)"
   ]
  },
  {
   "cell_type": "code",
   "execution_count": 13,
   "id": "4867f128-f530-4dc4-982d-638c1887451e",
   "metadata": {},
   "outputs": [
    {
     "data": {
      "text/plain": [
       "(tensor([[[0.8235, 0.8235, 0.8235,  ..., 0.8118, 0.8039, 0.7922],\n",
       "          [0.8275, 0.8196, 0.8157,  ..., 0.8078, 0.7961, 0.7922],\n",
       "          [0.8275, 0.8235, 0.8196,  ..., 0.8118, 0.8000, 0.8000],\n",
       "          ...,\n",
       "          [0.7961, 0.8039, 0.8078,  ..., 0.8118, 0.8118, 0.8118],\n",
       "          [0.7961, 0.7961, 0.7961,  ..., 0.8078, 0.8078, 0.8078],\n",
       "          [0.8000, 0.7922, 0.7843,  ..., 0.8078, 0.8039, 0.8039]],\n",
       " \n",
       "         [[0.7255, 0.7255, 0.7255,  ..., 0.7059, 0.6980, 0.6863],\n",
       "          [0.7333, 0.7294, 0.7216,  ..., 0.7098, 0.6941, 0.6902],\n",
       "          [0.7373, 0.7333, 0.7294,  ..., 0.7137, 0.7020, 0.7020],\n",
       "          ...,\n",
       "          [0.6824, 0.6902, 0.6941,  ..., 0.7333, 0.7333, 0.7333],\n",
       "          [0.6784, 0.6824, 0.6824,  ..., 0.7294, 0.7294, 0.7294],\n",
       "          [0.6784, 0.6706, 0.6667,  ..., 0.7294, 0.7255, 0.7333]],\n",
       " \n",
       "         [[0.7412, 0.7412, 0.7412,  ..., 0.7294, 0.7216, 0.7059],\n",
       "          [0.7569, 0.7490, 0.7451,  ..., 0.7373, 0.7216, 0.7137],\n",
       "          [0.7608, 0.7569, 0.7529,  ..., 0.7412, 0.7294, 0.7255],\n",
       "          ...,\n",
       "          [0.7020, 0.7098, 0.7137,  ..., 0.7765, 0.7765, 0.7765],\n",
       "          [0.6980, 0.7020, 0.7020,  ..., 0.7725, 0.7725, 0.7725],\n",
       "          [0.7020, 0.6941, 0.6863,  ..., 0.7725, 0.7686, 0.7725]]]),\n",
       " 'melanoma',\n",
       " tensor(3158))"
      ]
     },
     "execution_count": 13,
     "metadata": {},
     "output_type": "execute_result"
    }
   ],
   "source": [
    "train_df.__getitem__(representative_images[0][1])"
   ]
  },
  {
   "cell_type": "code",
   "execution_count": 10,
   "id": "dbb25dca-b54b-48e0-9e9e-2c55fbcf9b85",
   "metadata": {},
   "outputs": [
    {
     "data": {
      "text/plain": [
       "[1372,\n",
       " 1277,\n",
       " 1255,\n",
       " 1423,\n",
       " 2925,\n",
       " 1963,\n",
       " 2335,\n",
       " 1923,\n",
       " 3791,\n",
       " 1239,\n",
       " 909,\n",
       " 134,\n",
       " 1547,\n",
       " 3931,\n",
       " 2467,\n",
       " 2832,\n",
       " 1789,\n",
       " 3022,\n",
       " 2424,\n",
       " 780,\n",
       " 2412,\n",
       " 3038,\n",
       " 2158,\n",
       " 3335,\n",
       " 1868,\n",
       " 1771,\n",
       " 2015,\n",
       " 1535,\n",
       " 710,\n",
       " 3007]"
      ]
     },
     "execution_count": 10,
     "metadata": {},
     "output_type": "execute_result"
    }
   ],
   "source": [
    "list(ids.item() for l in representative_images.values() for ids in l)"
   ]
  },
  {
   "cell_type": "code",
   "execution_count": null,
   "id": "7a405381-90a2-4e1e-8cf1-ed1970a5df4c",
   "metadata": {},
   "outputs": [],
   "source": []
  }
 ],
 "metadata": {
  "kernelspec": {
   "display_name": "Python 3 (ipykernel)",
   "language": "python",
   "name": "python3"
  },
  "language_info": {
   "codemirror_mode": {
    "name": "ipython",
    "version": 3
   },
   "file_extension": ".py",
   "mimetype": "text/x-python",
   "name": "python",
   "nbconvert_exporter": "python",
   "pygments_lexer": "ipython3",
   "version": "3.9.15"
  }
 },
 "nbformat": 4,
 "nbformat_minor": 5
}
