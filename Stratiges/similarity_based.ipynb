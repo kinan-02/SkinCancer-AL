{
 "cells": [
  {
   "cell_type": "code",
   "execution_count": 1,
   "metadata": {
    "id": "JjgyTgaRfy4k"
   },
   "outputs": [],
   "source": [
    "import pandas as pd\n",
    "import numpy as np\n",
    "import pickle\n",
    "from sklearn.ensemble import RandomForestClassifier\n",
    "from sklearn.svm import SVC\n",
    "from sklearn.linear_model import LogisticRegression\n",
    "from scipy.stats import entropy\n",
    "from collections import defaultdict\n",
    "import argparse\n",
    "from matplotlib import pyplot as plt\n",
    "import random, torch\n",
    "\n",
    "random.seed(0) # Set seed for NumPy\n",
    "np.random.seed(0) # Set seed for PyTorch (for both CPU and GPU)\n",
    "torch.manual_seed(0)\n",
    "if torch.cuda.is_available(): \n",
    "    torch.cuda.manual_seed_all(0)\n",
    "torch.backends.cudnn.deterministic = True\n",
    "torch.backends.cudnn.benchmark = False\n",
    "\n",
    "train_df = pd.read_csv('train_dataset/metadata.csv')\n",
    "test_df = pd.read_csv('test_dataset/metadata.csv')\n",
    "val_df = pd.read_csv('validation_dataset/metadata.csv')"
   ]
  },
  {
   "cell_type": "code",
   "execution_count": 2,
   "metadata": {
    "colab": {
     "base_uri": "https://localhost:8080/",
     "height": 366
    },
    "id": "bcHCCahYj6B7",
    "outputId": "1facd164-3e8b-40f4-81d7-52fc3110e538"
   },
   "outputs": [
    {
     "name": "stdout",
     "output_type": "stream",
     "text": [
      "diagnosis\n",
      "nevus                         1205\n",
      "melanoma                      1113\n",
      "pigmented benign keratosis    1099\n",
      "basal cell carcinoma           514\n",
      "squamous cell carcinoma        197\n",
      "vascular lesion                142\n",
      "actinic keratosis              130\n",
      "dermatofibroma                 115\n",
      "Name: count, dtype: int64\n"
     ]
    }
   ],
   "source": [
    "print(train_df['diagnosis'].value_counts())"
   ]
  },
  {
   "cell_type": "code",
   "execution_count": 3,
   "metadata": {},
   "outputs": [
    {
     "data": {
      "text/plain": [
       "{'actinic keratosis': 0,\n",
       " 'basal cell carcinoma': 1,\n",
       " 'dermatofibroma': 2,\n",
       " 'melanoma': 3,\n",
       " 'nevus': 4,\n",
       " 'pigmented benign keratosis': 5,\n",
       " 'squamous cell carcinoma': 6,\n",
       " 'vascular lesion': 7}"
      ]
     },
     "execution_count": 3,
     "metadata": {},
     "output_type": "execute_result"
    }
   ],
   "source": [
    "class_mapping = {\n",
    "    \"actinic keratosis\": 0,\n",
    "    \"basal cell carcinoma\": 1,\n",
    "    \"dermatofibroma\": 2,\n",
    "    \"melanoma\": 3,\n",
    "    \"nevus\": 4,\n",
    "    \"pigmented benign keratosis\": 5,\n",
    "    \"squamous cell carcinoma\": 6,\n",
    "    \"vascular lesion\":7\n",
    "}\n",
    "class_mapping"
   ]
  },
  {
   "cell_type": "code",
   "execution_count": 4,
   "metadata": {
    "id": "BLruwetXmPem"
   },
   "outputs": [],
   "source": [
    "from PIL import Image\n",
    "import os\n",
    "\n",
    "import torchvision.transforms as transforms\n",
    "\n",
    "# Define image transformations (resize, convert to tensor, and normalize)\n",
    "transform = transforms.Compose([\n",
    "    transforms.Resize((224, 224)),          # Resize images to 224x224 (matching ResNet input size)\n",
    "    transforms.ToTensor()\n",
    "])\n",
    "\n",
    "class Dataset():\n",
    "    def __init__(self, dataframe, transform, train='train'):\n",
    "        self.dataframe=dataframe\n",
    "        self.train = train\n",
    "        self.transform = transform\n",
    "        self.path_to_image=self._create_path_to_image_dict()\n",
    "        self.paths=list(self.path_to_image.keys())\n",
    "        self.labels=list(self.path_to_image.values())\n",
    "\n",
    "    def _create_path_to_image_dict(self):\n",
    "      path_to_image={}\n",
    "      for index,row in self.dataframe.iterrows():\n",
    "        if self.train == 'train':\n",
    "          img_path = os.path.join('train_dataset/',row['isic_id']+'.jpg')\n",
    "        elif self.train == 'test':\n",
    "          img_path = os.path.join('test_dataset/',row['isic_id']+'.jpg')\n",
    "        else:\n",
    "            img_path = os.path.join('validation_dataset/',row['isic_id']+'.jpg')\n",
    "        label=row['diagnosis']\n",
    "        path_to_image[img_path]=label\n",
    "      return path_to_image\n",
    "\n",
    "    def __len__(self):\n",
    "        return len(self.paths)\n",
    "\n",
    "    def __getitem__(self,index):\n",
    "        img_path=self.paths[index]\n",
    "        img_label=self.labels[index]\n",
    "        image=Image.open(img_path)\n",
    "        image=self.transform(image)\n",
    "        if self.train == 'val':\n",
    "            return image, class_mapping[img_label], index\n",
    "        return image, img_label, index"
   ]
  },
  {
   "cell_type": "code",
   "execution_count": 5,
   "metadata": {
    "id": "9yCvnprDoa_7"
   },
   "outputs": [],
   "source": [
    "train_df = Dataset(train_df, transform)\n",
    "val_df = Dataset(val_df, transform,train='val')\n",
    "test_df = Dataset(test_df, transform,train='test')"
   ]
  },
  {
   "cell_type": "code",
   "execution_count": 6,
   "metadata": {
    "colab": {
     "base_uri": "https://localhost:8080/"
    },
    "id": "l5L0NcpesnZI",
    "outputId": "22f97091-b571-4138-964f-95a509890583"
   },
   "outputs": [
    {
     "name": "stderr",
     "output_type": "stream",
     "text": [
      "/anaconda/envs/py38_default/lib/python3.9/site-packages/torchvision/models/_utils.py:208: UserWarning: The parameter 'pretrained' is deprecated since 0.13 and may be removed in the future, please use 'weights' instead.\n",
      "  warnings.warn(\n",
      "/anaconda/envs/py38_default/lib/python3.9/site-packages/torchvision/models/_utils.py:223: UserWarning: Arguments other than a weight enum or `None` for 'weights' are deprecated since 0.13 and may be removed in the future. The current behavior is equivalent to passing `weights=ResNet50_Weights.IMAGENET1K_V1`. You can also use `weights=ResNet50_Weights.DEFAULT` to get the most up-to-date weights.\n",
      "  warnings.warn(msg)\n"
     ]
    }
   ],
   "source": [
    "import torch\n",
    "import torch.nn as nn\n",
    "import torchvision.models as models\n",
    "from torchvision import transforms\n",
    "from torch.optim import Adam\n",
    "\n",
    "# Load pre-trained ResNet50 model from torchvision\n",
    "base_model = models.resnet50(pretrained=True)\n",
    "\n",
    "num_classes = 8  # Adjust this based on your dataset\n",
    "base_model.fc = nn.Sequential(\n",
    "    nn.Flatten(),\n",
    "    nn.Linear(base_model.fc.in_features, 128),  # Add a fully connected layer\n",
    "    nn.ReLU(),\n",
    "    nn.Linear(128, num_classes),  # Final layer with number of classes\n",
    "    nn.Softmax(dim=1)  # Softmax activation for multi-class classification\n",
    ")\n",
    "\n",
    "for param in base_model.parameters():\n",
    "    param.requires_grad = False  # Freeze all layers except the fully connected ones\n",
    "\n",
    "# Unfreeze the final fully connected layer\n",
    "for param in base_model.fc.parameters():\n",
    "    param.requires_grad = True\n",
    "    \n",
    "# class_weights = torch.tensor([0.5, 2.0, 1.0, 0.8, 0.2, 3.0, 0.7, 1.2]).to(device)\n",
    "loss_f = nn.CrossEntropyLoss()\n",
    "optimizer = Adam(base_model.fc.parameters(), lr=0.0008)\n",
    "\n",
    "# Move model to GPU if available\n",
    "device = torch.device(\"cuda\" if torch.cuda.is_available() else \"cpu\")\n",
    "base_model.to(device)\n",
    "x = 5"
   ]
  },
  {
   "cell_type": "code",
   "execution_count": 7,
   "metadata": {},
   "outputs": [],
   "source": [
    "from torch.utils.data import DataLoader, TensorDataset\n",
    "\n",
    "batch_size = 4  # Adjust based on your memory and hardware\n",
    "val_loader = DataLoader(val_df, batch_size=batch_size, shuffle=False)"
   ]
  },
  {
   "cell_type": "code",
   "execution_count": 8,
   "metadata": {
    "id": "-Vk8kyZsgACa"
   },
   "outputs": [],
   "source": [
    "from torch.utils.data import DataLoader, TensorDataset\n",
    "from sklearn.cluster import KMeans\n",
    "import numpy as np\n",
    "from sklearn.metrics.pairwise import cosine_similarity\n",
    "\n",
    "class ActiveLearningPipeline:\n",
    "    def __init__(self, model,\n",
    "                 available_pool_indices,\n",
    "                 train_indices,\n",
    "                 test_indices,\n",
    "                 selection_criterion,\n",
    "                 iterations,\n",
    "                 budget_per_iter,\n",
    "                 num_epochs):\n",
    "        self.model = model\n",
    "        self.iterations = iterations\n",
    "        self.budget_per_iter = budget_per_iter\n",
    "        self.available_pool_indices = available_pool_indices\n",
    "        self.train_indices = train_indices\n",
    "        self.test_indices = test_indices\n",
    "        self.selection_criterion = selection_criterion\n",
    "        if self.selection_criterion == 'random':\n",
    "          self.train_indices = []\n",
    "        self.num_epochs = num_epochs\n",
    "        self.pool_features = []\n",
    "        self.pool_indices = []\n",
    "        self.train_features = []\n",
    "        # self.best_acc = 0\n",
    "\n",
    "    def run_pipeline(self):\n",
    "        \"\"\"\n",
    "        Run the active learning pipeline\n",
    "        :return\n",
    "        accuracy_scores: list, accuracy scores at each iteration\n",
    "        \"\"\"\n",
    "        accuracy_scores = []\n",
    "        # auto_encoder =  Autoencoder(256)\n",
    "        # auto_encoder.load_state_dict(torch.load('vae_model.pth'))\n",
    "        self._get_features()\n",
    "        for iteration in range(self.iterations):\n",
    "            # if len(self.train_indices) > 600:\n",
    "            #     # raise error if the train set is larger than 600 samples\n",
    "            #     raise ValueError('The train set is larger than 600 samples')\n",
    "            print(f\"--------- Number of Iteration {iteration} ---------\")\n",
    "            if self.selection_criterion == 'random':\n",
    "                self._random_sampling()\n",
    "            elif self.selection_criterion == 'similarity_based':\n",
    "                self._similarity_based_sampling()\n",
    "            else:\n",
    "              self._custom_sampling(iteration)\n",
    "            \n",
    "            train_images = [train_df.__getitem__(index)[0] for index in self.train_indices]\n",
    "            label_df = [class_mapping[train_df.__getitem__(index)[1]] for index in self.train_indices]\n",
    "            self._train_model(train_images, label_df)\n",
    "            self.model.load_state_dict(torch.load(f\"best_{self.selection_criterion}_model.pth\"))\n",
    "            accuracy = self._evaluate_model()\n",
    "            accuracy_scores.append(accuracy)\n",
    "        return accuracy_scores\n",
    "        \n",
    "    def calculate_class_weights(self, label_counts, num_classes=8):\n",
    "        total_samples = sum(label_counts.values())\n",
    "        class_weights = torch.zeros(num_classes)\n",
    "        \n",
    "        for cls in range(num_classes):\n",
    "            if cls in label_counts:\n",
    "                class_weights[cls] = total_samples / (num_classes * label_counts[cls])\n",
    "            else:\n",
    "                class_weights[cls] = 1.0  # Handle the case where a class has zero samples in the current epoch\n",
    "    \n",
    "        return class_weights\n",
    "    \n",
    "    def _train_model(self, train_images, label_df):\n",
    "      label_counts = defaultdict(int)\n",
    "      for label in label_df:\n",
    "                label_counts[label] += 1\n",
    "      class_weights = self.calculate_class_weights(label_counts, 8).to(device)\n",
    "      loss_f = nn.CrossEntropyLoss(weight=class_weights)\n",
    "        \n",
    "      train_images_tensor = torch.stack(train_images)\n",
    "      label_df_tensor = torch.tensor(label_df)\n",
    "      train_dataset = TensorDataset(train_images_tensor, label_df_tensor)\n",
    "\n",
    "      batch_size = 32\n",
    "      train_loader = DataLoader(train_dataset, batch_size=batch_size, shuffle=True)\n",
    "      best_acc = 0\n",
    "      for epoch in range(self.num_epochs):\n",
    "                self.model.train()\n",
    "                running_loss = 0.0  # Track the running loss\n",
    "                correct_predictions = 0\n",
    "                total_predictions = 0\n",
    "                # Training loop\n",
    "                for inputs, labels in train_loader:\n",
    "                    inputs = inputs\n",
    "                    inputs= inputs.to(device)\n",
    "                    labels = torch.tensor(labels).to(device)\n",
    "                    \n",
    "                    # Zero the parameter gradients\n",
    "                    optimizer.zero_grad()\n",
    "\n",
    "                    # Forward pass\n",
    "                    outputs = self.model(inputs)\n",
    "                    # outputs = outputs.logits\n",
    "                    loss = loss_f(outputs, labels)\n",
    "\n",
    "                    # Backward pass and optimization\n",
    "                    loss.backward()\n",
    "                    optimizer.step()\n",
    "\n",
    "                    running_loss += loss.item()\n",
    "        \n",
    "                    # Calculate accuracy\n",
    "                    _, preds = torch.max(outputs, 1)\n",
    "                    correct_predictions += torch.sum(preds == labels)\n",
    "                    total_predictions += inputs.shape[0]\n",
    "\n",
    "                # Print loss and accuracy at the end of each epoch\n",
    "                epoch_loss = running_loss / len(train_loader)\n",
    "                epoch_acc = correct_predictions.double() / total_predictions\n",
    "                print(f'Epoch [{epoch+1}/{self.num_epochs}], Loss: {epoch_loss:.4f}, Accuracy: {epoch_acc:.4f}')\n",
    "          \n",
    "                val_acc = self._check_model()\n",
    "                if val_acc > best_acc: \n",
    "                    best_acc = val_acc\n",
    "                    torch.save(self.model.state_dict(), f\"best_{self.selection_criterion}_model.pth\")\n",
    "      print(\"--\"*30)\n",
    "\n",
    "    def _check_model(self):\n",
    "        self.model.eval()\n",
    "        running_corrects = 0\n",
    "        total_predictions = 0.0\n",
    "    \n",
    "        with torch.no_grad():\n",
    "            for inputs, labels, _ in val_loader:\n",
    "                inputs = inputs.to(device)\n",
    "                labels = torch.tensor(labels).to(device)\n",
    "\n",
    "                outputs = self.model(inputs)\n",
    "                # outputs = outputs.logits\n",
    "                _, preds = torch.max(outputs, 1)\n",
    "\n",
    "                running_corrects += torch.sum(preds == labels)\n",
    "                total_predictions += inputs.shape[0]\n",
    "        val_acc = running_corrects.double() / total_predictions\n",
    "        return val_acc.item()\n",
    "        \n",
    "    def _evaluate_model(self):\n",
    "        \"\"\"\n",
    "        Evaluate the model\n",
    "        :return:\n",
    "        accuracy: float, accuracy of the model\n",
    "        \"\"\"\n",
    "        self.model.eval()\n",
    "        running_corrects = 0\n",
    "        test_images_tensor = torch.stack(test_images)\n",
    "        label_df_tensor = torch.tensor(test_label_df)\n",
    "        test_dataset = TensorDataset(test_images_tensor, label_df_tensor)\n",
    "        batch_size = 32  # Adjust based on your memory and hardware\n",
    "        test_loader = DataLoader(test_dataset, batch_size=batch_size, shuffle=False)\n",
    "        total_predictions = 0.0\n",
    "        with torch.no_grad():\n",
    "            for inputs, labels in test_loader:\n",
    "                inputs = inputs.to(device)\n",
    "                labels = torch.tensor(labels).to(device)\n",
    "\n",
    "                outputs = self.model(inputs)\n",
    "                # outputs = outputs.logits\n",
    "                _, preds = torch.max(outputs, 1)\n",
    "\n",
    "                running_corrects += torch.sum(preds == labels)\n",
    "                total_predictions += inputs.shape[0]\n",
    "        test_acc = running_corrects.double() / total_predictions\n",
    "        return test_acc.item()\n",
    "\n",
    "    def _random_sampling(self):\n",
    "      selected_indices = np.random.choice(self.available_pool_indices, self.budget_per_iter, replace=False)\n",
    "      selected_indices = selected_indices.tolist()\n",
    "      self.train_indices = self.train_indices + selected_indices\n",
    "\n",
    "      available_pool_set = set(self.available_pool_indices)\n",
    "      train_set = set(self.train_indices)\n",
    "      self.available_pool_indices = list(available_pool_set - train_set)\n",
    "\n",
    "    def extract_vae_features(self, dataloader, model, feature_extractor):\n",
    "        features_list = []\n",
    "        indices_list = []\n",
    "        \n",
    "        with torch.no_grad():\n",
    "            for images, indices in dataloader:\n",
    "                images = images.to(device)\n",
    "                images_list = [transforms.ToPILImage()(img) for img in images]\n",
    "                inputs = feature_extractor(images=images_list, return_tensors=\"pt\")\n",
    "                with torch.no_grad():\n",
    "                    inputs = inputs.to(device)\n",
    "                    outputs = model(**inputs)\n",
    "                \n",
    "                x = outputs.last_hidden_state[:, 0, :]\n",
    "                features_list.append(x.cpu().numpy())\n",
    "                \n",
    "                # Collect indices\n",
    "                indices_list.extend(indices)\n",
    "                \n",
    "        # Stack all features into a 2D array (n_samples, hidden_dim)\n",
    "        features = np.vstack(features_list)\n",
    "        \n",
    "        return features, indices_list\n",
    "       \n",
    "    def _get_features(self):\n",
    "        feature_extractor = ViTFeatureExtractor.from_pretrained('google/vit-base-patch16-224-in21k')\n",
    "        # feature_extractor = feature_extractor.to(device)\n",
    "        model = ViTModel.from_pretrained('google/vit-base-patch16-224-in21k')\n",
    "        model = model.to(device)\n",
    "\n",
    "        train_images = [train_df.__getitem__(index)[0] for index in self.train_indices]\n",
    "        train_images_tensor = torch.stack(train_images)\n",
    "        label_df_tensor = torch.tensor(self.train_indices)\n",
    "        train_dataset = TensorDataset(train_images_tensor, label_df_tensor)\n",
    "        batch_size = 32\n",
    "        train_loader = DataLoader(train_dataset, batch_size=batch_size, shuffle=True)\n",
    "        self.train_features, self.train_indices = self.extract_vae_features(train_loader, model, feature_extractor)\n",
    "        \n",
    "        X_unlabeled = [train_df.__getitem__(index)[0] for index in self.available_pool_indices]\n",
    "        pool_images_tensor = torch.stack(X_unlabeled)\n",
    "        pool_indices_tensor = torch.tensor(self.available_pool_indices)\n",
    "        pool_dataset = TensorDataset(pool_images_tensor, pool_indices_tensor)\n",
    "    \n",
    "        batch_size = 32\n",
    "        pool_loader = DataLoader(pool_dataset, batch_size=batch_size, shuffle=False)\n",
    "   \n",
    "        self.pool_features, self.pool_indices = self.extract_vae_features(pool_loader, model, feature_extractor)\n",
    "        \n",
    "    def _similarity_based_sampling(self):\n",
    "          max_similarities = []\n",
    "\n",
    "          for pool_feature in self.pool_features:\n",
    "                similarities = cosine_similarity([pool_feature], self.train_features)\n",
    "                max_similarity = np.max(similarities)\n",
    "                max_similarities.append(max_similarity)\n",
    "              \n",
    "          selected_indices = np.argsort(max_similarities)[:self.budget_per_iter]\n",
    "          temp = np.array(self.available_pool_indices)\n",
    "          selected_indices = temp[selected_indices]\n",
    "        \n",
    "          for i in selected_indices:\n",
    "              index = self.pool_indices.index(i)\n",
    "              \n",
    "              self.train_features = np.append(self.train_features, [self.pool_features[index]], axis=0)\n",
    "              self.train_indices.append(i)\n",
    "              \n",
    "              self.pool_features = np.delete(self.pool_features, index, axis=0)\n",
    "              self.pool_indices.pop(index)\n",
    "\n",
    "          available_pool_set = set(self.available_pool_indices)\n",
    "          train_set = set(self.train_indices)\n",
    "          self.available_pool_indices = list(available_pool_set - train_set)\n"
   ]
  },
  {
   "cell_type": "code",
   "execution_count": 9,
   "metadata": {
    "id": "o5829ZYDh1Rp"
   },
   "outputs": [],
   "source": [
    "def generate_plot(accuracy_scores_dict):\n",
    "    \"\"\"\n",
    "    Generate a plot\n",
    "    \"\"\"\n",
    "    for criterion, accuracy_scores in accuracy_scores_dict.items():\n",
    "        plt.plot(range(1, len(accuracy_scores) + 1), accuracy_scores, label=criterion)\n",
    "    plt.xlabel('Iterations')\n",
    "    plt.ylabel('Accuracy')\n",
    "    plt.legend()\n",
    "    plt.show()"
   ]
  },
  {
   "cell_type": "code",
   "execution_count": 10,
   "metadata": {
    "id": "DQ2IZmfRuYgX"
   },
   "outputs": [],
   "source": [
    "available_pool_indices = []\n",
    "for i in range(len(train_df)):\n",
    "    image, label, index = train_df[i]\n",
    "    available_pool_indices.append(index)\n",
    "\n",
    "test_indices = []\n",
    "for i in range(len(test_df)):\n",
    "    image, label, index = test_df[i]\n",
    "    test_indices.append(index)\n",
    "test_images = [test_df.__getitem__(index)[0] for index in test_indices]\n",
    "test_label_df = [class_mapping[test_df.__getitem__(index)[1]] for index in test_indices]"
   ]
  },
  {
   "cell_type": "code",
   "execution_count": 11,
   "metadata": {},
   "outputs": [],
   "source": [
    "train_indices = [1372,\n",
    " 1277,\n",
    " 1255,\n",
    " 1423,\n",
    " 2925,\n",
    " 1963,\n",
    " 2335,\n",
    " 1923,\n",
    " 3791,\n",
    " 1239,\n",
    " 909,\n",
    " 134,\n",
    " 1547,\n",
    " 3931,\n",
    " 2467,\n",
    " 2832,\n",
    " 1789,\n",
    " 3022,\n",
    " 2424,\n",
    " 780,\n",
    " 2412,\n",
    " 3038,\n",
    " 2158,\n",
    " 3335,\n",
    " 1868,\n",
    " 1771,\n",
    " 2015,\n",
    " 1535,\n",
    " 710,\n",
    " 3007]\n",
    "available_pool_set = set(available_pool_indices)\n",
    "train_set = set(train_indices)\n",
    "available_pool_indices = list(available_pool_set - train_set)"
   ]
  },
  {
   "cell_type": "code",
   "execution_count": 12,
   "metadata": {
    "id": "Pmcf2jc6h2S9"
   },
   "outputs": [],
   "source": [
    "# train_indices = []\n",
    "iterations = 20\n",
    "budget_per_iter = 60\n",
    "num_epoch = 15\n",
    "selection_criteria = ['similarity_based']\n",
    "accuracy_scores_dict = defaultdict(list)\n",
    "model = base_model"
   ]
  },
  {
   "cell_type": "code",
   "execution_count": 13,
   "metadata": {
    "colab": {
     "base_uri": "https://localhost:8080/",
     "height": 339
    },
    "id": "4UGO2jW1h5Ql",
    "outputId": "0993cc7b-2fc2-4a84-a31a-ef45ed5febff"
   },
   "outputs": [
    {
     "name": "stderr",
     "output_type": "stream",
     "text": [
      "2024-10-16 18:12:58.295995: I tensorflow/core/platform/cpu_feature_guard.cc:193] This TensorFlow binary is optimized with oneAPI Deep Neural Network Library (oneDNN) to use the following CPU instructions in performance-critical operations:  AVX2 FMA\n",
      "To enable them in other operations, rebuild TensorFlow with the appropriate compiler flags.\n",
      "2024-10-16 18:12:58.703328: W tensorflow/compiler/xla/stream_executor/platform/default/dso_loader.cc:64] Could not load dynamic library 'libcudart.so.11.0'; dlerror: libcudart.so.11.0: cannot open shared object file: No such file or directory; LD_LIBRARY_PATH: /opt/intel/compilers_and_libraries_2018.1.163/linux/tbb/lib/intel64_lin/gcc4.7:/opt/intel/compilers_and_libraries_2018.1.163/linux/compiler/lib/intel64_lin:/opt/intel/compilers_and_libraries_2018.1.163/linux/mkl/lib/intel64_lin::/usr/local/cuda/lib64:/usr/local/cuda/extras/CUPTI/lib64/\n",
      "2024-10-16 18:12:58.703418: I tensorflow/compiler/xla/stream_executor/cuda/cudart_stub.cc:29] Ignore above cudart dlerror if you do not have a GPU set up on your machine.\n",
      "2024-10-16 18:13:00.490201: W tensorflow/compiler/xla/stream_executor/platform/default/dso_loader.cc:64] Could not load dynamic library 'libnvinfer.so.7'; dlerror: libnvinfer.so.7: cannot open shared object file: No such file or directory; LD_LIBRARY_PATH: /opt/intel/compilers_and_libraries_2018.1.163/linux/tbb/lib/intel64_lin/gcc4.7:/opt/intel/compilers_and_libraries_2018.1.163/linux/compiler/lib/intel64_lin:/opt/intel/compilers_and_libraries_2018.1.163/linux/mkl/lib/intel64_lin::/usr/local/cuda/lib64:/usr/local/cuda/extras/CUPTI/lib64/\n",
      "2024-10-16 18:13:00.490494: W tensorflow/compiler/xla/stream_executor/platform/default/dso_loader.cc:64] Could not load dynamic library 'libnvinfer_plugin.so.7'; dlerror: libnvinfer_plugin.so.7: cannot open shared object file: No such file or directory; LD_LIBRARY_PATH: /opt/intel/compilers_and_libraries_2018.1.163/linux/tbb/lib/intel64_lin/gcc4.7:/opt/intel/compilers_and_libraries_2018.1.163/linux/compiler/lib/intel64_lin:/opt/intel/compilers_and_libraries_2018.1.163/linux/mkl/lib/intel64_lin::/usr/local/cuda/lib64:/usr/local/cuda/extras/CUPTI/lib64/\n",
      "2024-10-16 18:13:00.490515: W tensorflow/compiler/tf2tensorrt/utils/py_utils.cc:38] TF-TRT Warning: Cannot dlopen some TensorRT libraries. If you would like to use Nvidia GPU with TensorRT, please make sure the missing libraries mentioned above are installed properly.\n",
      "/anaconda/envs/py38_default/lib/python3.9/site-packages/huggingface_hub/file_download.py:1142: FutureWarning: `resume_download` is deprecated and will be removed in version 1.0.0. Downloads always resume when possible. If you want to force a new download, use `force_download=True`.\n",
      "  warnings.warn(\n",
      "/anaconda/envs/py38_default/lib/python3.9/site-packages/transformers/models/vit/feature_extraction_vit.py:28: FutureWarning: The class ViTFeatureExtractor is deprecated and will be removed in version 5 of Transformers. Please use ViTImageProcessor instead.\n",
      "  warnings.warn(\n"
     ]
    },
    {
     "name": "stdout",
     "output_type": "stream",
     "text": [
      "--------- Number of Iteration 0 ---------\n"
     ]
    },
    {
     "name": "stderr",
     "output_type": "stream",
     "text": [
      "/tmp/ipykernel_393239/2988917942.py:95: UserWarning: To copy construct from a tensor, it is recommended to use sourceTensor.clone().detach() or sourceTensor.clone().detach().requires_grad_(True), rather than torch.tensor(sourceTensor).\n",
      "  labels = torch.tensor(labels).to(device)\n"
     ]
    },
    {
     "name": "stdout",
     "output_type": "stream",
     "text": [
      "Epoch [1/15], Loss: 2.0687, Accuracy: 0.1222\n"
     ]
    },
    {
     "name": "stderr",
     "output_type": "stream",
     "text": [
      "/tmp/ipykernel_393239/2988917942.py:135: UserWarning: To copy construct from a tensor, it is recommended to use sourceTensor.clone().detach() or sourceTensor.clone().detach().requires_grad_(True), rather than torch.tensor(sourceTensor).\n",
      "  labels = torch.tensor(labels).to(device)\n"
     ]
    },
    {
     "name": "stdout",
     "output_type": "stream",
     "text": [
      "Epoch [2/15], Loss: 2.0179, Accuracy: 0.2778\n",
      "Epoch [3/15], Loss: 1.9476, Accuracy: 0.3222\n",
      "Epoch [4/15], Loss: 1.9141, Accuracy: 0.4556\n",
      "Epoch [5/15], Loss: 1.8258, Accuracy: 0.6111\n",
      "Epoch [6/15], Loss: 1.7913, Accuracy: 0.5444\n",
      "Epoch [7/15], Loss: 1.7244, Accuracy: 0.6000\n",
      "Epoch [8/15], Loss: 1.6726, Accuracy: 0.7333\n",
      "Epoch [9/15], Loss: 1.6264, Accuracy: 0.8667\n",
      "Epoch [10/15], Loss: 1.5921, Accuracy: 0.8444\n",
      "Epoch [11/15], Loss: 1.5415, Accuracy: 0.8667\n",
      "Epoch [12/15], Loss: 1.5165, Accuracy: 0.8444\n",
      "Epoch [13/15], Loss: 1.4898, Accuracy: 0.9111\n",
      "Epoch [14/15], Loss: 1.4749, Accuracy: 0.8778\n",
      "Epoch [15/15], Loss: 1.4566, Accuracy: 0.8889\n",
      "------------------------------------------------------------\n"
     ]
    },
    {
     "name": "stderr",
     "output_type": "stream",
     "text": [
      "/tmp/ipykernel_393239/2988917942.py:163: UserWarning: To copy construct from a tensor, it is recommended to use sourceTensor.clone().detach() or sourceTensor.clone().detach().requires_grad_(True), rather than torch.tensor(sourceTensor).\n",
      "  labels = torch.tensor(labels).to(device)\n"
     ]
    },
    {
     "name": "stdout",
     "output_type": "stream",
     "text": [
      "--------- Number of Iteration 1 ---------\n"
     ]
    },
    {
     "name": "stderr",
     "output_type": "stream",
     "text": [
      "/tmp/ipykernel_393239/2988917942.py:95: UserWarning: To copy construct from a tensor, it is recommended to use sourceTensor.clone().detach() or sourceTensor.clone().detach().requires_grad_(True), rather than torch.tensor(sourceTensor).\n",
      "  labels = torch.tensor(labels).to(device)\n"
     ]
    },
    {
     "name": "stdout",
     "output_type": "stream",
     "text": [
      "Epoch [1/15], Loss: 1.7002, Accuracy: 0.6733\n"
     ]
    },
    {
     "name": "stderr",
     "output_type": "stream",
     "text": [
      "/tmp/ipykernel_393239/2988917942.py:135: UserWarning: To copy construct from a tensor, it is recommended to use sourceTensor.clone().detach() or sourceTensor.clone().detach().requires_grad_(True), rather than torch.tensor(sourceTensor).\n",
      "  labels = torch.tensor(labels).to(device)\n"
     ]
    },
    {
     "name": "stdout",
     "output_type": "stream",
     "text": [
      "Epoch [2/15], Loss: 1.6708, Accuracy: 0.6467\n",
      "Epoch [3/15], Loss: 1.6691, Accuracy: 0.7133\n",
      "Epoch [4/15], Loss: 1.6359, Accuracy: 0.7267\n",
      "Epoch [5/15], Loss: 1.6036, Accuracy: 0.7400\n",
      "Epoch [6/15], Loss: 1.6236, Accuracy: 0.7733\n",
      "Epoch [7/15], Loss: 1.5815, Accuracy: 0.8067\n",
      "Epoch [8/15], Loss: 1.5524, Accuracy: 0.8000\n",
      "Epoch [9/15], Loss: 1.5519, Accuracy: 0.8133\n",
      "Epoch [10/15], Loss: 1.5303, Accuracy: 0.8267\n",
      "Epoch [11/15], Loss: 1.5226, Accuracy: 0.8200\n",
      "Epoch [12/15], Loss: 1.5216, Accuracy: 0.8133\n",
      "Epoch [13/15], Loss: 1.5106, Accuracy: 0.8667\n",
      "Epoch [14/15], Loss: 1.5226, Accuracy: 0.8600\n",
      "Epoch [15/15], Loss: 1.5114, Accuracy: 0.8533\n",
      "------------------------------------------------------------\n"
     ]
    },
    {
     "name": "stderr",
     "output_type": "stream",
     "text": [
      "/tmp/ipykernel_393239/2988917942.py:163: UserWarning: To copy construct from a tensor, it is recommended to use sourceTensor.clone().detach() or sourceTensor.clone().detach().requires_grad_(True), rather than torch.tensor(sourceTensor).\n",
      "  labels = torch.tensor(labels).to(device)\n"
     ]
    },
    {
     "name": "stdout",
     "output_type": "stream",
     "text": [
      "--------- Number of Iteration 2 ---------\n"
     ]
    },
    {
     "name": "stderr",
     "output_type": "stream",
     "text": [
      "/tmp/ipykernel_393239/2988917942.py:95: UserWarning: To copy construct from a tensor, it is recommended to use sourceTensor.clone().detach() or sourceTensor.clone().detach().requires_grad_(True), rather than torch.tensor(sourceTensor).\n",
      "  labels = torch.tensor(labels).to(device)\n"
     ]
    },
    {
     "name": "stdout",
     "output_type": "stream",
     "text": [
      "Epoch [1/15], Loss: 1.6592, Accuracy: 0.7048\n"
     ]
    },
    {
     "name": "stderr",
     "output_type": "stream",
     "text": [
      "/tmp/ipykernel_393239/2988917942.py:135: UserWarning: To copy construct from a tensor, it is recommended to use sourceTensor.clone().detach() or sourceTensor.clone().detach().requires_grad_(True), rather than torch.tensor(sourceTensor).\n",
      "  labels = torch.tensor(labels).to(device)\n"
     ]
    },
    {
     "name": "stdout",
     "output_type": "stream",
     "text": [
      "Epoch [2/15], Loss: 1.6719, Accuracy: 0.6714\n",
      "Epoch [3/15], Loss: 1.6188, Accuracy: 0.7238\n",
      "Epoch [4/15], Loss: 1.5766, Accuracy: 0.7667\n",
      "Epoch [5/15], Loss: 1.5863, Accuracy: 0.7667\n",
      "Epoch [6/15], Loss: 1.5864, Accuracy: 0.7905\n",
      "Epoch [7/15], Loss: 1.5671, Accuracy: 0.8000\n",
      "Epoch [8/15], Loss: 1.5323, Accuracy: 0.8333\n",
      "Epoch [9/15], Loss: 1.5488, Accuracy: 0.8000\n",
      "Epoch [10/15], Loss: 1.5318, Accuracy: 0.8333\n",
      "Epoch [11/15], Loss: 1.5438, Accuracy: 0.8333\n",
      "Epoch [12/15], Loss: 1.4977, Accuracy: 0.8381\n",
      "Epoch [13/15], Loss: 1.4889, Accuracy: 0.8571\n",
      "Epoch [14/15], Loss: 1.5165, Accuracy: 0.8810\n",
      "Epoch [15/15], Loss: 1.5114, Accuracy: 0.8571\n",
      "------------------------------------------------------------\n"
     ]
    },
    {
     "name": "stderr",
     "output_type": "stream",
     "text": [
      "/tmp/ipykernel_393239/2988917942.py:163: UserWarning: To copy construct from a tensor, it is recommended to use sourceTensor.clone().detach() or sourceTensor.clone().detach().requires_grad_(True), rather than torch.tensor(sourceTensor).\n",
      "  labels = torch.tensor(labels).to(device)\n"
     ]
    },
    {
     "name": "stdout",
     "output_type": "stream",
     "text": [
      "--------- Number of Iteration 3 ---------\n"
     ]
    },
    {
     "name": "stderr",
     "output_type": "stream",
     "text": [
      "/tmp/ipykernel_393239/2988917942.py:95: UserWarning: To copy construct from a tensor, it is recommended to use sourceTensor.clone().detach() or sourceTensor.clone().detach().requires_grad_(True), rather than torch.tensor(sourceTensor).\n",
      "  labels = torch.tensor(labels).to(device)\n"
     ]
    },
    {
     "name": "stdout",
     "output_type": "stream",
     "text": [
      "Epoch [1/15], Loss: 1.6730, Accuracy: 0.6593\n"
     ]
    },
    {
     "name": "stderr",
     "output_type": "stream",
     "text": [
      "/tmp/ipykernel_393239/2988917942.py:135: UserWarning: To copy construct from a tensor, it is recommended to use sourceTensor.clone().detach() or sourceTensor.clone().detach().requires_grad_(True), rather than torch.tensor(sourceTensor).\n",
      "  labels = torch.tensor(labels).to(device)\n"
     ]
    },
    {
     "name": "stdout",
     "output_type": "stream",
     "text": [
      "Epoch [2/15], Loss: 1.6711, Accuracy: 0.6741\n",
      "Epoch [3/15], Loss: 1.6311, Accuracy: 0.7074\n",
      "Epoch [4/15], Loss: 1.6050, Accuracy: 0.7259\n",
      "Epoch [5/15], Loss: 1.5865, Accuracy: 0.7444\n",
      "Epoch [6/15], Loss: 1.6126, Accuracy: 0.7148\n",
      "Epoch [7/15], Loss: 1.6110, Accuracy: 0.7407\n",
      "Epoch [8/15], Loss: 1.5911, Accuracy: 0.7556\n",
      "Epoch [9/15], Loss: 1.5501, Accuracy: 0.8148\n",
      "Epoch [10/15], Loss: 1.5272, Accuracy: 0.8000\n",
      "Epoch [11/15], Loss: 1.5371, Accuracy: 0.8222\n",
      "Epoch [12/15], Loss: 1.5445, Accuracy: 0.8222\n",
      "Epoch [13/15], Loss: 1.5244, Accuracy: 0.8074\n",
      "Epoch [14/15], Loss: 1.5212, Accuracy: 0.8407\n",
      "Epoch [15/15], Loss: 1.4854, Accuracy: 0.8370\n",
      "------------------------------------------------------------\n"
     ]
    },
    {
     "name": "stderr",
     "output_type": "stream",
     "text": [
      "/tmp/ipykernel_393239/2988917942.py:163: UserWarning: To copy construct from a tensor, it is recommended to use sourceTensor.clone().detach() or sourceTensor.clone().detach().requires_grad_(True), rather than torch.tensor(sourceTensor).\n",
      "  labels = torch.tensor(labels).to(device)\n"
     ]
    },
    {
     "name": "stdout",
     "output_type": "stream",
     "text": [
      "--------- Number of Iteration 4 ---------\n"
     ]
    },
    {
     "name": "stderr",
     "output_type": "stream",
     "text": [
      "/tmp/ipykernel_393239/2988917942.py:95: UserWarning: To copy construct from a tensor, it is recommended to use sourceTensor.clone().detach() or sourceTensor.clone().detach().requires_grad_(True), rather than torch.tensor(sourceTensor).\n",
      "  labels = torch.tensor(labels).to(device)\n"
     ]
    },
    {
     "name": "stdout",
     "output_type": "stream",
     "text": [
      "Epoch [1/15], Loss: 1.6052, Accuracy: 0.7636\n"
     ]
    },
    {
     "name": "stderr",
     "output_type": "stream",
     "text": [
      "/tmp/ipykernel_393239/2988917942.py:135: UserWarning: To copy construct from a tensor, it is recommended to use sourceTensor.clone().detach() or sourceTensor.clone().detach().requires_grad_(True), rather than torch.tensor(sourceTensor).\n",
      "  labels = torch.tensor(labels).to(device)\n"
     ]
    },
    {
     "name": "stdout",
     "output_type": "stream",
     "text": [
      "Epoch [2/15], Loss: 1.6412, Accuracy: 0.7394\n",
      "Epoch [3/15], Loss: 1.6210, Accuracy: 0.7000\n",
      "Epoch [4/15], Loss: 1.6104, Accuracy: 0.7455\n",
      "Epoch [5/15], Loss: 1.6028, Accuracy: 0.7424\n",
      "Epoch [6/15], Loss: 1.6336, Accuracy: 0.7394\n",
      "Epoch [7/15], Loss: 1.5932, Accuracy: 0.7424\n",
      "Epoch [8/15], Loss: 1.5584, Accuracy: 0.7727\n",
      "Epoch [9/15], Loss: 1.5641, Accuracy: 0.7636\n",
      "Epoch [10/15], Loss: 1.5749, Accuracy: 0.7818\n",
      "Epoch [11/15], Loss: 1.5576, Accuracy: 0.7970\n",
      "Epoch [12/15], Loss: 1.5673, Accuracy: 0.7909\n",
      "Epoch [13/15], Loss: 1.5252, Accuracy: 0.8121\n",
      "Epoch [14/15], Loss: 1.5512, Accuracy: 0.7818\n",
      "Epoch [15/15], Loss: 1.5156, Accuracy: 0.8364\n",
      "------------------------------------------------------------\n"
     ]
    },
    {
     "name": "stderr",
     "output_type": "stream",
     "text": [
      "/tmp/ipykernel_393239/2988917942.py:163: UserWarning: To copy construct from a tensor, it is recommended to use sourceTensor.clone().detach() or sourceTensor.clone().detach().requires_grad_(True), rather than torch.tensor(sourceTensor).\n",
      "  labels = torch.tensor(labels).to(device)\n"
     ]
    },
    {
     "name": "stdout",
     "output_type": "stream",
     "text": [
      "--------- Number of Iteration 5 ---------\n"
     ]
    },
    {
     "name": "stderr",
     "output_type": "stream",
     "text": [
      "/tmp/ipykernel_393239/2988917942.py:95: UserWarning: To copy construct from a tensor, it is recommended to use sourceTensor.clone().detach() or sourceTensor.clone().detach().requires_grad_(True), rather than torch.tensor(sourceTensor).\n",
      "  labels = torch.tensor(labels).to(device)\n"
     ]
    },
    {
     "name": "stdout",
     "output_type": "stream",
     "text": [
      "Epoch [1/15], Loss: 1.6678, Accuracy: 0.6949\n"
     ]
    },
    {
     "name": "stderr",
     "output_type": "stream",
     "text": [
      "/tmp/ipykernel_393239/2988917942.py:135: UserWarning: To copy construct from a tensor, it is recommended to use sourceTensor.clone().detach() or sourceTensor.clone().detach().requires_grad_(True), rather than torch.tensor(sourceTensor).\n",
      "  labels = torch.tensor(labels).to(device)\n"
     ]
    },
    {
     "name": "stdout",
     "output_type": "stream",
     "text": [
      "Epoch [2/15], Loss: 1.6454, Accuracy: 0.7077\n",
      "Epoch [3/15], Loss: 1.6214, Accuracy: 0.7513\n",
      "Epoch [4/15], Loss: 1.5924, Accuracy: 0.7436\n",
      "Epoch [5/15], Loss: 1.5780, Accuracy: 0.7462\n",
      "Epoch [6/15], Loss: 1.5725, Accuracy: 0.7667\n",
      "Epoch [7/15], Loss: 1.6376, Accuracy: 0.7000\n",
      "Epoch [8/15], Loss: 1.6339, Accuracy: 0.7051\n",
      "Epoch [9/15], Loss: 1.6324, Accuracy: 0.6872\n",
      "Epoch [10/15], Loss: 1.5780, Accuracy: 0.7385\n",
      "Epoch [11/15], Loss: 1.6242, Accuracy: 0.6846\n",
      "Epoch [12/15], Loss: 1.5556, Accuracy: 0.7769\n",
      "Epoch [13/15], Loss: 1.5650, Accuracy: 0.7564\n",
      "Epoch [14/15], Loss: 1.5295, Accuracy: 0.7897\n",
      "Epoch [15/15], Loss: 1.5793, Accuracy: 0.7538\n",
      "------------------------------------------------------------\n"
     ]
    },
    {
     "name": "stderr",
     "output_type": "stream",
     "text": [
      "/tmp/ipykernel_393239/2988917942.py:163: UserWarning: To copy construct from a tensor, it is recommended to use sourceTensor.clone().detach() or sourceTensor.clone().detach().requires_grad_(True), rather than torch.tensor(sourceTensor).\n",
      "  labels = torch.tensor(labels).to(device)\n"
     ]
    },
    {
     "name": "stdout",
     "output_type": "stream",
     "text": [
      "--------- Number of Iteration 6 ---------\n"
     ]
    },
    {
     "name": "stderr",
     "output_type": "stream",
     "text": [
      "/tmp/ipykernel_393239/2988917942.py:95: UserWarning: To copy construct from a tensor, it is recommended to use sourceTensor.clone().detach() or sourceTensor.clone().detach().requires_grad_(True), rather than torch.tensor(sourceTensor).\n",
      "  labels = torch.tensor(labels).to(device)\n"
     ]
    },
    {
     "name": "stdout",
     "output_type": "stream",
     "text": [
      "Epoch [1/15], Loss: 1.6157, Accuracy: 0.6867\n"
     ]
    },
    {
     "name": "stderr",
     "output_type": "stream",
     "text": [
      "/tmp/ipykernel_393239/2988917942.py:135: UserWarning: To copy construct from a tensor, it is recommended to use sourceTensor.clone().detach() or sourceTensor.clone().detach().requires_grad_(True), rather than torch.tensor(sourceTensor).\n",
      "  labels = torch.tensor(labels).to(device)\n"
     ]
    },
    {
     "name": "stdout",
     "output_type": "stream",
     "text": [
      "Epoch [2/15], Loss: 1.6367, Accuracy: 0.7356\n",
      "Epoch [3/15], Loss: 1.6246, Accuracy: 0.6756\n",
      "Epoch [4/15], Loss: 1.6352, Accuracy: 0.7289\n",
      "Epoch [5/15], Loss: 1.6037, Accuracy: 0.7156\n",
      "Epoch [6/15], Loss: 1.6732, Accuracy: 0.6311\n",
      "Epoch [7/15], Loss: 1.5906, Accuracy: 0.7422\n",
      "Epoch [8/15], Loss: 1.6221, Accuracy: 0.7289\n",
      "Epoch [9/15], Loss: 1.5835, Accuracy: 0.7622\n",
      "Epoch [10/15], Loss: 1.6839, Accuracy: 0.6111\n",
      "Epoch [11/15], Loss: 1.6004, Accuracy: 0.6978\n",
      "Epoch [12/15], Loss: 1.5801, Accuracy: 0.7489\n",
      "Epoch [13/15], Loss: 1.6289, Accuracy: 0.6600\n",
      "Epoch [14/15], Loss: 1.6666, Accuracy: 0.7044\n",
      "Epoch [15/15], Loss: 1.5953, Accuracy: 0.7778\n",
      "------------------------------------------------------------\n"
     ]
    },
    {
     "name": "stderr",
     "output_type": "stream",
     "text": [
      "/tmp/ipykernel_393239/2988917942.py:163: UserWarning: To copy construct from a tensor, it is recommended to use sourceTensor.clone().detach() or sourceTensor.clone().detach().requires_grad_(True), rather than torch.tensor(sourceTensor).\n",
      "  labels = torch.tensor(labels).to(device)\n"
     ]
    },
    {
     "name": "stdout",
     "output_type": "stream",
     "text": [
      "--------- Number of Iteration 7 ---------\n"
     ]
    },
    {
     "name": "stderr",
     "output_type": "stream",
     "text": [
      "/tmp/ipykernel_393239/2988917942.py:95: UserWarning: To copy construct from a tensor, it is recommended to use sourceTensor.clone().detach() or sourceTensor.clone().detach().requires_grad_(True), rather than torch.tensor(sourceTensor).\n",
      "  labels = torch.tensor(labels).to(device)\n"
     ]
    },
    {
     "name": "stdout",
     "output_type": "stream",
     "text": [
      "Epoch [1/15], Loss: 1.6110, Accuracy: 0.7020\n"
     ]
    },
    {
     "name": "stderr",
     "output_type": "stream",
     "text": [
      "/tmp/ipykernel_393239/2988917942.py:135: UserWarning: To copy construct from a tensor, it is recommended to use sourceTensor.clone().detach() or sourceTensor.clone().detach().requires_grad_(True), rather than torch.tensor(sourceTensor).\n",
      "  labels = torch.tensor(labels).to(device)\n"
     ]
    },
    {
     "name": "stdout",
     "output_type": "stream",
     "text": [
      "Epoch [2/15], Loss: 1.5842, Accuracy: 0.7373\n",
      "Epoch [3/15], Loss: 1.5656, Accuracy: 0.7392\n",
      "Epoch [4/15], Loss: 1.5690, Accuracy: 0.7314\n",
      "Epoch [5/15], Loss: 1.5671, Accuracy: 0.7686\n",
      "Epoch [6/15], Loss: 1.5789, Accuracy: 0.7392\n",
      "Epoch [7/15], Loss: 1.5504, Accuracy: 0.7647\n",
      "Epoch [8/15], Loss: 1.5537, Accuracy: 0.7725\n",
      "Epoch [9/15], Loss: 1.5505, Accuracy: 0.7725\n",
      "Epoch [10/15], Loss: 1.5407, Accuracy: 0.7882\n",
      "Epoch [11/15], Loss: 1.5401, Accuracy: 0.7784\n",
      "Epoch [12/15], Loss: 1.5448, Accuracy: 0.7843\n",
      "Epoch [13/15], Loss: 1.5288, Accuracy: 0.8157\n",
      "Epoch [14/15], Loss: 1.5323, Accuracy: 0.8078\n",
      "Epoch [15/15], Loss: 1.5265, Accuracy: 0.7941\n",
      "------------------------------------------------------------\n"
     ]
    },
    {
     "name": "stderr",
     "output_type": "stream",
     "text": [
      "/tmp/ipykernel_393239/2988917942.py:163: UserWarning: To copy construct from a tensor, it is recommended to use sourceTensor.clone().detach() or sourceTensor.clone().detach().requires_grad_(True), rather than torch.tensor(sourceTensor).\n",
      "  labels = torch.tensor(labels).to(device)\n"
     ]
    },
    {
     "name": "stdout",
     "output_type": "stream",
     "text": [
      "--------- Number of Iteration 8 ---------\n"
     ]
    },
    {
     "name": "stderr",
     "output_type": "stream",
     "text": [
      "/tmp/ipykernel_393239/2988917942.py:95: UserWarning: To copy construct from a tensor, it is recommended to use sourceTensor.clone().detach() or sourceTensor.clone().detach().requires_grad_(True), rather than torch.tensor(sourceTensor).\n",
      "  labels = torch.tensor(labels).to(device)\n"
     ]
    },
    {
     "name": "stdout",
     "output_type": "stream",
     "text": [
      "Epoch [1/15], Loss: 1.5749, Accuracy: 0.7596\n"
     ]
    },
    {
     "name": "stderr",
     "output_type": "stream",
     "text": [
      "/tmp/ipykernel_393239/2988917942.py:135: UserWarning: To copy construct from a tensor, it is recommended to use sourceTensor.clone().detach() or sourceTensor.clone().detach().requires_grad_(True), rather than torch.tensor(sourceTensor).\n",
      "  labels = torch.tensor(labels).to(device)\n"
     ]
    },
    {
     "name": "stdout",
     "output_type": "stream",
     "text": [
      "Epoch [2/15], Loss: 1.5624, Accuracy: 0.7702\n",
      "Epoch [3/15], Loss: 1.5626, Accuracy: 0.7842\n",
      "Epoch [4/15], Loss: 1.5547, Accuracy: 0.7719\n",
      "Epoch [5/15], Loss: 1.5631, Accuracy: 0.7614\n",
      "Epoch [6/15], Loss: 1.5475, Accuracy: 0.7860\n",
      "Epoch [7/15], Loss: 1.5428, Accuracy: 0.7754\n",
      "Epoch [8/15], Loss: 1.5515, Accuracy: 0.7877\n",
      "Epoch [9/15], Loss: 1.5390, Accuracy: 0.7842\n",
      "Epoch [10/15], Loss: 1.5198, Accuracy: 0.8158\n",
      "Epoch [11/15], Loss: 1.5439, Accuracy: 0.7754\n",
      "Epoch [12/15], Loss: 1.5288, Accuracy: 0.8088\n",
      "Epoch [13/15], Loss: 1.5271, Accuracy: 0.8053\n",
      "Epoch [14/15], Loss: 1.5341, Accuracy: 0.8035\n",
      "Epoch [15/15], Loss: 1.5265, Accuracy: 0.8088\n",
      "------------------------------------------------------------\n"
     ]
    },
    {
     "name": "stderr",
     "output_type": "stream",
     "text": [
      "/tmp/ipykernel_393239/2988917942.py:163: UserWarning: To copy construct from a tensor, it is recommended to use sourceTensor.clone().detach() or sourceTensor.clone().detach().requires_grad_(True), rather than torch.tensor(sourceTensor).\n",
      "  labels = torch.tensor(labels).to(device)\n"
     ]
    },
    {
     "name": "stdout",
     "output_type": "stream",
     "text": [
      "--------- Number of Iteration 9 ---------\n"
     ]
    },
    {
     "name": "stderr",
     "output_type": "stream",
     "text": [
      "/tmp/ipykernel_393239/2988917942.py:95: UserWarning: To copy construct from a tensor, it is recommended to use sourceTensor.clone().detach() or sourceTensor.clone().detach().requires_grad_(True), rather than torch.tensor(sourceTensor).\n",
      "  labels = torch.tensor(labels).to(device)\n"
     ]
    },
    {
     "name": "stdout",
     "output_type": "stream",
     "text": [
      "Epoch [1/15], Loss: 1.5697, Accuracy: 0.7571\n"
     ]
    },
    {
     "name": "stderr",
     "output_type": "stream",
     "text": [
      "/tmp/ipykernel_393239/2988917942.py:135: UserWarning: To copy construct from a tensor, it is recommended to use sourceTensor.clone().detach() or sourceTensor.clone().detach().requires_grad_(True), rather than torch.tensor(sourceTensor).\n",
      "  labels = torch.tensor(labels).to(device)\n"
     ]
    },
    {
     "name": "stdout",
     "output_type": "stream",
     "text": [
      "Epoch [2/15], Loss: 1.6036, Accuracy: 0.7127\n",
      "Epoch [3/15], Loss: 1.5645, Accuracy: 0.7635\n",
      "Epoch [4/15], Loss: 1.5545, Accuracy: 0.7603\n",
      "Epoch [5/15], Loss: 1.5515, Accuracy: 0.7698\n",
      "Epoch [6/15], Loss: 1.5567, Accuracy: 0.7683\n",
      "Epoch [7/15], Loss: 1.5597, Accuracy: 0.7683\n",
      "Epoch [8/15], Loss: 1.5405, Accuracy: 0.7889\n",
      "Epoch [9/15], Loss: 1.5391, Accuracy: 0.7825\n",
      "Epoch [10/15], Loss: 1.5461, Accuracy: 0.7714\n",
      "Epoch [11/15], Loss: 1.5383, Accuracy: 0.7889\n",
      "Epoch [12/15], Loss: 1.5392, Accuracy: 0.7810\n",
      "Epoch [13/15], Loss: 1.5479, Accuracy: 0.7635\n",
      "Epoch [14/15], Loss: 1.5554, Accuracy: 0.7587\n",
      "Epoch [15/15], Loss: 1.5366, Accuracy: 0.7825\n",
      "------------------------------------------------------------\n"
     ]
    },
    {
     "name": "stderr",
     "output_type": "stream",
     "text": [
      "/tmp/ipykernel_393239/2988917942.py:163: UserWarning: To copy construct from a tensor, it is recommended to use sourceTensor.clone().detach() or sourceTensor.clone().detach().requires_grad_(True), rather than torch.tensor(sourceTensor).\n",
      "  labels = torch.tensor(labels).to(device)\n"
     ]
    },
    {
     "name": "stdout",
     "output_type": "stream",
     "text": [
      "--------- Number of Iteration 10 ---------\n"
     ]
    },
    {
     "name": "stderr",
     "output_type": "stream",
     "text": [
      "/tmp/ipykernel_393239/2988917942.py:95: UserWarning: To copy construct from a tensor, it is recommended to use sourceTensor.clone().detach() or sourceTensor.clone().detach().requires_grad_(True), rather than torch.tensor(sourceTensor).\n",
      "  labels = torch.tensor(labels).to(device)\n"
     ]
    },
    {
     "name": "stdout",
     "output_type": "stream",
     "text": [
      "Epoch [1/15], Loss: 1.5847, Accuracy: 0.7406\n"
     ]
    },
    {
     "name": "stderr",
     "output_type": "stream",
     "text": [
      "/tmp/ipykernel_393239/2988917942.py:135: UserWarning: To copy construct from a tensor, it is recommended to use sourceTensor.clone().detach() or sourceTensor.clone().detach().requires_grad_(True), rather than torch.tensor(sourceTensor).\n",
      "  labels = torch.tensor(labels).to(device)\n"
     ]
    },
    {
     "name": "stdout",
     "output_type": "stream",
     "text": [
      "Epoch [2/15], Loss: 1.5803, Accuracy: 0.7290\n",
      "Epoch [3/15], Loss: 1.5611, Accuracy: 0.7696\n",
      "Epoch [4/15], Loss: 1.5660, Accuracy: 0.7464\n",
      "Epoch [5/15], Loss: 1.5719, Accuracy: 0.7551\n",
      "Epoch [6/15], Loss: 1.5799, Accuracy: 0.7435\n",
      "Epoch [7/15], Loss: 1.5650, Accuracy: 0.7609\n",
      "Epoch [8/15], Loss: 1.5520, Accuracy: 0.7768\n",
      "Epoch [9/15], Loss: 1.5522, Accuracy: 0.7797\n",
      "Epoch [10/15], Loss: 1.5403, Accuracy: 0.7841\n",
      "Epoch [11/15], Loss: 1.5459, Accuracy: 0.7855\n",
      "Epoch [12/15], Loss: 1.5658, Accuracy: 0.7435\n",
      "Epoch [13/15], Loss: 1.5544, Accuracy: 0.7797\n",
      "Epoch [14/15], Loss: 1.5479, Accuracy: 0.7783\n",
      "Epoch [15/15], Loss: 1.5604, Accuracy: 0.7710\n",
      "------------------------------------------------------------\n"
     ]
    },
    {
     "name": "stderr",
     "output_type": "stream",
     "text": [
      "/tmp/ipykernel_393239/2988917942.py:163: UserWarning: To copy construct from a tensor, it is recommended to use sourceTensor.clone().detach() or sourceTensor.clone().detach().requires_grad_(True), rather than torch.tensor(sourceTensor).\n",
      "  labels = torch.tensor(labels).to(device)\n"
     ]
    },
    {
     "name": "stdout",
     "output_type": "stream",
     "text": [
      "--------- Number of Iteration 11 ---------\n"
     ]
    },
    {
     "name": "stderr",
     "output_type": "stream",
     "text": [
      "/tmp/ipykernel_393239/2988917942.py:95: UserWarning: To copy construct from a tensor, it is recommended to use sourceTensor.clone().detach() or sourceTensor.clone().detach().requires_grad_(True), rather than torch.tensor(sourceTensor).\n",
      "  labels = torch.tensor(labels).to(device)\n"
     ]
    },
    {
     "name": "stdout",
     "output_type": "stream",
     "text": [
      "Epoch [1/15], Loss: 1.6048, Accuracy: 0.7280\n"
     ]
    },
    {
     "name": "stderr",
     "output_type": "stream",
     "text": [
      "/tmp/ipykernel_393239/2988917942.py:135: UserWarning: To copy construct from a tensor, it is recommended to use sourceTensor.clone().detach() or sourceTensor.clone().detach().requires_grad_(True), rather than torch.tensor(sourceTensor).\n",
      "  labels = torch.tensor(labels).to(device)\n"
     ]
    },
    {
     "name": "stdout",
     "output_type": "stream",
     "text": [
      "Epoch [2/15], Loss: 1.5661, Accuracy: 0.7627\n",
      "Epoch [3/15], Loss: 1.5802, Accuracy: 0.7253\n",
      "Epoch [4/15], Loss: 1.5776, Accuracy: 0.7533\n",
      "Epoch [5/15], Loss: 1.5859, Accuracy: 0.7320\n",
      "Epoch [6/15], Loss: 1.5727, Accuracy: 0.7507\n",
      "Epoch [7/15], Loss: 1.5668, Accuracy: 0.7467\n",
      "Epoch [8/15], Loss: 1.5589, Accuracy: 0.7640\n",
      "Epoch [9/15], Loss: 1.5604, Accuracy: 0.7507\n",
      "Epoch [10/15], Loss: 1.5901, Accuracy: 0.7347\n",
      "Epoch [11/15], Loss: 1.5497, Accuracy: 0.7707\n",
      "Epoch [12/15], Loss: 1.5418, Accuracy: 0.7653\n",
      "Epoch [13/15], Loss: 1.5618, Accuracy: 0.7653\n",
      "Epoch [14/15], Loss: 1.5287, Accuracy: 0.8053\n",
      "Epoch [15/15], Loss: 1.5431, Accuracy: 0.7947\n",
      "------------------------------------------------------------\n"
     ]
    },
    {
     "name": "stderr",
     "output_type": "stream",
     "text": [
      "/tmp/ipykernel_393239/2988917942.py:163: UserWarning: To copy construct from a tensor, it is recommended to use sourceTensor.clone().detach() or sourceTensor.clone().detach().requires_grad_(True), rather than torch.tensor(sourceTensor).\n",
      "  labels = torch.tensor(labels).to(device)\n"
     ]
    },
    {
     "name": "stdout",
     "output_type": "stream",
     "text": [
      "--------- Number of Iteration 12 ---------\n"
     ]
    },
    {
     "name": "stderr",
     "output_type": "stream",
     "text": [
      "/tmp/ipykernel_393239/2988917942.py:95: UserWarning: To copy construct from a tensor, it is recommended to use sourceTensor.clone().detach() or sourceTensor.clone().detach().requires_grad_(True), rather than torch.tensor(sourceTensor).\n",
      "  labels = torch.tensor(labels).to(device)\n"
     ]
    },
    {
     "name": "stdout",
     "output_type": "stream",
     "text": [
      "Epoch [1/15], Loss: 1.5808, Accuracy: 0.7383\n"
     ]
    },
    {
     "name": "stderr",
     "output_type": "stream",
     "text": [
      "/tmp/ipykernel_393239/2988917942.py:135: UserWarning: To copy construct from a tensor, it is recommended to use sourceTensor.clone().detach() or sourceTensor.clone().detach().requires_grad_(True), rather than torch.tensor(sourceTensor).\n",
      "  labels = torch.tensor(labels).to(device)\n"
     ]
    },
    {
     "name": "stdout",
     "output_type": "stream",
     "text": [
      "Epoch [2/15], Loss: 1.6024, Accuracy: 0.7049\n",
      "Epoch [3/15], Loss: 1.5723, Accuracy: 0.7383\n",
      "Epoch [4/15], Loss: 1.5824, Accuracy: 0.7407\n",
      "Epoch [5/15], Loss: 1.5764, Accuracy: 0.7469\n",
      "Epoch [6/15], Loss: 1.5824, Accuracy: 0.7321\n",
      "Epoch [7/15], Loss: 1.5587, Accuracy: 0.7716\n",
      "Epoch [8/15], Loss: 1.5811, Accuracy: 0.7531\n",
      "Epoch [9/15], Loss: 1.5670, Accuracy: 0.7630\n",
      "Epoch [10/15], Loss: 1.5644, Accuracy: 0.7543\n",
      "Epoch [11/15], Loss: 1.5485, Accuracy: 0.7889\n",
      "Epoch [12/15], Loss: 1.5606, Accuracy: 0.7580\n",
      "Epoch [13/15], Loss: 1.5592, Accuracy: 0.7407\n",
      "Epoch [14/15], Loss: 1.5511, Accuracy: 0.7654\n",
      "Epoch [15/15], Loss: 1.5543, Accuracy: 0.7889\n",
      "------------------------------------------------------------\n"
     ]
    },
    {
     "name": "stderr",
     "output_type": "stream",
     "text": [
      "/tmp/ipykernel_393239/2988917942.py:163: UserWarning: To copy construct from a tensor, it is recommended to use sourceTensor.clone().detach() or sourceTensor.clone().detach().requires_grad_(True), rather than torch.tensor(sourceTensor).\n",
      "  labels = torch.tensor(labels).to(device)\n"
     ]
    },
    {
     "name": "stdout",
     "output_type": "stream",
     "text": [
      "--------- Number of Iteration 13 ---------\n"
     ]
    },
    {
     "name": "stderr",
     "output_type": "stream",
     "text": [
      "/tmp/ipykernel_393239/2988917942.py:95: UserWarning: To copy construct from a tensor, it is recommended to use sourceTensor.clone().detach() or sourceTensor.clone().detach().requires_grad_(True), rather than torch.tensor(sourceTensor).\n",
      "  labels = torch.tensor(labels).to(device)\n"
     ]
    },
    {
     "name": "stdout",
     "output_type": "stream",
     "text": [
      "Epoch [1/15], Loss: 1.5530, Accuracy: 0.7816\n"
     ]
    },
    {
     "name": "stderr",
     "output_type": "stream",
     "text": [
      "/tmp/ipykernel_393239/2988917942.py:135: UserWarning: To copy construct from a tensor, it is recommended to use sourceTensor.clone().detach() or sourceTensor.clone().detach().requires_grad_(True), rather than torch.tensor(sourceTensor).\n",
      "  labels = torch.tensor(labels).to(device)\n"
     ]
    },
    {
     "name": "stdout",
     "output_type": "stream",
     "text": [
      "Epoch [2/15], Loss: 1.5765, Accuracy: 0.7322\n",
      "Epoch [3/15], Loss: 1.6028, Accuracy: 0.7276\n",
      "Epoch [4/15], Loss: 1.5749, Accuracy: 0.7667\n",
      "Epoch [5/15], Loss: 1.5713, Accuracy: 0.7575\n",
      "Epoch [6/15], Loss: 1.5427, Accuracy: 0.7724\n",
      "Epoch [7/15], Loss: 1.5573, Accuracy: 0.7609\n",
      "Epoch [8/15], Loss: 1.5751, Accuracy: 0.7517\n",
      "Epoch [9/15], Loss: 1.5766, Accuracy: 0.7552\n",
      "Epoch [10/15], Loss: 1.5677, Accuracy: 0.7552\n",
      "Epoch [11/15], Loss: 1.5593, Accuracy: 0.7460\n",
      "Epoch [12/15], Loss: 1.5373, Accuracy: 0.7897\n",
      "Epoch [13/15], Loss: 1.5513, Accuracy: 0.7552\n",
      "Epoch [14/15], Loss: 1.5423, Accuracy: 0.7874\n",
      "Epoch [15/15], Loss: 1.5378, Accuracy: 0.7782\n",
      "------------------------------------------------------------\n"
     ]
    },
    {
     "name": "stderr",
     "output_type": "stream",
     "text": [
      "/tmp/ipykernel_393239/2988917942.py:163: UserWarning: To copy construct from a tensor, it is recommended to use sourceTensor.clone().detach() or sourceTensor.clone().detach().requires_grad_(True), rather than torch.tensor(sourceTensor).\n",
      "  labels = torch.tensor(labels).to(device)\n"
     ]
    },
    {
     "name": "stdout",
     "output_type": "stream",
     "text": [
      "--------- Number of Iteration 14 ---------\n"
     ]
    },
    {
     "name": "stderr",
     "output_type": "stream",
     "text": [
      "/tmp/ipykernel_393239/2988917942.py:95: UserWarning: To copy construct from a tensor, it is recommended to use sourceTensor.clone().detach() or sourceTensor.clone().detach().requires_grad_(True), rather than torch.tensor(sourceTensor).\n",
      "  labels = torch.tensor(labels).to(device)\n"
     ]
    },
    {
     "name": "stdout",
     "output_type": "stream",
     "text": [
      "Epoch [1/15], Loss: 1.5805, Accuracy: 0.7570\n"
     ]
    },
    {
     "name": "stderr",
     "output_type": "stream",
     "text": [
      "/tmp/ipykernel_393239/2988917942.py:135: UserWarning: To copy construct from a tensor, it is recommended to use sourceTensor.clone().detach() or sourceTensor.clone().detach().requires_grad_(True), rather than torch.tensor(sourceTensor).\n",
      "  labels = torch.tensor(labels).to(device)\n"
     ]
    },
    {
     "name": "stdout",
     "output_type": "stream",
     "text": [
      "Epoch [2/15], Loss: 1.5732, Accuracy: 0.7462\n",
      "Epoch [3/15], Loss: 1.5763, Accuracy: 0.7462\n",
      "Epoch [4/15], Loss: 1.5673, Accuracy: 0.7677\n",
      "Epoch [5/15], Loss: 1.5492, Accuracy: 0.7591\n",
      "Epoch [6/15], Loss: 1.5393, Accuracy: 0.7882\n",
      "Epoch [7/15], Loss: 1.6007, Accuracy: 0.7118\n",
      "Epoch [8/15], Loss: 1.6498, Accuracy: 0.6914\n",
      "Epoch [9/15], Loss: 1.5723, Accuracy: 0.7677\n",
      "Epoch [10/15], Loss: 1.5742, Accuracy: 0.7774\n",
      "Epoch [11/15], Loss: 1.5478, Accuracy: 0.7634\n",
      "Epoch [12/15], Loss: 1.5648, Accuracy: 0.7742\n",
      "Epoch [13/15], Loss: 1.6540, Accuracy: 0.6247\n",
      "Epoch [14/15], Loss: 1.6148, Accuracy: 0.7290\n",
      "Epoch [15/15], Loss: 1.5735, Accuracy: 0.7753\n",
      "------------------------------------------------------------\n"
     ]
    },
    {
     "name": "stderr",
     "output_type": "stream",
     "text": [
      "/tmp/ipykernel_393239/2988917942.py:163: UserWarning: To copy construct from a tensor, it is recommended to use sourceTensor.clone().detach() or sourceTensor.clone().detach().requires_grad_(True), rather than torch.tensor(sourceTensor).\n",
      "  labels = torch.tensor(labels).to(device)\n"
     ]
    },
    {
     "name": "stdout",
     "output_type": "stream",
     "text": [
      "--------- Number of Iteration 15 ---------\n"
     ]
    },
    {
     "name": "stderr",
     "output_type": "stream",
     "text": [
      "/tmp/ipykernel_393239/2988917942.py:95: UserWarning: To copy construct from a tensor, it is recommended to use sourceTensor.clone().detach() or sourceTensor.clone().detach().requires_grad_(True), rather than torch.tensor(sourceTensor).\n",
      "  labels = torch.tensor(labels).to(device)\n"
     ]
    },
    {
     "name": "stdout",
     "output_type": "stream",
     "text": [
      "Epoch [1/15], Loss: 1.5570, Accuracy: 0.7778\n"
     ]
    },
    {
     "name": "stderr",
     "output_type": "stream",
     "text": [
      "/tmp/ipykernel_393239/2988917942.py:135: UserWarning: To copy construct from a tensor, it is recommended to use sourceTensor.clone().detach() or sourceTensor.clone().detach().requires_grad_(True), rather than torch.tensor(sourceTensor).\n",
      "  labels = torch.tensor(labels).to(device)\n"
     ]
    },
    {
     "name": "stdout",
     "output_type": "stream",
     "text": [
      "Epoch [2/15], Loss: 1.5704, Accuracy: 0.7545\n",
      "Epoch [3/15], Loss: 1.5599, Accuracy: 0.7727\n",
      "Epoch [4/15], Loss: 1.5613, Accuracy: 0.7586\n",
      "Epoch [5/15], Loss: 1.5672, Accuracy: 0.7545\n",
      "Epoch [6/15], Loss: 1.5690, Accuracy: 0.7677\n",
      "Epoch [7/15], Loss: 1.5665, Accuracy: 0.7576\n",
      "Epoch [8/15], Loss: 1.5549, Accuracy: 0.7687\n",
      "Epoch [9/15], Loss: 1.5682, Accuracy: 0.7576\n",
      "Epoch [10/15], Loss: 1.5399, Accuracy: 0.7919\n",
      "Epoch [11/15], Loss: 1.5438, Accuracy: 0.7838\n",
      "Epoch [12/15], Loss: 1.5345, Accuracy: 0.7929\n",
      "Epoch [13/15], Loss: 1.5436, Accuracy: 0.7919\n",
      "Epoch [14/15], Loss: 1.5529, Accuracy: 0.7909\n",
      "Epoch [15/15], Loss: 1.5470, Accuracy: 0.7828\n",
      "------------------------------------------------------------\n"
     ]
    },
    {
     "name": "stderr",
     "output_type": "stream",
     "text": [
      "/tmp/ipykernel_393239/2988917942.py:163: UserWarning: To copy construct from a tensor, it is recommended to use sourceTensor.clone().detach() or sourceTensor.clone().detach().requires_grad_(True), rather than torch.tensor(sourceTensor).\n",
      "  labels = torch.tensor(labels).to(device)\n"
     ]
    },
    {
     "name": "stdout",
     "output_type": "stream",
     "text": [
      "--------- Number of Iteration 16 ---------\n"
     ]
    },
    {
     "name": "stderr",
     "output_type": "stream",
     "text": [
      "/tmp/ipykernel_393239/2988917942.py:95: UserWarning: To copy construct from a tensor, it is recommended to use sourceTensor.clone().detach() or sourceTensor.clone().detach().requires_grad_(True), rather than torch.tensor(sourceTensor).\n",
      "  labels = torch.tensor(labels).to(device)\n"
     ]
    },
    {
     "name": "stdout",
     "output_type": "stream",
     "text": [
      "Epoch [1/15], Loss: 1.5731, Accuracy: 0.7514\n"
     ]
    },
    {
     "name": "stderr",
     "output_type": "stream",
     "text": [
      "/tmp/ipykernel_393239/2988917942.py:135: UserWarning: To copy construct from a tensor, it is recommended to use sourceTensor.clone().detach() or sourceTensor.clone().detach().requires_grad_(True), rather than torch.tensor(sourceTensor).\n",
      "  labels = torch.tensor(labels).to(device)\n"
     ]
    },
    {
     "name": "stdout",
     "output_type": "stream",
     "text": [
      "Epoch [2/15], Loss: 1.5665, Accuracy: 0.7486\n",
      "Epoch [3/15], Loss: 1.5862, Accuracy: 0.7371\n",
      "Epoch [4/15], Loss: 1.5485, Accuracy: 0.7762\n",
      "Epoch [5/15], Loss: 1.5479, Accuracy: 0.7743\n",
      "Epoch [6/15], Loss: 1.5605, Accuracy: 0.7562\n",
      "Epoch [7/15], Loss: 1.5559, Accuracy: 0.7638\n",
      "Epoch [8/15], Loss: 1.5563, Accuracy: 0.7610\n",
      "Epoch [9/15], Loss: 1.5510, Accuracy: 0.7543\n",
      "Epoch [10/15], Loss: 1.5483, Accuracy: 0.7781\n",
      "Epoch [11/15], Loss: 1.5653, Accuracy: 0.7476\n",
      "Epoch [12/15], Loss: 1.5346, Accuracy: 0.7810\n",
      "Epoch [13/15], Loss: 1.5396, Accuracy: 0.7724\n",
      "Epoch [14/15], Loss: 1.5369, Accuracy: 0.7867\n",
      "Epoch [15/15], Loss: 1.5283, Accuracy: 0.8010\n",
      "------------------------------------------------------------\n"
     ]
    },
    {
     "name": "stderr",
     "output_type": "stream",
     "text": [
      "/tmp/ipykernel_393239/2988917942.py:163: UserWarning: To copy construct from a tensor, it is recommended to use sourceTensor.clone().detach() or sourceTensor.clone().detach().requires_grad_(True), rather than torch.tensor(sourceTensor).\n",
      "  labels = torch.tensor(labels).to(device)\n"
     ]
    },
    {
     "name": "stdout",
     "output_type": "stream",
     "text": [
      "--------- Number of Iteration 17 ---------\n"
     ]
    },
    {
     "name": "stderr",
     "output_type": "stream",
     "text": [
      "/tmp/ipykernel_393239/2988917942.py:95: UserWarning: To copy construct from a tensor, it is recommended to use sourceTensor.clone().detach() or sourceTensor.clone().detach().requires_grad_(True), rather than torch.tensor(sourceTensor).\n",
      "  labels = torch.tensor(labels).to(device)\n"
     ]
    },
    {
     "name": "stdout",
     "output_type": "stream",
     "text": [
      "Epoch [1/15], Loss: 1.5463, Accuracy: 0.7703\n"
     ]
    },
    {
     "name": "stderr",
     "output_type": "stream",
     "text": [
      "/tmp/ipykernel_393239/2988917942.py:135: UserWarning: To copy construct from a tensor, it is recommended to use sourceTensor.clone().detach() or sourceTensor.clone().detach().requires_grad_(True), rather than torch.tensor(sourceTensor).\n",
      "  labels = torch.tensor(labels).to(device)\n"
     ]
    },
    {
     "name": "stdout",
     "output_type": "stream",
     "text": [
      "Epoch [2/15], Loss: 1.5495, Accuracy: 0.7712\n",
      "Epoch [3/15], Loss: 1.5364, Accuracy: 0.7739\n",
      "Epoch [4/15], Loss: 1.5587, Accuracy: 0.7541\n",
      "Epoch [5/15], Loss: 1.5446, Accuracy: 0.7712\n",
      "Epoch [6/15], Loss: 1.5343, Accuracy: 0.7910\n",
      "Epoch [7/15], Loss: 1.5279, Accuracy: 0.7865\n",
      "Epoch [8/15], Loss: 1.5161, Accuracy: 0.8072\n",
      "Epoch [9/15], Loss: 1.5439, Accuracy: 0.7676\n",
      "Epoch [10/15], Loss: 1.5489, Accuracy: 0.7730\n",
      "Epoch [11/15], Loss: 1.5300, Accuracy: 0.7901\n",
      "Epoch [12/15], Loss: 1.5259, Accuracy: 0.8054\n",
      "Epoch [13/15], Loss: 1.5351, Accuracy: 0.7847\n",
      "Epoch [14/15], Loss: 1.5342, Accuracy: 0.7892\n",
      "Epoch [15/15], Loss: 1.5462, Accuracy: 0.7631\n",
      "------------------------------------------------------------\n"
     ]
    },
    {
     "name": "stderr",
     "output_type": "stream",
     "text": [
      "/tmp/ipykernel_393239/2988917942.py:163: UserWarning: To copy construct from a tensor, it is recommended to use sourceTensor.clone().detach() or sourceTensor.clone().detach().requires_grad_(True), rather than torch.tensor(sourceTensor).\n",
      "  labels = torch.tensor(labels).to(device)\n"
     ]
    },
    {
     "name": "stdout",
     "output_type": "stream",
     "text": [
      "--------- Number of Iteration 18 ---------\n"
     ]
    },
    {
     "name": "stderr",
     "output_type": "stream",
     "text": [
      "/tmp/ipykernel_393239/2988917942.py:95: UserWarning: To copy construct from a tensor, it is recommended to use sourceTensor.clone().detach() or sourceTensor.clone().detach().requires_grad_(True), rather than torch.tensor(sourceTensor).\n",
      "  labels = torch.tensor(labels).to(device)\n"
     ]
    },
    {
     "name": "stdout",
     "output_type": "stream",
     "text": [
      "Epoch [1/15], Loss: 1.5750, Accuracy: 0.7385\n"
     ]
    },
    {
     "name": "stderr",
     "output_type": "stream",
     "text": [
      "/tmp/ipykernel_393239/2988917942.py:135: UserWarning: To copy construct from a tensor, it is recommended to use sourceTensor.clone().detach() or sourceTensor.clone().detach().requires_grad_(True), rather than torch.tensor(sourceTensor).\n",
      "  labels = torch.tensor(labels).to(device)\n"
     ]
    },
    {
     "name": "stdout",
     "output_type": "stream",
     "text": [
      "Epoch [2/15], Loss: 1.5565, Accuracy: 0.7701\n",
      "Epoch [3/15], Loss: 1.5419, Accuracy: 0.7692\n",
      "Epoch [4/15], Loss: 1.5512, Accuracy: 0.7607\n",
      "Epoch [5/15], Loss: 1.5459, Accuracy: 0.7684\n",
      "Epoch [6/15], Loss: 1.5450, Accuracy: 0.7675\n",
      "Epoch [7/15], Loss: 1.5537, Accuracy: 0.7675\n",
      "Epoch [8/15], Loss: 1.5419, Accuracy: 0.7735\n",
      "Epoch [9/15], Loss: 1.5460, Accuracy: 0.7735\n",
      "Epoch [10/15], Loss: 1.5463, Accuracy: 0.7573\n",
      "Epoch [11/15], Loss: 1.5352, Accuracy: 0.7889\n",
      "Epoch [12/15], Loss: 1.5335, Accuracy: 0.7795\n",
      "Epoch [13/15], Loss: 1.5420, Accuracy: 0.7658\n",
      "Epoch [14/15], Loss: 1.5468, Accuracy: 0.7684\n",
      "Epoch [15/15], Loss: 1.5380, Accuracy: 0.7632\n",
      "------------------------------------------------------------\n"
     ]
    },
    {
     "name": "stderr",
     "output_type": "stream",
     "text": [
      "/tmp/ipykernel_393239/2988917942.py:163: UserWarning: To copy construct from a tensor, it is recommended to use sourceTensor.clone().detach() or sourceTensor.clone().detach().requires_grad_(True), rather than torch.tensor(sourceTensor).\n",
      "  labels = torch.tensor(labels).to(device)\n"
     ]
    },
    {
     "name": "stdout",
     "output_type": "stream",
     "text": [
      "--------- Number of Iteration 19 ---------\n"
     ]
    },
    {
     "name": "stderr",
     "output_type": "stream",
     "text": [
      "/tmp/ipykernel_393239/2988917942.py:95: UserWarning: To copy construct from a tensor, it is recommended to use sourceTensor.clone().detach() or sourceTensor.clone().detach().requires_grad_(True), rather than torch.tensor(sourceTensor).\n",
      "  labels = torch.tensor(labels).to(device)\n"
     ]
    },
    {
     "name": "stdout",
     "output_type": "stream",
     "text": [
      "Epoch [1/15], Loss: 1.5483, Accuracy: 0.7732\n"
     ]
    },
    {
     "name": "stderr",
     "output_type": "stream",
     "text": [
      "/tmp/ipykernel_393239/2988917942.py:135: UserWarning: To copy construct from a tensor, it is recommended to use sourceTensor.clone().detach() or sourceTensor.clone().detach().requires_grad_(True), rather than torch.tensor(sourceTensor).\n",
      "  labels = torch.tensor(labels).to(device)\n"
     ]
    },
    {
     "name": "stdout",
     "output_type": "stream",
     "text": [
      "Epoch [2/15], Loss: 1.5624, Accuracy: 0.7577\n",
      "Epoch [3/15], Loss: 1.5545, Accuracy: 0.7691\n",
      "Epoch [4/15], Loss: 1.5434, Accuracy: 0.7683\n",
      "Epoch [5/15], Loss: 1.5568, Accuracy: 0.7520\n",
      "Epoch [6/15], Loss: 1.5470, Accuracy: 0.7642\n",
      "Epoch [7/15], Loss: 1.5485, Accuracy: 0.7715\n",
      "Epoch [8/15], Loss: 1.5232, Accuracy: 0.7927\n",
      "Epoch [9/15], Loss: 1.5339, Accuracy: 0.7496\n",
      "Epoch [10/15], Loss: 1.5097, Accuracy: 0.7846\n",
      "Epoch [11/15], Loss: 1.5134, Accuracy: 0.7724\n",
      "Epoch [12/15], Loss: 1.4967, Accuracy: 0.7911\n",
      "Epoch [13/15], Loss: 1.4818, Accuracy: 0.8008\n",
      "Epoch [14/15], Loss: 1.5075, Accuracy: 0.7634\n",
      "Epoch [15/15], Loss: 1.5120, Accuracy: 0.7919\n",
      "------------------------------------------------------------\n"
     ]
    },
    {
     "name": "stderr",
     "output_type": "stream",
     "text": [
      "/tmp/ipykernel_393239/2988917942.py:163: UserWarning: To copy construct from a tensor, it is recommended to use sourceTensor.clone().detach() or sourceTensor.clone().detach().requires_grad_(True), rather than torch.tensor(sourceTensor).\n",
      "  labels = torch.tensor(labels).to(device)\n"
     ]
    },
    {
     "data": {
      "image/png": "[encoded data removed]",
      "text/plain": [
       "<Figure size 640x480 with 1 Axes>"
      ]
     },
     "metadata": {},
     "output_type": "display_data"
    }
   ],
   "source": [
    "from transformers import ViTFeatureExtractor, ViTModel\n",
    "\n",
    "for criterion in selection_criteria:\n",
    "    AL_class = ActiveLearningPipeline(model=model,\n",
    "                                      test_indices=test_indices,\n",
    "                                      available_pool_indices=available_pool_indices,\n",
    "                                      train_indices=train_indices,\n",
    "                                      selection_criterion=criterion,\n",
    "                                      iterations=iterations,\n",
    "                                      budget_per_iter=budget_per_iter,\n",
    "                                      num_epochs=num_epoch)\n",
    "    accuracy_scores_dict[criterion] = AL_class.run_pipeline()\n",
    "generate_plot(accuracy_scores_dict)"
   ]
  },
  {
   "cell_type": "code",
   "execution_count": 14,
   "metadata": {
    "id": "j5sKVVjSzEl7"
   },
   "outputs": [
    {
     "data": {
      "text/plain": [
       "defaultdict(list,\n",
       "            {'similarity_based': [0.4821428571428571,\n",
       "              0.5621693121693121,\n",
       "              0.5582010582010581,\n",
       "              0.5595238095238095,\n",
       "              0.5667989417989417,\n",
       "              0.6197089947089947,\n",
       "              0.6481481481481481,\n",
       "              0.6395502645502645,\n",
       "              0.6177248677248677,\n",
       "              0.6296296296296295,\n",
       "              0.6375661375661376,\n",
       "              0.6501322751322751,\n",
       "              0.613095238095238,\n",
       "              0.6362433862433862,\n",
       "              0.5958994708994708,\n",
       "              0.6402116402116402,\n",
       "              0.6507936507936507,\n",
       "              0.6421957671957672,\n",
       "              0.6507936507936507,\n",
       "              0.6527777777777778]})"
      ]
     },
     "execution_count": 14,
     "metadata": {},
     "output_type": "execute_result"
    }
   ],
   "source": [
    "accuracy_scores_dict"
   ]
  }
 ],
 "metadata": {
  "colab": {
   "provenance": []
  },
  "kernelspec": {
   "display_name": "Python 3 (ipykernel)",
   "language": "python",
   "name": "python3"
  },
  "language_info": {
   "codemirror_mode": {
    "name": "ipython",
    "version": 3
   },
   "file_extension": ".py",
   "mimetype": "text/x-python",
   "name": "python",
   "nbconvert_exporter": "python",
   "pygments_lexer": "ipython3",
   "version": "3.9.15"
  }
 },
 "nbformat": 4,
 "nbformat_minor": 4
}
