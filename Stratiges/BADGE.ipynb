{
  "cells": [
    {
      "cell_type": "code",
      "execution_count": null,
      "metadata": {
        "id": "JjgyTgaRfy4k"
      },
      "outputs": [],
      "source": [
        "import pandas as pd\n",
        "import numpy as np\n",
        "import pickle\n",
        "from sklearn.ensemble import RandomForestClassifier\n",
        "from sklearn.svm import SVC\n",
        "from sklearn.linear_model import LogisticRegression\n",
        "from scipy.stats import entropy\n",
        "from collections import defaultdict\n",
        "import argparse\n",
        "from matplotlib import pyplot as plt\n",
        "import random\n",
        "import torch\n",
        "random.seed(0) # Set seed for NumPy\n",
        "np.random.seed(0) # Set seed for PyTorch (for both CPU and GPU)\n",
        "torch.manual_seed(0)\n",
        "if torch.cuda.is_available():\n",
        "    torch.cuda.manual_seed_all(0)\n",
        "torch.backends.cudnn.deterministic = True\n",
        "torch.backends.cudnn.benchmark = False\n",
        "\n",
        "train_df = pd.read_csv('train_dataset/metadata.csv')\n",
        "test_df = pd.read_csv('test_dataset/metadata.csv')\n",
        "val_df = pd.read_csv('validation_dataset/metadata.csv')"
      ]
    },
    {
      "cell_type": "code",
      "execution_count": null,
      "metadata": {
        "colab": {
          "base_uri": "https://localhost:8080/",
          "height": 366
        },
        "id": "bcHCCahYj6B7",
        "outputId": "1facd164-3e8b-40f4-81d7-52fc3110e538"
      },
      "outputs": [
        {
          "name": "stdout",
          "output_type": "stream",
          "text": [
            "diagnosis\n",
            "nevus                         1205\n",
            "melanoma                      1113\n",
            "pigmented benign keratosis    1099\n",
            "basal cell carcinoma           514\n",
            "squamous cell carcinoma        197\n",
            "vascular lesion                142\n",
            "actinic keratosis              130\n",
            "dermatofibroma                 115\n",
            "Name: count, dtype: int64\n"
          ]
        }
      ],
      "source": [
        "print(train_df['diagnosis'].value_counts())"
      ]
    },
    {
      "cell_type": "code",
      "execution_count": null,
      "metadata": {
        "id": "EGYWg_Tlg7d5",
        "outputId": "aed0e0a9-ae14-497d-d0af-d35079fc298d"
      },
      "outputs": [
        {
          "data": {
            "text/plain": [
              "{'actinic keratosis': 0,\n",
              " 'basal cell carcinoma': 1,\n",
              " 'dermatofibroma': 2,\n",
              " 'melanoma': 3,\n",
              " 'nevus': 4,\n",
              " 'pigmented benign keratosis': 5,\n",
              " 'squamous cell carcinoma': 6,\n",
              " 'vascular lesion': 7}"
            ]
          },
          "execution_count": 3,
          "metadata": {},
          "output_type": "execute_result"
        }
      ],
      "source": [
        "class_mapping = {\n",
        "    \"actinic keratosis\": 0,\n",
        "    \"basal cell carcinoma\": 1,\n",
        "    \"dermatofibroma\": 2,\n",
        "    \"melanoma\": 3,\n",
        "    \"nevus\": 4,\n",
        "    \"pigmented benign keratosis\": 5,\n",
        "    \"squamous cell carcinoma\": 6,\n",
        "    \"vascular lesion\":7\n",
        "}\n",
        "class_mapping"
      ]
    },
    {
      "cell_type": "code",
      "execution_count": null,
      "metadata": {
        "id": "BLruwetXmPem"
      },
      "outputs": [],
      "source": [
        "from PIL import Image\n",
        "import os\n",
        "\n",
        "import torchvision.transforms as transforms\n",
        "\n",
        "# Define image transformations (resize, convert to tensor, and normalize)\n",
        "transform = transforms.Compose([\n",
        "    transforms.Resize((224, 224)),          # Resize images to 224x224 (matching ResNet input size)\n",
        "    transforms.ToTensor()\n",
        "])\n",
        "\"\"\"\n",
        "Creating a Dataset class to read the data to pass it later to the data loader\n",
        "\"\"\"\n",
        "class Dataset():\n",
        "    def __init__(self, dataframe, transform, train='train'):\n",
        "        self.dataframe=dataframe\n",
        "        self.train = train\n",
        "        self.transform = transform\n",
        "        self.path_to_image=self._create_path_to_image_dict()\n",
        "        self.paths=list(self.path_to_image.keys())\n",
        "        self.labels=list(self.path_to_image.values())\n",
        "\n",
        "    def _create_path_to_image_dict(self):\n",
        "      path_to_image={}\n",
        "      for index,row in self.dataframe.iterrows():\n",
        "        if self.train == 'train':\n",
        "          img_path = os.path.join('train_dataset/',row['isic_id']+'.jpg')\n",
        "        elif self.train == 'test':\n",
        "          img_path = os.path.join('test_dataset/',row['isic_id']+'.jpg')\n",
        "        else:\n",
        "            img_path = os.path.join('validation_dataset/',row['isic_id']+'.jpg')\n",
        "        label=row['diagnosis']\n",
        "        path_to_image[img_path]=label\n",
        "      return path_to_image\n",
        "\n",
        "    def __len__(self):\n",
        "        return len(self.paths)\n",
        "\n",
        "    def __getitem__(self,index):\n",
        "        img_path=self.paths[index]\n",
        "        img_label=self.labels[index]\n",
        "        image=Image.open(img_path)\n",
        "        image=self.transform(image)\n",
        "        if self.train == 'val':\n",
        "            return image, class_mapping[img_label], index\n",
        "        return image, img_label, index"
      ]
    },
    {
      "cell_type": "code",
      "execution_count": null,
      "metadata": {
        "id": "9yCvnprDoa_7"
      },
      "outputs": [],
      "source": [
        "train_df = Dataset(train_df, transform)\n",
        "val_df = Dataset(val_df, transform,train='val')\n",
        "test_df = Dataset(test_df, transform,train='test')"
      ]
    },
    {
      "cell_type": "code",
      "execution_count": null,
      "metadata": {
        "colab": {
          "base_uri": "https://localhost:8080/"
        },
        "id": "l5L0NcpesnZI",
        "outputId": "22f97091-b571-4138-964f-95a509890583"
      },
      "outputs": [
        {
          "name": "stderr",
          "output_type": "stream",
          "text": [
            "/anaconda/envs/py38_default/lib/python3.9/site-packages/torchvision/models/_utils.py:208: UserWarning: The parameter 'pretrained' is deprecated since 0.13 and may be removed in the future, please use 'weights' instead.\n",
            "  warnings.warn(\n",
            "/anaconda/envs/py38_default/lib/python3.9/site-packages/torchvision/models/_utils.py:223: UserWarning: Arguments other than a weight enum or `None` for 'weights' are deprecated since 0.13 and may be removed in the future. The current behavior is equivalent to passing `weights=ResNet50_Weights.IMAGENET1K_V1`. You can also use `weights=ResNet50_Weights.DEFAULT` to get the most up-to-date weights.\n",
            "  warnings.warn(msg)\n"
          ]
        }
      ],
      "source": [
        "import torch\n",
        "import torch.nn as nn\n",
        "import torchvision.models as models\n",
        "from torchvision import transforms\n",
        "from torch.optim import Adam\n",
        "\n",
        "# Load pre-trained ResNet50 model from torchvision\n",
        "base_model = models.resnet50(pretrained=True)\n",
        "\n",
        "num_classes = 8\n",
        "\n",
        "\"\"\"\n",
        "replacing the final fc in the pretrained base model to adjust it to the number of classes we have\n",
        "\"\"\"\n",
        "base_model.fc = nn.Sequential(\n",
        "    nn.Flatten(),\n",
        "    nn.Linear(base_model.fc.in_features, 128),  # Add a fully connected layer\n",
        "    nn.ReLU(),\n",
        "    nn.Linear(128, num_classes),  # Final layer with number of classes\n",
        "    nn.Softmax(dim=1)\n",
        ")\n",
        "\n",
        "for param in base_model.parameters():\n",
        "    param.requires_grad = False  # Freeze all layers except the fully connected ones\n",
        "\n",
        "# Unfreeze the final fully connected layer\n",
        "for param in base_model.fc.parameters():\n",
        "    param.requires_grad = True\n",
        "\n",
        "loss_f = nn.CrossEntropyLoss()\n",
        "optimizer = Adam(base_model.fc.parameters(), lr=0.0008)\n",
        "\n",
        "device = torch.device(\"cuda\" if torch.cuda.is_available() else \"cpu\")\n",
        "base_model.to(device)\n"
      ]
    },
    {
      "cell_type": "code",
      "execution_count": null,
      "metadata": {
        "id": "EWQzIUrbg7eE"
      },
      "outputs": [],
      "source": [
        "from torch.utils.data import DataLoader, TensorDataset\n",
        "\n",
        "batch_size = 4\n",
        "val_loader = DataLoader(val_df, batch_size=batch_size, shuffle=False)"
      ]
    },
    {
      "cell_type": "code",
      "execution_count": null,
      "metadata": {
        "id": "-Vk8kyZsgACa"
      },
      "outputs": [],
      "source": [
        "from sklearn.cluster import KMeans\n",
        "import numpy as np\n",
        "\n",
        "class ActiveLearningPipeline:\n",
        "    def __init__(self, model,\n",
        "                 available_pool_indices,\n",
        "                 train_indices,\n",
        "                 test_indices,\n",
        "                 selection_criterion,\n",
        "                 iterations,\n",
        "                 budget_per_iter,\n",
        "                 num_epochs):\n",
        "        self.model = model\n",
        "        self.iterations = iterations\n",
        "        self.budget_per_iter = budget_per_iter\n",
        "        self.available_pool_indices = available_pool_indices\n",
        "        self.train_indices = train_indices\n",
        "        self.test_indices = test_indices\n",
        "        self.selection_criterion = selection_criterion\n",
        "        if self.selection_criterion == 'random':\n",
        "          self.train_indices = []\n",
        "        self.num_epochs = num_epochs\n",
        "        # self.best_acc = 0\n",
        "\n",
        "    def run_pipeline(self):\n",
        "        \"\"\"\n",
        "        Run the active learning pipeline\n",
        "        :return\n",
        "        accuracy_scores: list, accuracy scores at each iteration\n",
        "        \"\"\"\n",
        "        accuracy_scores = []\n",
        "        for iteration in range(self.iterations):\n",
        "            print(f\"--------- Number of Iteration {iteration} ---------\")\n",
        "            if self.selection_criterion == 'random':\n",
        "                self._random_sampling()\n",
        "            elif self.selection_criterion == 'BADGE_30':\n",
        "                self._badge_sampling()\n",
        "            else:\n",
        "              self._custom_sampling(iteration)\n",
        "\n",
        "            train_images = [train_df.__getitem__(index)[0] for index in self.train_indices]\n",
        "            label_df = [class_mapping[train_df.__getitem__(index)[1]] for index in self.train_indices]\n",
        "            self._train_model(train_images, label_df)\n",
        "            #loading the best model weights in each iteration\n",
        "            self.model.load_state_dict(torch.load(f\"best_{self.selection_criterion}_model.pth\"))\n",
        "            accuracy = self._evaluate_model()\n",
        "            accuracy_scores.append(accuracy)\n",
        "        return accuracy_scores\n",
        "\n",
        "    def calculate_class_weights(self, label_counts, num_classes=8):\n",
        "        \"\"\"\n",
        "        this function is to caculate the inverse probability of each class in the data\n",
        "        \"\"\"\n",
        "        total_samples = sum(label_counts.values())\n",
        "        class_weights = torch.zeros(num_classes)\n",
        "\n",
        "        for cls in range(num_classes):\n",
        "            if cls in label_counts:\n",
        "                class_weights[cls] = total_samples / (num_classes * label_counts[cls])\n",
        "            else:\n",
        "                class_weights[cls] = 1.0  # Handle the case where a class has zero samples in the current epoch\n",
        "\n",
        "        return class_weights\n",
        "\n",
        "    def _train_model(self, train_images, label_df):\n",
        "      label_counts = defaultdict(int)\n",
        "      for label in label_df:\n",
        "                label_counts[label] += 1\n",
        "      class_weights = self.calculate_class_weights(label_counts, 8).to(device)\n",
        "      #giving higher weight for the loss of samples that their class is a minority in the data while giving less weight\n",
        "      #to the loss for classes that are majority\n",
        "      loss_f = nn.CrossEntropyLoss(weight=class_weights)\n",
        "\n",
        "      train_images_tensor = torch.stack(train_images)\n",
        "      label_df_tensor = torch.tensor(label_df)\n",
        "      train_dataset = TensorDataset(train_images_tensor, label_df_tensor)\n",
        "\n",
        "      batch_size = 32\n",
        "      train_loader = DataLoader(train_dataset, batch_size=batch_size, shuffle=True)\n",
        "      best_acc = 0\n",
        "      for epoch in range(self.num_epochs):\n",
        "                self.model.train()\n",
        "                running_loss = 0.0  # Track the running loss\n",
        "                correct_predictions = 0\n",
        "                total_predictions = 0\n",
        "                # Training loop\n",
        "                for inputs, labels in train_loader:\n",
        "                    inputs = inputs\n",
        "                    inputs= inputs.to(device)\n",
        "                    labels = torch.tensor(labels).to(device)\n",
        "\n",
        "                    # Zero the parameter gradients\n",
        "                    optimizer.zero_grad()\n",
        "\n",
        "                    # Forward pass\n",
        "                    outputs = self.model(inputs)\n",
        "                    # outputs = outputs.logits\n",
        "                    loss = loss_f(outputs, labels)\n",
        "\n",
        "                    # Backward pass and optimization\n",
        "                    loss.backward()\n",
        "                    optimizer.step()\n",
        "\n",
        "                    running_loss += loss.item()\n",
        "\n",
        "                    # Calculate accuracy\n",
        "                    _, preds = torch.max(outputs, 1)\n",
        "                    correct_predictions += torch.sum(preds == labels)\n",
        "                    total_predictions += inputs.shape[0]\n",
        "\n",
        "                # Print loss and accuracy at the end of each epoch\n",
        "                epoch_loss = running_loss / len(train_loader)\n",
        "                epoch_acc = correct_predictions.double() / total_predictions\n",
        "                print(f'Epoch [{epoch+1}/{self.num_epochs}], Loss: {epoch_loss:.4f}, Accuracy: {epoch_acc:.4f}')\n",
        "                #saving the best model weights on the validation\n",
        "                val_acc = self._check_model()\n",
        "                if val_acc > best_acc:\n",
        "                    best_acc = val_acc\n",
        "                    torch.save(self.model.state_dict(), f\"best_{self.selection_criterion}_model.pth\")\n",
        "      print(\"--\"*30)\n",
        "\n",
        "    def _check_model(self):\n",
        "        \"\"\"\n",
        "        this function is used to evaluate the model on the validation set\n",
        "        \"\"\"\n",
        "        self.model.eval()\n",
        "        running_corrects = 0\n",
        "        total_predictions = 0.0\n",
        "\n",
        "        with torch.no_grad():\n",
        "            for inputs, labels, _ in val_loader:\n",
        "                inputs = inputs.to(device)\n",
        "                labels = torch.tensor(labels).to(device)\n",
        "\n",
        "                outputs = model(inputs)\n",
        "                # outputs = outputs.logits\n",
        "                _, preds = torch.max(outputs, 1)\n",
        "\n",
        "                running_corrects += torch.sum(preds == labels)\n",
        "                total_predictions += inputs.shape[0]\n",
        "        val_acc = running_corrects.double() / total_predictions\n",
        "        return val_acc.item()\n",
        "\n",
        "    def _evaluate_model(self):\n",
        "        \"\"\"\n",
        "        Evaluate the model on the test set\n",
        "        :return:\n",
        "        accuracy: float, accuracy of the model\n",
        "        \"\"\"\n",
        "        self.model.eval()\n",
        "        running_corrects = 0\n",
        "        test_images_tensor = torch.stack(test_images)\n",
        "        label_df_tensor = torch.tensor(test_label_df)\n",
        "        test_dataset = TensorDataset(test_images_tensor, label_df_tensor)\n",
        "        batch_size = 32\n",
        "        test_loader = DataLoader(test_dataset, batch_size=batch_size, shuffle=False)\n",
        "        total_predictions = 0.0\n",
        "        with torch.no_grad():\n",
        "            for inputs, labels in test_loader:\n",
        "                inputs = inputs.to(device)\n",
        "                labels = torch.tensor(labels).to(device)\n",
        "\n",
        "                outputs = model(inputs)\n",
        "                _, preds = torch.max(outputs, 1)\n",
        "\n",
        "                running_corrects += torch.sum(preds == labels)\n",
        "                total_predictions += inputs.shape[0]\n",
        "        test_acc = running_corrects.double() / total_predictions\n",
        "        return test_acc.item()\n",
        "\n",
        "    def _random_sampling(self):\n",
        "      \"\"\"\n",
        "      random sampling strategy\n",
        "      \"\"\"\n",
        "      selected_indices = np.random.choice(self.available_pool_indices, self.budget_per_iter, replace=False)\n",
        "      selected_indices = selected_indices.tolist()\n",
        "      self.train_indices = self.train_indices + selected_indices\n",
        "\n",
        "      available_pool_set = set(self.available_pool_indices)\n",
        "      train_set = set(self.train_indices)\n",
        "      self.available_pool_indices = list(available_pool_set - train_set)\n",
        "\n",
        "\n",
        "    def _badge_sampling(self):\n",
        "      \"\"\"\n",
        "      BADGE sampling strategy\n",
        "      \"\"\"\n",
        "      model = self.model\n",
        "\n",
        "      X_unlabeled = [train_df.__getitem__(index)[0] for index in self.available_pool_indices]\n",
        "\n",
        "      pool_images_tensor = torch.stack(X_unlabeled)\n",
        "      pool_dataset = TensorDataset(pool_images_tensor)\n",
        "\n",
        "      batch_size = 32\n",
        "      pool_loader = DataLoader(pool_dataset, batch_size=batch_size, shuffle=False)\n",
        "      model.eval()\n",
        "      gradient_embeddings = []\n",
        "\n",
        "      def extract_grad_hook(module, grad_input, grad_output):\n",
        "        gradient_embeddings.append(grad_output[0].detach().cpu().numpy())\n",
        "      #calculating the gradients based on the last layer of the model\n",
        "      handle = model.fc[3].register_full_backward_hook(extract_grad_hook)\n",
        "\n",
        "      for inputs in pool_loader:\n",
        "        inputs = inputs[0].to(device)\n",
        "        inputs.requires_grad = False\n",
        "        outputs = model(inputs)\n",
        "\n",
        "        predicted_labels = torch.argmax(outputs, dim=1).to(device)\n",
        "        loss = torch.nn.functional.cross_entropy(outputs, predicted_labels)\n",
        "\n",
        "        model.zero_grad()\n",
        "\n",
        "        loss.backward()\n",
        "      handle.remove()\n",
        "\n",
        "      gradient_embeddings = np.concatenate(gradient_embeddings, axis=0)\n",
        "      num_samples_to_select = self.budget_per_iter\n",
        "      #applying KMenas++ on the gradients embeddings\n",
        "      kmeans = KMeans(n_clusters=num_samples_to_select, init='k-means++', random_state=0).fit(gradient_embeddings)\n",
        "      #updating the pool and train indices\n",
        "      centroids = kmeans.cluster_centers_\n",
        "      selected_indices = []\n",
        "      for i in range(num_samples_to_select):\n",
        "        cluster_indices = np.where(kmeans.labels_ == i)[0]\n",
        "        closest_sample_index = min(cluster_indices, key=lambda idx: np.linalg.norm(gradient_embeddings[idx] - centroids[i]))\n",
        "        selected_indices.append(closest_sample_index)\n",
        "\n",
        "      temp = np.array(self.available_pool_indices)\n",
        "      selected_indices = temp[selected_indices]\n",
        "\n",
        "      self.train_indices = self.train_indices + selected_indices.tolist()\n",
        "\n",
        "      available_pool_set = set(self.available_pool_indices)\n",
        "      train_set = set(self.train_indices)\n",
        "      self.available_pool_indices = list(available_pool_set - train_set)\n"
      ]
    },
    {
      "cell_type": "code",
      "execution_count": null,
      "metadata": {
        "id": "o5829ZYDh1Rp"
      },
      "outputs": [],
      "source": [
        "def generate_plot(accuracy_scores_dict):\n",
        "    \"\"\"\n",
        "    Generate a plot\n",
        "    \"\"\"\n",
        "    for criterion, accuracy_scores in accuracy_scores_dict.items():\n",
        "        plt.plot(range(1, len(accuracy_scores) + 1), accuracy_scores, label=criterion)\n",
        "    plt.xlabel('Iterations')\n",
        "    plt.ylabel('Accuracy')\n",
        "    plt.legend()\n",
        "    plt.show()"
      ]
    },
    {
      "cell_type": "code",
      "execution_count": null,
      "metadata": {
        "id": "DQ2IZmfRuYgX"
      },
      "outputs": [],
      "source": [
        "available_pool_indices = []\n",
        "for i in range(len(train_df)):\n",
        "    image, label, index = train_df[i]\n",
        "    available_pool_indices.append(index)\n",
        "\n",
        "test_indices = []\n",
        "for i in range(len(test_df)):\n",
        "    image, label, index = test_df[i]\n",
        "    test_indices.append(index)\n",
        "test_images = [test_df.__getitem__(index)[0] for index in test_indices]\n",
        "test_label_df = [class_mapping[test_df.__getitem__(index)[1]] for index in test_indices]"
      ]
    },
    {
      "cell_type": "code",
      "execution_count": null,
      "metadata": {
        "id": "hT_B3HUQg7eL"
      },
      "outputs": [],
      "source": [
        "#According to the initialization that we got using KMeans++ Code of the initialization could be found in the initialization file\n",
        "train_indices = [1372,\n",
        " 1277,\n",
        " 1255,\n",
        " 1423,\n",
        " 2925,\n",
        " 1963,\n",
        " 2335,\n",
        " 1923,\n",
        " 3791,\n",
        " 1239,\n",
        " 909,\n",
        " 134,\n",
        " 1547,\n",
        " 3931,\n",
        " 2467,\n",
        " 2832,\n",
        " 1789,\n",
        " 3022,\n",
        " 2424,\n",
        " 780,\n",
        " 2412,\n",
        " 3038,\n",
        " 2158,\n",
        " 3335,\n",
        " 1868,\n",
        " 1771,\n",
        " 2015,\n",
        " 1535,\n",
        " 710,\n",
        " 3007]\n",
        "available_pool_set = set(available_pool_indices)\n",
        "train_set = set(train_indices)\n",
        "available_pool_indices = list(available_pool_set - train_set)"
      ]
    },
    {
      "cell_type": "code",
      "execution_count": null,
      "metadata": {
        "id": "Pmcf2jc6h2S9"
      },
      "outputs": [],
      "source": [
        "iterations = 20\n",
        "budget_per_iter = 60 #30\n",
        "num_epoch = 15\n",
        "selection_criteria = ['BADGE'] # BADGE_30\n",
        "accuracy_scores_dict = defaultdict(list)\n",
        "model = base_model"
      ]
    },
    {
      "cell_type": "code",
      "execution_count": null,
      "metadata": {
        "colab": {
          "base_uri": "https://localhost:8080/",
          "height": 339
        },
        "id": "4UGO2jW1h5Ql",
        "outputId": "0993cc7b-2fc2-4a84-a31a-ef45ed5febff"
      },
      "outputs": [
        {
          "name": "stdout",
          "output_type": "stream",
          "text": [
            "--------- Number of Iteration 0 ---------\n"
          ]
        },
        {
          "name": "stderr",
          "output_type": "stream",
          "text": [
            "/tmp/ipykernel_20979/2865371390.py:84: UserWarning: To copy construct from a tensor, it is recommended to use sourceTensor.clone().detach() or sourceTensor.clone().detach().requires_grad_(True), rather than torch.tensor(sourceTensor).\n",
            "  labels = torch.tensor(labels).to(device)\n"
          ]
        },
        {
          "name": "stdout",
          "output_type": "stream",
          "text": [
            "Epoch [1/15], Loss: 2.0804, Accuracy: 0.0500\n"
          ]
        },
        {
          "name": "stderr",
          "output_type": "stream",
          "text": [
            "/tmp/ipykernel_20979/2865371390.py:124: UserWarning: To copy construct from a tensor, it is recommended to use sourceTensor.clone().detach() or sourceTensor.clone().detach().requires_grad_(True), rather than torch.tensor(sourceTensor).\n",
            "  labels = torch.tensor(labels).to(device)\n"
          ]
        },
        {
          "name": "stdout",
          "output_type": "stream",
          "text": [
            "Epoch [2/15], Loss: 2.0274, Accuracy: 0.3167\n",
            "Epoch [3/15], Loss: 1.9875, Accuracy: 0.3500\n",
            "Epoch [4/15], Loss: 1.9434, Accuracy: 0.4333\n",
            "Epoch [5/15], Loss: 1.9091, Accuracy: 0.4167\n",
            "Epoch [6/15], Loss: 1.8228, Accuracy: 0.4500\n",
            "Epoch [7/15], Loss: 1.8067, Accuracy: 0.6500\n",
            "Epoch [8/15], Loss: 1.7432, Accuracy: 0.7667\n",
            "Epoch [9/15], Loss: 1.7027, Accuracy: 0.8667\n",
            "Epoch [10/15], Loss: 1.6765, Accuracy: 0.8500\n",
            "Epoch [11/15], Loss: 1.6206, Accuracy: 0.9000\n",
            "Epoch [12/15], Loss: 1.5688, Accuracy: 0.9000\n",
            "Epoch [13/15], Loss: 1.5271, Accuracy: 0.8833\n",
            "Epoch [14/15], Loss: 1.5257, Accuracy: 0.9000\n",
            "Epoch [15/15], Loss: 1.4706, Accuracy: 0.9333\n",
            "------------------------------------------------------------\n"
          ]
        },
        {
          "name": "stderr",
          "output_type": "stream",
          "text": [
            "/tmp/ipykernel_20979/2865371390.py:152: UserWarning: To copy construct from a tensor, it is recommended to use sourceTensor.clone().detach() or sourceTensor.clone().detach().requires_grad_(True), rather than torch.tensor(sourceTensor).\n",
            "  labels = torch.tensor(labels).to(device)\n"
          ]
        },
        {
          "name": "stdout",
          "output_type": "stream",
          "text": [
            "--------- Number of Iteration 1 ---------\n"
          ]
        },
        {
          "name": "stderr",
          "output_type": "stream",
          "text": [
            "/tmp/ipykernel_20979/2865371390.py:84: UserWarning: To copy construct from a tensor, it is recommended to use sourceTensor.clone().detach() or sourceTensor.clone().detach().requires_grad_(True), rather than torch.tensor(sourceTensor).\n",
            "  labels = torch.tensor(labels).to(device)\n"
          ]
        },
        {
          "name": "stdout",
          "output_type": "stream",
          "text": [
            "Epoch [1/15], Loss: 1.7231, Accuracy: 0.7667\n"
          ]
        },
        {
          "name": "stderr",
          "output_type": "stream",
          "text": [
            "/tmp/ipykernel_20979/2865371390.py:124: UserWarning: To copy construct from a tensor, it is recommended to use sourceTensor.clone().detach() or sourceTensor.clone().detach().requires_grad_(True), rather than torch.tensor(sourceTensor).\n",
            "  labels = torch.tensor(labels).to(device)\n"
          ]
        },
        {
          "name": "stdout",
          "output_type": "stream",
          "text": [
            "Epoch [2/15], Loss: 1.7098, Accuracy: 0.7889\n",
            "Epoch [3/15], Loss: 1.6936, Accuracy: 0.7667\n",
            "Epoch [4/15], Loss: 1.6472, Accuracy: 0.7889\n",
            "Epoch [5/15], Loss: 1.6702, Accuracy: 0.7889\n",
            "Epoch [6/15], Loss: 1.6448, Accuracy: 0.8111\n",
            "Epoch [7/15], Loss: 1.6054, Accuracy: 0.8333\n",
            "Epoch [8/15], Loss: 1.6308, Accuracy: 0.8556\n",
            "Epoch [9/15], Loss: 1.6305, Accuracy: 0.8556\n",
            "Epoch [10/15], Loss: 1.6046, Accuracy: 0.8444\n",
            "Epoch [11/15], Loss: 1.6168, Accuracy: 0.8333\n",
            "Epoch [12/15], Loss: 1.5965, Accuracy: 0.8556\n",
            "Epoch [13/15], Loss: 1.6027, Accuracy: 0.8778\n",
            "Epoch [14/15], Loss: 1.5947, Accuracy: 0.8778\n",
            "Epoch [15/15], Loss: 1.5936, Accuracy: 0.8556\n",
            "------------------------------------------------------------\n"
          ]
        },
        {
          "name": "stderr",
          "output_type": "stream",
          "text": [
            "/tmp/ipykernel_20979/2865371390.py:152: UserWarning: To copy construct from a tensor, it is recommended to use sourceTensor.clone().detach() or sourceTensor.clone().detach().requires_grad_(True), rather than torch.tensor(sourceTensor).\n",
            "  labels = torch.tensor(labels).to(device)\n"
          ]
        },
        {
          "name": "stdout",
          "output_type": "stream",
          "text": [
            "--------- Number of Iteration 2 ---------\n"
          ]
        },
        {
          "name": "stderr",
          "output_type": "stream",
          "text": [
            "/tmp/ipykernel_20979/2865371390.py:84: UserWarning: To copy construct from a tensor, it is recommended to use sourceTensor.clone().detach() or sourceTensor.clone().detach().requires_grad_(True), rather than torch.tensor(sourceTensor).\n",
            "  labels = torch.tensor(labels).to(device)\n"
          ]
        },
        {
          "name": "stdout",
          "output_type": "stream",
          "text": [
            "Epoch [1/15], Loss: 1.6947, Accuracy: 0.7417\n"
          ]
        },
        {
          "name": "stderr",
          "output_type": "stream",
          "text": [
            "/tmp/ipykernel_20979/2865371390.py:124: UserWarning: To copy construct from a tensor, it is recommended to use sourceTensor.clone().detach() or sourceTensor.clone().detach().requires_grad_(True), rather than torch.tensor(sourceTensor).\n",
            "  labels = torch.tensor(labels).to(device)\n"
          ]
        },
        {
          "name": "stdout",
          "output_type": "stream",
          "text": [
            "Epoch [2/15], Loss: 1.6659, Accuracy: 0.7333\n",
            "Epoch [3/15], Loss: 1.6554, Accuracy: 0.7500\n",
            "Epoch [4/15], Loss: 1.6518, Accuracy: 0.7667\n",
            "Epoch [5/15], Loss: 1.6304, Accuracy: 0.7833\n",
            "Epoch [6/15], Loss: 1.6158, Accuracy: 0.7833\n",
            "Epoch [7/15], Loss: 1.6334, Accuracy: 0.8000\n",
            "Epoch [8/15], Loss: 1.6260, Accuracy: 0.7667\n",
            "Epoch [9/15], Loss: 1.6116, Accuracy: 0.8250\n",
            "Epoch [10/15], Loss: 1.6217, Accuracy: 0.7917\n",
            "Epoch [11/15], Loss: 1.5990, Accuracy: 0.8000\n",
            "Epoch [12/15], Loss: 1.6027, Accuracy: 0.8250\n",
            "Epoch [13/15], Loss: 1.5945, Accuracy: 0.8500\n",
            "Epoch [14/15], Loss: 1.5944, Accuracy: 0.8083\n",
            "Epoch [15/15], Loss: 1.5577, Accuracy: 0.8333\n",
            "------------------------------------------------------------\n"
          ]
        },
        {
          "name": "stderr",
          "output_type": "stream",
          "text": [
            "/tmp/ipykernel_20979/2865371390.py:152: UserWarning: To copy construct from a tensor, it is recommended to use sourceTensor.clone().detach() or sourceTensor.clone().detach().requires_grad_(True), rather than torch.tensor(sourceTensor).\n",
            "  labels = torch.tensor(labels).to(device)\n"
          ]
        },
        {
          "name": "stdout",
          "output_type": "stream",
          "text": [
            "--------- Number of Iteration 3 ---------\n"
          ]
        },
        {
          "name": "stderr",
          "output_type": "stream",
          "text": [
            "/tmp/ipykernel_20979/2865371390.py:84: UserWarning: To copy construct from a tensor, it is recommended to use sourceTensor.clone().detach() or sourceTensor.clone().detach().requires_grad_(True), rather than torch.tensor(sourceTensor).\n",
            "  labels = torch.tensor(labels).to(device)\n"
          ]
        },
        {
          "name": "stdout",
          "output_type": "stream",
          "text": [
            "Epoch [1/15], Loss: 1.6392, Accuracy: 0.7000\n"
          ]
        },
        {
          "name": "stderr",
          "output_type": "stream",
          "text": [
            "/tmp/ipykernel_20979/2865371390.py:124: UserWarning: To copy construct from a tensor, it is recommended to use sourceTensor.clone().detach() or sourceTensor.clone().detach().requires_grad_(True), rather than torch.tensor(sourceTensor).\n",
            "  labels = torch.tensor(labels).to(device)\n"
          ]
        },
        {
          "name": "stdout",
          "output_type": "stream",
          "text": [
            "Epoch [2/15], Loss: 1.6259, Accuracy: 0.7333\n",
            "Epoch [3/15], Loss: 1.6386, Accuracy: 0.7400\n",
            "Epoch [4/15], Loss: 1.6368, Accuracy: 0.7667\n",
            "Epoch [5/15], Loss: 1.6233, Accuracy: 0.7467\n",
            "Epoch [6/15], Loss: 1.5991, Accuracy: 0.7867\n",
            "Epoch [7/15], Loss: 1.6183, Accuracy: 0.7800\n",
            "Epoch [8/15], Loss: 1.6076, Accuracy: 0.8200\n",
            "Epoch [9/15], Loss: 1.6118, Accuracy: 0.8000\n",
            "Epoch [10/15], Loss: 1.6023, Accuracy: 0.8000\n",
            "Epoch [11/15], Loss: 1.6128, Accuracy: 0.7933\n",
            "Epoch [12/15], Loss: 1.5985, Accuracy: 0.8400\n",
            "Epoch [13/15], Loss: 1.5720, Accuracy: 0.8267\n",
            "Epoch [14/15], Loss: 1.5631, Accuracy: 0.8400\n",
            "Epoch [15/15], Loss: 1.6025, Accuracy: 0.8133\n",
            "------------------------------------------------------------\n"
          ]
        },
        {
          "name": "stderr",
          "output_type": "stream",
          "text": [
            "/tmp/ipykernel_20979/2865371390.py:152: UserWarning: To copy construct from a tensor, it is recommended to use sourceTensor.clone().detach() or sourceTensor.clone().detach().requires_grad_(True), rather than torch.tensor(sourceTensor).\n",
            "  labels = torch.tensor(labels).to(device)\n"
          ]
        },
        {
          "name": "stdout",
          "output_type": "stream",
          "text": [
            "--------- Number of Iteration 4 ---------\n"
          ]
        },
        {
          "name": "stderr",
          "output_type": "stream",
          "text": [
            "/tmp/ipykernel_20979/2865371390.py:84: UserWarning: To copy construct from a tensor, it is recommended to use sourceTensor.clone().detach() or sourceTensor.clone().detach().requires_grad_(True), rather than torch.tensor(sourceTensor).\n",
            "  labels = torch.tensor(labels).to(device)\n"
          ]
        },
        {
          "name": "stdout",
          "output_type": "stream",
          "text": [
            "Epoch [1/15], Loss: 1.6701, Accuracy: 0.7167\n"
          ]
        },
        {
          "name": "stderr",
          "output_type": "stream",
          "text": [
            "/tmp/ipykernel_20979/2865371390.py:124: UserWarning: To copy construct from a tensor, it is recommended to use sourceTensor.clone().detach() or sourceTensor.clone().detach().requires_grad_(True), rather than torch.tensor(sourceTensor).\n",
            "  labels = torch.tensor(labels).to(device)\n"
          ]
        },
        {
          "name": "stdout",
          "output_type": "stream",
          "text": [
            "Epoch [2/15], Loss: 1.6468, Accuracy: 0.7333\n",
            "Epoch [3/15], Loss: 1.6368, Accuracy: 0.7611\n",
            "Epoch [4/15], Loss: 1.6430, Accuracy: 0.7778\n",
            "Epoch [5/15], Loss: 1.6404, Accuracy: 0.7667\n",
            "Epoch [6/15], Loss: 1.6411, Accuracy: 0.8000\n",
            "Epoch [7/15], Loss: 1.6286, Accuracy: 0.7833\n",
            "Epoch [8/15], Loss: 1.6508, Accuracy: 0.7389\n",
            "Epoch [9/15], Loss: 1.6063, Accuracy: 0.8056\n",
            "Epoch [10/15], Loss: 1.6229, Accuracy: 0.7889\n",
            "Epoch [11/15], Loss: 1.6116, Accuracy: 0.8278\n",
            "Epoch [12/15], Loss: 1.5990, Accuracy: 0.7778\n",
            "Epoch [13/15], Loss: 1.6221, Accuracy: 0.8000\n",
            "Epoch [14/15], Loss: 1.6107, Accuracy: 0.8278\n",
            "Epoch [15/15], Loss: 1.5974, Accuracy: 0.8111\n",
            "------------------------------------------------------------\n"
          ]
        },
        {
          "name": "stderr",
          "output_type": "stream",
          "text": [
            "/tmp/ipykernel_20979/2865371390.py:152: UserWarning: To copy construct from a tensor, it is recommended to use sourceTensor.clone().detach() or sourceTensor.clone().detach().requires_grad_(True), rather than torch.tensor(sourceTensor).\n",
            "  labels = torch.tensor(labels).to(device)\n"
          ]
        },
        {
          "name": "stdout",
          "output_type": "stream",
          "text": [
            "--------- Number of Iteration 5 ---------\n"
          ]
        },
        {
          "name": "stderr",
          "output_type": "stream",
          "text": [
            "/tmp/ipykernel_20979/2865371390.py:84: UserWarning: To copy construct from a tensor, it is recommended to use sourceTensor.clone().detach() or sourceTensor.clone().detach().requires_grad_(True), rather than torch.tensor(sourceTensor).\n",
            "  labels = torch.tensor(labels).to(device)\n"
          ]
        },
        {
          "name": "stdout",
          "output_type": "stream",
          "text": [
            "Epoch [1/15], Loss: 1.6589, Accuracy: 0.7286\n"
          ]
        },
        {
          "name": "stderr",
          "output_type": "stream",
          "text": [
            "/tmp/ipykernel_20979/2865371390.py:124: UserWarning: To copy construct from a tensor, it is recommended to use sourceTensor.clone().detach() or sourceTensor.clone().detach().requires_grad_(True), rather than torch.tensor(sourceTensor).\n",
            "  labels = torch.tensor(labels).to(device)\n"
          ]
        },
        {
          "name": "stdout",
          "output_type": "stream",
          "text": [
            "Epoch [2/15], Loss: 1.6826, Accuracy: 0.6952\n",
            "Epoch [3/15], Loss: 1.6571, Accuracy: 0.7381\n",
            "Epoch [4/15], Loss: 1.6378, Accuracy: 0.7571\n",
            "Epoch [5/15], Loss: 1.6388, Accuracy: 0.7857\n",
            "Epoch [6/15], Loss: 1.6270, Accuracy: 0.7524\n",
            "Epoch [7/15], Loss: 1.6075, Accuracy: 0.7952\n",
            "Epoch [8/15], Loss: 1.6100, Accuracy: 0.7952\n",
            "Epoch [9/15], Loss: 1.6041, Accuracy: 0.8238\n",
            "Epoch [10/15], Loss: 1.6274, Accuracy: 0.8190\n",
            "Epoch [11/15], Loss: 1.6034, Accuracy: 0.8095\n",
            "Epoch [12/15], Loss: 1.5797, Accuracy: 0.8429\n",
            "Epoch [13/15], Loss: 1.5735, Accuracy: 0.8381\n",
            "Epoch [14/15], Loss: 1.5629, Accuracy: 0.8571\n",
            "Epoch [15/15], Loss: 1.5702, Accuracy: 0.8619\n",
            "------------------------------------------------------------\n"
          ]
        },
        {
          "name": "stderr",
          "output_type": "stream",
          "text": [
            "/tmp/ipykernel_20979/2865371390.py:152: UserWarning: To copy construct from a tensor, it is recommended to use sourceTensor.clone().detach() or sourceTensor.clone().detach().requires_grad_(True), rather than torch.tensor(sourceTensor).\n",
            "  labels = torch.tensor(labels).to(device)\n"
          ]
        },
        {
          "name": "stdout",
          "output_type": "stream",
          "text": [
            "--------- Number of Iteration 6 ---------\n"
          ]
        },
        {
          "name": "stderr",
          "output_type": "stream",
          "text": [
            "/tmp/ipykernel_20979/2865371390.py:84: UserWarning: To copy construct from a tensor, it is recommended to use sourceTensor.clone().detach() or sourceTensor.clone().detach().requires_grad_(True), rather than torch.tensor(sourceTensor).\n",
            "  labels = torch.tensor(labels).to(device)\n"
          ]
        },
        {
          "name": "stdout",
          "output_type": "stream",
          "text": [
            "Epoch [1/15], Loss: 1.6710, Accuracy: 0.7458\n"
          ]
        },
        {
          "name": "stderr",
          "output_type": "stream",
          "text": [
            "/tmp/ipykernel_20979/2865371390.py:124: UserWarning: To copy construct from a tensor, it is recommended to use sourceTensor.clone().detach() or sourceTensor.clone().detach().requires_grad_(True), rather than torch.tensor(sourceTensor).\n",
            "  labels = torch.tensor(labels).to(device)\n"
          ]
        },
        {
          "name": "stdout",
          "output_type": "stream",
          "text": [
            "Epoch [2/15], Loss: 1.6803, Accuracy: 0.7167\n",
            "Epoch [3/15], Loss: 1.6746, Accuracy: 0.7375\n",
            "Epoch [4/15], Loss: 1.6491, Accuracy: 0.7583\n",
            "Epoch [5/15], Loss: 1.6394, Accuracy: 0.7583\n",
            "Epoch [6/15], Loss: 1.6364, Accuracy: 0.8042\n",
            "Epoch [7/15], Loss: 1.6282, Accuracy: 0.7458\n",
            "Epoch [8/15], Loss: 1.6138, Accuracy: 0.8042\n",
            "Epoch [9/15], Loss: 1.6229, Accuracy: 0.8042\n",
            "Epoch [10/15], Loss: 1.5916, Accuracy: 0.7875\n",
            "Epoch [11/15], Loss: 1.5819, Accuracy: 0.7667\n",
            "Epoch [12/15], Loss: 1.5739, Accuracy: 0.8417\n",
            "Epoch [13/15], Loss: 1.5687, Accuracy: 0.8417\n",
            "Epoch [14/15], Loss: 1.5581, Accuracy: 0.7917\n",
            "Epoch [15/15], Loss: 1.5377, Accuracy: 0.8208\n",
            "------------------------------------------------------------\n"
          ]
        },
        {
          "name": "stderr",
          "output_type": "stream",
          "text": [
            "/tmp/ipykernel_20979/2865371390.py:152: UserWarning: To copy construct from a tensor, it is recommended to use sourceTensor.clone().detach() or sourceTensor.clone().detach().requires_grad_(True), rather than torch.tensor(sourceTensor).\n",
            "  labels = torch.tensor(labels).to(device)\n"
          ]
        },
        {
          "name": "stdout",
          "output_type": "stream",
          "text": [
            "--------- Number of Iteration 7 ---------\n"
          ]
        },
        {
          "name": "stderr",
          "output_type": "stream",
          "text": [
            "/tmp/ipykernel_20979/2865371390.py:84: UserWarning: To copy construct from a tensor, it is recommended to use sourceTensor.clone().detach() or sourceTensor.clone().detach().requires_grad_(True), rather than torch.tensor(sourceTensor).\n",
            "  labels = torch.tensor(labels).to(device)\n"
          ]
        },
        {
          "name": "stdout",
          "output_type": "stream",
          "text": [
            "Epoch [1/15], Loss: 1.6372, Accuracy: 0.7370\n"
          ]
        },
        {
          "name": "stderr",
          "output_type": "stream",
          "text": [
            "/tmp/ipykernel_20979/2865371390.py:124: UserWarning: To copy construct from a tensor, it is recommended to use sourceTensor.clone().detach() or sourceTensor.clone().detach().requires_grad_(True), rather than torch.tensor(sourceTensor).\n",
            "  labels = torch.tensor(labels).to(device)\n"
          ]
        },
        {
          "name": "stdout",
          "output_type": "stream",
          "text": [
            "Epoch [2/15], Loss: 1.6351, Accuracy: 0.7667\n",
            "Epoch [3/15], Loss: 1.6035, Accuracy: 0.7741\n",
            "Epoch [4/15], Loss: 1.5867, Accuracy: 0.7815\n",
            "Epoch [5/15], Loss: 1.5983, Accuracy: 0.7667\n",
            "Epoch [6/15], Loss: 1.5712, Accuracy: 0.7963\n",
            "Epoch [7/15], Loss: 1.5685, Accuracy: 0.7481\n",
            "Epoch [8/15], Loss: 1.5641, Accuracy: 0.8000\n",
            "Epoch [9/15], Loss: 1.5294, Accuracy: 0.8148\n",
            "Epoch [10/15], Loss: 1.5227, Accuracy: 0.8556\n",
            "Epoch [11/15], Loss: 1.5219, Accuracy: 0.8259\n",
            "Epoch [12/15], Loss: 1.5350, Accuracy: 0.8259\n",
            "Epoch [13/15], Loss: 1.5167, Accuracy: 0.7852\n",
            "Epoch [14/15], Loss: 1.5229, Accuracy: 0.8444\n",
            "Epoch [15/15], Loss: 1.4988, Accuracy: 0.8185\n",
            "------------------------------------------------------------\n"
          ]
        },
        {
          "name": "stderr",
          "output_type": "stream",
          "text": [
            "/tmp/ipykernel_20979/2865371390.py:152: UserWarning: To copy construct from a tensor, it is recommended to use sourceTensor.clone().detach() or sourceTensor.clone().detach().requires_grad_(True), rather than torch.tensor(sourceTensor).\n",
            "  labels = torch.tensor(labels).to(device)\n"
          ]
        },
        {
          "name": "stdout",
          "output_type": "stream",
          "text": [
            "--------- Number of Iteration 8 ---------\n"
          ]
        },
        {
          "name": "stderr",
          "output_type": "stream",
          "text": [
            "/tmp/ipykernel_20979/2865371390.py:84: UserWarning: To copy construct from a tensor, it is recommended to use sourceTensor.clone().detach() or sourceTensor.clone().detach().requires_grad_(True), rather than torch.tensor(sourceTensor).\n",
            "  labels = torch.tensor(labels).to(device)\n"
          ]
        },
        {
          "name": "stdout",
          "output_type": "stream",
          "text": [
            "Epoch [1/15], Loss: 1.6496, Accuracy: 0.7000\n"
          ]
        },
        {
          "name": "stderr",
          "output_type": "stream",
          "text": [
            "/tmp/ipykernel_20979/2865371390.py:124: UserWarning: To copy construct from a tensor, it is recommended to use sourceTensor.clone().detach() or sourceTensor.clone().detach().requires_grad_(True), rather than torch.tensor(sourceTensor).\n",
            "  labels = torch.tensor(labels).to(device)\n"
          ]
        },
        {
          "name": "stdout",
          "output_type": "stream",
          "text": [
            "Epoch [2/15], Loss: 1.6248, Accuracy: 0.7633\n",
            "Epoch [3/15], Loss: 1.6421, Accuracy: 0.7200\n",
            "Epoch [4/15], Loss: 1.6077, Accuracy: 0.7833\n",
            "Epoch [5/15], Loss: 1.6089, Accuracy: 0.7100\n",
            "Epoch [6/15], Loss: 1.5761, Accuracy: 0.7500\n",
            "Epoch [7/15], Loss: 1.5662, Accuracy: 0.7700\n",
            "Epoch [8/15], Loss: 1.5563, Accuracy: 0.7600\n",
            "Epoch [9/15], Loss: 1.5389, Accuracy: 0.8000\n",
            "Epoch [10/15], Loss: 1.5110, Accuracy: 0.7900\n",
            "Epoch [11/15], Loss: 1.5174, Accuracy: 0.7700\n",
            "Epoch [12/15], Loss: 1.5196, Accuracy: 0.8167\n",
            "Epoch [13/15], Loss: 1.5572, Accuracy: 0.7367\n",
            "Epoch [14/15], Loss: 1.5038, Accuracy: 0.8233\n",
            "Epoch [15/15], Loss: 1.4922, Accuracy: 0.8300\n",
            "------------------------------------------------------------\n"
          ]
        },
        {
          "name": "stderr",
          "output_type": "stream",
          "text": [
            "/tmp/ipykernel_20979/2865371390.py:152: UserWarning: To copy construct from a tensor, it is recommended to use sourceTensor.clone().detach() or sourceTensor.clone().detach().requires_grad_(True), rather than torch.tensor(sourceTensor).\n",
            "  labels = torch.tensor(labels).to(device)\n"
          ]
        },
        {
          "name": "stdout",
          "output_type": "stream",
          "text": [
            "--------- Number of Iteration 9 ---------\n"
          ]
        },
        {
          "name": "stderr",
          "output_type": "stream",
          "text": [
            "/tmp/ipykernel_20979/2865371390.py:84: UserWarning: To copy construct from a tensor, it is recommended to use sourceTensor.clone().detach() or sourceTensor.clone().detach().requires_grad_(True), rather than torch.tensor(sourceTensor).\n",
            "  labels = torch.tensor(labels).to(device)\n"
          ]
        },
        {
          "name": "stdout",
          "output_type": "stream",
          "text": [
            "Epoch [1/15], Loss: 1.5818, Accuracy: 0.7606\n"
          ]
        },
        {
          "name": "stderr",
          "output_type": "stream",
          "text": [
            "/tmp/ipykernel_20979/2865371390.py:124: UserWarning: To copy construct from a tensor, it is recommended to use sourceTensor.clone().detach() or sourceTensor.clone().detach().requires_grad_(True), rather than torch.tensor(sourceTensor).\n",
            "  labels = torch.tensor(labels).to(device)\n"
          ]
        },
        {
          "name": "stdout",
          "output_type": "stream",
          "text": [
            "Epoch [2/15], Loss: 1.5730, Accuracy: 0.7576\n",
            "Epoch [3/15], Loss: 1.5920, Accuracy: 0.7545\n",
            "Epoch [4/15], Loss: 1.5628, Accuracy: 0.7545\n",
            "Epoch [5/15], Loss: 1.5662, Accuracy: 0.7333\n",
            "Epoch [6/15], Loss: 1.5697, Accuracy: 0.7879\n",
            "Epoch [7/15], Loss: 1.5514, Accuracy: 0.7667\n",
            "Epoch [8/15], Loss: 1.5577, Accuracy: 0.7758\n",
            "Epoch [9/15], Loss: 1.5423, Accuracy: 0.7576\n",
            "Epoch [10/15], Loss: 1.5571, Accuracy: 0.8030\n",
            "Epoch [11/15], Loss: 1.5336, Accuracy: 0.8121\n",
            "Epoch [12/15], Loss: 1.5380, Accuracy: 0.8061\n",
            "Epoch [13/15], Loss: 1.5067, Accuracy: 0.8061\n",
            "Epoch [14/15], Loss: 1.5294, Accuracy: 0.8182\n",
            "Epoch [15/15], Loss: 1.5447, Accuracy: 0.7970\n",
            "------------------------------------------------------------\n"
          ]
        },
        {
          "name": "stderr",
          "output_type": "stream",
          "text": [
            "/tmp/ipykernel_20979/2865371390.py:152: UserWarning: To copy construct from a tensor, it is recommended to use sourceTensor.clone().detach() or sourceTensor.clone().detach().requires_grad_(True), rather than torch.tensor(sourceTensor).\n",
            "  labels = torch.tensor(labels).to(device)\n"
          ]
        },
        {
          "name": "stdout",
          "output_type": "stream",
          "text": [
            "--------- Number of Iteration 10 ---------\n"
          ]
        },
        {
          "name": "stderr",
          "output_type": "stream",
          "text": [
            "/tmp/ipykernel_20979/2865371390.py:84: UserWarning: To copy construct from a tensor, it is recommended to use sourceTensor.clone().detach() or sourceTensor.clone().detach().requires_grad_(True), rather than torch.tensor(sourceTensor).\n",
            "  labels = torch.tensor(labels).to(device)\n"
          ]
        },
        {
          "name": "stdout",
          "output_type": "stream",
          "text": [
            "Epoch [1/15], Loss: 1.5888, Accuracy: 0.7639\n"
          ]
        },
        {
          "name": "stderr",
          "output_type": "stream",
          "text": [
            "/tmp/ipykernel_20979/2865371390.py:124: UserWarning: To copy construct from a tensor, it is recommended to use sourceTensor.clone().detach() or sourceTensor.clone().detach().requires_grad_(True), rather than torch.tensor(sourceTensor).\n",
            "  labels = torch.tensor(labels).to(device)\n"
          ]
        },
        {
          "name": "stdout",
          "output_type": "stream",
          "text": [
            "Epoch [2/15], Loss: 1.5680, Accuracy: 0.7861\n",
            "Epoch [3/15], Loss: 1.5878, Accuracy: 0.7472\n",
            "Epoch [4/15], Loss: 1.5520, Accuracy: 0.7806\n",
            "Epoch [5/15], Loss: 1.5227, Accuracy: 0.7889\n",
            "Epoch [6/15], Loss: 1.4759, Accuracy: 0.8306\n",
            "Epoch [7/15], Loss: 1.5094, Accuracy: 0.8056\n",
            "Epoch [8/15], Loss: 1.5348, Accuracy: 0.7639\n",
            "Epoch [9/15], Loss: 1.5360, Accuracy: 0.7417\n",
            "Epoch [10/15], Loss: 1.4653, Accuracy: 0.7889\n",
            "Epoch [11/15], Loss: 1.4511, Accuracy: 0.8417\n",
            "Epoch [12/15], Loss: 1.4651, Accuracy: 0.7889\n",
            "Epoch [13/15], Loss: 1.4293, Accuracy: 0.8444\n",
            "Epoch [14/15], Loss: 1.4144, Accuracy: 0.8444\n",
            "Epoch [15/15], Loss: 1.4393, Accuracy: 0.8306\n",
            "------------------------------------------------------------\n"
          ]
        },
        {
          "name": "stderr",
          "output_type": "stream",
          "text": [
            "/tmp/ipykernel_20979/2865371390.py:152: UserWarning: To copy construct from a tensor, it is recommended to use sourceTensor.clone().detach() or sourceTensor.clone().detach().requires_grad_(True), rather than torch.tensor(sourceTensor).\n",
            "  labels = torch.tensor(labels).to(device)\n"
          ]
        },
        {
          "name": "stdout",
          "output_type": "stream",
          "text": [
            "--------- Number of Iteration 11 ---------\n"
          ]
        },
        {
          "name": "stderr",
          "output_type": "stream",
          "text": [
            "/tmp/ipykernel_20979/2865371390.py:84: UserWarning: To copy construct from a tensor, it is recommended to use sourceTensor.clone().detach() or sourceTensor.clone().detach().requires_grad_(True), rather than torch.tensor(sourceTensor).\n",
            "  labels = torch.tensor(labels).to(device)\n"
          ]
        },
        {
          "name": "stdout",
          "output_type": "stream",
          "text": [
            "Epoch [1/15], Loss: 1.5718, Accuracy: 0.7513\n"
          ]
        },
        {
          "name": "stderr",
          "output_type": "stream",
          "text": [
            "/tmp/ipykernel_20979/2865371390.py:124: UserWarning: To copy construct from a tensor, it is recommended to use sourceTensor.clone().detach() or sourceTensor.clone().detach().requires_grad_(True), rather than torch.tensor(sourceTensor).\n",
            "  labels = torch.tensor(labels).to(device)\n"
          ]
        },
        {
          "name": "stdout",
          "output_type": "stream",
          "text": [
            "Epoch [2/15], Loss: 1.5226, Accuracy: 0.7821\n",
            "Epoch [3/15], Loss: 1.4779, Accuracy: 0.8282\n",
            "Epoch [4/15], Loss: 1.4938, Accuracy: 0.8308\n",
            "Epoch [5/15], Loss: 1.4620, Accuracy: 0.7769\n",
            "Epoch [6/15], Loss: 1.4985, Accuracy: 0.8205\n",
            "Epoch [7/15], Loss: 1.5060, Accuracy: 0.8000\n",
            "Epoch [8/15], Loss: 1.4579, Accuracy: 0.8103\n",
            "Epoch [9/15], Loss: 1.5031, Accuracy: 0.7692\n",
            "Epoch [10/15], Loss: 1.4783, Accuracy: 0.7615\n",
            "Epoch [11/15], Loss: 1.4379, Accuracy: 0.8385\n",
            "Epoch [12/15], Loss: 1.4568, Accuracy: 0.7615\n",
            "Epoch [13/15], Loss: 1.4213, Accuracy: 0.8436\n",
            "Epoch [14/15], Loss: 1.4501, Accuracy: 0.8308\n",
            "Epoch [15/15], Loss: 1.4178, Accuracy: 0.8513\n",
            "------------------------------------------------------------\n"
          ]
        },
        {
          "name": "stderr",
          "output_type": "stream",
          "text": [
            "/tmp/ipykernel_20979/2865371390.py:152: UserWarning: To copy construct from a tensor, it is recommended to use sourceTensor.clone().detach() or sourceTensor.clone().detach().requires_grad_(True), rather than torch.tensor(sourceTensor).\n",
            "  labels = torch.tensor(labels).to(device)\n"
          ]
        },
        {
          "name": "stdout",
          "output_type": "stream",
          "text": [
            "--------- Number of Iteration 12 ---------\n"
          ]
        },
        {
          "name": "stderr",
          "output_type": "stream",
          "text": [
            "/tmp/ipykernel_20979/2865371390.py:84: UserWarning: To copy construct from a tensor, it is recommended to use sourceTensor.clone().detach() or sourceTensor.clone().detach().requires_grad_(True), rather than torch.tensor(sourceTensor).\n",
            "  labels = torch.tensor(labels).to(device)\n"
          ]
        },
        {
          "name": "stdout",
          "output_type": "stream",
          "text": [
            "Epoch [1/15], Loss: 1.4968, Accuracy: 0.7905\n"
          ]
        },
        {
          "name": "stderr",
          "output_type": "stream",
          "text": [
            "/tmp/ipykernel_20979/2865371390.py:124: UserWarning: To copy construct from a tensor, it is recommended to use sourceTensor.clone().detach() or sourceTensor.clone().detach().requires_grad_(True), rather than torch.tensor(sourceTensor).\n",
            "  labels = torch.tensor(labels).to(device)\n"
          ]
        },
        {
          "name": "stdout",
          "output_type": "stream",
          "text": [
            "Epoch [2/15], Loss: 1.5288, Accuracy: 0.7286\n",
            "Epoch [3/15], Loss: 1.5495, Accuracy: 0.7452\n",
            "Epoch [4/15], Loss: 1.5397, Accuracy: 0.7690\n",
            "Epoch [5/15], Loss: 1.5054, Accuracy: 0.7952\n",
            "Epoch [6/15], Loss: 1.4969, Accuracy: 0.8190\n",
            "Epoch [7/15], Loss: 1.4921, Accuracy: 0.8167\n",
            "Epoch [8/15], Loss: 1.5033, Accuracy: 0.7667\n",
            "Epoch [9/15], Loss: 1.4437, Accuracy: 0.8119\n",
            "Epoch [10/15], Loss: 1.4394, Accuracy: 0.8262\n",
            "Epoch [11/15], Loss: 1.5086, Accuracy: 0.7452\n",
            "Epoch [12/15], Loss: 1.4766, Accuracy: 0.7810\n",
            "Epoch [13/15], Loss: 1.4580, Accuracy: 0.8167\n",
            "Epoch [14/15], Loss: 1.4587, Accuracy: 0.8095\n",
            "Epoch [15/15], Loss: 1.4857, Accuracy: 0.7976\n",
            "------------------------------------------------------------\n"
          ]
        },
        {
          "name": "stderr",
          "output_type": "stream",
          "text": [
            "/tmp/ipykernel_20979/2865371390.py:152: UserWarning: To copy construct from a tensor, it is recommended to use sourceTensor.clone().detach() or sourceTensor.clone().detach().requires_grad_(True), rather than torch.tensor(sourceTensor).\n",
            "  labels = torch.tensor(labels).to(device)\n"
          ]
        },
        {
          "name": "stdout",
          "output_type": "stream",
          "text": [
            "--------- Number of Iteration 13 ---------\n"
          ]
        },
        {
          "name": "stderr",
          "output_type": "stream",
          "text": [
            "/tmp/ipykernel_20979/2865371390.py:84: UserWarning: To copy construct from a tensor, it is recommended to use sourceTensor.clone().detach() or sourceTensor.clone().detach().requires_grad_(True), rather than torch.tensor(sourceTensor).\n",
            "  labels = torch.tensor(labels).to(device)\n"
          ]
        },
        {
          "name": "stdout",
          "output_type": "stream",
          "text": [
            "Epoch [1/15], Loss: 1.5221, Accuracy: 0.7489\n"
          ]
        },
        {
          "name": "stderr",
          "output_type": "stream",
          "text": [
            "/tmp/ipykernel_20979/2865371390.py:124: UserWarning: To copy construct from a tensor, it is recommended to use sourceTensor.clone().detach() or sourceTensor.clone().detach().requires_grad_(True), rather than torch.tensor(sourceTensor).\n",
            "  labels = torch.tensor(labels).to(device)\n"
          ]
        },
        {
          "name": "stdout",
          "output_type": "stream",
          "text": [
            "Epoch [2/15], Loss: 1.5579, Accuracy: 0.7756\n",
            "Epoch [3/15], Loss: 1.5113, Accuracy: 0.7933\n",
            "Epoch [4/15], Loss: 1.5145, Accuracy: 0.7933\n",
            "Epoch [5/15], Loss: 1.5113, Accuracy: 0.7467\n",
            "Epoch [6/15], Loss: 1.4938, Accuracy: 0.8422\n",
            "Epoch [7/15], Loss: 1.5477, Accuracy: 0.6889\n",
            "Epoch [8/15], Loss: 1.6212, Accuracy: 0.6289\n",
            "Epoch [9/15], Loss: 1.4961, Accuracy: 0.7489\n",
            "Epoch [10/15], Loss: 1.5068, Accuracy: 0.7778\n",
            "Epoch [11/15], Loss: 1.4846, Accuracy: 0.8333\n",
            "Epoch [12/15], Loss: 1.4842, Accuracy: 0.8289\n",
            "Epoch [13/15], Loss: 1.4209, Accuracy: 0.8267\n",
            "Epoch [14/15], Loss: 1.4642, Accuracy: 0.8333\n",
            "Epoch [15/15], Loss: 1.4990, Accuracy: 0.7400\n",
            "------------------------------------------------------------\n"
          ]
        },
        {
          "name": "stderr",
          "output_type": "stream",
          "text": [
            "/tmp/ipykernel_20979/2865371390.py:152: UserWarning: To copy construct from a tensor, it is recommended to use sourceTensor.clone().detach() or sourceTensor.clone().detach().requires_grad_(True), rather than torch.tensor(sourceTensor).\n",
            "  labels = torch.tensor(labels).to(device)\n"
          ]
        },
        {
          "name": "stdout",
          "output_type": "stream",
          "text": [
            "--------- Number of Iteration 14 ---------\n"
          ]
        },
        {
          "name": "stderr",
          "output_type": "stream",
          "text": [
            "/tmp/ipykernel_20979/2865371390.py:84: UserWarning: To copy construct from a tensor, it is recommended to use sourceTensor.clone().detach() or sourceTensor.clone().detach().requires_grad_(True), rather than torch.tensor(sourceTensor).\n",
            "  labels = torch.tensor(labels).to(device)\n"
          ]
        },
        {
          "name": "stdout",
          "output_type": "stream",
          "text": [
            "Epoch [1/15], Loss: 1.5148, Accuracy: 0.7167\n"
          ]
        },
        {
          "name": "stderr",
          "output_type": "stream",
          "text": [
            "/tmp/ipykernel_20979/2865371390.py:124: UserWarning: To copy construct from a tensor, it is recommended to use sourceTensor.clone().detach() or sourceTensor.clone().detach().requires_grad_(True), rather than torch.tensor(sourceTensor).\n",
            "  labels = torch.tensor(labels).to(device)\n"
          ]
        },
        {
          "name": "stdout",
          "output_type": "stream",
          "text": [
            "Epoch [2/15], Loss: 1.4857, Accuracy: 0.7625\n",
            "Epoch [3/15], Loss: 1.4751, Accuracy: 0.7833\n",
            "Epoch [4/15], Loss: 1.4545, Accuracy: 0.7917\n",
            "Epoch [5/15], Loss: 1.4582, Accuracy: 0.7979\n",
            "Epoch [6/15], Loss: 1.4668, Accuracy: 0.7792\n",
            "Epoch [7/15], Loss: 1.4471, Accuracy: 0.7958\n",
            "Epoch [8/15], Loss: 1.4469, Accuracy: 0.8083\n",
            "Epoch [9/15], Loss: 1.4515, Accuracy: 0.8063\n",
            "Epoch [10/15], Loss: 1.4378, Accuracy: 0.8167\n",
            "Epoch [11/15], Loss: 1.4438, Accuracy: 0.8208\n",
            "Epoch [12/15], Loss: 1.4326, Accuracy: 0.8292\n",
            "Epoch [13/15], Loss: 1.4255, Accuracy: 0.8208\n",
            "Epoch [14/15], Loss: 1.4212, Accuracy: 0.8458\n",
            "Epoch [15/15], Loss: 1.4193, Accuracy: 0.8312\n",
            "------------------------------------------------------------\n"
          ]
        },
        {
          "name": "stderr",
          "output_type": "stream",
          "text": [
            "/tmp/ipykernel_20979/2865371390.py:152: UserWarning: To copy construct from a tensor, it is recommended to use sourceTensor.clone().detach() or sourceTensor.clone().detach().requires_grad_(True), rather than torch.tensor(sourceTensor).\n",
            "  labels = torch.tensor(labels).to(device)\n"
          ]
        },
        {
          "name": "stdout",
          "output_type": "stream",
          "text": [
            "--------- Number of Iteration 15 ---------\n"
          ]
        },
        {
          "name": "stderr",
          "output_type": "stream",
          "text": [
            "/tmp/ipykernel_20979/2865371390.py:84: UserWarning: To copy construct from a tensor, it is recommended to use sourceTensor.clone().detach() or sourceTensor.clone().detach().requires_grad_(True), rather than torch.tensor(sourceTensor).\n",
            "  labels = torch.tensor(labels).to(device)\n"
          ]
        },
        {
          "name": "stdout",
          "output_type": "stream",
          "text": [
            "Epoch [1/15], Loss: 1.4491, Accuracy: 0.8020\n"
          ]
        },
        {
          "name": "stderr",
          "output_type": "stream",
          "text": [
            "/tmp/ipykernel_20979/2865371390.py:124: UserWarning: To copy construct from a tensor, it is recommended to use sourceTensor.clone().detach() or sourceTensor.clone().detach().requires_grad_(True), rather than torch.tensor(sourceTensor).\n",
            "  labels = torch.tensor(labels).to(device)\n"
          ]
        },
        {
          "name": "stdout",
          "output_type": "stream",
          "text": [
            "Epoch [2/15], Loss: 1.4593, Accuracy: 0.7824\n",
            "Epoch [3/15], Loss: 1.4478, Accuracy: 0.8039\n",
            "Epoch [4/15], Loss: 1.4494, Accuracy: 0.7922\n",
            "Epoch [5/15], Loss: 1.4494, Accuracy: 0.8020\n",
            "Epoch [6/15], Loss: 1.4295, Accuracy: 0.8353\n",
            "Epoch [7/15], Loss: 1.4540, Accuracy: 0.7882\n",
            "Epoch [8/15], Loss: 1.4369, Accuracy: 0.8059\n",
            "Epoch [9/15], Loss: 1.4346, Accuracy: 0.8157\n",
            "Epoch [10/15], Loss: 1.4347, Accuracy: 0.8137\n",
            "Epoch [11/15], Loss: 1.4183, Accuracy: 0.8333\n",
            "Epoch [12/15], Loss: 1.4294, Accuracy: 0.8196\n",
            "Epoch [13/15], Loss: 1.4198, Accuracy: 0.8333\n",
            "Epoch [14/15], Loss: 1.4245, Accuracy: 0.8098\n",
            "Epoch [15/15], Loss: 1.4247, Accuracy: 0.8314\n",
            "------------------------------------------------------------\n"
          ]
        },
        {
          "name": "stderr",
          "output_type": "stream",
          "text": [
            "/tmp/ipykernel_20979/2865371390.py:152: UserWarning: To copy construct from a tensor, it is recommended to use sourceTensor.clone().detach() or sourceTensor.clone().detach().requires_grad_(True), rather than torch.tensor(sourceTensor).\n",
            "  labels = torch.tensor(labels).to(device)\n"
          ]
        },
        {
          "name": "stdout",
          "output_type": "stream",
          "text": [
            "--------- Number of Iteration 16 ---------\n"
          ]
        },
        {
          "name": "stderr",
          "output_type": "stream",
          "text": [
            "/tmp/ipykernel_20979/2865371390.py:84: UserWarning: To copy construct from a tensor, it is recommended to use sourceTensor.clone().detach() or sourceTensor.clone().detach().requires_grad_(True), rather than torch.tensor(sourceTensor).\n",
            "  labels = torch.tensor(labels).to(device)\n"
          ]
        },
        {
          "name": "stdout",
          "output_type": "stream",
          "text": [
            "Epoch [1/15], Loss: 1.4444, Accuracy: 0.8148\n"
          ]
        },
        {
          "name": "stderr",
          "output_type": "stream",
          "text": [
            "/tmp/ipykernel_20979/2865371390.py:124: UserWarning: To copy construct from a tensor, it is recommended to use sourceTensor.clone().detach() or sourceTensor.clone().detach().requires_grad_(True), rather than torch.tensor(sourceTensor).\n",
            "  labels = torch.tensor(labels).to(device)\n"
          ]
        },
        {
          "name": "stdout",
          "output_type": "stream",
          "text": [
            "Epoch [2/15], Loss: 1.4416, Accuracy: 0.8148\n",
            "Epoch [3/15], Loss: 1.4447, Accuracy: 0.7704\n",
            "Epoch [4/15], Loss: 1.4551, Accuracy: 0.7889\n",
            "Epoch [5/15], Loss: 1.4293, Accuracy: 0.8074\n",
            "Epoch [6/15], Loss: 1.4265, Accuracy: 0.8111\n",
            "Epoch [7/15], Loss: 1.4254, Accuracy: 0.8315\n",
            "Epoch [8/15], Loss: 1.4156, Accuracy: 0.8130\n",
            "Epoch [9/15], Loss: 1.4270, Accuracy: 0.8296\n",
            "Epoch [10/15], Loss: 1.4183, Accuracy: 0.8278\n",
            "Epoch [11/15], Loss: 1.4457, Accuracy: 0.8037\n",
            "Epoch [12/15], Loss: 1.4128, Accuracy: 0.8296\n",
            "Epoch [13/15], Loss: 1.4222, Accuracy: 0.8167\n",
            "Epoch [14/15], Loss: 1.3983, Accuracy: 0.8593\n",
            "Epoch [15/15], Loss: 1.3975, Accuracy: 0.8500\n",
            "------------------------------------------------------------\n"
          ]
        },
        {
          "name": "stderr",
          "output_type": "stream",
          "text": [
            "/tmp/ipykernel_20979/2865371390.py:152: UserWarning: To copy construct from a tensor, it is recommended to use sourceTensor.clone().detach() or sourceTensor.clone().detach().requires_grad_(True), rather than torch.tensor(sourceTensor).\n",
            "  labels = torch.tensor(labels).to(device)\n"
          ]
        },
        {
          "name": "stdout",
          "output_type": "stream",
          "text": [
            "--------- Number of Iteration 17 ---------\n"
          ]
        },
        {
          "name": "stderr",
          "output_type": "stream",
          "text": [
            "/tmp/ipykernel_20979/2865371390.py:84: UserWarning: To copy construct from a tensor, it is recommended to use sourceTensor.clone().detach() or sourceTensor.clone().detach().requires_grad_(True), rather than torch.tensor(sourceTensor).\n",
            "  labels = torch.tensor(labels).to(device)\n"
          ]
        },
        {
          "name": "stdout",
          "output_type": "stream",
          "text": [
            "Epoch [1/15], Loss: 1.4625, Accuracy: 0.7895\n"
          ]
        },
        {
          "name": "stderr",
          "output_type": "stream",
          "text": [
            "/tmp/ipykernel_20979/2865371390.py:124: UserWarning: To copy construct from a tensor, it is recommended to use sourceTensor.clone().detach() or sourceTensor.clone().detach().requires_grad_(True), rather than torch.tensor(sourceTensor).\n",
            "  labels = torch.tensor(labels).to(device)\n"
          ]
        },
        {
          "name": "stdout",
          "output_type": "stream",
          "text": [
            "Epoch [2/15], Loss: 1.4614, Accuracy: 0.7930\n",
            "Epoch [3/15], Loss: 1.4699, Accuracy: 0.7614\n",
            "Epoch [4/15], Loss: 1.4636, Accuracy: 0.7789\n",
            "Epoch [5/15], Loss: 1.4634, Accuracy: 0.7825\n",
            "Epoch [6/15], Loss: 1.4569, Accuracy: 0.7965\n",
            "Epoch [7/15], Loss: 1.4618, Accuracy: 0.7789\n",
            "Epoch [8/15], Loss: 1.4384, Accuracy: 0.8140\n",
            "Epoch [9/15], Loss: 1.4215, Accuracy: 0.8281\n",
            "Epoch [10/15], Loss: 1.4488, Accuracy: 0.7754\n",
            "Epoch [11/15], Loss: 1.4319, Accuracy: 0.8140\n",
            "Epoch [12/15], Loss: 1.4075, Accuracy: 0.8368\n",
            "Epoch [13/15], Loss: 1.4110, Accuracy: 0.8316\n",
            "Epoch [14/15], Loss: 1.4130, Accuracy: 0.8333\n",
            "Epoch [15/15], Loss: 1.4163, Accuracy: 0.8263\n",
            "------------------------------------------------------------\n"
          ]
        },
        {
          "name": "stderr",
          "output_type": "stream",
          "text": [
            "/tmp/ipykernel_20979/2865371390.py:152: UserWarning: To copy construct from a tensor, it is recommended to use sourceTensor.clone().detach() or sourceTensor.clone().detach().requires_grad_(True), rather than torch.tensor(sourceTensor).\n",
            "  labels = torch.tensor(labels).to(device)\n"
          ]
        },
        {
          "name": "stdout",
          "output_type": "stream",
          "text": [
            "--------- Number of Iteration 18 ---------\n"
          ]
        },
        {
          "name": "stderr",
          "output_type": "stream",
          "text": [
            "/tmp/ipykernel_20979/2865371390.py:84: UserWarning: To copy construct from a tensor, it is recommended to use sourceTensor.clone().detach() or sourceTensor.clone().detach().requires_grad_(True), rather than torch.tensor(sourceTensor).\n",
            "  labels = torch.tensor(labels).to(device)\n"
          ]
        },
        {
          "name": "stdout",
          "output_type": "stream",
          "text": [
            "Epoch [1/15], Loss: 1.4689, Accuracy: 0.7650\n"
          ]
        },
        {
          "name": "stderr",
          "output_type": "stream",
          "text": [
            "/tmp/ipykernel_20979/2865371390.py:124: UserWarning: To copy construct from a tensor, it is recommended to use sourceTensor.clone().detach() or sourceTensor.clone().detach().requires_grad_(True), rather than torch.tensor(sourceTensor).\n",
            "  labels = torch.tensor(labels).to(device)\n"
          ]
        },
        {
          "name": "stdout",
          "output_type": "stream",
          "text": [
            "Epoch [2/15], Loss: 1.4791, Accuracy: 0.7600\n",
            "Epoch [3/15], Loss: 1.4702, Accuracy: 0.7883\n",
            "Epoch [4/15], Loss: 1.4549, Accuracy: 0.7817\n",
            "Epoch [5/15], Loss: 1.4609, Accuracy: 0.8017\n",
            "Epoch [6/15], Loss: 1.4377, Accuracy: 0.8000\n",
            "Epoch [7/15], Loss: 1.4588, Accuracy: 0.7783\n",
            "Epoch [8/15], Loss: 1.4500, Accuracy: 0.7717\n",
            "Epoch [9/15], Loss: 1.4428, Accuracy: 0.7933\n",
            "Epoch [10/15], Loss: 1.4414, Accuracy: 0.8117\n",
            "Epoch [11/15], Loss: 1.4458, Accuracy: 0.7850\n",
            "Epoch [12/15], Loss: 1.4242, Accuracy: 0.8267\n",
            "Epoch [13/15], Loss: 1.4462, Accuracy: 0.7783\n",
            "Epoch [14/15], Loss: 1.4423, Accuracy: 0.7750\n",
            "Epoch [15/15], Loss: 1.4147, Accuracy: 0.8217\n",
            "------------------------------------------------------------\n"
          ]
        },
        {
          "name": "stderr",
          "output_type": "stream",
          "text": [
            "/tmp/ipykernel_20979/2865371390.py:152: UserWarning: To copy construct from a tensor, it is recommended to use sourceTensor.clone().detach() or sourceTensor.clone().detach().requires_grad_(True), rather than torch.tensor(sourceTensor).\n",
            "  labels = torch.tensor(labels).to(device)\n"
          ]
        },
        {
          "name": "stdout",
          "output_type": "stream",
          "text": [
            "--------- Number of Iteration 19 ---------\n"
          ]
        },
        {
          "name": "stderr",
          "output_type": "stream",
          "text": [
            "/tmp/ipykernel_20979/2865371390.py:84: UserWarning: To copy construct from a tensor, it is recommended to use sourceTensor.clone().detach() or sourceTensor.clone().detach().requires_grad_(True), rather than torch.tensor(sourceTensor).\n",
            "  labels = torch.tensor(labels).to(device)\n"
          ]
        },
        {
          "name": "stdout",
          "output_type": "stream",
          "text": [
            "Epoch [1/15], Loss: 1.4719, Accuracy: 0.7825\n"
          ]
        },
        {
          "name": "stderr",
          "output_type": "stream",
          "text": [
            "/tmp/ipykernel_20979/2865371390.py:124: UserWarning: To copy construct from a tensor, it is recommended to use sourceTensor.clone().detach() or sourceTensor.clone().detach().requires_grad_(True), rather than torch.tensor(sourceTensor).\n",
            "  labels = torch.tensor(labels).to(device)\n"
          ]
        },
        {
          "name": "stdout",
          "output_type": "stream",
          "text": [
            "Epoch [2/15], Loss: 1.4615, Accuracy: 0.7937\n",
            "Epoch [3/15], Loss: 1.4686, Accuracy: 0.7492\n",
            "Epoch [4/15], Loss: 1.4664, Accuracy: 0.7540\n",
            "Epoch [5/15], Loss: 1.4627, Accuracy: 0.7587\n",
            "Epoch [6/15], Loss: 1.4451, Accuracy: 0.7825\n",
            "Epoch [7/15], Loss: 1.4449, Accuracy: 0.8063\n",
            "Epoch [8/15], Loss: 1.4421, Accuracy: 0.8063\n",
            "Epoch [9/15], Loss: 1.4220, Accuracy: 0.7937\n",
            "Epoch [10/15], Loss: 1.4528, Accuracy: 0.8032\n",
            "Epoch [11/15], Loss: 1.4383, Accuracy: 0.8016\n",
            "Epoch [12/15], Loss: 1.4541, Accuracy: 0.7794\n",
            "Epoch [13/15], Loss: 1.4155, Accuracy: 0.8270\n",
            "Epoch [14/15], Loss: 1.4350, Accuracy: 0.8063\n",
            "Epoch [15/15], Loss: 1.4247, Accuracy: 0.8175\n",
            "------------------------------------------------------------\n"
          ]
        },
        {
          "name": "stderr",
          "output_type": "stream",
          "text": [
            "/tmp/ipykernel_20979/2865371390.py:152: UserWarning: To copy construct from a tensor, it is recommended to use sourceTensor.clone().detach() or sourceTensor.clone().detach().requires_grad_(True), rather than torch.tensor(sourceTensor).\n",
            "  labels = torch.tensor(labels).to(device)\n"
          ]
        },
        {
          "data": {
            "image/png": "[encoded data removed]",
            "text/plain": [
              "<Figure size 640x480 with 1 Axes>"
            ]
          },
          "metadata": {},
          "output_type": "display_data"
        }
      ],
      "source": [
        "for criterion in selection_criteria:\n",
        "    AL_class = ActiveLearningPipeline(model=model,\n",
        "                                      test_indices=test_indices,\n",
        "                                      available_pool_indices=available_pool_indices,\n",
        "                                      train_indices=train_indices,\n",
        "                                      selection_criterion=criterion,\n",
        "                                      iterations=iterations,\n",
        "                                      budget_per_iter=budget_per_iter,\n",
        "                                      num_epochs=num_epoch)\n",
        "    accuracy_scores_dict[criterion] = AL_class.run_pipeline()\n",
        "generate_plot(accuracy_scores_dict)"
      ]
    },
    {
      "cell_type": "code",
      "execution_count": null,
      "metadata": {
        "id": "j5sKVVjSzEl7",
        "outputId": "5633e42a-8c46-4ad8-c5ef-c81919e76cc7"
      },
      "outputs": [
        {
          "data": {
            "text/plain": [
              "defaultdict(list,\n",
              "            {'BADGE_30': [0.5158730158730158,\n",
              "              0.6071428571428571,\n",
              "              0.6388888888888888,\n",
              "              0.611111111111111,\n",
              "              0.6197089947089947,\n",
              "              0.6441798941798942,\n",
              "              0.6362433862433862,\n",
              "              0.6448412698412698,\n",
              "              0.6276455026455026,\n",
              "              0.6011904761904762,\n",
              "              0.6322751322751322,\n",
              "              0.6276455026455026,\n",
              "              0.6104497354497355,\n",
              "              0.6329365079365079,\n",
              "              0.6223544973544973,\n",
              "              0.6428571428571428,\n",
              "              0.6276455026455026,\n",
              "              0.6501322751322751,\n",
              "              0.6157407407407407,\n",
              "              0.6507936507936507]})"
            ]
          },
          "execution_count": 14,
          "metadata": {},
          "output_type": "execute_result"
        }
      ],
      "source": [
        "accuracy_scores_dict"
      ]
    },
    {
      "cell_type": "code",
      "execution_count": null,
      "metadata": {
        "id": "RN47g0f2g7eO"
      },
      "outputs": [],
      "source": []
    }
  ],
  "metadata": {
    "colab": {
      "provenance": []
    },
    "kernelspec": {
      "display_name": "Python 3 (ipykernel)",
      "language": "python",
      "name": "python3"
    },
    "language_info": {
      "codemirror_mode": {
        "name": "ipython",
        "version": 3
      },
      "file_extension": ".py",
      "mimetype": "text/x-python",
      "name": "python",
      "nbconvert_exporter": "python",
      "pygments_lexer": "ipython3",
      "version": "3.9.15"
    }
  },
  "nbformat": 4,
  "nbformat_minor": 0
}