{
  "cells": [
    {
      "cell_type": "markdown",
      "metadata": {
        "id": "view-in-github",
        "colab_type": "text"
      },
      "source": [
        "<a href=\"https://colab.research.google.com/github/kinan-02/SkinCancer-AL/blob/main/Stratiges/custom_sampling.ipynb\" target=\"_parent\"><img src=\"https://colab.research.google.com/assets/colab-badge.svg\" alt=\"Open In Colab\"/></a>"
      ]
    },
    {
      "cell_type": "code",
      "execution_count": null,
      "metadata": {
        "id": "JjgyTgaRfy4k"
      },
      "outputs": [],
      "source": [
        "import pandas as pd\n",
        "import numpy as np\n",
        "import pickle\n",
        "from sklearn.ensemble import RandomForestClassifier\n",
        "from sklearn.svm import SVC\n",
        "from sklearn.linear_model import LogisticRegression\n",
        "from scipy.stats import entropy\n",
        "from collections import defaultdict\n",
        "import argparse\n",
        "from matplotlib import pyplot as plt\n",
        "import random\n",
        "import torch\n",
        "random.seed(0)\n",
        "np.random.seed(0)\n",
        "torch.manual_seed(0)\n",
        "if torch.cuda.is_available():\n",
        "    torch.cuda.manual_seed_all(0)\n",
        "torch.backends.cudnn.deterministic = True\n",
        "torch.backends.cudnn.benchmark = False\n",
        "\n",
        "train_df = pd.read_csv('train_dataset/metadata.csv')\n",
        "test_df = pd.read_csv('test_dataset/metadata.csv')\n",
        "val_df = pd.read_csv('validation_dataset/metadata.csv')"
      ]
    },
    {
      "cell_type": "code",
      "execution_count": null,
      "metadata": {
        "colab": {
          "base_uri": "https://localhost:8080/",
          "height": 366
        },
        "id": "bcHCCahYj6B7",
        "outputId": "1facd164-3e8b-40f4-81d7-52fc3110e538"
      },
      "outputs": [
        {
          "name": "stdout",
          "output_type": "stream",
          "text": [
            "diagnosis\n",
            "nevus                         1205\n",
            "melanoma                      1113\n",
            "pigmented benign keratosis    1099\n",
            "basal cell carcinoma           514\n",
            "squamous cell carcinoma        197\n",
            "vascular lesion                142\n",
            "actinic keratosis              130\n",
            "dermatofibroma                 115\n",
            "Name: count, dtype: int64\n"
          ]
        }
      ],
      "source": [
        "print(train_df['diagnosis'].value_counts())"
      ]
    },
    {
      "cell_type": "code",
      "execution_count": null,
      "metadata": {
        "id": "TcS9AAMTmQe2",
        "outputId": "dcc69bc3-94ed-45ab-b0da-04d1b318d89f"
      },
      "outputs": [
        {
          "data": {
            "text/plain": [
              "{'actinic keratosis': 0,\n",
              " 'basal cell carcinoma': 1,\n",
              " 'dermatofibroma': 2,\n",
              " 'melanoma': 3,\n",
              " 'nevus': 4,\n",
              " 'pigmented benign keratosis': 5,\n",
              " 'squamous cell carcinoma': 6,\n",
              " 'vascular lesion': 7}"
            ]
          },
          "execution_count": 3,
          "metadata": {},
          "output_type": "execute_result"
        }
      ],
      "source": [
        "class_mapping = {\n",
        "    \"actinic keratosis\": 0,\n",
        "    \"basal cell carcinoma\": 1,\n",
        "    \"dermatofibroma\": 2,\n",
        "    \"melanoma\": 3,\n",
        "    \"nevus\": 4,\n",
        "    \"pigmented benign keratosis\": 5,\n",
        "    \"squamous cell carcinoma\": 6,\n",
        "    \"vascular lesion\":7\n",
        "}\n",
        "class_mapping"
      ]
    },
    {
      "cell_type": "code",
      "execution_count": null,
      "metadata": {
        "id": "BLruwetXmPem"
      },
      "outputs": [],
      "source": [
        "from PIL import Image\n",
        "import os\n",
        "\n",
        "import torchvision.transforms as transforms\n",
        "\n",
        "# Define image transformations (resize, convert to tensor)\n",
        "transform = transforms.Compose([\n",
        "    transforms.Resize((224, 224)),          # Resize images to 224x224 (matching ResNet input size)\n",
        "    transforms.ToTensor()\n",
        "])\n",
        "\n",
        "# we made this class to read the data from the file and to use it later in the dataloader\n",
        "class Dataset():\n",
        "    def __init__(self, dataframe, transform, train='train'):\n",
        "        self.dataframe=dataframe\n",
        "        self.train = train\n",
        "        self.transform = transform\n",
        "        self.path_to_image=self._create_path_to_image_dict()\n",
        "        self.paths=list(self.path_to_image.keys())\n",
        "        self.labels=list(self.path_to_image.values())\n",
        "\n",
        "    def _create_path_to_image_dict(self):\n",
        "      path_to_image={}\n",
        "      for index,row in self.dataframe.iterrows():\n",
        "        if self.train == 'train':\n",
        "          img_path = os.path.join('train_dataset/',row['isic_id']+'.jpg')\n",
        "        elif self.train == 'test':\n",
        "          img_path = os.path.join('test_dataset/',row['isic_id']+'.jpg')\n",
        "        else:\n",
        "            img_path = os.path.join('validation_dataset/',row['isic_id']+'.jpg')\n",
        "        label=row['diagnosis']\n",
        "        path_to_image[img_path]=label\n",
        "      return path_to_image\n",
        "\n",
        "    def __len__(self):\n",
        "        return len(self.paths)\n",
        "\n",
        "    def __getitem__(self,index):\n",
        "        img_path=self.paths[index]\n",
        "        img_label=self.labels[index]\n",
        "        image=Image.open(img_path)\n",
        "        image=self.transform(image)\n",
        "        if self.train == 'val':\n",
        "            return image, class_mapping[img_label], index\n",
        "        return image, img_label, index"
      ]
    },
    {
      "cell_type": "code",
      "execution_count": null,
      "metadata": {
        "id": "9yCvnprDoa_7"
      },
      "outputs": [],
      "source": [
        "train_df = Dataset(train_df, transform)\n",
        "val_df = Dataset(val_df, transform,train='val')\n",
        "test_df = Dataset(test_df, transform,train='test')"
      ]
    },
    {
      "cell_type": "code",
      "execution_count": null,
      "metadata": {
        "colab": {
          "base_uri": "https://localhost:8080/"
        },
        "id": "l5L0NcpesnZI",
        "outputId": "22f97091-b571-4138-964f-95a509890583"
      },
      "outputs": [
        {
          "name": "stderr",
          "output_type": "stream",
          "text": [
            "/anaconda/envs/py38_default/lib/python3.9/site-packages/torchvision/models/_utils.py:208: UserWarning: The parameter 'pretrained' is deprecated since 0.13 and may be removed in the future, please use 'weights' instead.\n",
            "  warnings.warn(\n",
            "/anaconda/envs/py38_default/lib/python3.9/site-packages/torchvision/models/_utils.py:223: UserWarning: Arguments other than a weight enum or `None` for 'weights' are deprecated since 0.13 and may be removed in the future. The current behavior is equivalent to passing `weights=ResNet50_Weights.IMAGENET1K_V1`. You can also use `weights=ResNet50_Weights.DEFAULT` to get the most up-to-date weights.\n",
            "  warnings.warn(msg)\n"
          ]
        }
      ],
      "source": [
        "import torch\n",
        "import torch.nn as nn\n",
        "import torchvision.models as models\n",
        "from torchvision import transforms\n",
        "from torch.optim import Adam\n",
        "\n",
        "# Load pre-trained ResNet50 model from torchvision\n",
        "base_model = models.resnet50(pretrained=True)\n",
        "\n",
        "num_classes = 8\n",
        "base_model.fc = nn.Sequential(\n",
        "    nn.Flatten(),\n",
        "    nn.Linear(base_model.fc.in_features, 128),  # Add a fully connected layer\n",
        "    nn.ReLU(),\n",
        "    nn.Linear(128, num_classes),  # Final layer with number of classes\n",
        "    nn.Softmax(dim=1)  # Softmax activation for multi-class classification\n",
        ")\n",
        "\n",
        "for param in base_model.parameters():\n",
        "    param.requires_grad = False  # Freeze all layers except the fully connected ones\n",
        "\n",
        "# Unfreeze the final fully connected layer\n",
        "for param in base_model.fc.parameters():\n",
        "    param.requires_grad = True\n",
        "\n",
        "loss_f = nn.CrossEntropyLoss()\n",
        "optimizer = Adam(base_model.fc.parameters(), lr=0.0008)\n",
        "\n",
        "device = torch.device(\"cuda\" if torch.cuda.is_available() else \"cpu\")\n",
        "base_model.to(device)\n",
        "x = 5"
      ]
    },
    {
      "cell_type": "code",
      "execution_count": null,
      "metadata": {
        "id": "__MKYZe5mQe3"
      },
      "outputs": [],
      "source": [
        "from torch.utils.data import DataLoader, TensorDataset\n",
        "\n",
        "batch_size = 4\n",
        "val_loader = DataLoader(val_df, batch_size=batch_size, shuffle=False)"
      ]
    },
    {
      "cell_type": "code",
      "execution_count": null,
      "metadata": {
        "id": "-Vk8kyZsgACa",
        "outputId": "4df6db77-1d5a-4a6a-c139-3b9cf986fdc2"
      },
      "outputs": [
        {
          "name": "stderr",
          "output_type": "stream",
          "text": [
            "2024-10-16 10:21:37.265475: I tensorflow/core/platform/cpu_feature_guard.cc:193] This TensorFlow binary is optimized with oneAPI Deep Neural Network Library (oneDNN) to use the following CPU instructions in performance-critical operations:  AVX2 FMA\n",
            "To enable them in other operations, rebuild TensorFlow with the appropriate compiler flags.\n",
            "2024-10-16 10:21:43.329739: W tensorflow/compiler/xla/stream_executor/platform/default/dso_loader.cc:64] Could not load dynamic library 'libcudart.so.11.0'; dlerror: libcudart.so.11.0: cannot open shared object file: No such file or directory; LD_LIBRARY_PATH: /opt/intel/compilers_and_libraries_2018.1.163/linux/tbb/lib/intel64_lin/gcc4.7:/opt/intel/compilers_and_libraries_2018.1.163/linux/compiler/lib/intel64_lin:/opt/intel/compilers_and_libraries_2018.1.163/linux/mkl/lib/intel64_lin::/usr/local/cuda/lib64:/usr/local/cuda/extras/CUPTI/lib64/\n",
            "2024-10-16 10:21:43.329772: I tensorflow/compiler/xla/stream_executor/cuda/cudart_stub.cc:29] Ignore above cudart dlerror if you do not have a GPU set up on your machine.\n",
            "2024-10-16 10:21:54.854592: W tensorflow/compiler/xla/stream_executor/platform/default/dso_loader.cc:64] Could not load dynamic library 'libnvinfer.so.7'; dlerror: libnvinfer.so.7: cannot open shared object file: No such file or directory; LD_LIBRARY_PATH: /opt/intel/compilers_and_libraries_2018.1.163/linux/tbb/lib/intel64_lin/gcc4.7:/opt/intel/compilers_and_libraries_2018.1.163/linux/compiler/lib/intel64_lin:/opt/intel/compilers_and_libraries_2018.1.163/linux/mkl/lib/intel64_lin::/usr/local/cuda/lib64:/usr/local/cuda/extras/CUPTI/lib64/\n",
            "2024-10-16 10:21:54.854809: W tensorflow/compiler/xla/stream_executor/platform/default/dso_loader.cc:64] Could not load dynamic library 'libnvinfer_plugin.so.7'; dlerror: libnvinfer_plugin.so.7: cannot open shared object file: No such file or directory; LD_LIBRARY_PATH: /opt/intel/compilers_and_libraries_2018.1.163/linux/tbb/lib/intel64_lin/gcc4.7:/opt/intel/compilers_and_libraries_2018.1.163/linux/compiler/lib/intel64_lin:/opt/intel/compilers_and_libraries_2018.1.163/linux/mkl/lib/intel64_lin::/usr/local/cuda/lib64:/usr/local/cuda/extras/CUPTI/lib64/\n",
            "2024-10-16 10:21:54.854825: W tensorflow/compiler/tf2tensorrt/utils/py_utils.cc:38] TF-TRT Warning: Cannot dlopen some TensorRT libraries. If you would like to use Nvidia GPU with TensorRT, please make sure the missing libraries mentioned above are installed properly.\n"
          ]
        }
      ],
      "source": [
        "from torch.utils.data import DataLoader, TensorDataset\n",
        "from sklearn.cluster import KMeans\n",
        "import numpy as np\n",
        "from sklearn.metrics.pairwise import cosine_similarity\n",
        "from transformers import ViTFeatureExtractor, ViTModel\n",
        "\n",
        "class ActiveLearningPipeline:\n",
        "    def __init__(self, model,\n",
        "                 available_pool_indices,\n",
        "                 train_indices,\n",
        "                 test_indices,\n",
        "                 selection_criterion,\n",
        "                 iterations,\n",
        "                 budget_per_iter,\n",
        "                 num_epochs):\n",
        "        self.model = model\n",
        "        self.iterations = iterations\n",
        "        self.budget_per_iter = budget_per_iter\n",
        "        self.available_pool_indices = available_pool_indices\n",
        "        self.train_indices = train_indices\n",
        "        self.test_indices = test_indices\n",
        "        self.selection_criterion = selection_criterion\n",
        "        if self.selection_criterion == 'random':\n",
        "          self.train_indices = []\n",
        "        self.num_epochs = num_epochs\n",
        "        self.pool_features = []\n",
        "        self.pool_indices = []\n",
        "        self.train_features = []\n",
        "        # self.best_acc = 0\n",
        "\n",
        "    def run_pipeline(self):\n",
        "        \"\"\"\n",
        "        Run the active learning pipeline\n",
        "        :return\n",
        "        accuracy_scores: list, accuracy scores at each iteration\n",
        "        \"\"\"\n",
        "        accuracy_scores = []\n",
        "        self._get_features()\n",
        "        for iteration in range(self.iterations):\n",
        "            print(f\"--------- Number of Iteration {iteration} ---------\")\n",
        "            if self.selection_criterion == 'random':\n",
        "                self._random_sampling()\n",
        "            elif self.selection_criterion == 'custom':\n",
        "                self._custom_sampling()\n",
        "\n",
        "            train_images = [train_df.__getitem__(index)[0] for index in self.train_indices]\n",
        "            label_df = [class_mapping[train_df.__getitem__(index)[1]] for index in self.train_indices]\n",
        "            self._train_model(train_images, label_df)\n",
        "            self.model.load_state_dict(torch.load(f\"best_{self.selection_criterion}_model.pth\"))\n",
        "            accuracy = self._evaluate_model()\n",
        "            accuracy_scores.append(accuracy)\n",
        "        return accuracy_scores\n",
        "\n",
        "    def calculate_class_weights(self, label_counts, num_classes=8):\n",
        "      \"\"\"\n",
        "      calculate class weights to handle data imbalance for the loss function.\n",
        "      \"\"\"\n",
        "        total_samples = sum(label_counts.values())\n",
        "        class_weights = torch.zeros(num_classes)\n",
        "\n",
        "        for cls in range(num_classes):\n",
        "            if cls in label_counts:\n",
        "                class_weights[cls] = total_samples / (num_classes * label_counts[cls])\n",
        "            else:\n",
        "                class_weights[cls] = 1.0  # Handle the case where a class has zero samples in the current epoch\n",
        "\n",
        "        return class_weights\n",
        "\n",
        "    def _train_model(self, train_images, label_df):\n",
        "      \"\"\"\n",
        "      This function trains the base model on the provided training set and saves the best-performing model.\n",
        "      \"\"\"\n",
        "      label_counts = defaultdict(int)\n",
        "      for label in label_df:\n",
        "                label_counts[label] += 1\n",
        "      class_weights = self.calculate_class_weights(label_counts, 8).to(device)\n",
        "      loss_f = nn.CrossEntropyLoss(weight=class_weights)\n",
        "\n",
        "      train_images_tensor = torch.stack(train_images)\n",
        "      label_df_tensor = torch.tensor(label_df)\n",
        "      train_dataset = TensorDataset(train_images_tensor, label_df_tensor)\n",
        "\n",
        "      batch_size = 32\n",
        "      train_loader = DataLoader(train_dataset, batch_size=batch_size, shuffle=True)\n",
        "      best_acc = 0\n",
        "      for epoch in range(self.num_epochs):\n",
        "                self.model.train()\n",
        "                running_loss = 0.0  # Track the running loss\n",
        "                correct_predictions = 0\n",
        "                total_predictions = 0\n",
        "                # Training loop\n",
        "                for inputs, labels in train_loader:\n",
        "                    inputs = inputs\n",
        "                    inputs= inputs.to(device)\n",
        "                    labels = torch.tensor(labels).to(device)\n",
        "\n",
        "                    # Zero the parameter gradients\n",
        "                    optimizer.zero_grad()\n",
        "\n",
        "                    # Forward pass\n",
        "                    outputs = self.model(inputs)\n",
        "                    # outputs = outputs.logits\n",
        "                    loss = loss_f(outputs, labels)\n",
        "\n",
        "                    # Backward pass and optimization\n",
        "                    loss.backward()\n",
        "                    optimizer.step()\n",
        "\n",
        "                    running_loss += loss.item()\n",
        "\n",
        "                    # Calculate accuracy\n",
        "                    _, preds = torch.max(outputs, 1)\n",
        "                    correct_predictions += torch.sum(preds == labels)\n",
        "                    total_predictions += inputs.shape[0]\n",
        "\n",
        "                # Print loss and accuracy at the end of each epoch\n",
        "                epoch_loss = running_loss / len(train_loader)\n",
        "                epoch_acc = correct_predictions.double() / total_predictions\n",
        "                print(f'Epoch [{epoch+1}/{self.num_epochs}], Loss: {epoch_loss:.4f}, Accuracy: {epoch_acc:.4f}')\n",
        "\n",
        "                val_acc = self._check_model()\n",
        "                if val_acc > best_acc:\n",
        "                    best_acc = val_acc\n",
        "                    torch.save(self.model.state_dict(), f\"best_{self.selection_criterion}_model.pth\")\n",
        "      print(\"--\"*30)\n",
        "\n",
        "    def _check_model(self):\n",
        "      \"\"\"\n",
        "      Returns the accuracy of the base model on the validation set.\n",
        "      \"\"\"\n",
        "        self.model.eval()\n",
        "        running_corrects = 0\n",
        "        total_predictions = 0.0\n",
        "\n",
        "        with torch.no_grad():\n",
        "            for inputs, labels, _ in val_loader:\n",
        "                inputs = inputs.to(device)\n",
        "                labels = torch.tensor(labels).to(device)\n",
        "\n",
        "                outputs = self.model(inputs)\n",
        "                _, preds = torch.max(outputs, 1)\n",
        "\n",
        "                running_corrects += torch.sum(preds == labels)\n",
        "                total_predictions += inputs.shape[0]\n",
        "        val_acc = running_corrects.double() / total_predictions\n",
        "        return val_acc.item()\n",
        "\n",
        "    def _evaluate_model(self):\n",
        "        \"\"\"\n",
        "        Returns the accuracy of the base model on the test set.\n",
        "        \"\"\"\n",
        "        self.model.eval()\n",
        "        running_corrects = 0\n",
        "        test_images_tensor = torch.stack(test_images)\n",
        "        label_df_tensor = torch.tensor(test_label_df)\n",
        "        test_dataset = TensorDataset(test_images_tensor, label_df_tensor)\n",
        "        batch_size = 32\n",
        "        test_loader = DataLoader(test_dataset, batch_size=batch_size, shuffle=False)\n",
        "        total_predictions = 0.0\n",
        "        with torch.no_grad():\n",
        "            for inputs, labels in test_loader:\n",
        "                inputs = inputs.to(device)\n",
        "                labels = torch.tensor(labels).to(device)\n",
        "\n",
        "                outputs = self.model(inputs)\n",
        "                _, preds = torch.max(outputs, 1)\n",
        "\n",
        "                running_corrects += torch.sum(preds == labels)\n",
        "                total_predictions += inputs.shape[0]\n",
        "        test_acc = running_corrects.double() / total_predictions\n",
        "        return test_acc.item()\n",
        "\n",
        "    def _random_sampling(self):\n",
        "      \"\"\"\n",
        "      Adds samples to the training set using a random sampling strategy.\n",
        "      \"\"\"\n",
        "      selected_indices = np.random.choice(self.available_pool_indices, self.budget_per_iter, replace=False)\n",
        "      selected_indices = selected_indices.tolist()\n",
        "      self.train_indices = self.train_indices + selected_indices\n",
        "\n",
        "      available_pool_set = set(self.available_pool_indices)\n",
        "      train_set = set(self.train_indices)\n",
        "      self.available_pool_indices = list(available_pool_set - train_set)\n",
        "\n",
        "    def extract_vae_features(self, dataloader, model, feature_extractor):\n",
        "        \"\"\"\n",
        "        Return the latent vector for each image and the corresponding indices.\n",
        "        \"\"\"\n",
        "        features_list = []\n",
        "        indices_list = []\n",
        "\n",
        "        with torch.no_grad():\n",
        "            for images, indices in dataloader:\n",
        "                images = images.to(device)\n",
        "                images_list = [transforms.ToPILImage()(img) for img in images]\n",
        "                inputs = feature_extractor(images=images_list, return_tensors=\"pt\")\n",
        "                with torch.no_grad():\n",
        "                    inputs = inputs.to(device)\n",
        "                    outputs = model(**inputs)\n",
        "\n",
        "                x = outputs.last_hidden_state[:, 0, :]\n",
        "                features_list.append(x.cpu().numpy())\n",
        "\n",
        "                # Collect indices\n",
        "                indices_list.extend(indices)\n",
        "\n",
        "        # Stack all features into a 2D array (n_samples, hidden_dim)\n",
        "        features = np.vstack(features_list)\n",
        "\n",
        "        return features, indices_list\n",
        "\n",
        "    def _get_features(self):\n",
        "      \"\"\"\n",
        "      Creates latent feature vectors for each image in the available pool using a pre-trained Vision Transformer (ViT) model from Google.\n",
        "      \"\"\"\n",
        "        feature_extractor = ViTFeatureExtractor.from_pretrained('google/vit-base-patch16-224-in21k')\n",
        "        feature_extractor = feature_extractor.to(device)\n",
        "        model = ViTModel.from_pretrained('google/vit-base-patch16-224-in21k')\n",
        "        model = model.to(device)\n",
        "\n",
        "        train_images = [train_df.__getitem__(index)[0] for index in self.train_indices]\n",
        "        train_images_tensor = torch.stack(train_images)\n",
        "        label_df_tensor = torch.tensor(self.train_indices)\n",
        "        train_dataset = TensorDataset(train_images_tensor, label_df_tensor)\n",
        "        batch_size = 32\n",
        "        train_loader = DataLoader(train_dataset, batch_size=batch_size, shuffle=True)\n",
        "        self.train_features, self.train_indices = self.extract_vae_features(train_loader, model, feature_extractor)\n",
        "\n",
        "        X_unlabeled = [train_df.__getitem__(index)[0] for index in self.available_pool_indices]\n",
        "        pool_images_tensor = torch.stack(X_unlabeled)\n",
        "        pool_indices_tensor = torch.tensor(self.available_pool_indices)\n",
        "        pool_dataset = TensorDataset(pool_images_tensor, pool_indices_tensor)\n",
        "\n",
        "        batch_size = 32\n",
        "        pool_loader = DataLoader(pool_dataset, batch_size=batch_size, shuffle=False)\n",
        "\n",
        "        self.pool_features, self.pool_indices = self.extract_vae_features(pool_loader, model, feature_extractor)\n",
        "\n",
        "    def _custom_sampling(self):\n",
        "      \"\"\"\n",
        "      Adds samples to the training set using a custom sampling strategy.\n",
        "      \"\"\"\n",
        "          misclassified_indices = []\n",
        "          model = self.model\n",
        "          model.eval()\n",
        "          train_images = [train_df.__getitem__(index)[0] for index in self.train_indices]\n",
        "          label_df = [class_mapping[train_df.__getitem__(index)[1]] for index in self.train_indices]\n",
        "          train_images_tensor = torch.stack(train_images)\n",
        "          label_df_tensor = torch.tensor(label_df)\n",
        "          indices_tensor = torch.tensor(self.train_indices)\n",
        "          train_dataset = TensorDataset(train_images_tensor, label_df_tensor, indices_tensor)\n",
        "\n",
        "          batch_size = 32\n",
        "          train_loader = DataLoader(train_dataset, batch_size=batch_size, shuffle=False)\n",
        "          with torch.no_grad():\n",
        "            for idx, (inputs, labels, indices) in enumerate(train_loader):\n",
        "                inputs, labels = inputs.to(device), labels.to(device)\n",
        "                outputs = model(inputs)\n",
        "                _, preds = torch.max(outputs, 1)\n",
        "                incorrect = (preds != labels).cpu().numpy()\n",
        "                misclassified_indices += [i for i, incorrect_flag in zip(indices, incorrect) if incorrect_flag]\n",
        "          # An array containing the feature vectors of the samples that the model misclassified.\n",
        "          misclassified_features = np.array([self.train_features[self.train_indices.index(i)] for i in misclassified_indices])\n",
        "\n",
        "          max_similarities = []\n",
        "          for pool_feature in self.pool_features:\n",
        "            # Compute cosine similarity between pool features and misclassified features\n",
        "            similarities = cosine_similarity([pool_feature], misclassified_features)\n",
        "            max_similarity = np.max(similarities)\n",
        "            max_similarities.append(max_similarity)\n",
        "\n",
        "          #selected_indices is the indices of the samples from the pool that have the highest similarity to the misclassified samples\n",
        "          selected_indices = np.argsort(max_similarities)[:self.budget_per_iter]\n",
        "          temp = np.array(self.available_pool_indices)\n",
        "          selected_indices = temp[selected_indices]\n",
        "\n",
        "          for i in selected_indices:\n",
        "              index = self.pool_indices.index(i)\n",
        "\n",
        "              self.train_features = np.append(self.train_features, [self.pool_features[index]], axis=0)\n",
        "              self.train_indices.append(i)\n",
        "\n",
        "              self.pool_features = np.delete(self.pool_features, index, axis=0)\n",
        "              self.pool_indices.pop(index)\n",
        "\n",
        "          available_pool_set = set(self.available_pool_indices)\n",
        "          train_set = set(self.train_indices)\n",
        "          self.available_pool_indices = list(available_pool_set - train_set)\n"
      ]
    },
    {
      "cell_type": "code",
      "execution_count": null,
      "metadata": {
        "id": "o5829ZYDh1Rp"
      },
      "outputs": [],
      "source": [
        "def generate_plot(accuracy_scores_dict):\n",
        "    \"\"\"\n",
        "    Generate a plot\n",
        "    \"\"\"\n",
        "    for criterion, accuracy_scores in accuracy_scores_dict.items():\n",
        "        plt.plot(range(1, len(accuracy_scores) + 1), accuracy_scores, label=criterion)\n",
        "    plt.xlabel('Iterations')\n",
        "    plt.ylabel('Accuracy')\n",
        "    plt.legend()\n",
        "    plt.show()"
      ]
    },
    {
      "cell_type": "code",
      "execution_count": null,
      "metadata": {
        "id": "DQ2IZmfRuYgX"
      },
      "outputs": [],
      "source": [
        "available_pool_indices = []\n",
        "for i in range(len(train_df)):\n",
        "  \"\"\"Initialize the available pool indices \"\"\"\n",
        "    image, label, index = train_df[i]\n",
        "    available_pool_indices.append(index)\n",
        "\n",
        "test_indices = []\n",
        "for i in range(len(test_df)):\n",
        "  \"\"\"Initialize the  test set \"\"\"\n",
        "    image, label, index = test_df[i]\n",
        "    test_indices.append(index)\n",
        "\n",
        "# Extract the images and labels for the collected test indices\n",
        "test_images = [test_df.__getitem__(index)[0] for index in test_indices]\n",
        "test_label_df = [class_mapping[test_df.__getitem__(index)[1]] for index in test_indices]"
      ]
    },
    {
      "cell_type": "code",
      "execution_count": null,
      "metadata": {
        "id": "Ep0GNsAkmQe5"
      },
      "outputs": [],
      "source": [
        "# This is the initial training set extracted using KMeans++ clustering with ViT (Vision Transformer) feature extraction.\n",
        "train_indices = [1372,\n",
        " 1277,\n",
        " 1255,\n",
        " 1423,\n",
        " 2925,\n",
        " 1963,\n",
        " 2335,\n",
        " 1923,\n",
        " 3791,\n",
        " 1239,\n",
        " 909,\n",
        " 134,\n",
        " 1547,\n",
        " 3931,\n",
        " 2467,\n",
        " 2832,\n",
        " 1789,\n",
        " 3022,\n",
        " 2424,\n",
        " 780,\n",
        " 2412,\n",
        " 3038,\n",
        " 2158,\n",
        " 3335,\n",
        " 1868,\n",
        " 1771,\n",
        " 2015,\n",
        " 1535,\n",
        " 710,\n",
        " 3007]\n",
        "available_pool_set = set(available_pool_indices)\n",
        "train_set = set(train_indices)\n",
        "available_pool_indices = list(available_pool_set - train_set)"
      ]
    },
    {
      "cell_type": "code",
      "execution_count": null,
      "metadata": {
        "id": "Pmcf2jc6h2S9"
      },
      "outputs": [],
      "source": [
        "# train_indices = []\n",
        "iterations = 20\n",
        "budget_per_iter = 60\n",
        "num_epoch = 15\n",
        "selection_criteria = ['custom']\n",
        "accuracy_scores_dict = defaultdict(list)\n",
        "model = base_model"
      ]
    },
    {
      "cell_type": "code",
      "execution_count": null,
      "metadata": {
        "colab": {
          "base_uri": "https://localhost:8080/",
          "height": 339
        },
        "id": "4UGO2jW1h5Ql",
        "outputId": "0993cc7b-2fc2-4a84-a31a-ef45ed5febff"
      },
      "outputs": [
        {
          "name": "stderr",
          "output_type": "stream",
          "text": [
            "/anaconda/envs/py38_default/lib/python3.9/site-packages/huggingface_hub/file_download.py:1142: FutureWarning: `resume_download` is deprecated and will be removed in version 1.0.0. Downloads always resume when possible. If you want to force a new download, use `force_download=True`.\n",
            "  warnings.warn(\n",
            "/anaconda/envs/py38_default/lib/python3.9/site-packages/transformers/models/vit/feature_extraction_vit.py:28: FutureWarning: The class ViTFeatureExtractor is deprecated and will be removed in version 5 of Transformers. Please use ViTImageProcessor instead.\n",
            "  warnings.warn(\n"
          ]
        },
        {
          "name": "stdout",
          "output_type": "stream",
          "text": [
            "--------- Number of Iteration 0 ---------\n",
            "[tensor(1868), tensor(2015), tensor(1255), tensor(1963), tensor(2335), tensor(2925), tensor(1923), tensor(1547), tensor(3022), tensor(909), tensor(3931), tensor(1277), tensor(1771), tensor(710), tensor(1372), tensor(3791), tensor(3007), tensor(1423), tensor(2832), tensor(1535), tensor(780), tensor(2467), tensor(2158), tensor(3038), tensor(134), tensor(2424), tensor(1239), tensor(3335), tensor(2412)]\n"
          ]
        },
        {
          "name": "stderr",
          "output_type": "stream",
          "text": [
            "/tmp/ipykernel_4004/1467103094.py:91: UserWarning: To copy construct from a tensor, it is recommended to use sourceTensor.clone().detach() or sourceTensor.clone().detach().requires_grad_(True), rather than torch.tensor(sourceTensor).\n",
            "  labels = torch.tensor(labels).to(device)\n"
          ]
        },
        {
          "name": "stdout",
          "output_type": "stream",
          "text": [
            "Epoch [1/15], Loss: 2.0695, Accuracy: 0.1111\n"
          ]
        },
        {
          "name": "stderr",
          "output_type": "stream",
          "text": [
            "/tmp/ipykernel_4004/1467103094.py:131: UserWarning: To copy construct from a tensor, it is recommended to use sourceTensor.clone().detach() or sourceTensor.clone().detach().requires_grad_(True), rather than torch.tensor(sourceTensor).\n",
            "  labels = torch.tensor(labels).to(device)\n"
          ]
        },
        {
          "name": "stdout",
          "output_type": "stream",
          "text": [
            "Epoch [2/15], Loss: 2.0317, Accuracy: 0.1333\n",
            "Epoch [3/15], Loss: 1.9597, Accuracy: 0.4333\n",
            "Epoch [4/15], Loss: 1.9084, Accuracy: 0.4111\n",
            "Epoch [5/15], Loss: 1.8495, Accuracy: 0.5222\n",
            "Epoch [6/15], Loss: 1.8091, Accuracy: 0.5889\n",
            "Epoch [7/15], Loss: 1.7261, Accuracy: 0.6667\n",
            "Epoch [8/15], Loss: 1.6977, Accuracy: 0.7333\n",
            "Epoch [9/15], Loss: 1.6499, Accuracy: 0.7111\n",
            "Epoch [10/15], Loss: 1.5900, Accuracy: 0.8111\n",
            "Epoch [11/15], Loss: 1.5547, Accuracy: 0.8111\n",
            "Epoch [12/15], Loss: 1.5307, Accuracy: 0.8444\n",
            "Epoch [13/15], Loss: 1.5050, Accuracy: 0.8889\n",
            "Epoch [14/15], Loss: 1.4689, Accuracy: 0.9111\n",
            "Epoch [15/15], Loss: 1.4649, Accuracy: 0.8667\n",
            "------------------------------------------------------------\n"
          ]
        },
        {
          "name": "stderr",
          "output_type": "stream",
          "text": [
            "/tmp/ipykernel_4004/1467103094.py:159: UserWarning: To copy construct from a tensor, it is recommended to use sourceTensor.clone().detach() or sourceTensor.clone().detach().requires_grad_(True), rather than torch.tensor(sourceTensor).\n",
            "  labels = torch.tensor(labels).to(device)\n"
          ]
        },
        {
          "name": "stdout",
          "output_type": "stream",
          "text": [
            "--------- Number of Iteration 1 ---------\n",
            "[tensor(1923), tensor(2467), tensor(134), tensor(2981), tensor(3953), tensor(714)]\n"
          ]
        },
        {
          "name": "stderr",
          "output_type": "stream",
          "text": [
            "/tmp/ipykernel_4004/1467103094.py:91: UserWarning: To copy construct from a tensor, it is recommended to use sourceTensor.clone().detach() or sourceTensor.clone().detach().requires_grad_(True), rather than torch.tensor(sourceTensor).\n",
            "  labels = torch.tensor(labels).to(device)\n"
          ]
        },
        {
          "name": "stdout",
          "output_type": "stream",
          "text": [
            "Epoch [1/15], Loss: 1.6092, Accuracy: 0.7267\n"
          ]
        },
        {
          "name": "stderr",
          "output_type": "stream",
          "text": [
            "/tmp/ipykernel_4004/1467103094.py:131: UserWarning: To copy construct from a tensor, it is recommended to use sourceTensor.clone().detach() or sourceTensor.clone().detach().requires_grad_(True), rather than torch.tensor(sourceTensor).\n",
            "  labels = torch.tensor(labels).to(device)\n"
          ]
        },
        {
          "name": "stdout",
          "output_type": "stream",
          "text": [
            "Epoch [2/15], Loss: 1.5861, Accuracy: 0.7333\n",
            "Epoch [3/15], Loss: 1.5607, Accuracy: 0.7667\n",
            "Epoch [4/15], Loss: 1.5329, Accuracy: 0.7800\n",
            "Epoch [5/15], Loss: 1.5077, Accuracy: 0.7933\n",
            "Epoch [6/15], Loss: 1.4843, Accuracy: 0.8067\n",
            "Epoch [7/15], Loss: 1.4808, Accuracy: 0.8267\n",
            "Epoch [8/15], Loss: 1.4863, Accuracy: 0.8133\n",
            "Epoch [9/15], Loss: 1.4434, Accuracy: 0.8600\n",
            "Epoch [10/15], Loss: 1.4430, Accuracy: 0.8400\n",
            "Epoch [11/15], Loss: 1.4413, Accuracy: 0.8200\n",
            "Epoch [12/15], Loss: 1.4313, Accuracy: 0.8600\n",
            "Epoch [13/15], Loss: 1.4188, Accuracy: 0.8667\n",
            "Epoch [14/15], Loss: 1.4457, Accuracy: 0.8600\n",
            "Epoch [15/15], Loss: 1.4080, Accuracy: 0.8733\n",
            "------------------------------------------------------------\n"
          ]
        },
        {
          "name": "stderr",
          "output_type": "stream",
          "text": [
            "/tmp/ipykernel_4004/1467103094.py:159: UserWarning: To copy construct from a tensor, it is recommended to use sourceTensor.clone().detach() or sourceTensor.clone().detach().requires_grad_(True), rather than torch.tensor(sourceTensor).\n",
            "  labels = torch.tensor(labels).to(device)\n"
          ]
        },
        {
          "name": "stdout",
          "output_type": "stream",
          "text": [
            "--------- Number of Iteration 2 ---------\n",
            "[tensor(1923), tensor(134), tensor(2981), tensor(714), tensor(900), tensor(3157), tensor(3910), tensor(2798), tensor(1700), tensor(3287), tensor(1207), tensor(3743), tensor(2536), tensor(3778), tensor(2601), tensor(703)]\n"
          ]
        },
        {
          "name": "stderr",
          "output_type": "stream",
          "text": [
            "/tmp/ipykernel_4004/1467103094.py:91: UserWarning: To copy construct from a tensor, it is recommended to use sourceTensor.clone().detach() or sourceTensor.clone().detach().requires_grad_(True), rather than torch.tensor(sourceTensor).\n",
            "  labels = torch.tensor(labels).to(device)\n"
          ]
        },
        {
          "name": "stdout",
          "output_type": "stream",
          "text": [
            "Epoch [1/15], Loss: 1.5909, Accuracy: 0.7333\n"
          ]
        },
        {
          "name": "stderr",
          "output_type": "stream",
          "text": [
            "/tmp/ipykernel_4004/1467103094.py:131: UserWarning: To copy construct from a tensor, it is recommended to use sourceTensor.clone().detach() or sourceTensor.clone().detach().requires_grad_(True), rather than torch.tensor(sourceTensor).\n",
            "  labels = torch.tensor(labels).to(device)\n"
          ]
        },
        {
          "name": "stdout",
          "output_type": "stream",
          "text": [
            "Epoch [2/15], Loss: 1.5842, Accuracy: 0.7429\n",
            "Epoch [3/15], Loss: 1.5528, Accuracy: 0.7667\n",
            "Epoch [4/15], Loss: 1.5517, Accuracy: 0.7714\n",
            "Epoch [5/15], Loss: 1.5404, Accuracy: 0.7905\n",
            "Epoch [6/15], Loss: 1.5437, Accuracy: 0.8095\n",
            "Epoch [7/15], Loss: 1.5255, Accuracy: 0.8048\n",
            "Epoch [8/15], Loss: 1.5358, Accuracy: 0.8238\n",
            "Epoch [9/15], Loss: 1.5210, Accuracy: 0.8476\n",
            "Epoch [10/15], Loss: 1.5403, Accuracy: 0.8190\n",
            "Epoch [11/15], Loss: 1.5161, Accuracy: 0.8381\n",
            "Epoch [12/15], Loss: 1.5222, Accuracy: 0.8571\n",
            "Epoch [13/15], Loss: 1.5058, Accuracy: 0.8476\n",
            "Epoch [14/15], Loss: 1.5180, Accuracy: 0.8143\n",
            "Epoch [15/15], Loss: 1.4969, Accuracy: 0.8619\n",
            "------------------------------------------------------------\n"
          ]
        },
        {
          "name": "stderr",
          "output_type": "stream",
          "text": [
            "/tmp/ipykernel_4004/1467103094.py:159: UserWarning: To copy construct from a tensor, it is recommended to use sourceTensor.clone().detach() or sourceTensor.clone().detach().requires_grad_(True), rather than torch.tensor(sourceTensor).\n",
            "  labels = torch.tensor(labels).to(device)\n"
          ]
        },
        {
          "name": "stdout",
          "output_type": "stream",
          "text": [
            "--------- Number of Iteration 3 ---------\n",
            "[tensor(1923), tensor(134), tensor(2981), tensor(714), tensor(900), tensor(3157), tensor(3910), tensor(2798), tensor(1700), tensor(3287), tensor(1207), tensor(3743), tensor(2536), tensor(2601), tensor(703), tensor(993), tensor(2174), tensor(3142), tensor(2717), tensor(3169), tensor(2437), tensor(582), tensor(931), tensor(1491), tensor(57), tensor(193), tensor(2128), tensor(501), tensor(1770), tensor(2450), tensor(4501), tensor(2438), tensor(3271), tensor(346), tensor(72), tensor(1339), tensor(3005), tensor(1486), tensor(913), tensor(3182), tensor(475), tensor(1405), tensor(1303), tensor(3151), tensor(3358), tensor(234), tensor(2265)]\n"
          ]
        },
        {
          "name": "stderr",
          "output_type": "stream",
          "text": [
            "/tmp/ipykernel_4004/1467103094.py:91: UserWarning: To copy construct from a tensor, it is recommended to use sourceTensor.clone().detach() or sourceTensor.clone().detach().requires_grad_(True), rather than torch.tensor(sourceTensor).\n",
            "  labels = torch.tensor(labels).to(device)\n"
          ]
        },
        {
          "name": "stdout",
          "output_type": "stream",
          "text": [
            "Epoch [1/15], Loss: 1.6683, Accuracy: 0.7296\n"
          ]
        },
        {
          "name": "stderr",
          "output_type": "stream",
          "text": [
            "/tmp/ipykernel_4004/1467103094.py:131: UserWarning: To copy construct from a tensor, it is recommended to use sourceTensor.clone().detach() or sourceTensor.clone().detach().requires_grad_(True), rather than torch.tensor(sourceTensor).\n",
            "  labels = torch.tensor(labels).to(device)\n"
          ]
        },
        {
          "name": "stdout",
          "output_type": "stream",
          "text": [
            "Epoch [2/15], Loss: 1.6929, Accuracy: 0.6370\n",
            "Epoch [3/15], Loss: 1.6205, Accuracy: 0.7481\n",
            "Epoch [4/15], Loss: 1.6175, Accuracy: 0.7778\n",
            "Epoch [5/15], Loss: 1.6149, Accuracy: 0.7667\n",
            "Epoch [6/15], Loss: 1.5846, Accuracy: 0.8037\n",
            "Epoch [7/15], Loss: 1.5896, Accuracy: 0.7556\n",
            "Epoch [8/15], Loss: 1.5871, Accuracy: 0.7926\n",
            "Epoch [9/15], Loss: 1.5643, Accuracy: 0.7852\n",
            "Epoch [10/15], Loss: 1.5421, Accuracy: 0.8222\n",
            "Epoch [11/15], Loss: 1.5506, Accuracy: 0.8185\n",
            "Epoch [12/15], Loss: 1.5407, Accuracy: 0.8148\n",
            "Epoch [13/15], Loss: 1.5441, Accuracy: 0.8185\n",
            "Epoch [14/15], Loss: 1.5249, Accuracy: 0.8370\n",
            "Epoch [15/15], Loss: 1.5415, Accuracy: 0.8407\n",
            "------------------------------------------------------------\n"
          ]
        },
        {
          "name": "stderr",
          "output_type": "stream",
          "text": [
            "/tmp/ipykernel_4004/1467103094.py:159: UserWarning: To copy construct from a tensor, it is recommended to use sourceTensor.clone().detach() or sourceTensor.clone().detach().requires_grad_(True), rather than torch.tensor(sourceTensor).\n",
            "  labels = torch.tensor(labels).to(device)\n"
          ]
        },
        {
          "name": "stdout",
          "output_type": "stream",
          "text": [
            "--------- Number of Iteration 4 ---------\n",
            "[tensor(134), tensor(714), tensor(900), tensor(3157), tensor(2798), tensor(1700), tensor(1207), tensor(3743), tensor(2536), tensor(2601), tensor(703), tensor(3169), tensor(931), tensor(1491), tensor(193), tensor(2450), tensor(4501), tensor(3271), tensor(1339), tensor(1405), tensor(3358), tensor(2265), tensor(3847), tensor(2305), tensor(2770), tensor(495), tensor(488), tensor(4355), tensor(1282), tensor(3188), tensor(288), tensor(2892), tensor(2013), tensor(3036), tensor(330), tensor(3690), tensor(2913), tensor(539)]\n"
          ]
        },
        {
          "name": "stderr",
          "output_type": "stream",
          "text": [
            "/tmp/ipykernel_4004/1467103094.py:91: UserWarning: To copy construct from a tensor, it is recommended to use sourceTensor.clone().detach() or sourceTensor.clone().detach().requires_grad_(True), rather than torch.tensor(sourceTensor).\n",
            "  labels = torch.tensor(labels).to(device)\n"
          ]
        },
        {
          "name": "stdout",
          "output_type": "stream",
          "text": [
            "Epoch [1/15], Loss: 1.5556, Accuracy: 0.7970\n"
          ]
        },
        {
          "name": "stderr",
          "output_type": "stream",
          "text": [
            "/tmp/ipykernel_4004/1467103094.py:131: UserWarning: To copy construct from a tensor, it is recommended to use sourceTensor.clone().detach() or sourceTensor.clone().detach().requires_grad_(True), rather than torch.tensor(sourceTensor).\n",
            "  labels = torch.tensor(labels).to(device)\n"
          ]
        },
        {
          "name": "stdout",
          "output_type": "stream",
          "text": [
            "Epoch [2/15], Loss: 1.5535, Accuracy: 0.7939\n",
            "Epoch [3/15], Loss: 1.5577, Accuracy: 0.7970\n",
            "Epoch [4/15], Loss: 1.5607, Accuracy: 0.8061\n",
            "Epoch [5/15], Loss: 1.5523, Accuracy: 0.8121\n",
            "Epoch [6/15], Loss: 1.5560, Accuracy: 0.7788\n",
            "Epoch [7/15], Loss: 1.5593, Accuracy: 0.8091\n",
            "Epoch [8/15], Loss: 1.5397, Accuracy: 0.8091\n",
            "Epoch [9/15], Loss: 1.5558, Accuracy: 0.8152\n",
            "Epoch [10/15], Loss: 1.5286, Accuracy: 0.8182\n",
            "Epoch [11/15], Loss: 1.5354, Accuracy: 0.8364\n",
            "Epoch [12/15], Loss: 1.5172, Accuracy: 0.8394\n",
            "Epoch [13/15], Loss: 1.4974, Accuracy: 0.8545\n",
            "Epoch [14/15], Loss: 1.5219, Accuracy: 0.8576\n",
            "Epoch [15/15], Loss: 1.5589, Accuracy: 0.7788\n",
            "------------------------------------------------------------\n"
          ]
        },
        {
          "name": "stderr",
          "output_type": "stream",
          "text": [
            "/tmp/ipykernel_4004/1467103094.py:159: UserWarning: To copy construct from a tensor, it is recommended to use sourceTensor.clone().detach() or sourceTensor.clone().detach().requires_grad_(True), rather than torch.tensor(sourceTensor).\n",
            "  labels = torch.tensor(labels).to(device)\n"
          ]
        },
        {
          "name": "stdout",
          "output_type": "stream",
          "text": [
            "--------- Number of Iteration 5 ---------\n",
            "[tensor(1923), tensor(134), tensor(714), tensor(3157), tensor(2798), tensor(1700), tensor(1207), tensor(2536), tensor(703), tensor(931), tensor(1491), tensor(2450), tensor(4501), tensor(3271), tensor(1339), tensor(1405), tensor(3358), tensor(2265), tensor(3847), tensor(2305), tensor(2770), tensor(488), tensor(4355), tensor(1282), tensor(2013), tensor(3036), tensor(330), tensor(3690), tensor(2913), tensor(539), tensor(3426), tensor(3775), tensor(528), tensor(2813), tensor(52), tensor(1390), tensor(4178), tensor(3086), tensor(2689), tensor(2163), tensor(631), tensor(4231), tensor(51), tensor(291), tensor(889), tensor(685), tensor(2632), tensor(823), tensor(289), tensor(1601)]\n"
          ]
        },
        {
          "name": "stderr",
          "output_type": "stream",
          "text": [
            "/tmp/ipykernel_4004/1467103094.py:91: UserWarning: To copy construct from a tensor, it is recommended to use sourceTensor.clone().detach() or sourceTensor.clone().detach().requires_grad_(True), rather than torch.tensor(sourceTensor).\n",
            "  labels = torch.tensor(labels).to(device)\n"
          ]
        },
        {
          "name": "stdout",
          "output_type": "stream",
          "text": [
            "Epoch [1/15], Loss: 1.6057, Accuracy: 0.7436\n"
          ]
        },
        {
          "name": "stderr",
          "output_type": "stream",
          "text": [
            "/tmp/ipykernel_4004/1467103094.py:131: UserWarning: To copy construct from a tensor, it is recommended to use sourceTensor.clone().detach() or sourceTensor.clone().detach().requires_grad_(True), rather than torch.tensor(sourceTensor).\n",
            "  labels = torch.tensor(labels).to(device)\n"
          ]
        },
        {
          "name": "stdout",
          "output_type": "stream",
          "text": [
            "Epoch [2/15], Loss: 1.5993, Accuracy: 0.7615\n",
            "Epoch [3/15], Loss: 1.5944, Accuracy: 0.7513\n",
            "Epoch [4/15], Loss: 1.5830, Accuracy: 0.7897\n",
            "Epoch [5/15], Loss: 1.5455, Accuracy: 0.7821\n",
            "Epoch [6/15], Loss: 1.5649, Accuracy: 0.7846\n",
            "Epoch [7/15], Loss: 1.5783, Accuracy: 0.7795\n",
            "Epoch [8/15], Loss: 1.5385, Accuracy: 0.8256\n",
            "Epoch [9/15], Loss: 1.5732, Accuracy: 0.8205\n",
            "Epoch [10/15], Loss: 1.5592, Accuracy: 0.8179\n",
            "Epoch [11/15], Loss: 1.5625, Accuracy: 0.8256\n",
            "Epoch [12/15], Loss: 1.5182, Accuracy: 0.8154\n",
            "Epoch [13/15], Loss: 1.5276, Accuracy: 0.8410\n",
            "Epoch [14/15], Loss: 1.5518, Accuracy: 0.8231\n",
            "Epoch [15/15], Loss: 1.5407, Accuracy: 0.8231\n",
            "------------------------------------------------------------\n"
          ]
        },
        {
          "name": "stderr",
          "output_type": "stream",
          "text": [
            "/tmp/ipykernel_4004/1467103094.py:159: UserWarning: To copy construct from a tensor, it is recommended to use sourceTensor.clone().detach() or sourceTensor.clone().detach().requires_grad_(True), rather than torch.tensor(sourceTensor).\n",
            "  labels = torch.tensor(labels).to(device)\n"
          ]
        },
        {
          "name": "stdout",
          "output_type": "stream",
          "text": [
            "--------- Number of Iteration 6 ---------\n",
            "[tensor(1923), tensor(134), tensor(714), tensor(3157), tensor(2798), tensor(1700), tensor(1207), tensor(2536), tensor(703), tensor(931), tensor(1491), tensor(2450), tensor(4501), tensor(3271), tensor(1339), tensor(3358), tensor(2265), tensor(3847), tensor(2305), tensor(2770), tensor(495), tensor(488), tensor(3188), tensor(288), tensor(2013), tensor(3036), tensor(330), tensor(3690), tensor(2913), tensor(539), tensor(3426), tensor(3775), tensor(2813), tensor(52), tensor(4178), tensor(3086), tensor(2689), tensor(2163), tensor(631), tensor(358), tensor(291), tensor(889), tensor(685), tensor(2632), tensor(823), tensor(289), tensor(1601), tensor(236), tensor(2269), tensor(3407), tensor(338), tensor(3383), tensor(681), tensor(1842), tensor(1186), tensor(905), tensor(3558), tensor(2970), tensor(3425), tensor(2753), tensor(1871), tensor(2830), tensor(1658), tensor(1748), tensor(424), tensor(1522), tensor(3208), tensor(224)]\n"
          ]
        },
        {
          "name": "stderr",
          "output_type": "stream",
          "text": [
            "/tmp/ipykernel_4004/1467103094.py:91: UserWarning: To copy construct from a tensor, it is recommended to use sourceTensor.clone().detach() or sourceTensor.clone().detach().requires_grad_(True), rather than torch.tensor(sourceTensor).\n",
            "  labels = torch.tensor(labels).to(device)\n"
          ]
        },
        {
          "name": "stdout",
          "output_type": "stream",
          "text": [
            "Epoch [1/15], Loss: 1.6156, Accuracy: 0.7467\n"
          ]
        },
        {
          "name": "stderr",
          "output_type": "stream",
          "text": [
            "/tmp/ipykernel_4004/1467103094.py:131: UserWarning: To copy construct from a tensor, it is recommended to use sourceTensor.clone().detach() or sourceTensor.clone().detach().requires_grad_(True), rather than torch.tensor(sourceTensor).\n",
            "  labels = torch.tensor(labels).to(device)\n"
          ]
        },
        {
          "name": "stdout",
          "output_type": "stream",
          "text": [
            "Epoch [2/15], Loss: 1.7015, Accuracy: 0.6556\n",
            "Epoch [3/15], Loss: 1.6497, Accuracy: 0.6711\n",
            "Epoch [4/15], Loss: 1.6641, Accuracy: 0.7067\n",
            "Epoch [5/15], Loss: 1.6397, Accuracy: 0.7178\n",
            "Epoch [6/15], Loss: 1.6638, Accuracy: 0.6711\n",
            "Epoch [7/15], Loss: 1.6326, Accuracy: 0.7178\n",
            "Epoch [8/15], Loss: 1.6548, Accuracy: 0.6311\n",
            "Epoch [9/15], Loss: 1.7055, Accuracy: 0.5867\n",
            "Epoch [10/15], Loss: 1.5987, Accuracy: 0.7644\n",
            "Epoch [11/15], Loss: 1.5962, Accuracy: 0.7044\n",
            "Epoch [12/15], Loss: 1.6989, Accuracy: 0.6378\n",
            "Epoch [13/15], Loss: 1.6999, Accuracy: 0.5911\n",
            "Epoch [14/15], Loss: 1.5614, Accuracy: 0.7622\n",
            "Epoch [15/15], Loss: 1.6094, Accuracy: 0.6756\n",
            "------------------------------------------------------------\n"
          ]
        },
        {
          "name": "stderr",
          "output_type": "stream",
          "text": [
            "/tmp/ipykernel_4004/1467103094.py:159: UserWarning: To copy construct from a tensor, it is recommended to use sourceTensor.clone().detach() or sourceTensor.clone().detach().requires_grad_(True), rather than torch.tensor(sourceTensor).\n",
            "  labels = torch.tensor(labels).to(device)\n"
          ]
        },
        {
          "name": "stdout",
          "output_type": "stream",
          "text": [
            "--------- Number of Iteration 7 ---------\n",
            "[tensor(1923), tensor(134), tensor(2981), tensor(714), tensor(3157), tensor(2798), tensor(1700), tensor(1207), tensor(3743), tensor(2536), tensor(2601), tensor(703), tensor(993), tensor(931), tensor(1491), tensor(193), tensor(4501), tensor(3271), tensor(1339), tensor(3182), tensor(3151), tensor(3358), tensor(2265), tensor(3847), tensor(2305), tensor(2770), tensor(488), tensor(1282), tensor(3188), tensor(288), tensor(2013), tensor(3036), tensor(2911), tensor(330), tensor(3690), tensor(2913), tensor(539), tensor(3426), tensor(3775), tensor(2813), tensor(52), tensor(3086), tensor(2689), tensor(2163), tensor(2484), tensor(631), tensor(291), tensor(889), tensor(685), tensor(2632), tensor(823), tensor(289), tensor(1601), tensor(236), tensor(2269), tensor(3407), tensor(338), tensor(3383), tensor(681), tensor(2051), tensor(1842), tensor(1186), tensor(511), tensor(905), tensor(1883), tensor(3558), tensor(2970), tensor(3425), tensor(2753), tensor(1871), tensor(2019), tensor(1748), tensor(424), tensor(1522), tensor(224), tensor(1583), tensor(2106), tensor(3292), tensor(4448), tensor(4032), tensor(3579), tensor(181), tensor(2099), tensor(3506), tensor(4121), tensor(603), tensor(1767), tensor(3509), tensor(683), tensor(3956), tensor(2080), tensor(3207), tensor(370), tensor(2867), tensor(2136), tensor(3291)]\n"
          ]
        },
        {
          "name": "stderr",
          "output_type": "stream",
          "text": [
            "/tmp/ipykernel_4004/1467103094.py:91: UserWarning: To copy construct from a tensor, it is recommended to use sourceTensor.clone().detach() or sourceTensor.clone().detach().requires_grad_(True), rather than torch.tensor(sourceTensor).\n",
            "  labels = torch.tensor(labels).to(device)\n"
          ]
        },
        {
          "name": "stdout",
          "output_type": "stream",
          "text": [
            "Epoch [1/15], Loss: 1.5903, Accuracy: 0.7412\n"
          ]
        },
        {
          "name": "stderr",
          "output_type": "stream",
          "text": [
            "/tmp/ipykernel_4004/1467103094.py:131: UserWarning: To copy construct from a tensor, it is recommended to use sourceTensor.clone().detach() or sourceTensor.clone().detach().requires_grad_(True), rather than torch.tensor(sourceTensor).\n",
            "  labels = torch.tensor(labels).to(device)\n"
          ]
        },
        {
          "name": "stdout",
          "output_type": "stream",
          "text": [
            "Epoch [2/15], Loss: 1.5762, Accuracy: 0.7588\n",
            "Epoch [3/15], Loss: 1.5791, Accuracy: 0.7510\n",
            "Epoch [4/15], Loss: 1.5584, Accuracy: 0.7549\n",
            "Epoch [5/15], Loss: 1.5506, Accuracy: 0.7863\n",
            "Epoch [6/15], Loss: 1.5409, Accuracy: 0.7725\n",
            "Epoch [7/15], Loss: 1.5447, Accuracy: 0.7843\n",
            "Epoch [8/15], Loss: 1.5347, Accuracy: 0.8000\n",
            "Epoch [9/15], Loss: 1.5358, Accuracy: 0.8059\n",
            "Epoch [10/15], Loss: 1.5145, Accuracy: 0.8137\n",
            "Epoch [11/15], Loss: 1.5237, Accuracy: 0.8118\n",
            "Epoch [12/15], Loss: 1.5112, Accuracy: 0.8078\n",
            "Epoch [13/15], Loss: 1.5079, Accuracy: 0.8098\n",
            "Epoch [14/15], Loss: 1.5094, Accuracy: 0.8314\n",
            "Epoch [15/15], Loss: 1.5135, Accuracy: 0.8196\n",
            "------------------------------------------------------------\n"
          ]
        },
        {
          "name": "stderr",
          "output_type": "stream",
          "text": [
            "/tmp/ipykernel_4004/1467103094.py:159: UserWarning: To copy construct from a tensor, it is recommended to use sourceTensor.clone().detach() or sourceTensor.clone().detach().requires_grad_(True), rather than torch.tensor(sourceTensor).\n",
            "  labels = torch.tensor(labels).to(device)\n"
          ]
        },
        {
          "name": "stdout",
          "output_type": "stream",
          "text": [
            "--------- Number of Iteration 8 ---------\n",
            "[tensor(1923), tensor(134), tensor(714), tensor(3157), tensor(2798), tensor(1700), tensor(1207), tensor(2536), tensor(703), tensor(993), tensor(931), tensor(1491), tensor(193), tensor(4501), tensor(3271), tensor(1339), tensor(3358), tensor(2265), tensor(3847), tensor(2305), tensor(488), tensor(3188), tensor(288), tensor(2013), tensor(2911), tensor(3690), tensor(539), tensor(3775), tensor(2813), tensor(52), tensor(3086), tensor(2689), tensor(2163), tensor(631), tensor(291), tensor(685), tensor(2632), tensor(823), tensor(289), tensor(1601), tensor(236), tensor(2269), tensor(3407), tensor(3383), tensor(1186), tensor(2970), tensor(3425), tensor(2753), tensor(1871), tensor(1748), tensor(424), tensor(1522), tensor(224), tensor(1583), tensor(3579), tensor(181), tensor(2099), tensor(3506), tensor(603), tensor(1767), tensor(3509), tensor(683), tensor(3956), tensor(2080), tensor(370), tensor(2136), tensor(4364), tensor(1704), tensor(313), tensor(2279), tensor(533), tensor(3650), tensor(2176), tensor(119), tensor(2085), tensor(3586), tensor(3453), tensor(54), tensor(2515), tensor(1725), tensor(3084), tensor(1081), tensor(700), tensor(2047), tensor(587), tensor(3540), tensor(253)]\n"
          ]
        },
        {
          "name": "stderr",
          "output_type": "stream",
          "text": [
            "/tmp/ipykernel_4004/1467103094.py:91: UserWarning: To copy construct from a tensor, it is recommended to use sourceTensor.clone().detach() or sourceTensor.clone().detach().requires_grad_(True), rather than torch.tensor(sourceTensor).\n",
            "  labels = torch.tensor(labels).to(device)\n"
          ]
        },
        {
          "name": "stdout",
          "output_type": "stream",
          "text": [
            "Epoch [1/15], Loss: 1.5626, Accuracy: 0.7649\n"
          ]
        },
        {
          "name": "stderr",
          "output_type": "stream",
          "text": [
            "/tmp/ipykernel_4004/1467103094.py:131: UserWarning: To copy construct from a tensor, it is recommended to use sourceTensor.clone().detach() or sourceTensor.clone().detach().requires_grad_(True), rather than torch.tensor(sourceTensor).\n",
            "  labels = torch.tensor(labels).to(device)\n"
          ]
        },
        {
          "name": "stdout",
          "output_type": "stream",
          "text": [
            "Epoch [2/15], Loss: 1.5282, Accuracy: 0.8018\n",
            "Epoch [3/15], Loss: 1.5268, Accuracy: 0.7860\n",
            "Epoch [4/15], Loss: 1.5412, Accuracy: 0.7807\n",
            "Epoch [5/15], Loss: 1.5321, Accuracy: 0.7895\n",
            "Epoch [6/15], Loss: 1.5317, Accuracy: 0.8053\n",
            "Epoch [7/15], Loss: 1.5278, Accuracy: 0.8140\n",
            "Epoch [8/15], Loss: 1.4979, Accuracy: 0.8263\n",
            "Epoch [9/15], Loss: 1.5108, Accuracy: 0.8333\n",
            "Epoch [10/15], Loss: 1.5122, Accuracy: 0.8158\n",
            "Epoch [11/15], Loss: 1.5027, Accuracy: 0.8333\n",
            "Epoch [12/15], Loss: 1.5087, Accuracy: 0.8351\n",
            "Epoch [13/15], Loss: 1.5060, Accuracy: 0.8333\n",
            "Epoch [14/15], Loss: 1.4974, Accuracy: 0.8474\n",
            "Epoch [15/15], Loss: 1.5015, Accuracy: 0.8316\n",
            "------------------------------------------------------------\n"
          ]
        },
        {
          "name": "stderr",
          "output_type": "stream",
          "text": [
            "/tmp/ipykernel_4004/1467103094.py:159: UserWarning: To copy construct from a tensor, it is recommended to use sourceTensor.clone().detach() or sourceTensor.clone().detach().requires_grad_(True), rather than torch.tensor(sourceTensor).\n",
            "  labels = torch.tensor(labels).to(device)\n"
          ]
        },
        {
          "name": "stdout",
          "output_type": "stream",
          "text": [
            "--------- Number of Iteration 9 ---------\n",
            "[tensor(1923), tensor(134), tensor(2981), tensor(714), tensor(3157), tensor(2798), tensor(1700), tensor(1207), tensor(2536), tensor(703), tensor(931), tensor(1491), tensor(4501), tensor(3271), tensor(1339), tensor(3358), tensor(2265), tensor(3847), tensor(2305), tensor(488), tensor(2013), tensor(2911), tensor(539), tensor(3775), tensor(2813), tensor(52), tensor(3086), tensor(2689), tensor(2163), tensor(631), tensor(291), tensor(2632), tensor(1601), tensor(1186), tensor(2970), tensor(3425), tensor(2753), tensor(1748), tensor(424), tensor(1522), tensor(224), tensor(1583), tensor(181), tensor(2099), tensor(603), tensor(3747), tensor(1767), tensor(683), tensor(2080), tensor(370), tensor(2136), tensor(4364), tensor(313), tensor(2279), tensor(3650), tensor(2176), tensor(3453), tensor(54), tensor(1725), tensor(1081), tensor(700), tensor(587), tensor(3540), tensor(2763), tensor(253), tensor(395), tensor(2039), tensor(147), tensor(1938), tensor(1252), tensor(655), tensor(4385), tensor(3598), tensor(4014), tensor(2873), tensor(1065), tensor(4086), tensor(1204), tensor(706)]\n"
          ]
        },
        {
          "name": "stderr",
          "output_type": "stream",
          "text": [
            "/tmp/ipykernel_4004/1467103094.py:91: UserWarning: To copy construct from a tensor, it is recommended to use sourceTensor.clone().detach() or sourceTensor.clone().detach().requires_grad_(True), rather than torch.tensor(sourceTensor).\n",
            "  labels = torch.tensor(labels).to(device)\n"
          ]
        },
        {
          "name": "stdout",
          "output_type": "stream",
          "text": [
            "Epoch [1/15], Loss: 1.5350, Accuracy: 0.7952\n"
          ]
        },
        {
          "name": "stderr",
          "output_type": "stream",
          "text": [
            "/tmp/ipykernel_4004/1467103094.py:131: UserWarning: To copy construct from a tensor, it is recommended to use sourceTensor.clone().detach() or sourceTensor.clone().detach().requires_grad_(True), rather than torch.tensor(sourceTensor).\n",
            "  labels = torch.tensor(labels).to(device)\n"
          ]
        },
        {
          "name": "stdout",
          "output_type": "stream",
          "text": [
            "Epoch [2/15], Loss: 1.5157, Accuracy: 0.8079\n",
            "Epoch [3/15], Loss: 1.5230, Accuracy: 0.7921\n",
            "Epoch [4/15], Loss: 1.5107, Accuracy: 0.8127\n",
            "Epoch [5/15], Loss: 1.5040, Accuracy: 0.8048\n",
            "Epoch [6/15], Loss: 1.5034, Accuracy: 0.8270\n",
            "Epoch [7/15], Loss: 1.5133, Accuracy: 0.8111\n",
            "Epoch [8/15], Loss: 1.5228, Accuracy: 0.8000\n",
            "Epoch [9/15], Loss: 1.4950, Accuracy: 0.8333\n",
            "Epoch [10/15], Loss: 1.4989, Accuracy: 0.8333\n",
            "Epoch [11/15], Loss: 1.4955, Accuracy: 0.8302\n",
            "Epoch [12/15], Loss: 1.4941, Accuracy: 0.8365\n",
            "Epoch [13/15], Loss: 1.4940, Accuracy: 0.8444\n",
            "Epoch [14/15], Loss: 1.5136, Accuracy: 0.8238\n",
            "Epoch [15/15], Loss: 1.4980, Accuracy: 0.8429\n",
            "------------------------------------------------------------\n"
          ]
        },
        {
          "name": "stderr",
          "output_type": "stream",
          "text": [
            "/tmp/ipykernel_4004/1467103094.py:159: UserWarning: To copy construct from a tensor, it is recommended to use sourceTensor.clone().detach() or sourceTensor.clone().detach().requires_grad_(True), rather than torch.tensor(sourceTensor).\n",
            "  labels = torch.tensor(labels).to(device)\n"
          ]
        },
        {
          "name": "stdout",
          "output_type": "stream",
          "text": [
            "--------- Number of Iteration 10 ---------\n",
            "[tensor(1923), tensor(134), tensor(2492), tensor(714), tensor(3157), tensor(2798), tensor(1700), tensor(1207), tensor(2536), tensor(703), tensor(993), tensor(931), tensor(1491), tensor(4501), tensor(3271), tensor(1339), tensor(3358), tensor(2265), tensor(3847), tensor(2305), tensor(488), tensor(2013), tensor(2911), tensor(539), tensor(2813), tensor(52), tensor(3086), tensor(2689), tensor(2163), tensor(631), tensor(291), tensor(2632), tensor(823), tensor(1601), tensor(1186), tensor(2970), tensor(3425), tensor(2753), tensor(1748), tensor(424), tensor(1522), tensor(224), tensor(1583), tensor(181), tensor(2099), tensor(603), tensor(3747), tensor(1767), tensor(683), tensor(2080), tensor(3207), tensor(370), tensor(2136), tensor(4364), tensor(313), tensor(2279), tensor(3650), tensor(2176), tensor(3453), tensor(1725), tensor(1081), tensor(587), tensor(253), tensor(1938), tensor(1252), tensor(655), tensor(4014), tensor(1065), tensor(4086), tensor(2519), tensor(706), tensor(3115), tensor(2914), tensor(2922), tensor(2794), tensor(3436), tensor(516), tensor(1215), tensor(2946), tensor(3533), tensor(128), tensor(4083), tensor(2777), tensor(2121), tensor(251), tensor(366), tensor(2616), tensor(3199)]\n"
          ]
        },
        {
          "name": "stderr",
          "output_type": "stream",
          "text": [
            "/tmp/ipykernel_4004/1467103094.py:91: UserWarning: To copy construct from a tensor, it is recommended to use sourceTensor.clone().detach() or sourceTensor.clone().detach().requires_grad_(True), rather than torch.tensor(sourceTensor).\n",
            "  labels = torch.tensor(labels).to(device)\n"
          ]
        },
        {
          "name": "stdout",
          "output_type": "stream",
          "text": [
            "Epoch [1/15], Loss: 1.5298, Accuracy: 0.8000\n"
          ]
        },
        {
          "name": "stderr",
          "output_type": "stream",
          "text": [
            "/tmp/ipykernel_4004/1467103094.py:131: UserWarning: To copy construct from a tensor, it is recommended to use sourceTensor.clone().detach() or sourceTensor.clone().detach().requires_grad_(True), rather than torch.tensor(sourceTensor).\n",
            "  labels = torch.tensor(labels).to(device)\n"
          ]
        },
        {
          "name": "stdout",
          "output_type": "stream",
          "text": [
            "Epoch [2/15], Loss: 1.5261, Accuracy: 0.7986\n",
            "Epoch [3/15], Loss: 1.5308, Accuracy: 0.8058\n",
            "Epoch [4/15], Loss: 1.5266, Accuracy: 0.8159\n",
            "Epoch [5/15], Loss: 1.5204, Accuracy: 0.7971\n",
            "Epoch [6/15], Loss: 1.5115, Accuracy: 0.8159\n",
            "Epoch [7/15], Loss: 1.5171, Accuracy: 0.8130\n",
            "Epoch [8/15], Loss: 1.5466, Accuracy: 0.7754\n",
            "Epoch [9/15], Loss: 1.5130, Accuracy: 0.8159\n",
            "Epoch [10/15], Loss: 1.5158, Accuracy: 0.8101\n",
            "Epoch [11/15], Loss: 1.5186, Accuracy: 0.8072\n",
            "Epoch [12/15], Loss: 1.4970, Accuracy: 0.8478\n",
            "Epoch [13/15], Loss: 1.5034, Accuracy: 0.8275\n",
            "Epoch [14/15], Loss: 1.4996, Accuracy: 0.8333\n",
            "Epoch [15/15], Loss: 1.5118, Accuracy: 0.8101\n",
            "------------------------------------------------------------\n"
          ]
        },
        {
          "name": "stderr",
          "output_type": "stream",
          "text": [
            "/tmp/ipykernel_4004/1467103094.py:159: UserWarning: To copy construct from a tensor, it is recommended to use sourceTensor.clone().detach() or sourceTensor.clone().detach().requires_grad_(True), rather than torch.tensor(sourceTensor).\n",
            "  labels = torch.tensor(labels).to(device)\n"
          ]
        },
        {
          "name": "stdout",
          "output_type": "stream",
          "text": [
            "--------- Number of Iteration 11 ---------\n",
            "[tensor(1923), tensor(134), tensor(714), tensor(3157), tensor(2798), tensor(1700), tensor(1207), tensor(2536), tensor(703), tensor(993), tensor(931), tensor(1491), tensor(4501), tensor(3271), tensor(1339), tensor(3358), tensor(2265), tensor(3847), tensor(2305), tensor(488), tensor(2013), tensor(539), tensor(2813), tensor(52), tensor(3086), tensor(2689), tensor(2163), tensor(631), tensor(291), tensor(2632), tensor(823), tensor(1601), tensor(1186), tensor(2970), tensor(3425), tensor(2753), tensor(1748), tensor(424), tensor(1522), tensor(224), tensor(1583), tensor(181), tensor(2099), tensor(603), tensor(3747), tensor(1767), tensor(683), tensor(2080), tensor(370), tensor(2136), tensor(4364), tensor(313), tensor(2279), tensor(3650), tensor(2176), tensor(3453), tensor(1725), tensor(1081), tensor(700), tensor(587), tensor(253), tensor(1938), tensor(1252), tensor(655), tensor(4385), tensor(4014), tensor(1065), tensor(4086), tensor(1204), tensor(2519), tensor(706), tensor(3115), tensor(2914), tensor(2922), tensor(2794), tensor(1795), tensor(3436), tensor(516), tensor(1215), tensor(2946), tensor(3533), tensor(128), tensor(4083), tensor(2777), tensor(2121), tensor(366), tensor(2616), tensor(3199), tensor(2478), tensor(3027), tensor(2466), tensor(2248), tensor(1640), tensor(1285), tensor(3721), tensor(4274), tensor(2003), tensor(2277), tensor(367), tensor(1136), tensor(3758), tensor(986), tensor(3068), tensor(3244), tensor(4276), tensor(3588), tensor(35), tensor(927), tensor(1320), tensor(2425), tensor(552), tensor(3501), tensor(556), tensor(1558), tensor(2969), tensor(997), tensor(2535), tensor(265), tensor(910)]\n"
          ]
        },
        {
          "name": "stderr",
          "output_type": "stream",
          "text": [
            "/tmp/ipykernel_4004/1467103094.py:91: UserWarning: To copy construct from a tensor, it is recommended to use sourceTensor.clone().detach() or sourceTensor.clone().detach().requires_grad_(True), rather than torch.tensor(sourceTensor).\n",
            "  labels = torch.tensor(labels).to(device)\n"
          ]
        },
        {
          "name": "stdout",
          "output_type": "stream",
          "text": [
            "Epoch [1/15], Loss: 1.5671, Accuracy: 0.7653\n"
          ]
        },
        {
          "name": "stderr",
          "output_type": "stream",
          "text": [
            "/tmp/ipykernel_4004/1467103094.py:131: UserWarning: To copy construct from a tensor, it is recommended to use sourceTensor.clone().detach() or sourceTensor.clone().detach().requires_grad_(True), rather than torch.tensor(sourceTensor).\n",
            "  labels = torch.tensor(labels).to(device)\n"
          ]
        },
        {
          "name": "stdout",
          "output_type": "stream",
          "text": [
            "Epoch [2/15], Loss: 1.5455, Accuracy: 0.7813\n",
            "Epoch [3/15], Loss: 1.5873, Accuracy: 0.7080\n",
            "Epoch [4/15], Loss: 1.5576, Accuracy: 0.7733\n",
            "Epoch [5/15], Loss: 1.5659, Accuracy: 0.7520\n",
            "Epoch [6/15], Loss: 1.5346, Accuracy: 0.7787\n",
            "Epoch [7/15], Loss: 1.5240, Accuracy: 0.7933\n",
            "Epoch [8/15], Loss: 1.5208, Accuracy: 0.8053\n",
            "Epoch [9/15], Loss: 1.5433, Accuracy: 0.7840\n",
            "Epoch [10/15], Loss: 1.5615, Accuracy: 0.7573\n",
            "Epoch [11/15], Loss: 1.5320, Accuracy: 0.7733\n",
            "Epoch [12/15], Loss: 1.5114, Accuracy: 0.8213\n",
            "Epoch [13/15], Loss: 1.5084, Accuracy: 0.8120\n",
            "Epoch [14/15], Loss: 1.5011, Accuracy: 0.8253\n",
            "Epoch [15/15], Loss: 1.5153, Accuracy: 0.8173\n",
            "------------------------------------------------------------\n"
          ]
        },
        {
          "name": "stderr",
          "output_type": "stream",
          "text": [
            "/tmp/ipykernel_4004/1467103094.py:159: UserWarning: To copy construct from a tensor, it is recommended to use sourceTensor.clone().detach() or sourceTensor.clone().detach().requires_grad_(True), rather than torch.tensor(sourceTensor).\n",
            "  labels = torch.tensor(labels).to(device)\n"
          ]
        },
        {
          "name": "stdout",
          "output_type": "stream",
          "text": [
            "--------- Number of Iteration 12 ---------\n",
            "[tensor(1923), tensor(134), tensor(714), tensor(3157), tensor(2798), tensor(1700), tensor(1207), tensor(2536), tensor(703), tensor(931), tensor(1491), tensor(4501), tensor(3271), tensor(1339), tensor(3358), tensor(2265), tensor(3847), tensor(2305), tensor(488), tensor(2013), tensor(539), tensor(2813), tensor(52), tensor(3086), tensor(2689), tensor(2163), tensor(631), tensor(291), tensor(2632), tensor(1601), tensor(3425), tensor(2753), tensor(1748), tensor(424), tensor(1522), tensor(224), tensor(1583), tensor(181), tensor(2099), tensor(603), tensor(3747), tensor(1767), tensor(683), tensor(2080), tensor(2136), tensor(4364), tensor(313), tensor(2279), tensor(3650), tensor(2176), tensor(3453), tensor(1725), tensor(1081), tensor(587), tensor(1938), tensor(655), tensor(4014), tensor(1065), tensor(4086), tensor(1204), tensor(2519), tensor(706), tensor(3115), tensor(2914), tensor(2922), tensor(2794), tensor(3436), tensor(516), tensor(2946), tensor(128), tensor(4083), tensor(2777), tensor(2121), tensor(366), tensor(2616), tensor(3199), tensor(3027), tensor(2248), tensor(1640), tensor(1285), tensor(3721), tensor(4274), tensor(2003), tensor(367), tensor(1136), tensor(3758), tensor(986), tensor(3068), tensor(3588), tensor(927), tensor(1320), tensor(2425), tensor(552), tensor(3501), tensor(1558), tensor(997), tensor(2535), tensor(265), tensor(910), tensor(2381), tensor(431), tensor(2469), tensor(27), tensor(2180), tensor(4464), tensor(586), tensor(1399), tensor(74), tensor(2595), tensor(2908), tensor(697), tensor(1024), tensor(2604), tensor(3044), tensor(3184), tensor(1212), tensor(469), tensor(3592), tensor(117), tensor(2543), tensor(2900), tensor(1)]\n"
          ]
        },
        {
          "name": "stderr",
          "output_type": "stream",
          "text": [
            "/tmp/ipykernel_4004/1467103094.py:91: UserWarning: To copy construct from a tensor, it is recommended to use sourceTensor.clone().detach() or sourceTensor.clone().detach().requires_grad_(True), rather than torch.tensor(sourceTensor).\n",
            "  labels = torch.tensor(labels).to(device)\n"
          ]
        },
        {
          "name": "stdout",
          "output_type": "stream",
          "text": [
            "Epoch [1/15], Loss: 1.5209, Accuracy: 0.7988\n"
          ]
        },
        {
          "name": "stderr",
          "output_type": "stream",
          "text": [
            "/tmp/ipykernel_4004/1467103094.py:131: UserWarning: To copy construct from a tensor, it is recommended to use sourceTensor.clone().detach() or sourceTensor.clone().detach().requires_grad_(True), rather than torch.tensor(sourceTensor).\n",
            "  labels = torch.tensor(labels).to(device)\n"
          ]
        },
        {
          "name": "stdout",
          "output_type": "stream",
          "text": [
            "Epoch [2/15], Loss: 1.5442, Accuracy: 0.7716\n",
            "Epoch [3/15], Loss: 1.5724, Accuracy: 0.7395\n",
            "Epoch [4/15], Loss: 1.5405, Accuracy: 0.7815\n",
            "Epoch [5/15], Loss: 1.5325, Accuracy: 0.7852\n",
            "Epoch [6/15], Loss: 1.5282, Accuracy: 0.8025\n",
            "Epoch [7/15], Loss: 1.5370, Accuracy: 0.7938\n",
            "Epoch [8/15], Loss: 1.5412, Accuracy: 0.7889\n",
            "Epoch [9/15], Loss: 1.5355, Accuracy: 0.7914\n",
            "Epoch [10/15], Loss: 1.5285, Accuracy: 0.8086\n",
            "Epoch [11/15], Loss: 1.5173, Accuracy: 0.7951\n",
            "Epoch [12/15], Loss: 1.5129, Accuracy: 0.8049\n",
            "Epoch [13/15], Loss: 1.5123, Accuracy: 0.7975\n",
            "Epoch [14/15], Loss: 1.5088, Accuracy: 0.8123\n",
            "Epoch [15/15], Loss: 1.5085, Accuracy: 0.8012\n",
            "------------------------------------------------------------\n"
          ]
        },
        {
          "name": "stderr",
          "output_type": "stream",
          "text": [
            "/tmp/ipykernel_4004/1467103094.py:159: UserWarning: To copy construct from a tensor, it is recommended to use sourceTensor.clone().detach() or sourceTensor.clone().detach().requires_grad_(True), rather than torch.tensor(sourceTensor).\n",
            "  labels = torch.tensor(labels).to(device)\n"
          ]
        },
        {
          "name": "stdout",
          "output_type": "stream",
          "text": [
            "--------- Number of Iteration 13 ---------\n",
            "[tensor(1923), tensor(134), tensor(2620), tensor(714), tensor(3157), tensor(2798), tensor(1700), tensor(1207), tensor(2536), tensor(703), tensor(931), tensor(1491), tensor(4501), tensor(1339), tensor(3358), tensor(2265), tensor(3847), tensor(2305), tensor(488), tensor(3188), tensor(2013), tensor(539), tensor(2813), tensor(52), tensor(3086), tensor(2689), tensor(2163), tensor(631), tensor(291), tensor(2632), tensor(823), tensor(289), tensor(1601), tensor(3425), tensor(2753), tensor(1748), tensor(424), tensor(1522), tensor(224), tensor(1583), tensor(181), tensor(2099), tensor(603), tensor(3747), tensor(1767), tensor(683), tensor(687), tensor(2080), tensor(2136), tensor(4364), tensor(313), tensor(2279), tensor(2176), tensor(3453), tensor(1081), tensor(587), tensor(1938), tensor(655), tensor(4014), tensor(1065), tensor(4086), tensor(1204), tensor(706), tensor(3115), tensor(2922), tensor(2794), tensor(3436), tensor(516), tensor(2946), tensor(128), tensor(4083), tensor(2121), tensor(366), tensor(2616), tensor(3199), tensor(3027), tensor(2248), tensor(1640), tensor(1285), tensor(3721), tensor(2277), tensor(367), tensor(1136), tensor(328), tensor(3758), tensor(3068), tensor(1320), tensor(2425), tensor(3501), tensor(2535), tensor(265), tensor(910), tensor(431), tensor(2469), tensor(275), tensor(586), tensor(1399), tensor(74), tensor(2595), tensor(4398), tensor(2908), tensor(697), tensor(1024), tensor(2604), tensor(3184), tensor(1212), tensor(469), tensor(3592), tensor(117), tensor(1), tensor(4255), tensor(4481), tensor(2802), tensor(4337), tensor(1311), tensor(2493), tensor(3949), tensor(1672), tensor(2567), tensor(3194), tensor(555), tensor(3447), tensor(404), tensor(4250), tensor(2387), tensor(2685), tensor(2408), tensor(2760), tensor(728), tensor(3421), tensor(1470)]\n"
          ]
        },
        {
          "name": "stderr",
          "output_type": "stream",
          "text": [
            "/tmp/ipykernel_4004/1467103094.py:91: UserWarning: To copy construct from a tensor, it is recommended to use sourceTensor.clone().detach() or sourceTensor.clone().detach().requires_grad_(True), rather than torch.tensor(sourceTensor).\n",
            "  labels = torch.tensor(labels).to(device)\n"
          ]
        },
        {
          "name": "stdout",
          "output_type": "stream",
          "text": [
            "Epoch [1/15], Loss: 1.5359, Accuracy: 0.7839\n"
          ]
        },
        {
          "name": "stderr",
          "output_type": "stream",
          "text": [
            "/tmp/ipykernel_4004/1467103094.py:131: UserWarning: To copy construct from a tensor, it is recommended to use sourceTensor.clone().detach() or sourceTensor.clone().detach().requires_grad_(True), rather than torch.tensor(sourceTensor).\n",
            "  labels = torch.tensor(labels).to(device)\n"
          ]
        },
        {
          "name": "stdout",
          "output_type": "stream",
          "text": [
            "Epoch [2/15], Loss: 1.5474, Accuracy: 0.7724\n",
            "Epoch [3/15], Loss: 1.5514, Accuracy: 0.7782\n",
            "Epoch [4/15], Loss: 1.5710, Accuracy: 0.7517\n",
            "Epoch [5/15], Loss: 1.5609, Accuracy: 0.7782\n",
            "Epoch [6/15], Loss: 1.5513, Accuracy: 0.7851\n",
            "Epoch [7/15], Loss: 1.5393, Accuracy: 0.7747\n",
            "Epoch [8/15], Loss: 1.5376, Accuracy: 0.7885\n",
            "Epoch [9/15], Loss: 1.5380, Accuracy: 0.7793\n",
            "Epoch [10/15], Loss: 1.5526, Accuracy: 0.7609\n",
            "Epoch [11/15], Loss: 1.5876, Accuracy: 0.7149\n",
            "Epoch [12/15], Loss: 1.5105, Accuracy: 0.8184\n",
            "Epoch [13/15], Loss: 1.5207, Accuracy: 0.8103\n",
            "Epoch [14/15], Loss: 1.5172, Accuracy: 0.8195\n",
            "Epoch [15/15], Loss: 1.5356, Accuracy: 0.7828\n",
            "------------------------------------------------------------\n"
          ]
        },
        {
          "name": "stderr",
          "output_type": "stream",
          "text": [
            "/tmp/ipykernel_4004/1467103094.py:159: UserWarning: To copy construct from a tensor, it is recommended to use sourceTensor.clone().detach() or sourceTensor.clone().detach().requires_grad_(True), rather than torch.tensor(sourceTensor).\n",
            "  labels = torch.tensor(labels).to(device)\n"
          ]
        },
        {
          "name": "stdout",
          "output_type": "stream",
          "text": [
            "--------- Number of Iteration 14 ---------\n",
            "[tensor(134), tensor(714), tensor(3157), tensor(2798), tensor(1700), tensor(1207), tensor(2536), tensor(703), tensor(993), tensor(931), tensor(1491), tensor(4501), tensor(1339), tensor(3358), tensor(2265), tensor(3847), tensor(2305), tensor(488), tensor(2013), tensor(539), tensor(2813), tensor(52), tensor(3086), tensor(2689), tensor(2163), tensor(631), tensor(291), tensor(685), tensor(2632), tensor(1601), tensor(3425), tensor(2753), tensor(1748), tensor(424), tensor(1522), tensor(224), tensor(1583), tensor(181), tensor(2099), tensor(603), tensor(3747), tensor(1767), tensor(683), tensor(2080), tensor(2136), tensor(4364), tensor(313), tensor(2279), tensor(3650), tensor(2176), tensor(3453), tensor(1081), tensor(587), tensor(1938), tensor(655), tensor(4014), tensor(2873), tensor(1065), tensor(4086), tensor(1204), tensor(706), tensor(3115), tensor(2922), tensor(2794), tensor(3436), tensor(516), tensor(2946), tensor(1110), tensor(128), tensor(4083), tensor(2777), tensor(2121), tensor(366), tensor(2616), tensor(3199), tensor(3027), tensor(2248), tensor(1640), tensor(1285), tensor(3721), tensor(4274), tensor(367), tensor(1136), tensor(3758), tensor(986), tensor(3068), tensor(1320), tensor(2425), tensor(3501), tensor(1558), tensor(997), tensor(2535), tensor(265), tensor(910), tensor(431), tensor(27), tensor(2180), tensor(586), tensor(1399), tensor(74), tensor(2595), tensor(2908), tensor(697), tensor(1024), tensor(2604), tensor(3044), tensor(3184), tensor(1212), tensor(469), tensor(3592), tensor(117), tensor(2543), tensor(2900), tensor(1), tensor(4255), tensor(2802), tensor(4337), tensor(1311), tensor(2493), tensor(3949), tensor(1672), tensor(2567), tensor(3194), tensor(555), tensor(3675), tensor(3447), tensor(404), tensor(4250), tensor(2387), tensor(2685), tensor(2408), tensor(2760), tensor(728), tensor(3421), tensor(4235), tensor(4209), tensor(1470), tensor(2658), tensor(653), tensor(4407), tensor(2732), tensor(436), tensor(906), tensor(3836), tensor(2201), tensor(3877), tensor(2793), tensor(2043), tensor(2810), tensor(3646), tensor(2064), tensor(1570), tensor(1008), tensor(3760), tensor(4288), tensor(2624), tensor(1573), tensor(3554), tensor(1314), tensor(2219), tensor(3055), tensor(3866), tensor(1887)]\n"
          ]
        },
        {
          "name": "stderr",
          "output_type": "stream",
          "text": [
            "/tmp/ipykernel_4004/1467103094.py:91: UserWarning: To copy construct from a tensor, it is recommended to use sourceTensor.clone().detach() or sourceTensor.clone().detach().requires_grad_(True), rather than torch.tensor(sourceTensor).\n",
            "  labels = torch.tensor(labels).to(device)\n"
          ]
        },
        {
          "name": "stdout",
          "output_type": "stream",
          "text": [
            "Epoch [1/15], Loss: 1.5656, Accuracy: 0.7656\n"
          ]
        },
        {
          "name": "stderr",
          "output_type": "stream",
          "text": [
            "/tmp/ipykernel_4004/1467103094.py:131: UserWarning: To copy construct from a tensor, it is recommended to use sourceTensor.clone().detach() or sourceTensor.clone().detach().requires_grad_(True), rather than torch.tensor(sourceTensor).\n",
            "  labels = torch.tensor(labels).to(device)\n"
          ]
        },
        {
          "name": "stdout",
          "output_type": "stream",
          "text": [
            "Epoch [2/15], Loss: 1.6498, Accuracy: 0.6215\n",
            "Epoch [3/15], Loss: 1.5616, Accuracy: 0.7473\n",
            "Epoch [4/15], Loss: 1.6692, Accuracy: 0.6011\n",
            "Epoch [5/15], Loss: 1.6375, Accuracy: 0.6161\n",
            "Epoch [6/15], Loss: 1.7472, Accuracy: 0.4333\n",
            "Epoch [7/15], Loss: 1.6419, Accuracy: 0.5978\n",
            "Epoch [8/15], Loss: 1.6284, Accuracy: 0.6441\n",
            "Epoch [9/15], Loss: 1.6216, Accuracy: 0.6355\n",
            "Epoch [10/15], Loss: 1.7143, Accuracy: 0.5290\n",
            "Epoch [11/15], Loss: 1.6229, Accuracy: 0.6806\n",
            "Epoch [12/15], Loss: 1.6442, Accuracy: 0.6763\n",
            "Epoch [13/15], Loss: 1.5747, Accuracy: 0.7419\n",
            "Epoch [14/15], Loss: 1.6271, Accuracy: 0.6645\n",
            "Epoch [15/15], Loss: 1.5673, Accuracy: 0.7720\n",
            "------------------------------------------------------------\n"
          ]
        },
        {
          "name": "stderr",
          "output_type": "stream",
          "text": [
            "/tmp/ipykernel_4004/1467103094.py:159: UserWarning: To copy construct from a tensor, it is recommended to use sourceTensor.clone().detach() or sourceTensor.clone().detach().requires_grad_(True), rather than torch.tensor(sourceTensor).\n",
            "  labels = torch.tensor(labels).to(device)\n"
          ]
        },
        {
          "name": "stdout",
          "output_type": "stream",
          "text": [
            "--------- Number of Iteration 15 ---------\n",
            "[tensor(3038), tensor(134), tensor(3175), tensor(2981), tensor(714), tensor(3157), tensor(1700), tensor(1207), tensor(1727), tensor(2536), tensor(703), tensor(931), tensor(1491), tensor(4501), tensor(1339), tensor(3358), tensor(2265), tensor(3847), tensor(2305), tensor(488), tensor(2013), tensor(539), tensor(2813), tensor(4056), tensor(52), tensor(3086), tensor(2689), tensor(2163), tensor(631), tensor(291), tensor(2632), tensor(1601), tensor(2753), tensor(1748), tensor(424), tensor(1522), tensor(224), tensor(1583), tensor(181), tensor(2099), tensor(603), tensor(3747), tensor(1767), tensor(683), tensor(2080), tensor(2136), tensor(4364), tensor(313), tensor(2279), tensor(3650), tensor(2176), tensor(3453), tensor(3071), tensor(1081), tensor(587), tensor(3540), tensor(253), tensor(1938), tensor(4014), tensor(1065), tensor(4086), tensor(1204), tensor(2519), tensor(706), tensor(3115), tensor(2922), tensor(2794), tensor(3436), tensor(516), tensor(2946), tensor(128), tensor(4083), tensor(2121), tensor(366), tensor(2616), tensor(3199), tensor(2248), tensor(1640), tensor(1285), tensor(367), tensor(1136), tensor(3068), tensor(1320), tensor(2425), tensor(3501), tensor(997), tensor(2535), tensor(265), tensor(910), tensor(431), tensor(27), tensor(2180), tensor(586), tensor(1399), tensor(74), tensor(2595), tensor(2908), tensor(697), tensor(2604), tensor(3184), tensor(1212), tensor(469), tensor(3592), tensor(117), tensor(1), tensor(4255), tensor(4481), tensor(2802), tensor(4337), tensor(1311), tensor(2493), tensor(3949), tensor(3131), tensor(1672), tensor(2567), tensor(3194), tensor(555), tensor(404), tensor(2387), tensor(2408), tensor(2760), tensor(728), tensor(3421), tensor(1470), tensor(2658), tensor(653), tensor(4407), tensor(906), tensor(2201), tensor(3877), tensor(2793), tensor(2043), tensor(2064), tensor(1008), tensor(2624), tensor(1314), tensor(3055), tensor(3866), tensor(1887), tensor(4173), tensor(4166), tensor(966), tensor(3132), tensor(442), tensor(3486), tensor(2023), tensor(2164), tensor(1618), tensor(3089), tensor(4171), tensor(1375), tensor(4324), tensor(2701), tensor(3350), tensor(1524), tensor(1959), tensor(3794), tensor(1082), tensor(2759), tensor(4353), tensor(1506), tensor(2422), tensor(3173)]\n"
          ]
        },
        {
          "name": "stderr",
          "output_type": "stream",
          "text": [
            "/tmp/ipykernel_4004/1467103094.py:91: UserWarning: To copy construct from a tensor, it is recommended to use sourceTensor.clone().detach() or sourceTensor.clone().detach().requires_grad_(True), rather than torch.tensor(sourceTensor).\n",
            "  labels = torch.tensor(labels).to(device)\n"
          ]
        },
        {
          "name": "stdout",
          "output_type": "stream",
          "text": [
            "Epoch [1/15], Loss: 1.5416, Accuracy: 0.7717\n"
          ]
        },
        {
          "name": "stderr",
          "output_type": "stream",
          "text": [
            "/tmp/ipykernel_4004/1467103094.py:131: UserWarning: To copy construct from a tensor, it is recommended to use sourceTensor.clone().detach() or sourceTensor.clone().detach().requires_grad_(True), rather than torch.tensor(sourceTensor).\n",
            "  labels = torch.tensor(labels).to(device)\n"
          ]
        },
        {
          "name": "stdout",
          "output_type": "stream",
          "text": [
            "Epoch [2/15], Loss: 1.5562, Accuracy: 0.7505\n",
            "Epoch [3/15], Loss: 1.5490, Accuracy: 0.7697\n",
            "Epoch [4/15], Loss: 1.5406, Accuracy: 0.7768\n",
            "Epoch [5/15], Loss: 1.5326, Accuracy: 0.7848\n",
            "Epoch [6/15], Loss: 1.5254, Accuracy: 0.7980\n",
            "Epoch [7/15], Loss: 1.5392, Accuracy: 0.7949\n",
            "Epoch [8/15], Loss: 1.5368, Accuracy: 0.7768\n",
            "Epoch [9/15], Loss: 1.5164, Accuracy: 0.8152\n",
            "Epoch [10/15], Loss: 1.5118, Accuracy: 0.8182\n",
            "Epoch [11/15], Loss: 1.5238, Accuracy: 0.8010\n",
            "Epoch [12/15], Loss: 1.5142, Accuracy: 0.8131\n",
            "Epoch [13/15], Loss: 1.5430, Accuracy: 0.7616\n",
            "Epoch [14/15], Loss: 1.5260, Accuracy: 0.7960\n",
            "Epoch [15/15], Loss: 1.5173, Accuracy: 0.8081\n",
            "------------------------------------------------------------\n"
          ]
        },
        {
          "name": "stderr",
          "output_type": "stream",
          "text": [
            "/tmp/ipykernel_4004/1467103094.py:159: UserWarning: To copy construct from a tensor, it is recommended to use sourceTensor.clone().detach() or sourceTensor.clone().detach().requires_grad_(True), rather than torch.tensor(sourceTensor).\n",
            "  labels = torch.tensor(labels).to(device)\n"
          ]
        },
        {
          "name": "stdout",
          "output_type": "stream",
          "text": [
            "--------- Number of Iteration 16 ---------\n",
            "[tensor(134), tensor(3175), tensor(2981), tensor(714), tensor(3157), tensor(2798), tensor(1700), tensor(1207), tensor(1727), tensor(2536), tensor(703), tensor(931), tensor(1491), tensor(4501), tensor(1339), tensor(3358), tensor(2265), tensor(3847), tensor(2305), tensor(814), tensor(488), tensor(2013), tensor(539), tensor(2813), tensor(52), tensor(3086), tensor(2689), tensor(2163), tensor(631), tensor(291), tensor(2632), tensor(1601), tensor(3425), tensor(2753), tensor(1748), tensor(424), tensor(1522), tensor(224), tensor(1267), tensor(1583), tensor(181), tensor(2099), tensor(603), tensor(3747), tensor(1767), tensor(683), tensor(2080), tensor(2136), tensor(4364), tensor(313), tensor(2279), tensor(3650), tensor(2176), tensor(3453), tensor(1081), tensor(587), tensor(1938), tensor(655), tensor(4014), tensor(2873), tensor(1065), tensor(4086), tensor(1204), tensor(2519), tensor(706), tensor(2922), tensor(2794), tensor(516), tensor(2946), tensor(1110), tensor(128), tensor(4083), tensor(2777), tensor(2121), tensor(251), tensor(366), tensor(2616), tensor(3199), tensor(3027), tensor(2248), tensor(1640), tensor(1285), tensor(367), tensor(1136), tensor(3758), tensor(3068), tensor(2425), tensor(3501), tensor(2535), tensor(265), tensor(910), tensor(431), tensor(2469), tensor(27), tensor(2180), tensor(586), tensor(1399), tensor(74), tensor(2595), tensor(2908), tensor(697), tensor(2604), tensor(3184), tensor(1212), tensor(469), tensor(3592), tensor(117), tensor(1), tensor(4255), tensor(4481), tensor(2802), tensor(4337), tensor(1311), tensor(2493), tensor(3949), tensor(1672), tensor(2567), tensor(3194), tensor(555), tensor(3447), tensor(404), tensor(2387), tensor(2408), tensor(2760), tensor(728), tensor(1470), tensor(2658), tensor(653), tensor(4407), tensor(906), tensor(2201), tensor(3877), tensor(2793), tensor(2043), tensor(2064), tensor(1008), tensor(2624), tensor(1573), tensor(1314), tensor(3055), tensor(3866), tensor(4173), tensor(4166), tensor(966), tensor(3132), tensor(442), tensor(2023), tensor(2164), tensor(1618), tensor(4171), tensor(1375), tensor(4324), tensor(2701), tensor(3350), tensor(1536), tensor(1082), tensor(2759), tensor(4353), tensor(1506), tensor(2422), tensor(3173), tensor(2808), tensor(3468), tensor(583), tensor(2647), tensor(1194), tensor(1775), tensor(1956), tensor(2772), tensor(11), tensor(869), tensor(4015), tensor(1607), tensor(1978), tensor(2323), tensor(3627), tensor(45), tensor(1988), tensor(3351), tensor(4306), tensor(598), tensor(2293), tensor(2340), tensor(3147), tensor(1104)]\n"
          ]
        },
        {
          "name": "stderr",
          "output_type": "stream",
          "text": [
            "/tmp/ipykernel_4004/1467103094.py:91: UserWarning: To copy construct from a tensor, it is recommended to use sourceTensor.clone().detach() or sourceTensor.clone().detach().requires_grad_(True), rather than torch.tensor(sourceTensor).\n",
            "  labels = torch.tensor(labels).to(device)\n"
          ]
        },
        {
          "name": "stdout",
          "output_type": "stream",
          "text": [
            "Epoch [1/15], Loss: 1.5518, Accuracy: 0.7705\n"
          ]
        },
        {
          "name": "stderr",
          "output_type": "stream",
          "text": [
            "/tmp/ipykernel_4004/1467103094.py:131: UserWarning: To copy construct from a tensor, it is recommended to use sourceTensor.clone().detach() or sourceTensor.clone().detach().requires_grad_(True), rather than torch.tensor(sourceTensor).\n",
            "  labels = torch.tensor(labels).to(device)\n"
          ]
        },
        {
          "name": "stdout",
          "output_type": "stream",
          "text": [
            "Epoch [2/15], Loss: 1.5424, Accuracy: 0.7810\n",
            "Epoch [3/15], Loss: 1.5601, Accuracy: 0.7619\n",
            "Epoch [4/15], Loss: 1.5381, Accuracy: 0.7867\n",
            "Epoch [5/15], Loss: 1.5377, Accuracy: 0.7714\n",
            "Epoch [6/15], Loss: 1.5321, Accuracy: 0.7933\n",
            "Epoch [7/15], Loss: 1.5451, Accuracy: 0.7771\n",
            "Epoch [8/15], Loss: 1.5345, Accuracy: 0.7914\n",
            "Epoch [9/15], Loss: 1.5330, Accuracy: 0.7867\n",
            "Epoch [10/15], Loss: 1.5226, Accuracy: 0.8076\n",
            "Epoch [11/15], Loss: 1.5343, Accuracy: 0.7905\n",
            "Epoch [12/15], Loss: 1.5267, Accuracy: 0.7962\n",
            "Epoch [13/15], Loss: 1.5392, Accuracy: 0.7800\n",
            "Epoch [14/15], Loss: 1.5388, Accuracy: 0.7952\n",
            "Epoch [15/15], Loss: 1.5480, Accuracy: 0.7771\n",
            "------------------------------------------------------------\n"
          ]
        },
        {
          "name": "stderr",
          "output_type": "stream",
          "text": [
            "/tmp/ipykernel_4004/1467103094.py:159: UserWarning: To copy construct from a tensor, it is recommended to use sourceTensor.clone().detach() or sourceTensor.clone().detach().requires_grad_(True), rather than torch.tensor(sourceTensor).\n",
            "  labels = torch.tensor(labels).to(device)\n"
          ]
        },
        {
          "name": "stdout",
          "output_type": "stream",
          "text": [
            "--------- Number of Iteration 17 ---------\n",
            "[tensor(134), tensor(4249), tensor(2620), tensor(2981), tensor(2492), tensor(714), tensor(3157), tensor(1700), tensor(1207), tensor(1727), tensor(2536), tensor(703), tensor(931), tensor(1491), tensor(4501), tensor(1339), tensor(3358), tensor(2265), tensor(3847), tensor(2305), tensor(488), tensor(2013), tensor(2813), tensor(52), tensor(3086), tensor(2689), tensor(2163), tensor(631), tensor(291), tensor(2632), tensor(1601), tensor(2753), tensor(1748), tensor(424), tensor(1522), tensor(224), tensor(1583), tensor(181), tensor(2099), tensor(603), tensor(3747), tensor(1767), tensor(683), tensor(2080), tensor(2136), tensor(4364), tensor(313), tensor(2279), tensor(3650), tensor(2176), tensor(3453), tensor(1081), tensor(587), tensor(1938), tensor(4014), tensor(1065), tensor(4086), tensor(2519), tensor(706), tensor(3115), tensor(2922), tensor(2794), tensor(516), tensor(2946), tensor(128), tensor(4083), tensor(251), tensor(366), tensor(2616), tensor(3199), tensor(2248), tensor(1640), tensor(1285), tensor(1136), tensor(3758), tensor(3068), tensor(1320), tensor(2425), tensor(3501), tensor(2535), tensor(265), tensor(910), tensor(431), tensor(2469), tensor(586), tensor(1399), tensor(74), tensor(2595), tensor(2908), tensor(697), tensor(1024), tensor(2604), tensor(3184), tensor(1212), tensor(469), tensor(3592), tensor(117), tensor(1), tensor(4255), tensor(2802), tensor(4337), tensor(1311), tensor(2493), tensor(3949), tensor(1672), tensor(2567), tensor(3194), tensor(555), tensor(404), tensor(2387), tensor(2408), tensor(2760), tensor(728), tensor(1470), tensor(2658), tensor(653), tensor(4407), tensor(906), tensor(2201), tensor(3877), tensor(2793), tensor(2043), tensor(2064), tensor(3760), tensor(4288), tensor(2624), tensor(3055), tensor(3866), tensor(4173), tensor(4166), tensor(966), tensor(3132), tensor(442), tensor(3486), tensor(2023), tensor(2164), tensor(1618), tensor(786), tensor(4171), tensor(4387), tensor(1375), tensor(4324), tensor(2701), tensor(3350), tensor(1536), tensor(4008), tensor(1082), tensor(2759), tensor(4353), tensor(1506), tensor(2422), tensor(3173), tensor(2808), tensor(1768), tensor(3468), tensor(583), tensor(2647), tensor(1194), tensor(1775), tensor(1956), tensor(2772), tensor(11), tensor(869), tensor(4015), tensor(1607), tensor(1978), tensor(2323), tensor(3627), tensor(3712), tensor(45), tensor(1988), tensor(4306), tensor(598), tensor(3147), tensor(1104), tensor(1880), tensor(868), tensor(322), tensor(3051), tensor(979), tensor(3236), tensor(2972), tensor(3703), tensor(2169), tensor(866), tensor(2199), tensor(637), tensor(76), tensor(3098), tensor(856), tensor(2365), tensor(4002), tensor(1519)]\n"
          ]
        },
        {
          "name": "stderr",
          "output_type": "stream",
          "text": [
            "/tmp/ipykernel_4004/1467103094.py:91: UserWarning: To copy construct from a tensor, it is recommended to use sourceTensor.clone().detach() or sourceTensor.clone().detach().requires_grad_(True), rather than torch.tensor(sourceTensor).\n",
            "  labels = torch.tensor(labels).to(device)\n"
          ]
        },
        {
          "name": "stdout",
          "output_type": "stream",
          "text": [
            "Epoch [1/15], Loss: 1.5611, Accuracy: 0.7595\n"
          ]
        },
        {
          "name": "stderr",
          "output_type": "stream",
          "text": [
            "/tmp/ipykernel_4004/1467103094.py:131: UserWarning: To copy construct from a tensor, it is recommended to use sourceTensor.clone().detach() or sourceTensor.clone().detach().requires_grad_(True), rather than torch.tensor(sourceTensor).\n",
            "  labels = torch.tensor(labels).to(device)\n"
          ]
        },
        {
          "name": "stdout",
          "output_type": "stream",
          "text": [
            "Epoch [2/15], Loss: 1.5528, Accuracy: 0.7649\n",
            "Epoch [3/15], Loss: 1.5716, Accuracy: 0.7459\n",
            "Epoch [4/15], Loss: 1.5625, Accuracy: 0.7595\n",
            "Epoch [5/15], Loss: 1.5541, Accuracy: 0.7685\n",
            "Epoch [6/15], Loss: 1.5389, Accuracy: 0.7811\n",
            "Epoch [7/15], Loss: 1.5591, Accuracy: 0.7622\n",
            "Epoch [8/15], Loss: 1.5488, Accuracy: 0.7694\n",
            "Epoch [9/15], Loss: 1.5577, Accuracy: 0.7622\n",
            "Epoch [10/15], Loss: 1.5234, Accuracy: 0.7991\n",
            "Epoch [11/15], Loss: 1.5324, Accuracy: 0.8000\n",
            "Epoch [12/15], Loss: 1.5512, Accuracy: 0.7649\n",
            "Epoch [13/15], Loss: 1.5348, Accuracy: 0.7946\n",
            "Epoch [14/15], Loss: 1.5413, Accuracy: 0.7838\n",
            "Epoch [15/15], Loss: 1.5338, Accuracy: 0.7883\n",
            "------------------------------------------------------------\n"
          ]
        },
        {
          "name": "stderr",
          "output_type": "stream",
          "text": [
            "/tmp/ipykernel_4004/1467103094.py:159: UserWarning: To copy construct from a tensor, it is recommended to use sourceTensor.clone().detach() or sourceTensor.clone().detach().requires_grad_(True), rather than torch.tensor(sourceTensor).\n",
            "  labels = torch.tensor(labels).to(device)\n"
          ]
        },
        {
          "name": "stdout",
          "output_type": "stream",
          "text": [
            "--------- Number of Iteration 18 ---------\n",
            "[tensor(134), tensor(2981), tensor(714), tensor(3157), tensor(2798), tensor(1700), tensor(1207), tensor(1727), tensor(2536), tensor(1797), tensor(703), tensor(993), tensor(931), tensor(1491), tensor(4501), tensor(1339), tensor(3358), tensor(2265), tensor(3847), tensor(2305), tensor(814), tensor(488), tensor(2013), tensor(539), tensor(2813), tensor(52), tensor(3086), tensor(2689), tensor(2163), tensor(631), tensor(291), tensor(2632), tensor(1601), tensor(2753), tensor(1748), tensor(424), tensor(1522), tensor(224), tensor(1583), tensor(181), tensor(2099), tensor(603), tensor(3747), tensor(1767), tensor(683), tensor(2080), tensor(4364), tensor(313), tensor(2279), tensor(3650), tensor(2176), tensor(3453), tensor(1081), tensor(587), tensor(1938), tensor(4014), tensor(1065), tensor(4086), tensor(2519), tensor(706), tensor(2922), tensor(2794), tensor(516), tensor(2946), tensor(128), tensor(4083), tensor(2121), tensor(366), tensor(2616), tensor(3199), tensor(2248), tensor(1640), tensor(1285), tensor(367), tensor(1136), tensor(3758), tensor(3068), tensor(1320), tensor(2425), tensor(3501), tensor(2535), tensor(265), tensor(910), tensor(431), tensor(27), tensor(2180), tensor(586), tensor(1399), tensor(74), tensor(2595), tensor(2908), tensor(697), tensor(1024), tensor(2604), tensor(3184), tensor(1212), tensor(469), tensor(3592), tensor(117), tensor(1), tensor(4255), tensor(2802), tensor(4337), tensor(1311), tensor(2493), tensor(3949), tensor(1672), tensor(2567), tensor(3194), tensor(555), tensor(404), tensor(2387), tensor(2408), tensor(2760), tensor(728), tensor(1470), tensor(2658), tensor(653), tensor(4407), tensor(906), tensor(2201), tensor(3877), tensor(2793), tensor(2043), tensor(3646), tensor(2064), tensor(1570), tensor(4288), tensor(2624), tensor(1573), tensor(3055), tensor(3866), tensor(4173), tensor(4166), tensor(966), tensor(1116), tensor(3132), tensor(2023), tensor(2164), tensor(1618), tensor(786), tensor(4171), tensor(1375), tensor(4324), tensor(2701), tensor(3350), tensor(1536), tensor(1082), tensor(1178), tensor(2759), tensor(4353), tensor(3155), tensor(1506), tensor(2422), tensor(3173), tensor(2808), tensor(3468), tensor(583), tensor(2647), tensor(1194), tensor(1775), tensor(1956), tensor(2772), tensor(11), tensor(869), tensor(4015), tensor(1607), tensor(1978), tensor(2323), tensor(3627), tensor(3712), tensor(45), tensor(1988), tensor(4306), tensor(598), tensor(2293), tensor(1104), tensor(1880), tensor(868), tensor(322), tensor(3051), tensor(3236), tensor(2972), tensor(3703), tensor(2169), tensor(866), tensor(2199), tensor(637), tensor(76), tensor(3098), tensor(856), tensor(2365), tensor(4002), tensor(2741), tensor(775), tensor(1014), tensor(1485), tensor(3273), tensor(2787), tensor(3133), tensor(3989), tensor(3827), tensor(2664), tensor(2292), tensor(3604), tensor(2801), tensor(2740), tensor(3697), tensor(2603), tensor(759), tensor(4000), tensor(740), tensor(1623), tensor(292), tensor(2123), tensor(2667), tensor(1185), tensor(716), tensor(1426), tensor(1545)]\n"
          ]
        },
        {
          "name": "stderr",
          "output_type": "stream",
          "text": [
            "/tmp/ipykernel_4004/1467103094.py:91: UserWarning: To copy construct from a tensor, it is recommended to use sourceTensor.clone().detach() or sourceTensor.clone().detach().requires_grad_(True), rather than torch.tensor(sourceTensor).\n",
            "  labels = torch.tensor(labels).to(device)\n"
          ]
        },
        {
          "name": "stdout",
          "output_type": "stream",
          "text": [
            "Epoch [1/15], Loss: 1.5663, Accuracy: 0.7547\n"
          ]
        },
        {
          "name": "stderr",
          "output_type": "stream",
          "text": [
            "/tmp/ipykernel_4004/1467103094.py:131: UserWarning: To copy construct from a tensor, it is recommended to use sourceTensor.clone().detach() or sourceTensor.clone().detach().requires_grad_(True), rather than torch.tensor(sourceTensor).\n",
            "  labels = torch.tensor(labels).to(device)\n"
          ]
        },
        {
          "name": "stdout",
          "output_type": "stream",
          "text": [
            "Epoch [2/15], Loss: 1.5490, Accuracy: 0.7718\n",
            "Epoch [3/15], Loss: 1.5458, Accuracy: 0.7761\n",
            "Epoch [4/15], Loss: 1.5681, Accuracy: 0.7573\n",
            "Epoch [5/15], Loss: 1.5789, Accuracy: 0.7333\n",
            "Epoch [6/15], Loss: 1.5481, Accuracy: 0.7658\n",
            "Epoch [7/15], Loss: 1.5377, Accuracy: 0.7752\n",
            "Epoch [8/15], Loss: 1.5263, Accuracy: 0.7949\n",
            "Epoch [9/15], Loss: 1.5392, Accuracy: 0.7795\n",
            "Epoch [10/15], Loss: 1.5256, Accuracy: 0.7923\n",
            "Epoch [11/15], Loss: 1.5279, Accuracy: 0.8000\n",
            "Epoch [12/15], Loss: 1.5282, Accuracy: 0.7915\n",
            "Epoch [13/15], Loss: 1.5464, Accuracy: 0.7624\n",
            "Epoch [14/15], Loss: 1.5534, Accuracy: 0.7598\n",
            "Epoch [15/15], Loss: 1.5210, Accuracy: 0.8009\n",
            "------------------------------------------------------------\n"
          ]
        },
        {
          "name": "stderr",
          "output_type": "stream",
          "text": [
            "/tmp/ipykernel_4004/1467103094.py:159: UserWarning: To copy construct from a tensor, it is recommended to use sourceTensor.clone().detach() or sourceTensor.clone().detach().requires_grad_(True), rather than torch.tensor(sourceTensor).\n",
            "  labels = torch.tensor(labels).to(device)\n"
          ]
        },
        {
          "name": "stdout",
          "output_type": "stream",
          "text": [
            "--------- Number of Iteration 19 ---------\n",
            "[tensor(134), tensor(3175), tensor(2981), tensor(2991), tensor(714), tensor(3157), tensor(486), tensor(857), tensor(2798), tensor(1207), tensor(2536), tensor(703), tensor(993), tensor(931), tensor(1491), tensor(4501), tensor(1339), tensor(1380), tensor(3358), tensor(2265), tensor(3847), tensor(2305), tensor(814), tensor(2154), tensor(488), tensor(1282), tensor(2013), tensor(539), tensor(2813), tensor(835), tensor(4056), tensor(52), tensor(3086), tensor(2689), tensor(2163), tensor(631), tensor(291), tensor(2632), tensor(1601), tensor(3425), tensor(2753), tensor(1748), tensor(424), tensor(1522), tensor(224), tensor(181), tensor(2099), tensor(603), tensor(3747), tensor(1767), tensor(683), tensor(2080), tensor(4364), tensor(313), tensor(2279), tensor(3650), tensor(2176), tensor(3453), tensor(1081), tensor(587), tensor(253), tensor(1938), tensor(4014), tensor(2873), tensor(1065), tensor(4086), tensor(2519), tensor(706), tensor(2922), tensor(2794), tensor(516), tensor(4503), tensor(2946), tensor(128), tensor(4083), tensor(2121), tensor(366), tensor(2616), tensor(3199), tensor(2248), tensor(1640), tensor(1285), tensor(367), tensor(1136), tensor(3068), tensor(3588), tensor(2425), tensor(3501), tensor(2535), tensor(265), tensor(910), tensor(431), tensor(2180), tensor(586), tensor(74), tensor(2595), tensor(4398), tensor(2908), tensor(697), tensor(2604), tensor(3044), tensor(3184), tensor(1212), tensor(117), tensor(1), tensor(4255), tensor(4481), tensor(2802), tensor(4337), tensor(1311), tensor(2493), tensor(1878), tensor(3949), tensor(1672), tensor(2567), tensor(3194), tensor(555), tensor(3675), tensor(3447), tensor(404), tensor(2387), tensor(2408), tensor(2760), tensor(728), tensor(1470), tensor(2658), tensor(653), tensor(4407), tensor(906), tensor(2201), tensor(3877), tensor(2793), tensor(2043), tensor(2064), tensor(1570), tensor(2624), tensor(3554), tensor(1314), tensor(1230), tensor(3055), tensor(3866), tensor(1887), tensor(4173), tensor(4166), tensor(966), tensor(4367), tensor(3132), tensor(442), tensor(2023), tensor(2164), tensor(1618), tensor(4324), tensor(2701), tensor(3350), tensor(3794), tensor(3222), tensor(1082), tensor(4353), tensor(1506), tensor(2422), tensor(3173), tensor(2808), tensor(3468), tensor(583), tensor(2647), tensor(1194), tensor(1956), tensor(2772), tensor(11), tensor(869), tensor(4179), tensor(4015), tensor(1607), tensor(1978), tensor(3627), tensor(4306), tensor(598), tensor(2293), tensor(1880), tensor(868), tensor(322), tensor(175), tensor(3051), tensor(4046), tensor(3236), tensor(3703), tensor(2199), tensor(3981), tensor(3669), tensor(76), tensor(856), tensor(2365), tensor(4002), tensor(2401), tensor(2741), tensor(775), tensor(1014), tensor(1485), tensor(3133), tensor(3989), tensor(3827), tensor(2664), tensor(2292), tensor(2801), tensor(2603), tensor(759), tensor(4000), tensor(740), tensor(1623), tensor(292), tensor(208), tensor(1185), tensor(716), tensor(1545), tensor(2434), tensor(2319), tensor(456), tensor(4506), tensor(278), tensor(462), tensor(4101), tensor(84), tensor(4067), tensor(4098), tensor(3982), tensor(2456), tensor(926), tensor(2380), tensor(226)]\n"
          ]
        },
        {
          "name": "stderr",
          "output_type": "stream",
          "text": [
            "/tmp/ipykernel_4004/1467103094.py:91: UserWarning: To copy construct from a tensor, it is recommended to use sourceTensor.clone().detach() or sourceTensor.clone().detach().requires_grad_(True), rather than torch.tensor(sourceTensor).\n",
            "  labels = torch.tensor(labels).to(device)\n"
          ]
        },
        {
          "name": "stdout",
          "output_type": "stream",
          "text": [
            "Epoch [1/15], Loss: 1.5371, Accuracy: 0.7756\n"
          ]
        },
        {
          "name": "stderr",
          "output_type": "stream",
          "text": [
            "/tmp/ipykernel_4004/1467103094.py:131: UserWarning: To copy construct from a tensor, it is recommended to use sourceTensor.clone().detach() or sourceTensor.clone().detach().requires_grad_(True), rather than torch.tensor(sourceTensor).\n",
            "  labels = torch.tensor(labels).to(device)\n"
          ]
        },
        {
          "name": "stdout",
          "output_type": "stream",
          "text": [
            "Epoch [2/15], Loss: 1.5397, Accuracy: 0.7813\n",
            "Epoch [3/15], Loss: 1.5355, Accuracy: 0.7813\n",
            "Epoch [4/15], Loss: 1.5558, Accuracy: 0.7569\n",
            "Epoch [5/15], Loss: 1.5409, Accuracy: 0.7821\n",
            "Epoch [6/15], Loss: 1.5655, Accuracy: 0.7390\n",
            "Epoch [7/15], Loss: 1.5344, Accuracy: 0.7951\n",
            "Epoch [8/15], Loss: 1.5436, Accuracy: 0.7748\n",
            "Epoch [9/15], Loss: 1.5346, Accuracy: 0.7789\n",
            "Epoch [10/15], Loss: 1.5297, Accuracy: 0.7870\n",
            "Epoch [11/15], Loss: 1.5177, Accuracy: 0.7919\n",
            "Epoch [12/15], Loss: 1.5177, Accuracy: 0.8041\n",
            "Epoch [13/15], Loss: 1.5170, Accuracy: 0.8016\n",
            "Epoch [14/15], Loss: 1.5276, Accuracy: 0.8033\n",
            "Epoch [15/15], Loss: 1.5142, Accuracy: 0.8098\n",
            "------------------------------------------------------------\n"
          ]
        },
        {
          "name": "stderr",
          "output_type": "stream",
          "text": [
            "/tmp/ipykernel_4004/1467103094.py:159: UserWarning: To copy construct from a tensor, it is recommended to use sourceTensor.clone().detach() or sourceTensor.clone().detach().requires_grad_(True), rather than torch.tensor(sourceTensor).\n",
            "  labels = torch.tensor(labels).to(device)\n"
          ]
        },
        {
          "data": {
            "image/png": "[encoded data removed]",
            "text/plain": [
              "<Figure size 640x480 with 1 Axes>"
            ]
          },
          "metadata": {},
          "output_type": "display_data"
        }
      ],
      "source": [
        "for criterion in selection_criteria:\n",
        "    AL_class = ActiveLearningPipeline(model=model,\n",
        "                                      test_indices=test_indices,\n",
        "                                      available_pool_indices=available_pool_indices,\n",
        "                                      train_indices=train_indices,\n",
        "                                      selection_criterion=criterion,\n",
        "                                      iterations=iterations,\n",
        "                                      budget_per_iter=budget_per_iter,\n",
        "                                      num_epochs=num_epoch)\n",
        "    accuracy_scores_dict[criterion] = AL_class.run_pipeline()\n",
        "generate_plot(accuracy_scores_dict)"
      ]
    },
    {
      "cell_type": "code",
      "execution_count": null,
      "metadata": {
        "id": "j5sKVVjSzEl7",
        "outputId": "2ec75b07-9550-4cc6-c3ca-d415c6dc9965"
      },
      "outputs": [
        {
          "data": {
            "text/plain": [
              "defaultdict(list,\n",
              "            {'custom': [0.46825396825396826,\n",
              "              0.5727513227513227,\n",
              "              0.5932539682539683,\n",
              "              0.6203703703703703,\n",
              "              0.5978835978835979,\n",
              "              0.5866402116402116,\n",
              "              0.6183862433862434,\n",
              "              0.6084656084656084,\n",
              "              0.5773809523809523,\n",
              "              0.5939153439153438,\n",
              "              0.6243386243386243,\n",
              "              0.6263227513227513,\n",
              "              0.613095238095238,\n",
              "              0.6342592592592592,\n",
              "              0.6342592592592592,\n",
              "              0.6514550264550264,\n",
              "              0.6117724867724867,\n",
              "              0.6388888888888888,\n",
              "              0.6593915343915343,\n",
              "              0.6461640211640212]})"
            ]
          },
          "execution_count": 14,
          "metadata": {},
          "output_type": "execute_result"
        }
      ],
      "source": [
        "accuracy_scores_dict"
      ]
    }
  ],
  "metadata": {
    "colab": {
      "provenance": [],
      "include_colab_link": true
    },
    "kernelspec": {
      "display_name": "Python 3 (ipykernel)",
      "language": "python",
      "name": "python3"
    },
    "language_info": {
      "codemirror_mode": {
        "name": "ipython",
        "version": 3
      },
      "file_extension": ".py",
      "mimetype": "text/x-python",
      "name": "python",
      "nbconvert_exporter": "python",
      "pygments_lexer": "ipython3",
      "version": "3.9.15"
    }
  },
  "nbformat": 4,
  "nbformat_minor": 0
}