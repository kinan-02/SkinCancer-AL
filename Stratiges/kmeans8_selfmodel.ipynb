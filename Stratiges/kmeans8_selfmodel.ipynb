{
 "cells": [
  {
   "cell_type": "code",
   "execution_count": 37,
   "metadata": {
    "id": "JjgyTgaRfy4k"
   },
   "outputs": [],
   "source": [
    "import pandas as pd\n",
    "import numpy as np\n",
    "import pickle\n",
    "from sklearn.ensemble import RandomForestClassifier\n",
    "from sklearn.svm import SVC\n",
    "from sklearn.linear_model import LogisticRegression\n",
    "from scipy.stats import entropy\n",
    "from collections import defaultdict\n",
    "import argparse\n",
    "from matplotlib import pyplot as plt\n",
    "import random, torch\n",
    "\n",
    "random.seed(0) # Set seed for NumPy\n",
    "np.random.seed(0) # Set seed for PyTorch (for both CPU and GPU)\n",
    "torch.manual_seed(0)\n",
    "if torch.cuda.is_available(): \n",
    "    torch.cuda.manual_seed_all(0)\n",
    "torch.backends.cudnn.deterministic = True\n",
    "torch.backends.cudnn.benchmark = False\n",
    "\n",
    "train_df = pd.read_csv('train_dataset/metadata.csv')\n",
    "test_df = pd.read_csv('test_dataset/metadata.csv')\n",
    "val_df = pd.read_csv('validation_dataset/metadata.csv')"
   ]
  },
  {
   "cell_type": "code",
   "execution_count": 38,
   "metadata": {},
   "outputs": [
    {
     "data": {
      "text/plain": [
       "{'actinic keratosis': 0,\n",
       " 'basal cell carcinoma': 1,\n",
       " 'dermatofibroma': 2,\n",
       " 'melanoma': 3,\n",
       " 'nevus': 4,\n",
       " 'pigmented benign keratosis': 5,\n",
       " 'squamous cell carcinoma': 6,\n",
       " 'vascular lesion': 7}"
      ]
     },
     "execution_count": 38,
     "metadata": {},
     "output_type": "execute_result"
    }
   ],
   "source": [
    "class_mapping = {\n",
    "    \"actinic keratosis\": 0,\n",
    "    \"basal cell carcinoma\": 1,\n",
    "    \"dermatofibroma\": 2,\n",
    "    \"melanoma\": 3,\n",
    "    \"nevus\": 4,\n",
    "    \"pigmented benign keratosis\": 5,\n",
    "    \"squamous cell carcinoma\": 6,\n",
    "    \"vascular lesion\":7\n",
    "}\n",
    "class_mapping"
   ]
  },
  {
   "cell_type": "code",
   "execution_count": 39,
   "metadata": {
    "id": "BLruwetXmPem"
   },
   "outputs": [],
   "source": [
    "from PIL import Image\n",
    "import os\n",
    "\n",
    "import torchvision.transforms as transforms\n",
    "\n",
    "# Define image transformations (resize, convert to tensor, and normalize)\n",
    "transform = transforms.Compose([\n",
    "    transforms.Resize((224, 224)),          # Resize images to 224x224 (matching ResNet input size)\n",
    "    transforms.ToTensor()\n",
    "])\n",
    "\n",
    "class Dataset():\n",
    "    def __init__(self, dataframe, transform, train='train'):\n",
    "        self.dataframe=dataframe\n",
    "        self.train = train\n",
    "        self.transform = transform\n",
    "        self.path_to_image=self._create_path_to_image_dict()\n",
    "        self.paths=list(self.path_to_image.keys())\n",
    "        self.labels=list(self.path_to_image.values())\n",
    "\n",
    "    def _create_path_to_image_dict(self):\n",
    "      path_to_image={}\n",
    "      for index,row in self.dataframe.iterrows():\n",
    "        if self.train == 'train':\n",
    "          img_path = os.path.join('train_dataset/',row['isic_id']+'.jpg')\n",
    "        elif self.train == 'test':\n",
    "          img_path = os.path.join('test_dataset/',row['isic_id']+'.jpg')\n",
    "        else:\n",
    "            img_path = os.path.join('validation_dataset/',row['isic_id']+'.jpg')\n",
    "        label=row['diagnosis']\n",
    "        path_to_image[img_path]=label\n",
    "      return path_to_image\n",
    "\n",
    "    def __len__(self):\n",
    "        return len(self.paths)\n",
    "\n",
    "    def __getitem__(self,index):\n",
    "        img_path=self.paths[index]\n",
    "        img_label=self.labels[index]\n",
    "        image=Image.open(img_path)\n",
    "        image=self.transform(image)\n",
    "        if self.train == 'val':\n",
    "            return image, class_mapping[img_label], index\n",
    "        return image, img_label, index"
   ]
  },
  {
   "cell_type": "code",
   "execution_count": 40,
   "metadata": {
    "id": "9yCvnprDoa_7"
   },
   "outputs": [],
   "source": [
    "train_df = Dataset(train_df, transform)\n",
    "val_df = Dataset(val_df, transform,train='val')\n",
    "test_df = Dataset(test_df, transform,train='test')"
   ]
  },
  {
   "cell_type": "code",
   "execution_count": 41,
   "metadata": {
    "colab": {
     "base_uri": "https://localhost:8080/"
    },
    "id": "l5L0NcpesnZI",
    "outputId": "22f97091-b571-4138-964f-95a509890583"
   },
   "outputs": [
    {
     "name": "stderr",
     "output_type": "stream",
     "text": [
      "/anaconda/envs/py38_default/lib/python3.9/site-packages/torchvision/models/_utils.py:208: UserWarning: The parameter 'pretrained' is deprecated since 0.13 and may be removed in the future, please use 'weights' instead.\n",
      "  warnings.warn(\n",
      "/anaconda/envs/py38_default/lib/python3.9/site-packages/torchvision/models/_utils.py:223: UserWarning: Arguments other than a weight enum or `None` for 'weights' are deprecated since 0.13 and may be removed in the future. The current behavior is equivalent to passing `weights=ResNet50_Weights.IMAGENET1K_V1`. You can also use `weights=ResNet50_Weights.DEFAULT` to get the most up-to-date weights.\n",
      "  warnings.warn(msg)\n"
     ]
    }
   ],
   "source": [
    "import torch\n",
    "import torch.nn as nn\n",
    "import torchvision.models as models\n",
    "from torchvision import transforms\n",
    "from torch.optim import Adam\n",
    "\n",
    "# Load pre-trained ResNet50 model from torchvision\n",
    "base_model = models.resnet50(pretrained=True)\n",
    "\n",
    "num_classes = 8  # Adjust this based on your dataset\n",
    "base_model.fc = nn.Sequential(\n",
    "    nn.Flatten(),\n",
    "    nn.Linear(base_model.fc.in_features, 128),  # Add a fully connected layer\n",
    "    nn.ReLU(),\n",
    "    nn.Linear(128, num_classes),  # Final layer with number of classes\n",
    "    nn.Softmax(dim=1)  # Softmax activation for multi-class classification\n",
    ")\n",
    "\n",
    "for param in base_model.parameters():\n",
    "    param.requires_grad = False  # Freeze all layers except the fully connected ones\n",
    "\n",
    "# Unfreeze the final fully connected layer\n",
    "for param in base_model.fc.parameters():\n",
    "    param.requires_grad = True\n",
    "    \n",
    "loss_f = nn.CrossEntropyLoss()\n",
    "optimizer = Adam(base_model.fc.parameters(), lr=0.0008)\n",
    "\n",
    "# Move model to GPU if available\n",
    "device = torch.device(\"cuda\" if torch.cuda.is_available() else \"cpu\")\n",
    "base_model.to(device)\n",
    "x = 5"
   ]
  },
  {
   "cell_type": "code",
   "execution_count": 42,
   "metadata": {},
   "outputs": [],
   "source": [
    "from torch.utils.data import DataLoader, TensorDataset\n",
    "\n",
    "batch_size = 4  # Adjust based on your memory and hardware\n",
    "val_loader = DataLoader(val_df, batch_size=batch_size, shuffle=False)"
   ]
  },
  {
   "cell_type": "code",
   "execution_count": 43,
   "metadata": {
    "id": "-Vk8kyZsgACa"
   },
   "outputs": [],
   "source": [
    "from sklearn.cluster import KMeans\n",
    "import numpy as np\n",
    "from transformers import ViTFeatureExtractor, ViTModel\n",
    "\n",
    "class ActiveLearningPipeline:\n",
    "    def __init__(self, model,\n",
    "                 available_pool_indices,\n",
    "                 train_indices,\n",
    "                 test_indices,\n",
    "                 selection_criterion,\n",
    "                 iterations,\n",
    "                 budget_per_iter,\n",
    "                 num_epochs):\n",
    "        self.model = model\n",
    "        self.iterations = iterations\n",
    "        self.budget_per_iter = budget_per_iter\n",
    "        self.available_pool_indices = available_pool_indices\n",
    "        self.train_indices = train_indices\n",
    "        self.test_indices = test_indices\n",
    "        self.selection_criterion = selection_criterion\n",
    "        if self.selection_criterion == 'random':\n",
    "          self.train_indices = []\n",
    "        self.num_epochs = num_epochs\n",
    "        self.pool_features = []\n",
    "        self.pool_indices = []\n",
    "\n",
    "    def run_pipeline(self):\n",
    "        \"\"\"\n",
    "        Run the active learning pipeline\n",
    "        :return\n",
    "        accuracy_scores: list, accuracy scores at each iteration\n",
    "        \"\"\"\n",
    "        accuracy_scores = []\n",
    "        self._get_features()\n",
    "        for iteration in range(self.iterations):\n",
    "            print(f\"--------- Number of Iteration {iteration} ---------\")\n",
    "            if self.selection_criterion == 'random':\n",
    "                self._random_sampling()\n",
    "            elif self.selection_criterion == 'kmeans_num_classes':\n",
    "                self._kmeans_sampling()\n",
    "            else:\n",
    "              self._custom_sampling(iteration)\n",
    "            \n",
    "            train_images = [train_df.__getitem__(index)[0] for index in self.train_indices]\n",
    "            label_df = [class_mapping[train_df.__getitem__(index)[1]] for index in self.train_indices]\n",
    "            self._train_model(train_images, label_df)\n",
    "            self.model.load_state_dict(torch.load(f\"best_{self.selection_criterion}_model.pth\"))\n",
    "            accuracy = self._evaluate_model()\n",
    "            accuracy_scores.append(accuracy)\n",
    "        return accuracy_scores\n",
    "        \n",
    "    def calculate_class_weights(self, label_counts, num_classes=8):\n",
    "        total_samples = sum(label_counts.values())\n",
    "        class_weights = torch.zeros(num_classes)\n",
    "        \n",
    "        for cls in range(num_classes):\n",
    "            if cls in label_counts:\n",
    "                class_weights[cls] = total_samples / (num_classes * label_counts[cls])\n",
    "            else:\n",
    "                class_weights[cls] = 1.0  # Handle the case where a class has zero samples in the current epoch\n",
    "    \n",
    "        return class_weights\n",
    "    \n",
    "    def _train_model(self, train_images, label_df):\n",
    "      label_counts = defaultdict(int)\n",
    "      for label in label_df:\n",
    "                label_counts[label] += 1\n",
    "      class_weights = self.calculate_class_weights(label_counts, 8).to(device)\n",
    "      loss_f = nn.CrossEntropyLoss(weight=class_weights)\n",
    "        \n",
    "      train_images_tensor = torch.stack(train_images)\n",
    "      label_df_tensor = torch.tensor(label_df)\n",
    "      train_dataset = TensorDataset(train_images_tensor, label_df_tensor)\n",
    "\n",
    "      batch_size = 32\n",
    "      train_loader = DataLoader(train_dataset, batch_size=batch_size, shuffle=True)\n",
    "      best_acc = 0\n",
    "      for epoch in range(self.num_epochs):\n",
    "                self.model.train()\n",
    "                running_loss = 0.0  # Track the running loss\n",
    "                correct_predictions = 0\n",
    "                total_predictions = 0\n",
    "                # Training loop\n",
    "                for inputs, labels in train_loader:\n",
    "                    inputs = inputs\n",
    "                    inputs= inputs.to(device)\n",
    "                    labels = torch.tensor(labels).to(device)\n",
    "                    \n",
    "                    # Zero the parameter gradients\n",
    "                    optimizer.zero_grad()\n",
    "\n",
    "                    # Forward pass\n",
    "                    outputs = self.model(inputs)\n",
    "                    loss = loss_f(outputs, labels)\n",
    "\n",
    "                    # Backward pass and optimization\n",
    "                    loss.backward()\n",
    "                    optimizer.step()\n",
    "\n",
    "                    running_loss += loss.item()\n",
    "        \n",
    "                    # Calculate accuracy\n",
    "                    _, preds = torch.max(outputs, 1)\n",
    "                    correct_predictions += torch.sum(preds == labels)\n",
    "                    total_predictions += inputs.shape[0]\n",
    "\n",
    "                # Print loss and accuracy at the end of each epoch\n",
    "                epoch_loss = running_loss / len(train_loader)\n",
    "                epoch_acc = correct_predictions.double() / total_predictions\n",
    "                print(f'Epoch [{epoch+1}/{self.num_epochs}], Loss: {epoch_loss:.4f}, Accuracy: {epoch_acc:.4f}')\n",
    "          \n",
    "                val_acc = self._check_model()\n",
    "                if val_acc > best_acc: \n",
    "                    best_acc = val_acc\n",
    "                    torch.save(self.model.state_dict(), f\"best_{self.selection_criterion}_model.pth\")\n",
    "      print(\"--\"*30)\n",
    "        \n",
    "    def _check_model(self):\n",
    "        self.model.eval()\n",
    "        running_corrects = 0\n",
    "        total_predictions = 0.0\n",
    "    \n",
    "        with torch.no_grad():\n",
    "            for inputs, labels, _ in val_loader:\n",
    "                inputs = inputs.to(device)\n",
    "                labels = torch.tensor(labels).to(device)\n",
    "\n",
    "                outputs = model(inputs)\n",
    "                _, preds = torch.max(outputs, 1)\n",
    "\n",
    "                running_corrects += torch.sum(preds == labels)\n",
    "                total_predictions += inputs.shape[0]\n",
    "        val_acc = running_corrects.double() / total_predictions\n",
    "        return val_acc.item()\n",
    "        \n",
    "    def _evaluate_model(self):\n",
    "        \"\"\"\n",
    "        Evaluate the model\n",
    "        :return:\n",
    "        accuracy: float, accuracy of the model\n",
    "        \"\"\"\n",
    "        self.model.eval()\n",
    "        running_corrects = 0\n",
    "        test_images_tensor = torch.stack(test_images)\n",
    "        label_df_tensor = torch.tensor(test_label_df)\n",
    "        test_dataset = TensorDataset(test_images_tensor, label_df_tensor)\n",
    "        batch_size = 32  # Adjust based on your memory and hardware\n",
    "        test_loader = DataLoader(test_dataset, batch_size=batch_size, shuffle=False)\n",
    "        total_predictions = 0.0\n",
    "        with torch.no_grad():\n",
    "            for inputs, labels in test_loader:\n",
    "                inputs = inputs.to(device)\n",
    "                labels = torch.tensor(labels).to(device)\n",
    "\n",
    "                outputs = model(inputs)\n",
    "                # outputs = outputs.logits\n",
    "                _, preds = torch.max(outputs, 1)\n",
    "\n",
    "                running_corrects += torch.sum(preds == labels)\n",
    "                total_predictions += inputs.shape[0]\n",
    "        test_acc = running_corrects.double() / total_predictions\n",
    "        return test_acc.item()\n",
    "\n",
    "    def _random_sampling(self):\n",
    "      selected_indices = np.random.choice(self.available_pool_indices, self.budget_per_iter, replace=False)\n",
    "      selected_indices = selected_indices.tolist()\n",
    "      self.train_indices = self.train_indices + selected_indices\n",
    "\n",
    "      available_pool_set = set(self.available_pool_indices)\n",
    "      train_set = set(self.train_indices)\n",
    "      self.available_pool_indices = list(available_pool_set - train_set)\n",
    "\n",
    "    def extract_vae_features(self, dataloader, model, feature_extractor):\n",
    "        features_list = []\n",
    "        indices_list = []\n",
    "        \n",
    "        with torch.no_grad():\n",
    "            for images, indices in dataloader:\n",
    "                # images = images.to(device)  # Move images to GPU if available\n",
    "                images_list = [transforms.ToPILImage()(img) for img in images]\n",
    "                inputs = feature_extractor(images=images_list, return_tensors=\"pt\")\n",
    "                with torch.no_grad():\n",
    "                    outputs = model(**inputs)\n",
    "                \n",
    "                x = outputs.last_hidden_state[:, 0, :]\n",
    "                features_list.append(x.cpu().numpy())\n",
    "                \n",
    "                # Collect indices\n",
    "                indices_list.extend(indices)\n",
    "                \n",
    "        # Stack all features into a 2D array (n_samples, hidden_dim)\n",
    "        features = np.vstack(features_list)\n",
    "        \n",
    "        return features, indices_list\n",
    "\n",
    "    def get_representative_images(self, kmeans, pool_features, pool_indices):\n",
    "        cluster_to_images = {}\n",
    "        for i in range(kmeans.n_clusters):\n",
    "            # Get the indices of all images in the current cluster\n",
    "            cluster_indices = np.where(kmeans.labels_ == i)[0]\n",
    "            \n",
    "            # Extract features of the images in the current cluster\n",
    "            cluster_features = pool_features[cluster_indices]\n",
    "            \n",
    "            # Compute distances between each feature and the cluster centroid\n",
    "            distances = np.linalg.norm(cluster_features - kmeans.cluster_centers_[i], axis=1)\n",
    "            \n",
    "            # Map the cluster number to the index of the representative image\n",
    "            # nearest_indices = cluster_indices[np.argsort(distances)[:7]]\n",
    "\n",
    "            # Another approach\n",
    "            nearest_indices = cluster_indices[np.argsort(distances)[:4]]\n",
    "            farthest_indices = cluster_indices[np.argsort(distances)[-3:]]\n",
    "            \n",
    "            # Map the cluster number to the indices of the top k nearest images\n",
    "            # cluster_to_images[i] = [pool_indices[idx] for idx in nearest_indices]\n",
    "\n",
    "            # Another approach\n",
    "            cluster_to_images[i] = [pool_indices[idx] for idx in nearest_indices] + [pool_indices[idx] for idx in farthest_indices]\n",
    "        return cluster_to_images\n",
    "       \n",
    "    def _get_features(self):\n",
    "        feature_extractor = ViTFeatureExtractor.from_pretrained('google/vit-base-patch16-224-in21k')\n",
    "        model = ViTModel.from_pretrained('google/vit-base-patch16-224-in21k')\n",
    "        \n",
    "        X_unlabeled = [train_df.__getitem__(index)[0] for index in self.available_pool_indices]\n",
    "        # Extract latent features using the VAE model\n",
    "        pool_images_tensor = torch.stack(X_unlabeled)\n",
    "        pool_indices_tensor = torch.tensor(self.available_pool_indices)\n",
    "        pool_dataset = TensorDataset(pool_images_tensor, pool_indices_tensor)\n",
    "    \n",
    "        batch_size = 32\n",
    "        pool_loader = DataLoader(pool_dataset, batch_size=batch_size, shuffle=False)\n",
    "   \n",
    "        self.pool_features, self.pool_indices = self.extract_vae_features(pool_loader, model, feature_extractor)\n",
    "        \n",
    "    def _kmeans_sampling(self):\n",
    "          \n",
    "          n_clusters = 8 \n",
    "          kmeans = KMeans(n_clusters=n_clusters, init='k-means++', random_state=0)\n",
    "          kmeans.fit(self.pool_features)\n",
    "            \n",
    "          representative_images = self.get_representative_images(kmeans, self.pool_features, self.pool_indices)\n",
    "          selected_indices = list(ids.item() for l in representative_images.values() for ids in l) \n",
    "\n",
    "          for i in selected_indices:\n",
    "              index = self.pool_indices.index(i)\n",
    "              self.pool_features = np.delete(self.pool_features, index, axis=0)\n",
    "              self.pool_indices.pop(index)\n",
    "          \n",
    "          self.train_indices = self.train_indices + selected_indices\n",
    "            \n",
    "          available_pool_set = set(self.available_pool_indices)\n",
    "          train_set = set(self.train_indices)\n",
    "          self.available_pool_indices = list(available_pool_set - train_set)\n",
    "\n",
    "\n"
   ]
  },
  {
   "cell_type": "code",
   "execution_count": 44,
   "metadata": {
    "id": "o5829ZYDh1Rp"
   },
   "outputs": [],
   "source": [
    "def generate_plot(accuracy_scores_dict):\n",
    "    \"\"\"\n",
    "    Generate a plot\n",
    "    \"\"\"\n",
    "    for criterion, accuracy_scores in accuracy_scores_dict.items():\n",
    "        plt.plot(range(1, len(accuracy_scores) + 1), accuracy_scores, label=criterion)\n",
    "    plt.xlabel('Iterations')\n",
    "    plt.ylabel('Accuracy')\n",
    "    plt.legend()\n",
    "    plt.show()"
   ]
  },
  {
   "cell_type": "code",
   "execution_count": 45,
   "metadata": {
    "id": "DQ2IZmfRuYgX"
   },
   "outputs": [],
   "source": [
    "available_pool_indices = []\n",
    "for i in range(len(train_df)):\n",
    "    image, label, index = train_df[i]\n",
    "    available_pool_indices.append(index)\n",
    "\n",
    "test_indices = []\n",
    "for i in range(len(test_df)):\n",
    "    image, label, index = test_df[i]\n",
    "    test_indices.append(index)\n",
    "test_images = [test_df.__getitem__(index)[0] for index in test_indices]\n",
    "test_label_df = [class_mapping[test_df.__getitem__(index)[1]] for index in test_indices]"
   ]
  },
  {
   "cell_type": "code",
   "execution_count": 46,
   "metadata": {},
   "outputs": [],
   "source": [
    "train_indices = [1372,\n",
    " 1277,\n",
    " 1255,\n",
    " 1423,\n",
    " 2925,\n",
    " 1963,\n",
    " 2335,\n",
    " 1923,\n",
    " 3791,\n",
    " 1239,\n",
    " 909,\n",
    " 134,\n",
    " 1547,\n",
    " 3931,\n",
    " 2467,\n",
    " 2832,\n",
    " 1789,\n",
    " 3022,\n",
    " 2424,\n",
    " 780,\n",
    " 2412,\n",
    " 3038,\n",
    " 2158,\n",
    " 3335,\n",
    " 1868,\n",
    " 1771,\n",
    " 2015,\n",
    " 1535,\n",
    " 710,\n",
    " 3007]\n",
    "available_pool_set = set(available_pool_indices)\n",
    "train_set = set(train_indices)\n",
    "available_pool_indices = list(available_pool_set - train_set)"
   ]
  },
  {
   "cell_type": "code",
   "execution_count": 47,
   "metadata": {
    "id": "Pmcf2jc6h2S9"
   },
   "outputs": [],
   "source": [
    "# train_indices = []\n",
    "iterations = 20\n",
    "budget_per_iter = 60\n",
    "num_epoch = 15\n",
    "selection_criteria = ['kmeans_num_classes']\n",
    "accuracy_scores_dict = defaultdict(list)\n",
    "model = base_model"
   ]
  },
  {
   "cell_type": "code",
   "execution_count": 48,
   "metadata": {
    "colab": {
     "base_uri": "https://localhost:8080/",
     "height": 339
    },
    "id": "4UGO2jW1h5Ql",
    "outputId": "0993cc7b-2fc2-4a84-a31a-ef45ed5febff"
   },
   "outputs": [
    {
     "name": "stderr",
     "output_type": "stream",
     "text": [
      "/anaconda/envs/py38_default/lib/python3.9/site-packages/huggingface_hub/file_download.py:1142: FutureWarning: `resume_download` is deprecated and will be removed in version 1.0.0. Downloads always resume when possible. If you want to force a new download, use `force_download=True`.\n",
      "  warnings.warn(\n",
      "/anaconda/envs/py38_default/lib/python3.9/site-packages/transformers/models/vit/feature_extraction_vit.py:28: FutureWarning: The class ViTFeatureExtractor is deprecated and will be removed in version 5 of Transformers. Please use ViTImageProcessor instead.\n",
      "  warnings.warn(\n"
     ]
    },
    {
     "name": "stdout",
     "output_type": "stream",
     "text": [
      "--------- Number of Iteration 0 ---------\n"
     ]
    },
    {
     "name": "stderr",
     "output_type": "stream",
     "text": [
      "/tmp/ipykernel_303787/3124605072.py:87: UserWarning: To copy construct from a tensor, it is recommended to use sourceTensor.clone().detach() or sourceTensor.clone().detach().requires_grad_(True), rather than torch.tensor(sourceTensor).\n",
      "  labels = torch.tensor(labels).to(device)\n"
     ]
    },
    {
     "name": "stdout",
     "output_type": "stream",
     "text": [
      "Epoch [1/15], Loss: 2.0967, Accuracy: 0.1163\n"
     ]
    },
    {
     "name": "stderr",
     "output_type": "stream",
     "text": [
      "/tmp/ipykernel_303787/3124605072.py:126: UserWarning: To copy construct from a tensor, it is recommended to use sourceTensor.clone().detach() or sourceTensor.clone().detach().requires_grad_(True), rather than torch.tensor(sourceTensor).\n",
      "  labels = torch.tensor(labels).to(device)\n"
     ]
    },
    {
     "name": "stdout",
     "output_type": "stream",
     "text": [
      "Epoch [2/15], Loss: 2.0566, Accuracy: 0.3023\n",
      "Epoch [3/15], Loss: 2.0177, Accuracy: 0.6512\n",
      "Epoch [4/15], Loss: 1.9716, Accuracy: 0.7093\n",
      "Epoch [5/15], Loss: 1.9195, Accuracy: 0.7558\n",
      "Epoch [6/15], Loss: 1.8475, Accuracy: 0.6977\n",
      "Epoch [7/15], Loss: 1.7747, Accuracy: 0.7674\n",
      "Epoch [8/15], Loss: 1.7464, Accuracy: 0.8140\n",
      "Epoch [9/15], Loss: 1.7231, Accuracy: 0.7907\n",
      "Epoch [10/15], Loss: 1.6887, Accuracy: 0.8023\n",
      "Epoch [11/15], Loss: 1.6067, Accuracy: 0.8721\n",
      "Epoch [12/15], Loss: 1.6513, Accuracy: 0.8256\n",
      "Epoch [13/15], Loss: 1.5940, Accuracy: 0.8721\n",
      "Epoch [14/15], Loss: 1.5405, Accuracy: 0.8372\n",
      "Epoch [15/15], Loss: 1.5358, Accuracy: 0.8605\n",
      "------------------------------------------------------------\n"
     ]
    },
    {
     "name": "stderr",
     "output_type": "stream",
     "text": [
      "/tmp/ipykernel_303787/3124605072.py:153: UserWarning: To copy construct from a tensor, it is recommended to use sourceTensor.clone().detach() or sourceTensor.clone().detach().requires_grad_(True), rather than torch.tensor(sourceTensor).\n",
      "  labels = torch.tensor(labels).to(device)\n"
     ]
    },
    {
     "name": "stdout",
     "output_type": "stream",
     "text": [
      "--------- Number of Iteration 1 ---------\n"
     ]
    },
    {
     "name": "stderr",
     "output_type": "stream",
     "text": [
      "/tmp/ipykernel_303787/3124605072.py:87: UserWarning: To copy construct from a tensor, it is recommended to use sourceTensor.clone().detach() or sourceTensor.clone().detach().requires_grad_(True), rather than torch.tensor(sourceTensor).\n",
      "  labels = torch.tensor(labels).to(device)\n"
     ]
    },
    {
     "name": "stdout",
     "output_type": "stream",
     "text": [
      "Epoch [1/15], Loss: 1.7240, Accuracy: 0.7183\n"
     ]
    },
    {
     "name": "stderr",
     "output_type": "stream",
     "text": [
      "/tmp/ipykernel_303787/3124605072.py:126: UserWarning: To copy construct from a tensor, it is recommended to use sourceTensor.clone().detach() or sourceTensor.clone().detach().requires_grad_(True), rather than torch.tensor(sourceTensor).\n",
      "  labels = torch.tensor(labels).to(device)\n"
     ]
    },
    {
     "name": "stdout",
     "output_type": "stream",
     "text": [
      "Epoch [2/15], Loss: 1.7111, Accuracy: 0.7042\n",
      "Epoch [3/15], Loss: 1.7274, Accuracy: 0.7324\n",
      "Epoch [4/15], Loss: 1.6821, Accuracy: 0.7394\n",
      "Epoch [5/15], Loss: 1.6544, Accuracy: 0.7746\n",
      "Epoch [6/15], Loss: 1.6763, Accuracy: 0.7676\n",
      "Epoch [7/15], Loss: 1.6543, Accuracy: 0.7817\n",
      "Epoch [8/15], Loss: 1.6265, Accuracy: 0.7606\n",
      "Epoch [9/15], Loss: 1.6705, Accuracy: 0.7042\n",
      "Epoch [10/15], Loss: 1.6092, Accuracy: 0.7465\n",
      "Epoch [11/15], Loss: 1.6207, Accuracy: 0.8028\n",
      "Epoch [12/15], Loss: 1.5828, Accuracy: 0.8099\n",
      "Epoch [13/15], Loss: 1.5776, Accuracy: 0.8239\n",
      "Epoch [14/15], Loss: 1.5988, Accuracy: 0.8169\n",
      "Epoch [15/15], Loss: 1.5656, Accuracy: 0.8028\n",
      "------------------------------------------------------------\n"
     ]
    },
    {
     "name": "stderr",
     "output_type": "stream",
     "text": [
      "/tmp/ipykernel_303787/3124605072.py:153: UserWarning: To copy construct from a tensor, it is recommended to use sourceTensor.clone().detach() or sourceTensor.clone().detach().requires_grad_(True), rather than torch.tensor(sourceTensor).\n",
      "  labels = torch.tensor(labels).to(device)\n"
     ]
    },
    {
     "name": "stdout",
     "output_type": "stream",
     "text": [
      "--------- Number of Iteration 2 ---------\n"
     ]
    },
    {
     "name": "stderr",
     "output_type": "stream",
     "text": [
      "/tmp/ipykernel_303787/3124605072.py:87: UserWarning: To copy construct from a tensor, it is recommended to use sourceTensor.clone().detach() or sourceTensor.clone().detach().requires_grad_(True), rather than torch.tensor(sourceTensor).\n",
      "  labels = torch.tensor(labels).to(device)\n"
     ]
    },
    {
     "name": "stdout",
     "output_type": "stream",
     "text": [
      "Epoch [1/15], Loss: 1.6951, Accuracy: 0.6364\n"
     ]
    },
    {
     "name": "stderr",
     "output_type": "stream",
     "text": [
      "/tmp/ipykernel_303787/3124605072.py:126: UserWarning: To copy construct from a tensor, it is recommended to use sourceTensor.clone().detach() or sourceTensor.clone().detach().requires_grad_(True), rather than torch.tensor(sourceTensor).\n",
      "  labels = torch.tensor(labels).to(device)\n"
     ]
    },
    {
     "name": "stdout",
     "output_type": "stream",
     "text": [
      "Epoch [2/15], Loss: 1.7499, Accuracy: 0.6616\n",
      "Epoch [3/15], Loss: 1.6747, Accuracy: 0.7525\n",
      "Epoch [4/15], Loss: 1.6684, Accuracy: 0.7020\n",
      "Epoch [5/15], Loss: 1.7010, Accuracy: 0.7273\n",
      "Epoch [6/15], Loss: 1.6635, Accuracy: 0.6717\n",
      "Epoch [7/15], Loss: 1.6886, Accuracy: 0.6616\n",
      "Epoch [8/15], Loss: 1.6647, Accuracy: 0.7222\n",
      "Epoch [9/15], Loss: 1.6520, Accuracy: 0.7273\n",
      "Epoch [10/15], Loss: 1.5838, Accuracy: 0.7727\n",
      "Epoch [11/15], Loss: 1.6017, Accuracy: 0.7576\n",
      "Epoch [12/15], Loss: 1.6214, Accuracy: 0.7525\n",
      "Epoch [13/15], Loss: 1.5665, Accuracy: 0.7626\n",
      "Epoch [14/15], Loss: 1.6023, Accuracy: 0.7576\n",
      "Epoch [15/15], Loss: 1.6570, Accuracy: 0.7172\n",
      "------------------------------------------------------------\n"
     ]
    },
    {
     "name": "stderr",
     "output_type": "stream",
     "text": [
      "/tmp/ipykernel_303787/3124605072.py:153: UserWarning: To copy construct from a tensor, it is recommended to use sourceTensor.clone().detach() or sourceTensor.clone().detach().requires_grad_(True), rather than torch.tensor(sourceTensor).\n",
      "  labels = torch.tensor(labels).to(device)\n"
     ]
    },
    {
     "name": "stdout",
     "output_type": "stream",
     "text": [
      "--------- Number of Iteration 3 ---------\n"
     ]
    },
    {
     "name": "stderr",
     "output_type": "stream",
     "text": [
      "/tmp/ipykernel_303787/3124605072.py:87: UserWarning: To copy construct from a tensor, it is recommended to use sourceTensor.clone().detach() or sourceTensor.clone().detach().requires_grad_(True), rather than torch.tensor(sourceTensor).\n",
      "  labels = torch.tensor(labels).to(device)\n"
     ]
    },
    {
     "name": "stdout",
     "output_type": "stream",
     "text": [
      "Epoch [1/15], Loss: 1.6805, Accuracy: 0.6693\n"
     ]
    },
    {
     "name": "stderr",
     "output_type": "stream",
     "text": [
      "/tmp/ipykernel_303787/3124605072.py:126: UserWarning: To copy construct from a tensor, it is recommended to use sourceTensor.clone().detach() or sourceTensor.clone().detach().requires_grad_(True), rather than torch.tensor(sourceTensor).\n",
      "  labels = torch.tensor(labels).to(device)\n"
     ]
    },
    {
     "name": "stdout",
     "output_type": "stream",
     "text": [
      "Epoch [2/15], Loss: 1.7187, Accuracy: 0.6850\n",
      "Epoch [3/15], Loss: 1.6779, Accuracy: 0.7165\n",
      "Epoch [4/15], Loss: 1.6699, Accuracy: 0.7047\n",
      "Epoch [5/15], Loss: 1.6297, Accuracy: 0.7402\n",
      "Epoch [6/15], Loss: 1.6475, Accuracy: 0.7441\n",
      "Epoch [7/15], Loss: 1.6659, Accuracy: 0.7520\n",
      "Epoch [8/15], Loss: 1.6416, Accuracy: 0.7441\n",
      "Epoch [9/15], Loss: 1.6196, Accuracy: 0.7638\n",
      "Epoch [10/15], Loss: 1.6073, Accuracy: 0.7874\n",
      "Epoch [11/15], Loss: 1.5973, Accuracy: 0.7835\n",
      "Epoch [12/15], Loss: 1.6271, Accuracy: 0.7559\n",
      "Epoch [13/15], Loss: 1.6140, Accuracy: 0.7953\n",
      "Epoch [14/15], Loss: 1.6010, Accuracy: 0.8031\n",
      "Epoch [15/15], Loss: 1.5925, Accuracy: 0.8150\n",
      "------------------------------------------------------------\n"
     ]
    },
    {
     "name": "stderr",
     "output_type": "stream",
     "text": [
      "/tmp/ipykernel_303787/3124605072.py:153: UserWarning: To copy construct from a tensor, it is recommended to use sourceTensor.clone().detach() or sourceTensor.clone().detach().requires_grad_(True), rather than torch.tensor(sourceTensor).\n",
      "  labels = torch.tensor(labels).to(device)\n"
     ]
    },
    {
     "name": "stdout",
     "output_type": "stream",
     "text": [
      "--------- Number of Iteration 4 ---------\n"
     ]
    },
    {
     "name": "stderr",
     "output_type": "stream",
     "text": [
      "/tmp/ipykernel_303787/3124605072.py:87: UserWarning: To copy construct from a tensor, it is recommended to use sourceTensor.clone().detach() or sourceTensor.clone().detach().requires_grad_(True), rather than torch.tensor(sourceTensor).\n",
      "  labels = torch.tensor(labels).to(device)\n"
     ]
    },
    {
     "name": "stdout",
     "output_type": "stream",
     "text": [
      "Epoch [1/15], Loss: 1.6940, Accuracy: 0.7258\n"
     ]
    },
    {
     "name": "stderr",
     "output_type": "stream",
     "text": [
      "/tmp/ipykernel_303787/3124605072.py:126: UserWarning: To copy construct from a tensor, it is recommended to use sourceTensor.clone().detach() or sourceTensor.clone().detach().requires_grad_(True), rather than torch.tensor(sourceTensor).\n",
      "  labels = torch.tensor(labels).to(device)\n"
     ]
    },
    {
     "name": "stdout",
     "output_type": "stream",
     "text": [
      "Epoch [2/15], Loss: 1.6916, Accuracy: 0.7032\n",
      "Epoch [3/15], Loss: 1.6717, Accuracy: 0.7032\n",
      "Epoch [4/15], Loss: 1.6991, Accuracy: 0.6355\n",
      "Epoch [5/15], Loss: 1.6714, Accuracy: 0.7129\n",
      "Epoch [6/15], Loss: 1.6458, Accuracy: 0.7452\n",
      "Epoch [7/15], Loss: 1.6669, Accuracy: 0.7226\n",
      "Epoch [8/15], Loss: 1.6383, Accuracy: 0.7226\n",
      "Epoch [9/15], Loss: 1.6452, Accuracy: 0.7581\n",
      "Epoch [10/15], Loss: 1.6174, Accuracy: 0.7645\n",
      "Epoch [11/15], Loss: 1.6353, Accuracy: 0.7677\n",
      "Epoch [12/15], Loss: 1.6243, Accuracy: 0.7677\n",
      "Epoch [13/15], Loss: 1.6185, Accuracy: 0.7645\n",
      "Epoch [14/15], Loss: 1.5850, Accuracy: 0.7355\n",
      "Epoch [15/15], Loss: 1.5507, Accuracy: 0.7710\n",
      "------------------------------------------------------------\n"
     ]
    },
    {
     "name": "stderr",
     "output_type": "stream",
     "text": [
      "/tmp/ipykernel_303787/3124605072.py:153: UserWarning: To copy construct from a tensor, it is recommended to use sourceTensor.clone().detach() or sourceTensor.clone().detach().requires_grad_(True), rather than torch.tensor(sourceTensor).\n",
      "  labels = torch.tensor(labels).to(device)\n"
     ]
    },
    {
     "name": "stdout",
     "output_type": "stream",
     "text": [
      "--------- Number of Iteration 5 ---------\n"
     ]
    },
    {
     "name": "stderr",
     "output_type": "stream",
     "text": [
      "/tmp/ipykernel_303787/3124605072.py:87: UserWarning: To copy construct from a tensor, it is recommended to use sourceTensor.clone().detach() or sourceTensor.clone().detach().requires_grad_(True), rather than torch.tensor(sourceTensor).\n",
      "  labels = torch.tensor(labels).to(device)\n"
     ]
    },
    {
     "name": "stdout",
     "output_type": "stream",
     "text": [
      "Epoch [1/15], Loss: 1.6976, Accuracy: 0.7077\n"
     ]
    },
    {
     "name": "stderr",
     "output_type": "stream",
     "text": [
      "/tmp/ipykernel_303787/3124605072.py:126: UserWarning: To copy construct from a tensor, it is recommended to use sourceTensor.clone().detach() or sourceTensor.clone().detach().requires_grad_(True), rather than torch.tensor(sourceTensor).\n",
      "  labels = torch.tensor(labels).to(device)\n"
     ]
    },
    {
     "name": "stdout",
     "output_type": "stream",
     "text": [
      "Epoch [2/15], Loss: 1.7052, Accuracy: 0.6967\n",
      "Epoch [3/15], Loss: 1.6933, Accuracy: 0.7186\n",
      "Epoch [4/15], Loss: 1.6826, Accuracy: 0.7268\n",
      "Epoch [5/15], Loss: 1.6841, Accuracy: 0.7240\n",
      "Epoch [6/15], Loss: 1.6736, Accuracy: 0.6940\n",
      "Epoch [7/15], Loss: 1.6464, Accuracy: 0.7049\n",
      "Epoch [8/15], Loss: 1.6544, Accuracy: 0.7295\n",
      "Epoch [9/15], Loss: 1.6601, Accuracy: 0.7322\n",
      "Epoch [10/15], Loss: 1.6377, Accuracy: 0.7268\n",
      "Epoch [11/15], Loss: 1.6239, Accuracy: 0.7650\n",
      "Epoch [12/15], Loss: 1.6478, Accuracy: 0.7350\n",
      "Epoch [13/15], Loss: 1.6194, Accuracy: 0.7541\n",
      "Epoch [14/15], Loss: 1.6511, Accuracy: 0.7295\n",
      "Epoch [15/15], Loss: 1.6673, Accuracy: 0.7186\n",
      "------------------------------------------------------------\n"
     ]
    },
    {
     "name": "stderr",
     "output_type": "stream",
     "text": [
      "/tmp/ipykernel_303787/3124605072.py:153: UserWarning: To copy construct from a tensor, it is recommended to use sourceTensor.clone().detach() or sourceTensor.clone().detach().requires_grad_(True), rather than torch.tensor(sourceTensor).\n",
      "  labels = torch.tensor(labels).to(device)\n"
     ]
    },
    {
     "name": "stdout",
     "output_type": "stream",
     "text": [
      "--------- Number of Iteration 6 ---------\n"
     ]
    },
    {
     "name": "stderr",
     "output_type": "stream",
     "text": [
      "/tmp/ipykernel_303787/3124605072.py:87: UserWarning: To copy construct from a tensor, it is recommended to use sourceTensor.clone().detach() or sourceTensor.clone().detach().requires_grad_(True), rather than torch.tensor(sourceTensor).\n",
      "  labels = torch.tensor(labels).to(device)\n"
     ]
    },
    {
     "name": "stdout",
     "output_type": "stream",
     "text": [
      "Epoch [1/15], Loss: 1.6546, Accuracy: 0.7133\n"
     ]
    },
    {
     "name": "stderr",
     "output_type": "stream",
     "text": [
      "/tmp/ipykernel_303787/3124605072.py:126: UserWarning: To copy construct from a tensor, it is recommended to use sourceTensor.clone().detach() or sourceTensor.clone().detach().requires_grad_(True), rather than torch.tensor(sourceTensor).\n",
      "  labels = torch.tensor(labels).to(device)\n"
     ]
    },
    {
     "name": "stdout",
     "output_type": "stream",
     "text": [
      "Epoch [2/15], Loss: 1.6473, Accuracy: 0.7464\n",
      "Epoch [3/15], Loss: 1.6077, Accuracy: 0.7701\n",
      "Epoch [4/15], Loss: 1.6160, Accuracy: 0.7275\n",
      "Epoch [5/15], Loss: 1.6241, Accuracy: 0.7393\n",
      "Epoch [6/15], Loss: 1.6311, Accuracy: 0.7227\n",
      "Epoch [7/15], Loss: 1.6333, Accuracy: 0.7607\n",
      "Epoch [8/15], Loss: 1.6027, Accuracy: 0.7678\n",
      "Epoch [9/15], Loss: 1.6083, Accuracy: 0.7678\n",
      "Epoch [10/15], Loss: 1.6285, Accuracy: 0.7346\n",
      "Epoch [11/15], Loss: 1.5903, Accuracy: 0.7417\n",
      "Epoch [12/15], Loss: 1.6135, Accuracy: 0.7085\n",
      "Epoch [13/15], Loss: 1.5900, Accuracy: 0.7678\n",
      "Epoch [14/15], Loss: 1.5406, Accuracy: 0.8009\n",
      "Epoch [15/15], Loss: 1.5796, Accuracy: 0.7725\n",
      "------------------------------------------------------------\n"
     ]
    },
    {
     "name": "stderr",
     "output_type": "stream",
     "text": [
      "/tmp/ipykernel_303787/3124605072.py:153: UserWarning: To copy construct from a tensor, it is recommended to use sourceTensor.clone().detach() or sourceTensor.clone().detach().requires_grad_(True), rather than torch.tensor(sourceTensor).\n",
      "  labels = torch.tensor(labels).to(device)\n"
     ]
    },
    {
     "name": "stdout",
     "output_type": "stream",
     "text": [
      "--------- Number of Iteration 7 ---------\n"
     ]
    },
    {
     "name": "stderr",
     "output_type": "stream",
     "text": [
      "/tmp/ipykernel_303787/3124605072.py:87: UserWarning: To copy construct from a tensor, it is recommended to use sourceTensor.clone().detach() or sourceTensor.clone().detach().requires_grad_(True), rather than torch.tensor(sourceTensor).\n",
      "  labels = torch.tensor(labels).to(device)\n"
     ]
    },
    {
     "name": "stdout",
     "output_type": "stream",
     "text": [
      "Epoch [1/15], Loss: 1.6338, Accuracy: 0.6799\n"
     ]
    },
    {
     "name": "stderr",
     "output_type": "stream",
     "text": [
      "/tmp/ipykernel_303787/3124605072.py:126: UserWarning: To copy construct from a tensor, it is recommended to use sourceTensor.clone().detach() or sourceTensor.clone().detach().requires_grad_(True), rather than torch.tensor(sourceTensor).\n",
      "  labels = torch.tensor(labels).to(device)\n"
     ]
    },
    {
     "name": "stdout",
     "output_type": "stream",
     "text": [
      "Epoch [2/15], Loss: 1.6037, Accuracy: 0.7510\n",
      "Epoch [3/15], Loss: 1.5932, Accuracy: 0.7699\n",
      "Epoch [4/15], Loss: 1.5512, Accuracy: 0.7531\n",
      "Epoch [5/15], Loss: 1.5494, Accuracy: 0.7364\n",
      "Epoch [6/15], Loss: 1.5283, Accuracy: 0.7762\n",
      "Epoch [7/15], Loss: 1.4890, Accuracy: 0.7803\n",
      "Epoch [8/15], Loss: 1.4881, Accuracy: 0.7845\n",
      "Epoch [9/15], Loss: 1.4888, Accuracy: 0.7824\n",
      "Epoch [10/15], Loss: 1.5024, Accuracy: 0.7615\n",
      "Epoch [11/15], Loss: 1.4786, Accuracy: 0.7845\n",
      "Epoch [12/15], Loss: 1.4906, Accuracy: 0.7762\n",
      "Epoch [13/15], Loss: 1.4601, Accuracy: 0.8033\n",
      "Epoch [14/15], Loss: 1.4435, Accuracy: 0.8180\n",
      "Epoch [15/15], Loss: 1.4469, Accuracy: 0.8222\n",
      "------------------------------------------------------------\n"
     ]
    },
    {
     "name": "stderr",
     "output_type": "stream",
     "text": [
      "/tmp/ipykernel_303787/3124605072.py:153: UserWarning: To copy construct from a tensor, it is recommended to use sourceTensor.clone().detach() or sourceTensor.clone().detach().requires_grad_(True), rather than torch.tensor(sourceTensor).\n",
      "  labels = torch.tensor(labels).to(device)\n"
     ]
    },
    {
     "name": "stdout",
     "output_type": "stream",
     "text": [
      "--------- Number of Iteration 8 ---------\n"
     ]
    },
    {
     "name": "stderr",
     "output_type": "stream",
     "text": [
      "/tmp/ipykernel_303787/3124605072.py:87: UserWarning: To copy construct from a tensor, it is recommended to use sourceTensor.clone().detach() or sourceTensor.clone().detach().requires_grad_(True), rather than torch.tensor(sourceTensor).\n",
      "  labels = torch.tensor(labels).to(device)\n"
     ]
    },
    {
     "name": "stdout",
     "output_type": "stream",
     "text": [
      "Epoch [1/15], Loss: 1.5131, Accuracy: 0.7584\n"
     ]
    },
    {
     "name": "stderr",
     "output_type": "stream",
     "text": [
      "/tmp/ipykernel_303787/3124605072.py:126: UserWarning: To copy construct from a tensor, it is recommended to use sourceTensor.clone().detach() or sourceTensor.clone().detach().requires_grad_(True), rather than torch.tensor(sourceTensor).\n",
      "  labels = torch.tensor(labels).to(device)\n"
     ]
    },
    {
     "name": "stdout",
     "output_type": "stream",
     "text": [
      "Epoch [2/15], Loss: 1.5226, Accuracy: 0.7734\n",
      "Epoch [3/15], Loss: 1.5041, Accuracy: 0.7734\n",
      "Epoch [4/15], Loss: 1.5058, Accuracy: 0.7715\n",
      "Epoch [5/15], Loss: 1.4844, Accuracy: 0.8034\n",
      "Epoch [6/15], Loss: 1.4967, Accuracy: 0.7697\n",
      "Epoch [7/15], Loss: 1.4793, Accuracy: 0.7828\n",
      "Epoch [8/15], Loss: 1.4852, Accuracy: 0.7659\n",
      "Epoch [9/15], Loss: 1.4564, Accuracy: 0.8052\n",
      "Epoch [10/15], Loss: 1.4643, Accuracy: 0.8090\n",
      "Epoch [11/15], Loss: 1.4635, Accuracy: 0.8277\n",
      "Epoch [12/15], Loss: 1.4509, Accuracy: 0.8090\n",
      "Epoch [13/15], Loss: 1.4425, Accuracy: 0.8202\n",
      "Epoch [14/15], Loss: 1.4434, Accuracy: 0.8333\n",
      "Epoch [15/15], Loss: 1.4412, Accuracy: 0.8296\n",
      "------------------------------------------------------------\n"
     ]
    },
    {
     "name": "stderr",
     "output_type": "stream",
     "text": [
      "/tmp/ipykernel_303787/3124605072.py:153: UserWarning: To copy construct from a tensor, it is recommended to use sourceTensor.clone().detach() or sourceTensor.clone().detach().requires_grad_(True), rather than torch.tensor(sourceTensor).\n",
      "  labels = torch.tensor(labels).to(device)\n"
     ]
    },
    {
     "name": "stdout",
     "output_type": "stream",
     "text": [
      "--------- Number of Iteration 9 ---------\n"
     ]
    },
    {
     "name": "stderr",
     "output_type": "stream",
     "text": [
      "/tmp/ipykernel_303787/3124605072.py:87: UserWarning: To copy construct from a tensor, it is recommended to use sourceTensor.clone().detach() or sourceTensor.clone().detach().requires_grad_(True), rather than torch.tensor(sourceTensor).\n",
      "  labels = torch.tensor(labels).to(device)\n"
     ]
    },
    {
     "name": "stdout",
     "output_type": "stream",
     "text": [
      "Epoch [1/15], Loss: 1.5079, Accuracy: 0.7831\n"
     ]
    },
    {
     "name": "stderr",
     "output_type": "stream",
     "text": [
      "/tmp/ipykernel_303787/3124605072.py:126: UserWarning: To copy construct from a tensor, it is recommended to use sourceTensor.clone().detach() or sourceTensor.clone().detach().requires_grad_(True), rather than torch.tensor(sourceTensor).\n",
      "  labels = torch.tensor(labels).to(device)\n"
     ]
    },
    {
     "name": "stdout",
     "output_type": "stream",
     "text": [
      "Epoch [2/15], Loss: 1.5337, Accuracy: 0.7576\n",
      "Epoch [3/15], Loss: 1.5265, Accuracy: 0.7339\n",
      "Epoch [4/15], Loss: 1.5080, Accuracy: 0.7695\n",
      "Epoch [5/15], Loss: 1.5052, Accuracy: 0.7593\n",
      "Epoch [6/15], Loss: 1.4909, Accuracy: 0.8085\n",
      "Epoch [7/15], Loss: 1.4932, Accuracy: 0.7966\n",
      "Epoch [8/15], Loss: 1.5130, Accuracy: 0.7610\n",
      "Epoch [9/15], Loss: 1.5198, Accuracy: 0.6932\n",
      "Epoch [10/15], Loss: 1.4971, Accuracy: 0.7576\n",
      "Epoch [11/15], Loss: 1.4768, Accuracy: 0.7983\n",
      "Epoch [12/15], Loss: 1.4846, Accuracy: 0.7915\n",
      "Epoch [13/15], Loss: 1.4625, Accuracy: 0.8136\n",
      "Epoch [14/15], Loss: 1.4795, Accuracy: 0.7797\n",
      "Epoch [15/15], Loss: 1.4777, Accuracy: 0.7847\n",
      "------------------------------------------------------------\n"
     ]
    },
    {
     "name": "stderr",
     "output_type": "stream",
     "text": [
      "/tmp/ipykernel_303787/3124605072.py:153: UserWarning: To copy construct from a tensor, it is recommended to use sourceTensor.clone().detach() or sourceTensor.clone().detach().requires_grad_(True), rather than torch.tensor(sourceTensor).\n",
      "  labels = torch.tensor(labels).to(device)\n"
     ]
    },
    {
     "name": "stdout",
     "output_type": "stream",
     "text": [
      "--------- Number of Iteration 10 ---------\n"
     ]
    },
    {
     "name": "stderr",
     "output_type": "stream",
     "text": [
      "/tmp/ipykernel_303787/3124605072.py:87: UserWarning: To copy construct from a tensor, it is recommended to use sourceTensor.clone().detach() or sourceTensor.clone().detach().requires_grad_(True), rather than torch.tensor(sourceTensor).\n",
      "  labels = torch.tensor(labels).to(device)\n"
     ]
    },
    {
     "name": "stdout",
     "output_type": "stream",
     "text": [
      "Epoch [1/15], Loss: 1.5651, Accuracy: 0.7229\n"
     ]
    },
    {
     "name": "stderr",
     "output_type": "stream",
     "text": [
      "/tmp/ipykernel_303787/3124605072.py:126: UserWarning: To copy construct from a tensor, it is recommended to use sourceTensor.clone().detach() or sourceTensor.clone().detach().requires_grad_(True), rather than torch.tensor(sourceTensor).\n",
      "  labels = torch.tensor(labels).to(device)\n"
     ]
    },
    {
     "name": "stdout",
     "output_type": "stream",
     "text": [
      "Epoch [2/15], Loss: 1.5607, Accuracy: 0.7508\n",
      "Epoch [3/15], Loss: 1.5398, Accuracy: 0.7523\n",
      "Epoch [4/15], Loss: 1.5550, Accuracy: 0.7461\n",
      "Epoch [5/15], Loss: 1.5563, Accuracy: 0.7198\n",
      "Epoch [6/15], Loss: 1.5219, Accuracy: 0.7570\n",
      "Epoch [7/15], Loss: 1.5869, Accuracy: 0.6053\n",
      "Epoch [8/15], Loss: 1.5388, Accuracy: 0.7229\n",
      "Epoch [9/15], Loss: 1.5088, Accuracy: 0.7771\n",
      "Epoch [10/15], Loss: 1.5060, Accuracy: 0.7941\n",
      "Epoch [11/15], Loss: 1.5048, Accuracy: 0.7663\n",
      "Epoch [12/15], Loss: 1.5204, Accuracy: 0.7647\n",
      "Epoch [13/15], Loss: 1.5234, Accuracy: 0.7167\n",
      "Epoch [14/15], Loss: 1.4812, Accuracy: 0.8003\n",
      "Epoch [15/15], Loss: 1.4756, Accuracy: 0.8065\n",
      "------------------------------------------------------------\n"
     ]
    },
    {
     "name": "stderr",
     "output_type": "stream",
     "text": [
      "/tmp/ipykernel_303787/3124605072.py:153: UserWarning: To copy construct from a tensor, it is recommended to use sourceTensor.clone().detach() or sourceTensor.clone().detach().requires_grad_(True), rather than torch.tensor(sourceTensor).\n",
      "  labels = torch.tensor(labels).to(device)\n"
     ]
    },
    {
     "name": "stdout",
     "output_type": "stream",
     "text": [
      "--------- Number of Iteration 11 ---------\n"
     ]
    },
    {
     "name": "stderr",
     "output_type": "stream",
     "text": [
      "/tmp/ipykernel_303787/3124605072.py:87: UserWarning: To copy construct from a tensor, it is recommended to use sourceTensor.clone().detach() or sourceTensor.clone().detach().requires_grad_(True), rather than torch.tensor(sourceTensor).\n",
      "  labels = torch.tensor(labels).to(device)\n"
     ]
    },
    {
     "name": "stdout",
     "output_type": "stream",
     "text": [
      "Epoch [1/15], Loss: 1.5681, Accuracy: 0.7208\n"
     ]
    },
    {
     "name": "stderr",
     "output_type": "stream",
     "text": [
      "/tmp/ipykernel_303787/3124605072.py:126: UserWarning: To copy construct from a tensor, it is recommended to use sourceTensor.clone().detach() or sourceTensor.clone().detach().requires_grad_(True), rather than torch.tensor(sourceTensor).\n",
      "  labels = torch.tensor(labels).to(device)\n"
     ]
    },
    {
     "name": "stdout",
     "output_type": "stream",
     "text": [
      "Epoch [2/15], Loss: 1.5772, Accuracy: 0.6909\n",
      "Epoch [3/15], Loss: 1.5432, Accuracy: 0.7650\n",
      "Epoch [4/15], Loss: 1.5311, Accuracy: 0.7507\n",
      "Epoch [5/15], Loss: 1.5257, Accuracy: 0.7792\n",
      "Epoch [6/15], Loss: 1.5100, Accuracy: 0.7821\n",
      "Epoch [7/15], Loss: 1.5245, Accuracy: 0.7536\n",
      "Epoch [8/15], Loss: 1.5374, Accuracy: 0.7707\n",
      "Epoch [9/15], Loss: 1.5060, Accuracy: 0.7735\n",
      "Epoch [10/15], Loss: 1.4886, Accuracy: 0.7906\n",
      "Epoch [11/15], Loss: 1.5034, Accuracy: 0.7664\n",
      "Epoch [12/15], Loss: 1.5060, Accuracy: 0.7792\n",
      "Epoch [13/15], Loss: 1.4883, Accuracy: 0.7863\n",
      "Epoch [14/15], Loss: 1.4903, Accuracy: 0.7991\n",
      "Epoch [15/15], Loss: 1.4935, Accuracy: 0.7877\n",
      "------------------------------------------------------------\n"
     ]
    },
    {
     "name": "stderr",
     "output_type": "stream",
     "text": [
      "/tmp/ipykernel_303787/3124605072.py:153: UserWarning: To copy construct from a tensor, it is recommended to use sourceTensor.clone().detach() or sourceTensor.clone().detach().requires_grad_(True), rather than torch.tensor(sourceTensor).\n",
      "  labels = torch.tensor(labels).to(device)\n"
     ]
    },
    {
     "name": "stdout",
     "output_type": "stream",
     "text": [
      "--------- Number of Iteration 12 ---------\n"
     ]
    },
    {
     "name": "stderr",
     "output_type": "stream",
     "text": [
      "/tmp/ipykernel_303787/3124605072.py:87: UserWarning: To copy construct from a tensor, it is recommended to use sourceTensor.clone().detach() or sourceTensor.clone().detach().requires_grad_(True), rather than torch.tensor(sourceTensor).\n",
      "  labels = torch.tensor(labels).to(device)\n"
     ]
    },
    {
     "name": "stdout",
     "output_type": "stream",
     "text": [
      "Epoch [1/15], Loss: 1.5178, Accuracy: 0.7718\n"
     ]
    },
    {
     "name": "stderr",
     "output_type": "stream",
     "text": [
      "/tmp/ipykernel_303787/3124605072.py:126: UserWarning: To copy construct from a tensor, it is recommended to use sourceTensor.clone().detach() or sourceTensor.clone().detach().requires_grad_(True), rather than torch.tensor(sourceTensor).\n",
      "  labels = torch.tensor(labels).to(device)\n"
     ]
    },
    {
     "name": "stdout",
     "output_type": "stream",
     "text": [
      "Epoch [2/15], Loss: 1.4990, Accuracy: 0.7784\n",
      "Epoch [3/15], Loss: 1.4946, Accuracy: 0.7968\n",
      "Epoch [4/15], Loss: 1.4959, Accuracy: 0.7876\n",
      "Epoch [5/15], Loss: 1.4894, Accuracy: 0.7995\n",
      "Epoch [6/15], Loss: 1.4955, Accuracy: 0.7955\n",
      "Epoch [7/15], Loss: 1.4992, Accuracy: 0.7902\n",
      "Epoch [8/15], Loss: 1.4711, Accuracy: 0.8127\n",
      "Epoch [9/15], Loss: 1.4729, Accuracy: 0.8179\n",
      "Epoch [10/15], Loss: 1.5000, Accuracy: 0.7982\n",
      "Epoch [11/15], Loss: 1.4859, Accuracy: 0.7850\n",
      "Epoch [12/15], Loss: 1.4906, Accuracy: 0.8127\n",
      "Epoch [13/15], Loss: 1.4666, Accuracy: 0.8166\n",
      "Epoch [14/15], Loss: 1.4710, Accuracy: 0.8021\n",
      "Epoch [15/15], Loss: 1.5013, Accuracy: 0.7942\n",
      "------------------------------------------------------------\n"
     ]
    },
    {
     "name": "stderr",
     "output_type": "stream",
     "text": [
      "/tmp/ipykernel_303787/3124605072.py:153: UserWarning: To copy construct from a tensor, it is recommended to use sourceTensor.clone().detach() or sourceTensor.clone().detach().requires_grad_(True), rather than torch.tensor(sourceTensor).\n",
      "  labels = torch.tensor(labels).to(device)\n"
     ]
    },
    {
     "name": "stdout",
     "output_type": "stream",
     "text": [
      "--------- Number of Iteration 13 ---------\n"
     ]
    },
    {
     "name": "stderr",
     "output_type": "stream",
     "text": [
      "/tmp/ipykernel_303787/3124605072.py:87: UserWarning: To copy construct from a tensor, it is recommended to use sourceTensor.clone().detach() or sourceTensor.clone().detach().requires_grad_(True), rather than torch.tensor(sourceTensor).\n",
      "  labels = torch.tensor(labels).to(device)\n"
     ]
    },
    {
     "name": "stdout",
     "output_type": "stream",
     "text": [
      "Epoch [1/15], Loss: 1.4927, Accuracy: 0.7973\n"
     ]
    },
    {
     "name": "stderr",
     "output_type": "stream",
     "text": [
      "/tmp/ipykernel_303787/3124605072.py:126: UserWarning: To copy construct from a tensor, it is recommended to use sourceTensor.clone().detach() or sourceTensor.clone().detach().requires_grad_(True), rather than torch.tensor(sourceTensor).\n",
      "  labels = torch.tensor(labels).to(device)\n"
     ]
    },
    {
     "name": "stdout",
     "output_type": "stream",
     "text": [
      "Epoch [2/15], Loss: 1.4839, Accuracy: 0.8170\n",
      "Epoch [3/15], Loss: 1.4880, Accuracy: 0.7973\n",
      "Epoch [4/15], Loss: 1.4896, Accuracy: 0.7899\n",
      "Epoch [5/15], Loss: 1.4889, Accuracy: 0.7912\n",
      "Epoch [6/15], Loss: 1.4834, Accuracy: 0.8145\n",
      "Epoch [7/15], Loss: 1.4626, Accuracy: 0.8292\n",
      "Epoch [8/15], Loss: 1.4747, Accuracy: 0.8071\n",
      "Epoch [9/15], Loss: 1.5026, Accuracy: 0.7948\n",
      "Epoch [10/15], Loss: 1.4742, Accuracy: 0.8145\n",
      "Epoch [11/15], Loss: 1.4748, Accuracy: 0.8157\n",
      "Epoch [12/15], Loss: 1.4732, Accuracy: 0.8034\n",
      "Epoch [13/15], Loss: 1.4648, Accuracy: 0.8378\n",
      "Epoch [14/15], Loss: 1.4858, Accuracy: 0.7985\n",
      "Epoch [15/15], Loss: 1.4593, Accuracy: 0.8243\n",
      "------------------------------------------------------------\n"
     ]
    },
    {
     "name": "stderr",
     "output_type": "stream",
     "text": [
      "/tmp/ipykernel_303787/3124605072.py:153: UserWarning: To copy construct from a tensor, it is recommended to use sourceTensor.clone().detach() or sourceTensor.clone().detach().requires_grad_(True), rather than torch.tensor(sourceTensor).\n",
      "  labels = torch.tensor(labels).to(device)\n"
     ]
    },
    {
     "name": "stdout",
     "output_type": "stream",
     "text": [
      "--------- Number of Iteration 14 ---------\n"
     ]
    },
    {
     "name": "stderr",
     "output_type": "stream",
     "text": [
      "/tmp/ipykernel_303787/3124605072.py:87: UserWarning: To copy construct from a tensor, it is recommended to use sourceTensor.clone().detach() or sourceTensor.clone().detach().requires_grad_(True), rather than torch.tensor(sourceTensor).\n",
      "  labels = torch.tensor(labels).to(device)\n"
     ]
    },
    {
     "name": "stdout",
     "output_type": "stream",
     "text": [
      "Epoch [1/15], Loss: 1.5086, Accuracy: 0.7678\n"
     ]
    },
    {
     "name": "stderr",
     "output_type": "stream",
     "text": [
      "/tmp/ipykernel_303787/3124605072.py:126: UserWarning: To copy construct from a tensor, it is recommended to use sourceTensor.clone().detach() or sourceTensor.clone().detach().requires_grad_(True), rather than torch.tensor(sourceTensor).\n",
      "  labels = torch.tensor(labels).to(device)\n"
     ]
    },
    {
     "name": "stdout",
     "output_type": "stream",
     "text": [
      "Epoch [2/15], Loss: 1.5033, Accuracy: 0.8034\n",
      "Epoch [3/15], Loss: 1.4812, Accuracy: 0.7690\n",
      "Epoch [4/15], Loss: 1.4865, Accuracy: 0.7782\n",
      "Epoch [5/15], Loss: 1.4838, Accuracy: 0.7885\n",
      "Epoch [6/15], Loss: 1.4868, Accuracy: 0.7609\n",
      "Epoch [7/15], Loss: 1.4648, Accuracy: 0.8023\n",
      "Epoch [8/15], Loss: 1.4807, Accuracy: 0.7954\n",
      "Epoch [9/15], Loss: 1.4964, Accuracy: 0.7609\n",
      "Epoch [10/15], Loss: 1.4772, Accuracy: 0.8046\n",
      "Epoch [11/15], Loss: 1.4634, Accuracy: 0.8115\n",
      "Epoch [12/15], Loss: 1.4683, Accuracy: 0.7805\n",
      "Epoch [13/15], Loss: 1.4502, Accuracy: 0.8046\n",
      "Epoch [14/15], Loss: 1.4674, Accuracy: 0.8184\n",
      "Epoch [15/15], Loss: 1.4894, Accuracy: 0.7828\n",
      "------------------------------------------------------------\n"
     ]
    },
    {
     "name": "stderr",
     "output_type": "stream",
     "text": [
      "/tmp/ipykernel_303787/3124605072.py:153: UserWarning: To copy construct from a tensor, it is recommended to use sourceTensor.clone().detach() or sourceTensor.clone().detach().requires_grad_(True), rather than torch.tensor(sourceTensor).\n",
      "  labels = torch.tensor(labels).to(device)\n"
     ]
    },
    {
     "name": "stdout",
     "output_type": "stream",
     "text": [
      "--------- Number of Iteration 15 ---------\n"
     ]
    },
    {
     "name": "stderr",
     "output_type": "stream",
     "text": [
      "/tmp/ipykernel_303787/3124605072.py:87: UserWarning: To copy construct from a tensor, it is recommended to use sourceTensor.clone().detach() or sourceTensor.clone().detach().requires_grad_(True), rather than torch.tensor(sourceTensor).\n",
      "  labels = torch.tensor(labels).to(device)\n"
     ]
    },
    {
     "name": "stdout",
     "output_type": "stream",
     "text": [
      "Epoch [1/15], Loss: 1.5016, Accuracy: 0.7711\n"
     ]
    },
    {
     "name": "stderr",
     "output_type": "stream",
     "text": [
      "/tmp/ipykernel_303787/3124605072.py:126: UserWarning: To copy construct from a tensor, it is recommended to use sourceTensor.clone().detach() or sourceTensor.clone().detach().requires_grad_(True), rather than torch.tensor(sourceTensor).\n",
      "  labels = torch.tensor(labels).to(device)\n"
     ]
    },
    {
     "name": "stdout",
     "output_type": "stream",
     "text": [
      "Epoch [2/15], Loss: 1.4923, Accuracy: 0.7927\n",
      "Epoch [3/15], Loss: 1.4742, Accuracy: 0.8013\n",
      "Epoch [4/15], Loss: 1.4867, Accuracy: 0.7991\n",
      "Epoch [5/15], Loss: 1.4953, Accuracy: 0.7851\n",
      "Epoch [6/15], Loss: 1.4783, Accuracy: 0.7937\n",
      "Epoch [7/15], Loss: 1.4683, Accuracy: 0.8121\n",
      "Epoch [8/15], Loss: 1.4720, Accuracy: 0.8121\n",
      "Epoch [9/15], Loss: 1.4715, Accuracy: 0.7905\n",
      "Epoch [10/15], Loss: 1.4752, Accuracy: 0.8002\n",
      "Epoch [11/15], Loss: 1.4555, Accuracy: 0.8153\n",
      "Epoch [12/15], Loss: 1.4658, Accuracy: 0.8110\n",
      "Epoch [13/15], Loss: 1.4605, Accuracy: 0.8251\n",
      "Epoch [14/15], Loss: 1.4488, Accuracy: 0.8207\n",
      "Epoch [15/15], Loss: 1.4527, Accuracy: 0.8186\n",
      "------------------------------------------------------------\n"
     ]
    },
    {
     "name": "stderr",
     "output_type": "stream",
     "text": [
      "/tmp/ipykernel_303787/3124605072.py:153: UserWarning: To copy construct from a tensor, it is recommended to use sourceTensor.clone().detach() or sourceTensor.clone().detach().requires_grad_(True), rather than torch.tensor(sourceTensor).\n",
      "  labels = torch.tensor(labels).to(device)\n"
     ]
    },
    {
     "name": "stdout",
     "output_type": "stream",
     "text": [
      "--------- Number of Iteration 16 ---------\n"
     ]
    },
    {
     "name": "stderr",
     "output_type": "stream",
     "text": [
      "/tmp/ipykernel_303787/3124605072.py:87: UserWarning: To copy construct from a tensor, it is recommended to use sourceTensor.clone().detach() or sourceTensor.clone().detach().requires_grad_(True), rather than torch.tensor(sourceTensor).\n",
      "  labels = torch.tensor(labels).to(device)\n"
     ]
    },
    {
     "name": "stdout",
     "output_type": "stream",
     "text": [
      "Epoch [1/15], Loss: 1.5071, Accuracy: 0.7770\n"
     ]
    },
    {
     "name": "stderr",
     "output_type": "stream",
     "text": [
      "/tmp/ipykernel_303787/3124605072.py:126: UserWarning: To copy construct from a tensor, it is recommended to use sourceTensor.clone().detach() or sourceTensor.clone().detach().requires_grad_(True), rather than torch.tensor(sourceTensor).\n",
      "  labels = torch.tensor(labels).to(device)\n"
     ]
    },
    {
     "name": "stdout",
     "output_type": "stream",
     "text": [
      "Epoch [2/15], Loss: 1.5010, Accuracy: 0.7566\n",
      "Epoch [3/15], Loss: 1.4897, Accuracy: 0.7902\n",
      "Epoch [4/15], Loss: 1.4815, Accuracy: 0.7811\n",
      "Epoch [5/15], Loss: 1.4992, Accuracy: 0.7770\n",
      "Epoch [6/15], Loss: 1.4864, Accuracy: 0.7770\n",
      "Epoch [7/15], Loss: 1.4764, Accuracy: 0.8035\n",
      "Epoch [8/15], Loss: 1.4627, Accuracy: 0.8116\n",
      "Epoch [9/15], Loss: 1.4623, Accuracy: 0.8075\n",
      "Epoch [10/15], Loss: 1.4761, Accuracy: 0.7851\n",
      "Epoch [11/15], Loss: 1.4548, Accuracy: 0.8065\n",
      "Epoch [12/15], Loss: 1.4722, Accuracy: 0.7953\n",
      "Epoch [13/15], Loss: 1.4570, Accuracy: 0.8065\n",
      "Epoch [14/15], Loss: 1.4577, Accuracy: 0.8218\n",
      "Epoch [15/15], Loss: 1.4979, Accuracy: 0.7760\n",
      "------------------------------------------------------------\n"
     ]
    },
    {
     "name": "stderr",
     "output_type": "stream",
     "text": [
      "/tmp/ipykernel_303787/3124605072.py:153: UserWarning: To copy construct from a tensor, it is recommended to use sourceTensor.clone().detach() or sourceTensor.clone().detach().requires_grad_(True), rather than torch.tensor(sourceTensor).\n",
      "  labels = torch.tensor(labels).to(device)\n"
     ]
    },
    {
     "name": "stdout",
     "output_type": "stream",
     "text": [
      "--------- Number of Iteration 17 ---------\n"
     ]
    },
    {
     "name": "stderr",
     "output_type": "stream",
     "text": [
      "/tmp/ipykernel_303787/3124605072.py:87: UserWarning: To copy construct from a tensor, it is recommended to use sourceTensor.clone().detach() or sourceTensor.clone().detach().requires_grad_(True), rather than torch.tensor(sourceTensor).\n",
      "  labels = torch.tensor(labels).to(device)\n"
     ]
    },
    {
     "name": "stdout",
     "output_type": "stream",
     "text": [
      "Epoch [1/15], Loss: 1.5005, Accuracy: 0.7649\n"
     ]
    },
    {
     "name": "stderr",
     "output_type": "stream",
     "text": [
      "/tmp/ipykernel_303787/3124605072.py:126: UserWarning: To copy construct from a tensor, it is recommended to use sourceTensor.clone().detach() or sourceTensor.clone().detach().requires_grad_(True), rather than torch.tensor(sourceTensor).\n",
      "  labels = torch.tensor(labels).to(device)\n"
     ]
    },
    {
     "name": "stdout",
     "output_type": "stream",
     "text": [
      "Epoch [2/15], Loss: 1.4792, Accuracy: 0.7948\n",
      "Epoch [3/15], Loss: 1.4873, Accuracy: 0.7784\n",
      "Epoch [4/15], Loss: 1.4987, Accuracy: 0.7909\n",
      "Epoch [5/15], Loss: 1.4609, Accuracy: 0.8112\n",
      "Epoch [6/15], Loss: 1.4661, Accuracy: 0.8054\n",
      "Epoch [7/15], Loss: 1.4651, Accuracy: 0.8150\n",
      "Epoch [8/15], Loss: 1.4756, Accuracy: 0.7881\n",
      "Epoch [9/15], Loss: 1.4891, Accuracy: 0.7890\n",
      "Epoch [10/15], Loss: 1.4664, Accuracy: 0.8015\n",
      "Epoch [11/15], Loss: 1.4665, Accuracy: 0.7900\n",
      "Epoch [12/15], Loss: 1.4687, Accuracy: 0.8170\n",
      "Epoch [13/15], Loss: 1.4691, Accuracy: 0.8073\n",
      "Epoch [14/15], Loss: 1.4959, Accuracy: 0.7803\n",
      "Epoch [15/15], Loss: 1.4609, Accuracy: 0.8092\n",
      "------------------------------------------------------------\n"
     ]
    },
    {
     "name": "stderr",
     "output_type": "stream",
     "text": [
      "/tmp/ipykernel_303787/3124605072.py:153: UserWarning: To copy construct from a tensor, it is recommended to use sourceTensor.clone().detach() or sourceTensor.clone().detach().requires_grad_(True), rather than torch.tensor(sourceTensor).\n",
      "  labels = torch.tensor(labels).to(device)\n"
     ]
    },
    {
     "name": "stdout",
     "output_type": "stream",
     "text": [
      "--------- Number of Iteration 18 ---------\n"
     ]
    },
    {
     "name": "stderr",
     "output_type": "stream",
     "text": [
      "/tmp/ipykernel_303787/3124605072.py:87: UserWarning: To copy construct from a tensor, it is recommended to use sourceTensor.clone().detach() or sourceTensor.clone().detach().requires_grad_(True), rather than torch.tensor(sourceTensor).\n",
      "  labels = torch.tensor(labels).to(device)\n"
     ]
    },
    {
     "name": "stdout",
     "output_type": "stream",
     "text": [
      "Epoch [1/15], Loss: 1.5101, Accuracy: 0.7642\n"
     ]
    },
    {
     "name": "stderr",
     "output_type": "stream",
     "text": [
      "/tmp/ipykernel_303787/3124605072.py:126: UserWarning: To copy construct from a tensor, it is recommended to use sourceTensor.clone().detach() or sourceTensor.clone().detach().requires_grad_(True), rather than torch.tensor(sourceTensor).\n",
      "  labels = torch.tensor(labels).to(device)\n"
     ]
    },
    {
     "name": "stdout",
     "output_type": "stream",
     "text": [
      "Epoch [2/15], Loss: 1.5142, Accuracy: 0.7651\n",
      "Epoch [3/15], Loss: 1.5066, Accuracy: 0.7724\n",
      "Epoch [4/15], Loss: 1.5119, Accuracy: 0.7495\n",
      "Epoch [5/15], Loss: 1.4948, Accuracy: 0.7697\n",
      "Epoch [6/15], Loss: 1.5160, Accuracy: 0.7386\n",
      "Epoch [7/15], Loss: 1.4901, Accuracy: 0.7761\n",
      "Epoch [8/15], Loss: 1.4792, Accuracy: 0.8044\n",
      "Epoch [9/15], Loss: 1.4857, Accuracy: 0.7687\n",
      "Epoch [10/15], Loss: 1.4852, Accuracy: 0.7934\n",
      "Epoch [11/15], Loss: 1.4877, Accuracy: 0.7907\n",
      "Epoch [12/15], Loss: 1.4936, Accuracy: 0.7633\n",
      "Epoch [13/15], Loss: 1.4665, Accuracy: 0.8108\n",
      "Epoch [14/15], Loss: 1.4829, Accuracy: 0.7916\n",
      "Epoch [15/15], Loss: 1.4597, Accuracy: 0.8062\n",
      "------------------------------------------------------------\n"
     ]
    },
    {
     "name": "stderr",
     "output_type": "stream",
     "text": [
      "/tmp/ipykernel_303787/3124605072.py:153: UserWarning: To copy construct from a tensor, it is recommended to use sourceTensor.clone().detach() or sourceTensor.clone().detach().requires_grad_(True), rather than torch.tensor(sourceTensor).\n",
      "  labels = torch.tensor(labels).to(device)\n"
     ]
    },
    {
     "name": "stdout",
     "output_type": "stream",
     "text": [
      "--------- Number of Iteration 19 ---------\n"
     ]
    },
    {
     "name": "stderr",
     "output_type": "stream",
     "text": [
      "/tmp/ipykernel_303787/3124605072.py:87: UserWarning: To copy construct from a tensor, it is recommended to use sourceTensor.clone().detach() or sourceTensor.clone().detach().requires_grad_(True), rather than torch.tensor(sourceTensor).\n",
      "  labels = torch.tensor(labels).to(device)\n"
     ]
    },
    {
     "name": "stdout",
     "output_type": "stream",
     "text": [
      "Epoch [1/15], Loss: 1.4891, Accuracy: 0.7791\n"
     ]
    },
    {
     "name": "stderr",
     "output_type": "stream",
     "text": [
      "/tmp/ipykernel_303787/3124605072.py:126: UserWarning: To copy construct from a tensor, it is recommended to use sourceTensor.clone().detach() or sourceTensor.clone().detach().requires_grad_(True), rather than torch.tensor(sourceTensor).\n",
      "  labels = torch.tensor(labels).to(device)\n"
     ]
    },
    {
     "name": "stdout",
     "output_type": "stream",
     "text": [
      "Epoch [2/15], Loss: 1.4787, Accuracy: 0.8026\n",
      "Epoch [3/15], Loss: 1.4687, Accuracy: 0.7948\n",
      "Epoch [4/15], Loss: 1.4867, Accuracy: 0.7843\n",
      "Epoch [5/15], Loss: 1.4682, Accuracy: 0.8078\n",
      "Epoch [6/15], Loss: 1.4983, Accuracy: 0.7713\n",
      "Epoch [7/15], Loss: 1.4787, Accuracy: 0.7965\n",
      "Epoch [8/15], Loss: 1.4693, Accuracy: 0.8113\n",
      "Epoch [9/15], Loss: 1.4553, Accuracy: 0.8243\n",
      "Epoch [10/15], Loss: 1.4695, Accuracy: 0.8043\n",
      "Epoch [11/15], Loss: 1.4703, Accuracy: 0.8139\n",
      "Epoch [12/15], Loss: 1.4651, Accuracy: 0.8122\n",
      "Epoch [13/15], Loss: 1.4598, Accuracy: 0.8078\n",
      "Epoch [14/15], Loss: 1.4679, Accuracy: 0.8122\n",
      "Epoch [15/15], Loss: 1.4600, Accuracy: 0.8113\n",
      "------------------------------------------------------------\n"
     ]
    },
    {
     "name": "stderr",
     "output_type": "stream",
     "text": [
      "/tmp/ipykernel_303787/3124605072.py:153: UserWarning: To copy construct from a tensor, it is recommended to use sourceTensor.clone().detach() or sourceTensor.clone().detach().requires_grad_(True), rather than torch.tensor(sourceTensor).\n",
      "  labels = torch.tensor(labels).to(device)\n"
     ]
    },
    {
     "data": {
      "image/png": "[encoded data removed]",
      "text/plain": [
       "<Figure size 640x480 with 1 Axes>"
      ]
     },
     "metadata": {},
     "output_type": "display_data"
    }
   ],
   "source": [
    "for criterion in selection_criteria:\n",
    "    AL_class = ActiveLearningPipeline(model=model,\n",
    "                                      test_indices=test_indices,\n",
    "                                      available_pool_indices=available_pool_indices,\n",
    "                                      train_indices=train_indices,\n",
    "                                      selection_criterion=criterion,\n",
    "                                      iterations=iterations,\n",
    "                                      budget_per_iter=budget_per_iter,\n",
    "                                      num_epochs=num_epoch)\n",
    "    accuracy_scores_dict[criterion] = AL_class.run_pipeline()\n",
    "generate_plot(accuracy_scores_dict)"
   ]
  },
  {
   "cell_type": "code",
   "execution_count": 49,
   "metadata": {
    "id": "j5sKVVjSzEl7"
   },
   "outputs": [
    {
     "data": {
      "text/plain": [
       "defaultdict(list,\n",
       "            {'kmeans_num_classes': [0.5608465608465608,\n",
       "              0.6355820105820106,\n",
       "              0.6335978835978836,\n",
       "              0.6382275132275131,\n",
       "              0.625,\n",
       "              0.6395502645502645,\n",
       "              0.6461640211640212,\n",
       "              0.6699735449735449,\n",
       "              0.6124338624338624,\n",
       "              0.6693121693121693,\n",
       "              0.6554232804232804,\n",
       "              0.6157407407407407,\n",
       "              0.6402116402116402,\n",
       "              0.6699735449735449,\n",
       "              0.6633597883597884,\n",
       "              0.6329365079365079,\n",
       "              0.6309523809523809,\n",
       "              0.6283068783068783,\n",
       "              0.6283068783068783,\n",
       "              0.6435185185185185]})"
      ]
     },
     "execution_count": 49,
     "metadata": {},
     "output_type": "execute_result"
    }
   ],
   "source": [
    "accuracy_scores_dict"
   ]
  },
  {
   "cell_type": "code",
   "execution_count": null,
   "metadata": {},
   "outputs": [],
   "source": [
    "# kmeans 8 nearst 7 0.6355820105820106\n",
    "# kmeans 8 nearst 4 farthest 3 0.669"
   ]
  }
 ],
 "metadata": {
  "colab": {
   "provenance": []
  },
  "kernelspec": {
   "display_name": "Python 3 (ipykernel)",
   "language": "python",
   "name": "python3"
  },
  "language_info": {
   "codemirror_mode": {
    "name": "ipython",
    "version": 3
   },
   "file_extension": ".py",
   "mimetype": "text/x-python",
   "name": "python",
   "nbconvert_exporter": "python",
   "pygments_lexer": "ipython3",
   "version": "3.9.15"
  }
 },
 "nbformat": 4,
 "nbformat_minor": 4
}
