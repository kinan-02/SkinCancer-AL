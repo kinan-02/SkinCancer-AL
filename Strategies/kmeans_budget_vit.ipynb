{
  "cells": [
    {
      "cell_type": "code",
      "execution_count": null,
      "metadata": {
        "id": "JjgyTgaRfy4k"
      },
      "outputs": [],
      "source": [
        "import pandas as pd\n",
        "import numpy as np\n",
        "import pickle\n",
        "from sklearn.ensemble import RandomForestClassifier\n",
        "from sklearn.svm import SVC\n",
        "from sklearn.linear_model import LogisticRegression\n",
        "from scipy.stats import entropy\n",
        "from collections import defaultdict\n",
        "import argparse\n",
        "from matplotlib import pyplot as plt\n",
        "import random, torch\n",
        "\n",
        "random.seed(0) # Set seed for NumPy\n",
        "np.random.seed(0) # Set seed for PyTorch (for both CPU and GPU)\n",
        "torch.manual_seed(0)\n",
        "if torch.cuda.is_available():\n",
        "    torch.cuda.manual_seed_all(0)\n",
        "torch.backends.cudnn.deterministic = True\n",
        "torch.backends.cudnn.benchmark = False\n",
        "\n",
        "train_df = pd.read_csv('train_dataset/metadata.csv')\n",
        "test_df = pd.read_csv('test_dataset/metadata.csv')\n",
        "val_df = pd.read_csv('validation_dataset/metadata.csv')"
      ]
    },
    {
      "cell_type": "code",
      "execution_count": null,
      "metadata": {
        "colab": {
          "base_uri": "https://localhost:8080/",
          "height": 366
        },
        "id": "bcHCCahYj6B7",
        "outputId": "1facd164-3e8b-40f4-81d7-52fc3110e538"
      },
      "outputs": [
        {
          "name": "stdout",
          "output_type": "stream",
          "text": [
            "diagnosis\n",
            "nevus                         1205\n",
            "melanoma                      1113\n",
            "pigmented benign keratosis    1099\n",
            "basal cell carcinoma           514\n",
            "squamous cell carcinoma        197\n",
            "vascular lesion                142\n",
            "actinic keratosis              130\n",
            "dermatofibroma                 115\n",
            "Name: count, dtype: int64\n"
          ]
        }
      ],
      "source": [
        "print(train_df['diagnosis'].value_counts())"
      ]
    },
    {
      "cell_type": "code",
      "execution_count": null,
      "metadata": {
        "id": "LkUCttr0qzCw",
        "outputId": "7810745d-6f48-4902-9cd2-33d72026652c"
      },
      "outputs": [
        {
          "data": {
            "text/plain": [
              "{'actinic keratosis': 0,\n",
              " 'basal cell carcinoma': 1,\n",
              " 'dermatofibroma': 2,\n",
              " 'melanoma': 3,\n",
              " 'nevus': 4,\n",
              " 'pigmented benign keratosis': 5,\n",
              " 'squamous cell carcinoma': 6,\n",
              " 'vascular lesion': 7}"
            ]
          },
          "execution_count": 3,
          "metadata": {},
          "output_type": "execute_result"
        }
      ],
      "source": [
        "class_mapping = {\n",
        "    \"actinic keratosis\": 0,\n",
        "    \"basal cell carcinoma\": 1,\n",
        "    \"dermatofibroma\": 2,\n",
        "    \"melanoma\": 3,\n",
        "    \"nevus\": 4,\n",
        "    \"pigmented benign keratosis\": 5,\n",
        "    \"squamous cell carcinoma\": 6,\n",
        "    \"vascular lesion\":7\n",
        "}\n",
        "class_mapping"
      ]
    },
    {
      "cell_type": "code",
      "execution_count": null,
      "metadata": {
        "id": "BLruwetXmPem"
      },
      "outputs": [],
      "source": [
        "from PIL import Image\n",
        "import os\n",
        "\n",
        "import torchvision.transforms as transforms\n",
        "\n",
        "# Define image transformations (resize, convert to tensor, and normalize)\n",
        "transform = transforms.Compose([\n",
        "    transforms.Resize((224, 224)),          # Resize images to 224x224 (matching ResNet input size)\n",
        "    transforms.ToTensor()\n",
        "])\n",
        "\n",
        "class Dataset():\n",
        "    \"\"\"\n",
        "    This class is to read the data and pass an instance of it later to the Dataloader\n",
        "    \"\"\"\n",
        "    def __init__(self, dataframe, transform, train='train'):\n",
        "        self.dataframe=dataframe\n",
        "        self.train = train\n",
        "        self.transform = transform\n",
        "        self.path_to_image=self._create_path_to_image_dict()\n",
        "        self.paths=list(self.path_to_image.keys())\n",
        "        self.labels=list(self.path_to_image.values())\n",
        "\n",
        "    def _create_path_to_image_dict(self):\n",
        "      path_to_image={}\n",
        "      for index,row in self.dataframe.iterrows():\n",
        "        if self.train == 'train':\n",
        "          img_path = os.path.join('train_dataset/',row['isic_id']+'.jpg')\n",
        "        elif self.train == 'test':\n",
        "          img_path = os.path.join('test_dataset/',row['isic_id']+'.jpg')\n",
        "        else:\n",
        "            img_path = os.path.join('validation_dataset/',row['isic_id']+'.jpg')\n",
        "        label=row['diagnosis']\n",
        "        path_to_image[img_path]=label\n",
        "      return path_to_image\n",
        "\n",
        "    def __len__(self):\n",
        "        return len(self.paths)\n",
        "\n",
        "    def __getitem__(self,index):\n",
        "        img_path=self.paths[index]\n",
        "        img_label=self.labels[index]\n",
        "        image=Image.open(img_path)\n",
        "        image=self.transform(image)\n",
        "        if self.train == 'val':\n",
        "            return image, class_mapping[img_label], index\n",
        "        return image, img_label, index"
      ]
    },
    {
      "cell_type": "code",
      "execution_count": null,
      "metadata": {
        "id": "9yCvnprDoa_7"
      },
      "outputs": [],
      "source": [
        "train_df = Dataset(train_df, transform)\n",
        "val_df = Dataset(val_df, transform,train='val')\n",
        "test_df = Dataset(test_df, transform,train='test')"
      ]
    },
    {
      "cell_type": "code",
      "execution_count": null,
      "metadata": {
        "colab": {
          "base_uri": "https://localhost:8080/"
        },
        "id": "l5L0NcpesnZI",
        "outputId": "22f97091-b571-4138-964f-95a509890583"
      },
      "outputs": [
        {
          "name": "stderr",
          "output_type": "stream",
          "text": [
            "/anaconda/envs/py38_default/lib/python3.9/site-packages/torchvision/models/_utils.py:208: UserWarning: The parameter 'pretrained' is deprecated since 0.13 and may be removed in the future, please use 'weights' instead.\n",
            "  warnings.warn(\n",
            "/anaconda/envs/py38_default/lib/python3.9/site-packages/torchvision/models/_utils.py:223: UserWarning: Arguments other than a weight enum or `None` for 'weights' are deprecated since 0.13 and may be removed in the future. The current behavior is equivalent to passing `weights=ResNet50_Weights.IMAGENET1K_V1`. You can also use `weights=ResNet50_Weights.DEFAULT` to get the most up-to-date weights.\n",
            "  warnings.warn(msg)\n"
          ]
        }
      ],
      "source": [
        "import torch\n",
        "import torch.nn as nn\n",
        "import torchvision.models as models\n",
        "from torchvision import transforms\n",
        "from torch.optim import Adam\n",
        "\n",
        "# Load pre-trained ResNet50 model from torchvision\n",
        "base_model = models.resnet50(pretrained=True)\n",
        "\n",
        "num_classes = 8\n",
        "#replacing the last fc in the pretrained base model\n",
        "base_model.fc = nn.Sequential(\n",
        "    nn.Flatten(),\n",
        "    nn.Linear(base_model.fc.in_features, 128),  # Add a fully connected layer\n",
        "    nn.ReLU(),\n",
        "    nn.Linear(128, num_classes),  # Final layer with number of classes\n",
        "    nn.Softmax(dim=1)  # Softmax activation for multi-class classification\n",
        ")\n",
        "\n",
        "for param in base_model.parameters():\n",
        "    param.requires_grad = False  # Freeze all layers except the fully connected ones\n",
        "\n",
        "# Unfreeze the final fully connected layer\n",
        "for param in base_model.fc.parameters():\n",
        "    param.requires_grad = True\n",
        "\n",
        "loss_f = nn.CrossEntropyLoss()\n",
        "optimizer = Adam(base_model.fc.parameters(), lr=0.0008)\n",
        "\n",
        "device = torch.device(\"cuda\" if torch.cuda.is_available() else \"cpu\")\n",
        "base_model.to(device)\n"
      ]
    },
    {
      "cell_type": "code",
      "execution_count": null,
      "metadata": {
        "id": "tETv7INHqzCy"
      },
      "outputs": [],
      "source": [
        "from torch.utils.data import DataLoader, TensorDataset\n",
        "\n",
        "batch_size = 4\n",
        "val_loader = DataLoader(val_df, batch_size=batch_size, shuffle=False)"
      ]
    },
    {
      "cell_type": "code",
      "execution_count": null,
      "metadata": {
        "id": "-Vk8kyZsgACa"
      },
      "outputs": [],
      "source": [
        "from torch.utils.data import DataLoader, TensorDataset\n",
        "from sklearn.cluster import KMeans\n",
        "import numpy as np\n",
        "class ActiveLearningPipeline:\n",
        "    def __init__(self, model,\n",
        "                 available_pool_indices,\n",
        "                 train_indices,\n",
        "                 test_indices,\n",
        "                 selection_criterion,\n",
        "                 iterations,\n",
        "                 budget_per_iter,\n",
        "                 num_epochs):\n",
        "        self.model = model\n",
        "        self.iterations = iterations\n",
        "        self.budget_per_iter = budget_per_iter\n",
        "        self.available_pool_indices = available_pool_indices\n",
        "        self.train_indices = train_indices\n",
        "        self.test_indices = test_indices\n",
        "        self.selection_criterion = selection_criterion\n",
        "        if self.selection_criterion == 'random':\n",
        "          self.train_indices = []\n",
        "        self.num_epochs = num_epochs\n",
        "        self.pool_features = []\n",
        "        self.pool_indices = []\n",
        "        # self.best_acc = 0\n",
        "\n",
        "    def run_pipeline(self):\n",
        "        \"\"\"\n",
        "        Run the active learning pipeline\n",
        "        :return\n",
        "        accuracy_scores: list, accuracy scores at each iteration\n",
        "        \"\"\"\n",
        "        accuracy_scores = []\n",
        "        # auto_encoder =  Autoencoder(256)\n",
        "        # auto_encoder.load_state_dict(torch.load('vae_model.pth'))\n",
        "        self._get_features()\n",
        "        for iteration in range(self.iterations):\n",
        "            # if len(self.train_indices) > 600:\n",
        "            #     # raise error if the train set is larger than 600 samples\n",
        "            #     raise ValueError('The train set is larger than 600 samples')\n",
        "            print(f\"--------- Number of Iteration {iteration} ---------\")\n",
        "            if self.selection_criterion == 'random':\n",
        "                self._random_sampling()\n",
        "            elif self.selection_criterion == 'kmeans_budget':\n",
        "                self._kmeans_sampling()\n",
        "            else:\n",
        "              self._custom_sampling(iteration)\n",
        "\n",
        "            train_images = [train_df.__getitem__(index)[0] for index in self.train_indices]\n",
        "            label_df = [class_mapping[train_df.__getitem__(index)[1]] for index in self.train_indices]\n",
        "            self._train_model(train_images, label_df)\n",
        "            #loading the best model weights on the validation set in each iteration\n",
        "            self.model.load_state_dict(torch.load(f\"best_{self.selection_criterion}_model.pth\"))\n",
        "            accuracy = self._evaluate_model()\n",
        "            accuracy_scores.append(accuracy)\n",
        "        return accuracy_scores\n",
        "\n",
        "    def calculate_class_weights(self, label_counts, num_classes=8):\n",
        "        \"\"\"\n",
        "        Calculating the inverse of the probability of each class in the dataset\n",
        "        \"\"\"\n",
        "        total_samples = sum(label_counts.values())\n",
        "        class_weights = torch.zeros(num_classes)\n",
        "\n",
        "        for cls in range(num_classes):\n",
        "            if cls in label_counts:\n",
        "                class_weights[cls] = total_samples / (num_classes * label_counts[cls])\n",
        "            else:\n",
        "                class_weights[cls] = 1.0  # Handle the case where a class has zero samples in the current epoch\n",
        "\n",
        "        return class_weights\n",
        "\n",
        "    def _train_model(self, train_images, label_df):\n",
        "      label_counts = defaultdict(int)\n",
        "      for label in label_df:\n",
        "                label_counts[label] += 1\n",
        "      class_weights = self.calculate_class_weights(label_counts, 8).to(device)\n",
        "      loss_f = nn.CrossEntropyLoss(weight=class_weights)\n",
        "\n",
        "      train_images_tensor = torch.stack(train_images)\n",
        "      label_df_tensor = torch.tensor(label_df)\n",
        "      train_dataset = TensorDataset(train_images_tensor, label_df_tensor)\n",
        "\n",
        "      batch_size = 32\n",
        "      train_loader = DataLoader(train_dataset, batch_size=batch_size, shuffle=True)\n",
        "      best_acc = 0\n",
        "      for epoch in range(self.num_epochs):\n",
        "                self.model.train()\n",
        "                running_loss = 0.0  # Track the running loss\n",
        "                correct_predictions = 0\n",
        "                total_predictions = 0\n",
        "                # Training loop\n",
        "                for inputs, labels in train_loader:\n",
        "                    inputs = inputs\n",
        "                    inputs= inputs.to(device)\n",
        "                    labels = torch.tensor(labels).to(device)\n",
        "\n",
        "                    # Zero the parameter gradients\n",
        "                    optimizer.zero_grad()\n",
        "\n",
        "                    # Forward pass\n",
        "                    outputs = self.model(inputs)\n",
        "                    loss = loss_f(outputs, labels)\n",
        "\n",
        "                    # Backward pass and optimization\n",
        "                    loss.backward()\n",
        "                    optimizer.step()\n",
        "\n",
        "                    running_loss += loss.item()\n",
        "\n",
        "                    # Calculate accuracy\n",
        "                    _, preds = torch.max(outputs, 1)\n",
        "                    correct_predictions += torch.sum(preds == labels)\n",
        "                    total_predictions += inputs.shape[0]\n",
        "\n",
        "                # Print loss and accuracy at the end of each epoch\n",
        "                epoch_loss = running_loss / len(train_loader)\n",
        "                epoch_acc = correct_predictions.double() / total_predictions\n",
        "                print(f'Epoch [{epoch+1}/{self.num_epochs}], Loss: {epoch_loss:.4f}, Accuracy: {epoch_acc:.4f}')\n",
        "                #saving the best model on the validation\n",
        "                val_acc = self._check_model()\n",
        "                if val_acc > best_acc:\n",
        "                    best_acc = val_acc\n",
        "                    torch.save(self.model.state_dict(), f\"best_{self.selection_criterion}_model.pth\")\n",
        "      print(\"--\"*30)\n",
        "\n",
        "    def _check_model(self):\n",
        "        \"\"\"\n",
        "        Evaluating the model on the validation set\n",
        "        \"\"\"\n",
        "        self.model.eval()\n",
        "        running_corrects = 0\n",
        "        total_predictions = 0.0\n",
        "\n",
        "        with torch.no_grad():\n",
        "            for inputs, labels, _ in val_loader:\n",
        "                inputs = inputs.to(device)\n",
        "                labels = torch.tensor(labels).to(device)\n",
        "\n",
        "                outputs = self.model(inputs)\n",
        "                _, preds = torch.max(outputs, 1)\n",
        "\n",
        "                running_corrects += torch.sum(preds == labels)\n",
        "                total_predictions += inputs.shape[0]\n",
        "        val_acc = running_corrects.double() / total_predictions\n",
        "        return val_acc.item()\n",
        "\n",
        "    def _evaluate_model(self):\n",
        "        \"\"\"\n",
        "        Evaluate the model on the test set\n",
        "        :return:\n",
        "        accuracy: float, accuracy of the model\n",
        "        \"\"\"\n",
        "        self.model.eval()\n",
        "        running_corrects = 0\n",
        "        test_images_tensor = torch.stack(test_images)\n",
        "        label_df_tensor = torch.tensor(test_label_df)\n",
        "        test_dataset = TensorDataset(test_images_tensor, label_df_tensor)\n",
        "        batch_size = 32\n",
        "        test_loader = DataLoader(test_dataset, batch_size=batch_size, shuffle=False)\n",
        "        total_predictions = 0.0\n",
        "        with torch.no_grad():\n",
        "            for inputs, labels in test_loader:\n",
        "                inputs = inputs.to(device)\n",
        "                labels = torch.tensor(labels).to(device)\n",
        "\n",
        "                outputs = self.model(inputs)\n",
        "                _, preds = torch.max(outputs, 1)\n",
        "\n",
        "                running_corrects += torch.sum(preds == labels)\n",
        "                total_predictions += inputs.shape[0]\n",
        "        test_acc = running_corrects.double() / total_predictions\n",
        "        return test_acc.item()\n",
        "\n",
        "    def _random_sampling(self):\n",
        "      selected_indices = np.random.choice(self.available_pool_indices, self.budget_per_iter, replace=False)\n",
        "      selected_indices = selected_indices.tolist()\n",
        "      self.train_indices = self.train_indices + selected_indices\n",
        "\n",
        "      available_pool_set = set(self.available_pool_indices)\n",
        "      train_set = set(self.train_indices)\n",
        "      self.available_pool_indices = list(available_pool_set - train_set)\n",
        "\n",
        "    def extract_vae_features(self, dataloader, model, feature_extractor):\n",
        "        \"\"\"\n",
        "        Extracting the Representation of the images as a victor based on the feature_extractor which is the embedding model\n",
        "        return the victors of the images we extracted and the indices\n",
        "        \"\"\"\n",
        "        features_list = []\n",
        "        indices_list = []\n",
        "\n",
        "        with torch.no_grad():\n",
        "            for images, indices in dataloader:\n",
        "                images = images.to(device)  # Move images to GPU if available\n",
        "                images_list = [transforms.ToPILImage()(img) for img in images]\n",
        "                inputs = feature_extractor(images=images_list, return_tensors=\"pt\")\n",
        "                inputs = inputs.to(device)\n",
        "                with torch.no_grad():\n",
        "                    outputs = model(**inputs)\n",
        "\n",
        "                x = outputs.last_hidden_state[:, 0, :]\n",
        "                features_list.append(x.cpu().numpy())\n",
        "\n",
        "                # Collect indices\n",
        "                indices_list.extend(indices)\n",
        "\n",
        "        # Stack all features into a 2D array (n_samples, hidden_dim)\n",
        "        features = np.vstack(features_list)\n",
        "\n",
        "        return features, indices_list\n",
        "\n",
        "\n",
        "    def get_representative_images(self, kmeans, pool_features, pool_indices):\n",
        "        \"\"\"\n",
        "         returns a dictionary where the keys are the index of the cluster and the values are the closest images to\n",
        "         each centroid note that the K of the KMeans is the budget per iteration.\n",
        "        \"\"\"\n",
        "        cluster_to_images = {}\n",
        "        for i in range(kmeans.n_clusters):\n",
        "            # Get the indices of all images in the current cluster\n",
        "            cluster_indices = np.where(kmeans.labels_ == i)[0]\n",
        "\n",
        "            # Extract features of the images in the current cluster\n",
        "            cluster_features = pool_features[cluster_indices]\n",
        "\n",
        "            # Compute distances between each feature and the cluster centroid\n",
        "            distances = np.linalg.norm(cluster_features - kmeans.cluster_centers_[i], axis=1)\n",
        "\n",
        "            # Map the cluster number to the index of the representative image\n",
        "            nearest_indices = cluster_indices[np.argsort(distances)[:1]]\n",
        "\n",
        "            # Map the cluster number to the indices of the top k nearest images\n",
        "            cluster_to_images[i] = [pool_indices[idx] for idx in nearest_indices]\n",
        "\n",
        "        return cluster_to_images\n",
        "\n",
        "    def _get_features(self):\n",
        "        #loading the pretrained Vit model to get images embeddings\n",
        "        feature_extractor = ViTFeatureExtractor.from_pretrained('google/vit-base-patch16-224-in21k')\n",
        "        model = ViTModel.from_pretrained('google/vit-base-patch16-224-in21k')\n",
        "        model = model.to(device)\n",
        "\n",
        "        X_unlabeled = [train_df.__getitem__(index)[0] for index in self.available_pool_indices]\n",
        "        # Extract latent features using the Vit model\n",
        "        pool_images_tensor = torch.stack(X_unlabeled)\n",
        "        pool_indices_tensor = torch.tensor(self.available_pool_indices)\n",
        "        pool_dataset = TensorDataset(pool_images_tensor, pool_indices_tensor)\n",
        "\n",
        "        batch_size = 32\n",
        "        pool_loader = DataLoader(pool_dataset, batch_size=batch_size, shuffle=False)\n",
        "\n",
        "        self.pool_features, self.pool_indices = self.extract_vae_features(pool_loader, model, feature_extractor)\n",
        "\n",
        "    def _kmeans_sampling(self):\n",
        "          n_clusters = self.budget_per_iter\n",
        "          kmeans = KMeans(n_clusters=n_clusters, init='k-means++', random_state=0)\n",
        "          kmeans.fit(self.pool_features)\n",
        "\n",
        "          representative_images = self.get_representative_images(kmeans, self.pool_features, self.pool_indices)\n",
        "          selected_indices = list(ids.item() for l in representative_images.values() for ids in l)\n",
        "\n",
        "          for i in selected_indices:\n",
        "              index = self.pool_indices.index(i)\n",
        "              self.pool_features = np.delete(self.pool_features, index, axis=0)\n",
        "              self.pool_indices.pop(index)\n",
        "          self.train_indices = self.train_indices + selected_indices\n",
        "\n",
        "          available_pool_set = set(self.available_pool_indices)\n",
        "          train_set = set(self.train_indices)\n",
        "          self.available_pool_indices = list(available_pool_set - train_set)\n"
      ]
    },
    {
      "cell_type": "code",
      "execution_count": null,
      "metadata": {
        "id": "o5829ZYDh1Rp"
      },
      "outputs": [],
      "source": [
        "def generate_plot(accuracy_scores_dict):\n",
        "    \"\"\"\n",
        "    Generate a plot\n",
        "    \"\"\"\n",
        "    for criterion, accuracy_scores in accuracy_scores_dict.items():\n",
        "        plt.plot(range(1, len(accuracy_scores) + 1), accuracy_scores, label=criterion)\n",
        "    plt.xlabel('Iterations')\n",
        "    plt.ylabel('Accuracy')\n",
        "    plt.legend()\n",
        "    plt.show()"
      ]
    },
    {
      "cell_type": "code",
      "execution_count": null,
      "metadata": {
        "id": "DQ2IZmfRuYgX"
      },
      "outputs": [],
      "source": [
        "available_pool_indices = []\n",
        "for i in range(len(train_df)):\n",
        "    image, label, index = train_df[i]\n",
        "    available_pool_indices.append(index)\n",
        "\n",
        "test_indices = []\n",
        "for i in range(len(test_df)):\n",
        "    image, label, index = test_df[i]\n",
        "    test_indices.append(index)\n",
        "test_images = [test_df.__getitem__(index)[0] for index in test_indices]\n",
        "test_label_df = [class_mapping[test_df.__getitem__(index)[1]] for index in test_indices]"
      ]
    },
    {
      "cell_type": "code",
      "execution_count": null,
      "metadata": {
        "id": "BeFwF0yzqzC1"
      },
      "outputs": [],
      "source": [
        "#According to the initialization that we got using KMeans++ Code of the initialization could be found in the initials file.\n",
        "train_indices = [1372,\n",
        " 1277,\n",
        " 1255,\n",
        " 1423,\n",
        " 2925,\n",
        " 1963,\n",
        " 2335,\n",
        " 1923,\n",
        " 3791,\n",
        " 1239,\n",
        " 909,\n",
        " 134,\n",
        " 1547,\n",
        " 3931,\n",
        " 2467,\n",
        " 2832,\n",
        " 1789,\n",
        " 3022,\n",
        " 2424,\n",
        " 780,\n",
        " 2412,\n",
        " 3038,\n",
        " 2158,\n",
        " 3335,\n",
        " 1868,\n",
        " 1771,\n",
        " 2015,\n",
        " 1535,\n",
        " 710,\n",
        " 3007]\n",
        "available_pool_set = set(available_pool_indices)\n",
        "train_set = set(train_indices)\n",
        "available_pool_indices = list(available_pool_set - train_set)"
      ]
    },
    {
      "cell_type": "code",
      "execution_count": null,
      "metadata": {
        "id": "Pmcf2jc6h2S9"
      },
      "outputs": [],
      "source": [
        "iterations = 20\n",
        "budget_per_iter = 60\n",
        "num_epoch = 15\n",
        "selection_criteria = ['kmeans_budget']\n",
        "accuracy_scores_dict = defaultdict(list)\n",
        "model = base_model"
      ]
    },
    {
      "cell_type": "code",
      "execution_count": null,
      "metadata": {
        "colab": {
          "base_uri": "https://localhost:8080/",
          "height": 339
        },
        "id": "4UGO2jW1h5Ql",
        "outputId": "0993cc7b-2fc2-4a84-a31a-ef45ed5febff"
      },
      "outputs": [
        {
          "name": "stderr",
          "output_type": "stream",
          "text": [
            "2024-10-16 17:29:14.382560: I tensorflow/core/platform/cpu_feature_guard.cc:193] This TensorFlow binary is optimized with oneAPI Deep Neural Network Library (oneDNN) to use the following CPU instructions in performance-critical operations:  AVX2 FMA\n",
            "To enable them in other operations, rebuild TensorFlow with the appropriate compiler flags.\n",
            "2024-10-16 17:29:14.654865: W tensorflow/compiler/xla/stream_executor/platform/default/dso_loader.cc:64] Could not load dynamic library 'libcudart.so.11.0'; dlerror: libcudart.so.11.0: cannot open shared object file: No such file or directory; LD_LIBRARY_PATH: /opt/intel/compilers_and_libraries_2018.1.163/linux/tbb/lib/intel64_lin/gcc4.7:/opt/intel/compilers_and_libraries_2018.1.163/linux/compiler/lib/intel64_lin:/opt/intel/compilers_and_libraries_2018.1.163/linux/mkl/lib/intel64_lin::/usr/local/cuda/lib64:/usr/local/cuda/extras/CUPTI/lib64/\n",
            "2024-10-16 17:29:14.654936: I tensorflow/compiler/xla/stream_executor/cuda/cudart_stub.cc:29] Ignore above cudart dlerror if you do not have a GPU set up on your machine.\n",
            "2024-10-16 17:29:16.034751: W tensorflow/compiler/xla/stream_executor/platform/default/dso_loader.cc:64] Could not load dynamic library 'libnvinfer.so.7'; dlerror: libnvinfer.so.7: cannot open shared object file: No such file or directory; LD_LIBRARY_PATH: /opt/intel/compilers_and_libraries_2018.1.163/linux/tbb/lib/intel64_lin/gcc4.7:/opt/intel/compilers_and_libraries_2018.1.163/linux/compiler/lib/intel64_lin:/opt/intel/compilers_and_libraries_2018.1.163/linux/mkl/lib/intel64_lin::/usr/local/cuda/lib64:/usr/local/cuda/extras/CUPTI/lib64/\n",
            "2024-10-16 17:29:16.034999: W tensorflow/compiler/xla/stream_executor/platform/default/dso_loader.cc:64] Could not load dynamic library 'libnvinfer_plugin.so.7'; dlerror: libnvinfer_plugin.so.7: cannot open shared object file: No such file or directory; LD_LIBRARY_PATH: /opt/intel/compilers_and_libraries_2018.1.163/linux/tbb/lib/intel64_lin/gcc4.7:/opt/intel/compilers_and_libraries_2018.1.163/linux/compiler/lib/intel64_lin:/opt/intel/compilers_and_libraries_2018.1.163/linux/mkl/lib/intel64_lin::/usr/local/cuda/lib64:/usr/local/cuda/extras/CUPTI/lib64/\n",
            "2024-10-16 17:29:16.035019: W tensorflow/compiler/tf2tensorrt/utils/py_utils.cc:38] TF-TRT Warning: Cannot dlopen some TensorRT libraries. If you would like to use Nvidia GPU with TensorRT, please make sure the missing libraries mentioned above are installed properly.\n",
            "/anaconda/envs/py38_default/lib/python3.9/site-packages/huggingface_hub/file_download.py:1142: FutureWarning: `resume_download` is deprecated and will be removed in version 1.0.0. Downloads always resume when possible. If you want to force a new download, use `force_download=True`.\n",
            "  warnings.warn(\n",
            "/anaconda/envs/py38_default/lib/python3.9/site-packages/transformers/models/vit/feature_extraction_vit.py:28: FutureWarning: The class ViTFeatureExtractor is deprecated and will be removed in version 5 of Transformers. Please use ViTImageProcessor instead.\n",
            "  warnings.warn(\n"
          ]
        },
        {
          "name": "stdout",
          "output_type": "stream",
          "text": [
            "--------- Number of Iteration 0 ---------\n"
          ]
        },
        {
          "name": "stderr",
          "output_type": "stream",
          "text": [
            "/tmp/ipykernel_357819/1963945088.py:92: UserWarning: To copy construct from a tensor, it is recommended to use sourceTensor.clone().detach() or sourceTensor.clone().detach().requires_grad_(True), rather than torch.tensor(sourceTensor).\n",
            "  labels = torch.tensor(labels).to(device)\n"
          ]
        },
        {
          "name": "stdout",
          "output_type": "stream",
          "text": [
            "Epoch [1/15], Loss: 2.0904, Accuracy: 0.0889\n"
          ]
        },
        {
          "name": "stderr",
          "output_type": "stream",
          "text": [
            "/tmp/ipykernel_357819/1963945088.py:131: UserWarning: To copy construct from a tensor, it is recommended to use sourceTensor.clone().detach() or sourceTensor.clone().detach().requires_grad_(True), rather than torch.tensor(sourceTensor).\n",
            "  labels = torch.tensor(labels).to(device)\n"
          ]
        },
        {
          "name": "stdout",
          "output_type": "stream",
          "text": [
            "Epoch [2/15], Loss: 2.0600, Accuracy: 0.2889\n",
            "Epoch [3/15], Loss: 2.0226, Accuracy: 0.4444\n",
            "Epoch [4/15], Loss: 1.9662, Accuracy: 0.4889\n",
            "Epoch [5/15], Loss: 1.8840, Accuracy: 0.6444\n",
            "Epoch [6/15], Loss: 1.8495, Accuracy: 0.4889\n",
            "Epoch [7/15], Loss: 1.7900, Accuracy: 0.4778\n",
            "Epoch [8/15], Loss: 1.7278, Accuracy: 0.5222\n",
            "Epoch [9/15], Loss: 1.6565, Accuracy: 0.7222\n",
            "Epoch [10/15], Loss: 1.6248, Accuracy: 0.7333\n",
            "Epoch [11/15], Loss: 1.5672, Accuracy: 0.8222\n",
            "Epoch [12/15], Loss: 1.5571, Accuracy: 0.8333\n",
            "Epoch [13/15], Loss: 1.5124, Accuracy: 0.8667\n",
            "Epoch [14/15], Loss: 1.4906, Accuracy: 0.8889\n",
            "Epoch [15/15], Loss: 1.4616, Accuracy: 0.9111\n",
            "------------------------------------------------------------\n"
          ]
        },
        {
          "name": "stderr",
          "output_type": "stream",
          "text": [
            "/tmp/ipykernel_357819/1963945088.py:158: UserWarning: To copy construct from a tensor, it is recommended to use sourceTensor.clone().detach() or sourceTensor.clone().detach().requires_grad_(True), rather than torch.tensor(sourceTensor).\n",
            "  labels = torch.tensor(labels).to(device)\n"
          ]
        },
        {
          "name": "stdout",
          "output_type": "stream",
          "text": [
            "--------- Number of Iteration 1 ---------\n"
          ]
        },
        {
          "name": "stderr",
          "output_type": "stream",
          "text": [
            "/tmp/ipykernel_357819/1963945088.py:92: UserWarning: To copy construct from a tensor, it is recommended to use sourceTensor.clone().detach() or sourceTensor.clone().detach().requires_grad_(True), rather than torch.tensor(sourceTensor).\n",
            "  labels = torch.tensor(labels).to(device)\n"
          ]
        },
        {
          "name": "stdout",
          "output_type": "stream",
          "text": [
            "Epoch [1/15], Loss: 1.7010, Accuracy: 0.7133\n"
          ]
        },
        {
          "name": "stderr",
          "output_type": "stream",
          "text": [
            "/tmp/ipykernel_357819/1963945088.py:131: UserWarning: To copy construct from a tensor, it is recommended to use sourceTensor.clone().detach() or sourceTensor.clone().detach().requires_grad_(True), rather than torch.tensor(sourceTensor).\n",
            "  labels = torch.tensor(labels).to(device)\n"
          ]
        },
        {
          "name": "stdout",
          "output_type": "stream",
          "text": [
            "Epoch [2/15], Loss: 1.6895, Accuracy: 0.7467\n",
            "Epoch [3/15], Loss: 1.6661, Accuracy: 0.7600\n",
            "Epoch [4/15], Loss: 1.6367, Accuracy: 0.7400\n",
            "Epoch [5/15], Loss: 1.6026, Accuracy: 0.7933\n",
            "Epoch [6/15], Loss: 1.5980, Accuracy: 0.7933\n",
            "Epoch [7/15], Loss: 1.5620, Accuracy: 0.8000\n",
            "Epoch [8/15], Loss: 1.5557, Accuracy: 0.7933\n",
            "Epoch [9/15], Loss: 1.5146, Accuracy: 0.8267\n",
            "Epoch [10/15], Loss: 1.5154, Accuracy: 0.8533\n",
            "Epoch [11/15], Loss: 1.4863, Accuracy: 0.8467\n",
            "Epoch [12/15], Loss: 1.4857, Accuracy: 0.8467\n",
            "Epoch [13/15], Loss: 1.4758, Accuracy: 0.8533\n",
            "Epoch [14/15], Loss: 1.4841, Accuracy: 0.8467\n",
            "Epoch [15/15], Loss: 1.4482, Accuracy: 0.8533\n",
            "------------------------------------------------------------\n"
          ]
        },
        {
          "name": "stderr",
          "output_type": "stream",
          "text": [
            "/tmp/ipykernel_357819/1963945088.py:158: UserWarning: To copy construct from a tensor, it is recommended to use sourceTensor.clone().detach() or sourceTensor.clone().detach().requires_grad_(True), rather than torch.tensor(sourceTensor).\n",
            "  labels = torch.tensor(labels).to(device)\n"
          ]
        },
        {
          "name": "stdout",
          "output_type": "stream",
          "text": [
            "--------- Number of Iteration 2 ---------\n"
          ]
        },
        {
          "name": "stderr",
          "output_type": "stream",
          "text": [
            "/tmp/ipykernel_357819/1963945088.py:92: UserWarning: To copy construct from a tensor, it is recommended to use sourceTensor.clone().detach() or sourceTensor.clone().detach().requires_grad_(True), rather than torch.tensor(sourceTensor).\n",
            "  labels = torch.tensor(labels).to(device)\n"
          ]
        },
        {
          "name": "stdout",
          "output_type": "stream",
          "text": [
            "Epoch [1/15], Loss: 1.5779, Accuracy: 0.7619\n"
          ]
        },
        {
          "name": "stderr",
          "output_type": "stream",
          "text": [
            "/tmp/ipykernel_357819/1963945088.py:131: UserWarning: To copy construct from a tensor, it is recommended to use sourceTensor.clone().detach() or sourceTensor.clone().detach().requires_grad_(True), rather than torch.tensor(sourceTensor).\n",
            "  labels = torch.tensor(labels).to(device)\n"
          ]
        },
        {
          "name": "stdout",
          "output_type": "stream",
          "text": [
            "Epoch [2/15], Loss: 1.5735, Accuracy: 0.7619\n",
            "Epoch [3/15], Loss: 1.5459, Accuracy: 0.8048\n",
            "Epoch [4/15], Loss: 1.5301, Accuracy: 0.7905\n",
            "Epoch [5/15], Loss: 1.5580, Accuracy: 0.8238\n",
            "Epoch [6/15], Loss: 1.4967, Accuracy: 0.8238\n",
            "Epoch [7/15], Loss: 1.5033, Accuracy: 0.7952\n",
            "Epoch [8/15], Loss: 1.4956, Accuracy: 0.8619\n",
            "Epoch [9/15], Loss: 1.4605, Accuracy: 0.8333\n",
            "Epoch [10/15], Loss: 1.4634, Accuracy: 0.8381\n",
            "Epoch [11/15], Loss: 1.4567, Accuracy: 0.8476\n",
            "Epoch [12/15], Loss: 1.4608, Accuracy: 0.8143\n",
            "Epoch [13/15], Loss: 1.4595, Accuracy: 0.8333\n",
            "Epoch [14/15], Loss: 1.4563, Accuracy: 0.8619\n",
            "Epoch [15/15], Loss: 1.4477, Accuracy: 0.8571\n",
            "------------------------------------------------------------\n"
          ]
        },
        {
          "name": "stderr",
          "output_type": "stream",
          "text": [
            "/tmp/ipykernel_357819/1963945088.py:158: UserWarning: To copy construct from a tensor, it is recommended to use sourceTensor.clone().detach() or sourceTensor.clone().detach().requires_grad_(True), rather than torch.tensor(sourceTensor).\n",
            "  labels = torch.tensor(labels).to(device)\n"
          ]
        },
        {
          "name": "stdout",
          "output_type": "stream",
          "text": [
            "--------- Number of Iteration 3 ---------\n"
          ]
        },
        {
          "name": "stderr",
          "output_type": "stream",
          "text": [
            "/tmp/ipykernel_357819/1963945088.py:92: UserWarning: To copy construct from a tensor, it is recommended to use sourceTensor.clone().detach() or sourceTensor.clone().detach().requires_grad_(True), rather than torch.tensor(sourceTensor).\n",
            "  labels = torch.tensor(labels).to(device)\n"
          ]
        },
        {
          "name": "stdout",
          "output_type": "stream",
          "text": [
            "Epoch [1/15], Loss: 1.5298, Accuracy: 0.8037\n"
          ]
        },
        {
          "name": "stderr",
          "output_type": "stream",
          "text": [
            "/tmp/ipykernel_357819/1963945088.py:131: UserWarning: To copy construct from a tensor, it is recommended to use sourceTensor.clone().detach() or sourceTensor.clone().detach().requires_grad_(True), rather than torch.tensor(sourceTensor).\n",
            "  labels = torch.tensor(labels).to(device)\n"
          ]
        },
        {
          "name": "stdout",
          "output_type": "stream",
          "text": [
            "Epoch [2/15], Loss: 1.5505, Accuracy: 0.7704\n",
            "Epoch [3/15], Loss: 1.5185, Accuracy: 0.8185\n",
            "Epoch [4/15], Loss: 1.5148, Accuracy: 0.8185\n",
            "Epoch [5/15], Loss: 1.5323, Accuracy: 0.7815\n",
            "Epoch [6/15], Loss: 1.4797, Accuracy: 0.8259\n",
            "Epoch [7/15], Loss: 1.4709, Accuracy: 0.8667\n",
            "Epoch [8/15], Loss: 1.5007, Accuracy: 0.8185\n",
            "Epoch [9/15], Loss: 1.4579, Accuracy: 0.8444\n",
            "Epoch [10/15], Loss: 1.4556, Accuracy: 0.8667\n",
            "Epoch [11/15], Loss: 1.4571, Accuracy: 0.8667\n",
            "Epoch [12/15], Loss: 1.4223, Accuracy: 0.8889\n",
            "Epoch [13/15], Loss: 1.4585, Accuracy: 0.8667\n",
            "Epoch [14/15], Loss: 1.4321, Accuracy: 0.8889\n",
            "Epoch [15/15], Loss: 1.4489, Accuracy: 0.8741\n",
            "------------------------------------------------------------\n"
          ]
        },
        {
          "name": "stderr",
          "output_type": "stream",
          "text": [
            "/tmp/ipykernel_357819/1963945088.py:158: UserWarning: To copy construct from a tensor, it is recommended to use sourceTensor.clone().detach() or sourceTensor.clone().detach().requires_grad_(True), rather than torch.tensor(sourceTensor).\n",
            "  labels = torch.tensor(labels).to(device)\n"
          ]
        },
        {
          "name": "stdout",
          "output_type": "stream",
          "text": [
            "--------- Number of Iteration 4 ---------\n"
          ]
        },
        {
          "name": "stderr",
          "output_type": "stream",
          "text": [
            "/tmp/ipykernel_357819/1963945088.py:92: UserWarning: To copy construct from a tensor, it is recommended to use sourceTensor.clone().detach() or sourceTensor.clone().detach().requires_grad_(True), rather than torch.tensor(sourceTensor).\n",
            "  labels = torch.tensor(labels).to(device)\n"
          ]
        },
        {
          "name": "stdout",
          "output_type": "stream",
          "text": [
            "Epoch [1/15], Loss: 1.4836, Accuracy: 0.8394\n"
          ]
        },
        {
          "name": "stderr",
          "output_type": "stream",
          "text": [
            "/tmp/ipykernel_357819/1963945088.py:131: UserWarning: To copy construct from a tensor, it is recommended to use sourceTensor.clone().detach() or sourceTensor.clone().detach().requires_grad_(True), rather than torch.tensor(sourceTensor).\n",
            "  labels = torch.tensor(labels).to(device)\n"
          ]
        },
        {
          "name": "stdout",
          "output_type": "stream",
          "text": [
            "Epoch [2/15], Loss: 1.4817, Accuracy: 0.8424\n",
            "Epoch [3/15], Loss: 1.4972, Accuracy: 0.8152\n",
            "Epoch [4/15], Loss: 1.5168, Accuracy: 0.8303\n",
            "Epoch [5/15], Loss: 1.5065, Accuracy: 0.7970\n",
            "Epoch [6/15], Loss: 1.4770, Accuracy: 0.8515\n",
            "Epoch [7/15], Loss: 1.4641, Accuracy: 0.8636\n",
            "Epoch [8/15], Loss: 1.4431, Accuracy: 0.8545\n",
            "Epoch [9/15], Loss: 1.4174, Accuracy: 0.8364\n",
            "Epoch [10/15], Loss: 1.4142, Accuracy: 0.8667\n",
            "Epoch [11/15], Loss: 1.4227, Accuracy: 0.8364\n",
            "Epoch [12/15], Loss: 1.4119, Accuracy: 0.8636\n",
            "Epoch [13/15], Loss: 1.4221, Accuracy: 0.8576\n",
            "Epoch [14/15], Loss: 1.4159, Accuracy: 0.8303\n",
            "Epoch [15/15], Loss: 1.3859, Accuracy: 0.8667\n",
            "------------------------------------------------------------\n"
          ]
        },
        {
          "name": "stderr",
          "output_type": "stream",
          "text": [
            "/tmp/ipykernel_357819/1963945088.py:158: UserWarning: To copy construct from a tensor, it is recommended to use sourceTensor.clone().detach() or sourceTensor.clone().detach().requires_grad_(True), rather than torch.tensor(sourceTensor).\n",
            "  labels = torch.tensor(labels).to(device)\n"
          ]
        },
        {
          "name": "stdout",
          "output_type": "stream",
          "text": [
            "--------- Number of Iteration 5 ---------\n"
          ]
        },
        {
          "name": "stderr",
          "output_type": "stream",
          "text": [
            "/tmp/ipykernel_357819/1963945088.py:92: UserWarning: To copy construct from a tensor, it is recommended to use sourceTensor.clone().detach() or sourceTensor.clone().detach().requires_grad_(True), rather than torch.tensor(sourceTensor).\n",
            "  labels = torch.tensor(labels).to(device)\n"
          ]
        },
        {
          "name": "stdout",
          "output_type": "stream",
          "text": [
            "Epoch [1/15], Loss: 1.4805, Accuracy: 0.8077\n"
          ]
        },
        {
          "name": "stderr",
          "output_type": "stream",
          "text": [
            "/tmp/ipykernel_357819/1963945088.py:131: UserWarning: To copy construct from a tensor, it is recommended to use sourceTensor.clone().detach() or sourceTensor.clone().detach().requires_grad_(True), rather than torch.tensor(sourceTensor).\n",
            "  labels = torch.tensor(labels).to(device)\n"
          ]
        },
        {
          "name": "stdout",
          "output_type": "stream",
          "text": [
            "Epoch [2/15], Loss: 1.5175, Accuracy: 0.8128\n",
            "Epoch [3/15], Loss: 1.4584, Accuracy: 0.7769\n",
            "Epoch [4/15], Loss: 1.4641, Accuracy: 0.8205\n",
            "Epoch [5/15], Loss: 1.4540, Accuracy: 0.8205\n",
            "Epoch [6/15], Loss: 1.4345, Accuracy: 0.8128\n",
            "Epoch [7/15], Loss: 1.4226, Accuracy: 0.8513\n",
            "Epoch [8/15], Loss: 1.4483, Accuracy: 0.7974\n",
            "Epoch [9/15], Loss: 1.4785, Accuracy: 0.8308\n",
            "Epoch [10/15], Loss: 1.4344, Accuracy: 0.8205\n",
            "Epoch [11/15], Loss: 1.4090, Accuracy: 0.8692\n",
            "Epoch [12/15], Loss: 1.4135, Accuracy: 0.8487\n",
            "Epoch [13/15], Loss: 1.3855, Accuracy: 0.8667\n",
            "Epoch [14/15], Loss: 1.4437, Accuracy: 0.8538\n",
            "Epoch [15/15], Loss: 1.4062, Accuracy: 0.8590\n",
            "------------------------------------------------------------\n"
          ]
        },
        {
          "name": "stderr",
          "output_type": "stream",
          "text": [
            "/tmp/ipykernel_357819/1963945088.py:158: UserWarning: To copy construct from a tensor, it is recommended to use sourceTensor.clone().detach() or sourceTensor.clone().detach().requires_grad_(True), rather than torch.tensor(sourceTensor).\n",
            "  labels = torch.tensor(labels).to(device)\n"
          ]
        },
        {
          "name": "stdout",
          "output_type": "stream",
          "text": [
            "--------- Number of Iteration 6 ---------\n"
          ]
        },
        {
          "name": "stderr",
          "output_type": "stream",
          "text": [
            "/tmp/ipykernel_357819/1963945088.py:92: UserWarning: To copy construct from a tensor, it is recommended to use sourceTensor.clone().detach() or sourceTensor.clone().detach().requires_grad_(True), rather than torch.tensor(sourceTensor).\n",
            "  labels = torch.tensor(labels).to(device)\n"
          ]
        },
        {
          "name": "stdout",
          "output_type": "stream",
          "text": [
            "Epoch [1/15], Loss: 1.6306, Accuracy: 0.6489\n"
          ]
        },
        {
          "name": "stderr",
          "output_type": "stream",
          "text": [
            "/tmp/ipykernel_357819/1963945088.py:131: UserWarning: To copy construct from a tensor, it is recommended to use sourceTensor.clone().detach() or sourceTensor.clone().detach().requires_grad_(True), rather than torch.tensor(sourceTensor).\n",
            "  labels = torch.tensor(labels).to(device)\n"
          ]
        },
        {
          "name": "stdout",
          "output_type": "stream",
          "text": [
            "Epoch [2/15], Loss: 1.6101, Accuracy: 0.7200\n",
            "Epoch [3/15], Loss: 1.5364, Accuracy: 0.7356\n",
            "Epoch [4/15], Loss: 1.5424, Accuracy: 0.7333\n",
            "Epoch [5/15], Loss: 1.5064, Accuracy: 0.7267\n",
            "Epoch [6/15], Loss: 1.4905, Accuracy: 0.7289\n",
            "Epoch [7/15], Loss: 1.5587, Accuracy: 0.7178\n",
            "Epoch [8/15], Loss: 1.4780, Accuracy: 0.7422\n",
            "Epoch [9/15], Loss: 1.4483, Accuracy: 0.8244\n",
            "Epoch [10/15], Loss: 1.4482, Accuracy: 0.7867\n",
            "Epoch [11/15], Loss: 1.4856, Accuracy: 0.7733\n",
            "Epoch [12/15], Loss: 1.4659, Accuracy: 0.8289\n",
            "Epoch [13/15], Loss: 1.4889, Accuracy: 0.7511\n",
            "Epoch [14/15], Loss: 1.5040, Accuracy: 0.7489\n",
            "Epoch [15/15], Loss: 1.4614, Accuracy: 0.8200\n",
            "------------------------------------------------------------\n"
          ]
        },
        {
          "name": "stderr",
          "output_type": "stream",
          "text": [
            "/tmp/ipykernel_357819/1963945088.py:158: UserWarning: To copy construct from a tensor, it is recommended to use sourceTensor.clone().detach() or sourceTensor.clone().detach().requires_grad_(True), rather than torch.tensor(sourceTensor).\n",
            "  labels = torch.tensor(labels).to(device)\n"
          ]
        },
        {
          "name": "stdout",
          "output_type": "stream",
          "text": [
            "--------- Number of Iteration 7 ---------\n"
          ]
        },
        {
          "name": "stderr",
          "output_type": "stream",
          "text": [
            "/tmp/ipykernel_357819/1963945088.py:92: UserWarning: To copy construct from a tensor, it is recommended to use sourceTensor.clone().detach() or sourceTensor.clone().detach().requires_grad_(True), rather than torch.tensor(sourceTensor).\n",
            "  labels = torch.tensor(labels).to(device)\n"
          ]
        },
        {
          "name": "stdout",
          "output_type": "stream",
          "text": [
            "Epoch [1/15], Loss: 1.4762, Accuracy: 0.7431\n"
          ]
        },
        {
          "name": "stderr",
          "output_type": "stream",
          "text": [
            "/tmp/ipykernel_357819/1963945088.py:131: UserWarning: To copy construct from a tensor, it is recommended to use sourceTensor.clone().detach() or sourceTensor.clone().detach().requires_grad_(True), rather than torch.tensor(sourceTensor).\n",
            "  labels = torch.tensor(labels).to(device)\n"
          ]
        },
        {
          "name": "stdout",
          "output_type": "stream",
          "text": [
            "Epoch [2/15], Loss: 1.4705, Accuracy: 0.7824\n",
            "Epoch [3/15], Loss: 1.4358, Accuracy: 0.7824\n",
            "Epoch [4/15], Loss: 1.4222, Accuracy: 0.8078\n",
            "Epoch [5/15], Loss: 1.4557, Accuracy: 0.7941\n",
            "Epoch [6/15], Loss: 1.4110, Accuracy: 0.8275\n",
            "Epoch [7/15], Loss: 1.4169, Accuracy: 0.8078\n",
            "Epoch [8/15], Loss: 1.4026, Accuracy: 0.8275\n",
            "Epoch [9/15], Loss: 1.4017, Accuracy: 0.8431\n",
            "Epoch [10/15], Loss: 1.3827, Accuracy: 0.8588\n",
            "Epoch [11/15], Loss: 1.3792, Accuracy: 0.8490\n",
            "Epoch [12/15], Loss: 1.3731, Accuracy: 0.8804\n",
            "Epoch [13/15], Loss: 1.4156, Accuracy: 0.8196\n",
            "Epoch [14/15], Loss: 1.3825, Accuracy: 0.8745\n",
            "Epoch [15/15], Loss: 1.3946, Accuracy: 0.8412\n",
            "------------------------------------------------------------\n"
          ]
        },
        {
          "name": "stderr",
          "output_type": "stream",
          "text": [
            "/tmp/ipykernel_357819/1963945088.py:158: UserWarning: To copy construct from a tensor, it is recommended to use sourceTensor.clone().detach() or sourceTensor.clone().detach().requires_grad_(True), rather than torch.tensor(sourceTensor).\n",
            "  labels = torch.tensor(labels).to(device)\n"
          ]
        },
        {
          "name": "stdout",
          "output_type": "stream",
          "text": [
            "--------- Number of Iteration 8 ---------\n"
          ]
        },
        {
          "name": "stderr",
          "output_type": "stream",
          "text": [
            "/tmp/ipykernel_357819/1963945088.py:92: UserWarning: To copy construct from a tensor, it is recommended to use sourceTensor.clone().detach() or sourceTensor.clone().detach().requires_grad_(True), rather than torch.tensor(sourceTensor).\n",
            "  labels = torch.tensor(labels).to(device)\n"
          ]
        },
        {
          "name": "stdout",
          "output_type": "stream",
          "text": [
            "Epoch [1/15], Loss: 1.4558, Accuracy: 0.7965\n"
          ]
        },
        {
          "name": "stderr",
          "output_type": "stream",
          "text": [
            "/tmp/ipykernel_357819/1963945088.py:131: UserWarning: To copy construct from a tensor, it is recommended to use sourceTensor.clone().detach() or sourceTensor.clone().detach().requires_grad_(True), rather than torch.tensor(sourceTensor).\n",
            "  labels = torch.tensor(labels).to(device)\n"
          ]
        },
        {
          "name": "stdout",
          "output_type": "stream",
          "text": [
            "Epoch [2/15], Loss: 1.4425, Accuracy: 0.7930\n",
            "Epoch [3/15], Loss: 1.4622, Accuracy: 0.7649\n",
            "Epoch [4/15], Loss: 1.4131, Accuracy: 0.8333\n",
            "Epoch [5/15], Loss: 1.4269, Accuracy: 0.7912\n",
            "Epoch [6/15], Loss: 1.4295, Accuracy: 0.8193\n",
            "Epoch [7/15], Loss: 1.4118, Accuracy: 0.8386\n",
            "Epoch [8/15], Loss: 1.3976, Accuracy: 0.8456\n",
            "Epoch [9/15], Loss: 1.4065, Accuracy: 0.8333\n",
            "Epoch [10/15], Loss: 1.3949, Accuracy: 0.8456\n",
            "Epoch [11/15], Loss: 1.4016, Accuracy: 0.8456\n",
            "Epoch [12/15], Loss: 1.3882, Accuracy: 0.8526\n",
            "Epoch [13/15], Loss: 1.3902, Accuracy: 0.8544\n",
            "Epoch [14/15], Loss: 1.3883, Accuracy: 0.8614\n",
            "Epoch [15/15], Loss: 1.3855, Accuracy: 0.8614\n",
            "------------------------------------------------------------\n"
          ]
        },
        {
          "name": "stderr",
          "output_type": "stream",
          "text": [
            "/tmp/ipykernel_357819/1963945088.py:158: UserWarning: To copy construct from a tensor, it is recommended to use sourceTensor.clone().detach() or sourceTensor.clone().detach().requires_grad_(True), rather than torch.tensor(sourceTensor).\n",
            "  labels = torch.tensor(labels).to(device)\n"
          ]
        },
        {
          "name": "stdout",
          "output_type": "stream",
          "text": [
            "--------- Number of Iteration 9 ---------\n"
          ]
        },
        {
          "name": "stderr",
          "output_type": "stream",
          "text": [
            "/tmp/ipykernel_357819/1963945088.py:92: UserWarning: To copy construct from a tensor, it is recommended to use sourceTensor.clone().detach() or sourceTensor.clone().detach().requires_grad_(True), rather than torch.tensor(sourceTensor).\n",
            "  labels = torch.tensor(labels).to(device)\n"
          ]
        },
        {
          "name": "stdout",
          "output_type": "stream",
          "text": [
            "Epoch [1/15], Loss: 1.4403, Accuracy: 0.8222\n"
          ]
        },
        {
          "name": "stderr",
          "output_type": "stream",
          "text": [
            "/tmp/ipykernel_357819/1963945088.py:131: UserWarning: To copy construct from a tensor, it is recommended to use sourceTensor.clone().detach() or sourceTensor.clone().detach().requires_grad_(True), rather than torch.tensor(sourceTensor).\n",
            "  labels = torch.tensor(labels).to(device)\n"
          ]
        },
        {
          "name": "stdout",
          "output_type": "stream",
          "text": [
            "Epoch [2/15], Loss: 1.4587, Accuracy: 0.7587\n",
            "Epoch [3/15], Loss: 1.4514, Accuracy: 0.8079\n",
            "Epoch [4/15], Loss: 1.4520, Accuracy: 0.7905\n",
            "Epoch [5/15], Loss: 1.4242, Accuracy: 0.8127\n",
            "Epoch [6/15], Loss: 1.4090, Accuracy: 0.8460\n",
            "Epoch [7/15], Loss: 1.4209, Accuracy: 0.8206\n",
            "Epoch [8/15], Loss: 1.4451, Accuracy: 0.8000\n",
            "Epoch [9/15], Loss: 1.4186, Accuracy: 0.8159\n",
            "Epoch [10/15], Loss: 1.4118, Accuracy: 0.8302\n",
            "Epoch [11/15], Loss: 1.3990, Accuracy: 0.8476\n",
            "Epoch [12/15], Loss: 1.4120, Accuracy: 0.8270\n",
            "Epoch [13/15], Loss: 1.4040, Accuracy: 0.8333\n",
            "Epoch [14/15], Loss: 1.3967, Accuracy: 0.8429\n",
            "Epoch [15/15], Loss: 1.3943, Accuracy: 0.8492\n",
            "------------------------------------------------------------\n"
          ]
        },
        {
          "name": "stderr",
          "output_type": "stream",
          "text": [
            "/tmp/ipykernel_357819/1963945088.py:158: UserWarning: To copy construct from a tensor, it is recommended to use sourceTensor.clone().detach() or sourceTensor.clone().detach().requires_grad_(True), rather than torch.tensor(sourceTensor).\n",
            "  labels = torch.tensor(labels).to(device)\n"
          ]
        },
        {
          "name": "stdout",
          "output_type": "stream",
          "text": [
            "--------- Number of Iteration 10 ---------\n"
          ]
        },
        {
          "name": "stderr",
          "output_type": "stream",
          "text": [
            "/tmp/ipykernel_357819/1963945088.py:92: UserWarning: To copy construct from a tensor, it is recommended to use sourceTensor.clone().detach() or sourceTensor.clone().detach().requires_grad_(True), rather than torch.tensor(sourceTensor).\n",
            "  labels = torch.tensor(labels).to(device)\n"
          ]
        },
        {
          "name": "stdout",
          "output_type": "stream",
          "text": [
            "Epoch [1/15], Loss: 1.4973, Accuracy: 0.7623\n"
          ]
        },
        {
          "name": "stderr",
          "output_type": "stream",
          "text": [
            "/tmp/ipykernel_357819/1963945088.py:131: UserWarning: To copy construct from a tensor, it is recommended to use sourceTensor.clone().detach() or sourceTensor.clone().detach().requires_grad_(True), rather than torch.tensor(sourceTensor).\n",
            "  labels = torch.tensor(labels).to(device)\n"
          ]
        },
        {
          "name": "stdout",
          "output_type": "stream",
          "text": [
            "Epoch [2/15], Loss: 1.4774, Accuracy: 0.7971\n",
            "Epoch [3/15], Loss: 1.4814, Accuracy: 0.7638\n",
            "Epoch [4/15], Loss: 1.4570, Accuracy: 0.7797\n",
            "Epoch [5/15], Loss: 1.4530, Accuracy: 0.7913\n",
            "Epoch [6/15], Loss: 1.4479, Accuracy: 0.7884\n",
            "Epoch [7/15], Loss: 1.4489, Accuracy: 0.8130\n",
            "Epoch [8/15], Loss: 1.4443, Accuracy: 0.8014\n",
            "Epoch [9/15], Loss: 1.4482, Accuracy: 0.8000\n",
            "Epoch [10/15], Loss: 1.4465, Accuracy: 0.7870\n",
            "Epoch [11/15], Loss: 1.4351, Accuracy: 0.8232\n",
            "Epoch [12/15], Loss: 1.4353, Accuracy: 0.8087\n",
            "Epoch [13/15], Loss: 1.4450, Accuracy: 0.8072\n",
            "Epoch [14/15], Loss: 1.4504, Accuracy: 0.7826\n",
            "Epoch [15/15], Loss: 1.4225, Accuracy: 0.8188\n",
            "------------------------------------------------------------\n"
          ]
        },
        {
          "name": "stderr",
          "output_type": "stream",
          "text": [
            "/tmp/ipykernel_357819/1963945088.py:158: UserWarning: To copy construct from a tensor, it is recommended to use sourceTensor.clone().detach() or sourceTensor.clone().detach().requires_grad_(True), rather than torch.tensor(sourceTensor).\n",
            "  labels = torch.tensor(labels).to(device)\n"
          ]
        },
        {
          "name": "stdout",
          "output_type": "stream",
          "text": [
            "--------- Number of Iteration 11 ---------\n"
          ]
        },
        {
          "name": "stderr",
          "output_type": "stream",
          "text": [
            "/tmp/ipykernel_357819/1963945088.py:92: UserWarning: To copy construct from a tensor, it is recommended to use sourceTensor.clone().detach() or sourceTensor.clone().detach().requires_grad_(True), rather than torch.tensor(sourceTensor).\n",
            "  labels = torch.tensor(labels).to(device)\n"
          ]
        },
        {
          "name": "stdout",
          "output_type": "stream",
          "text": [
            "Epoch [1/15], Loss: 1.4684, Accuracy: 0.7787\n"
          ]
        },
        {
          "name": "stderr",
          "output_type": "stream",
          "text": [
            "/tmp/ipykernel_357819/1963945088.py:131: UserWarning: To copy construct from a tensor, it is recommended to use sourceTensor.clone().detach() or sourceTensor.clone().detach().requires_grad_(True), rather than torch.tensor(sourceTensor).\n",
            "  labels = torch.tensor(labels).to(device)\n"
          ]
        },
        {
          "name": "stdout",
          "output_type": "stream",
          "text": [
            "Epoch [2/15], Loss: 1.4487, Accuracy: 0.7987\n",
            "Epoch [3/15], Loss: 1.4403, Accuracy: 0.8093\n",
            "Epoch [4/15], Loss: 1.4358, Accuracy: 0.8040\n",
            "Epoch [5/15], Loss: 1.4320, Accuracy: 0.8120\n",
            "Epoch [6/15], Loss: 1.4613, Accuracy: 0.7893\n",
            "Epoch [7/15], Loss: 1.4320, Accuracy: 0.8173\n",
            "Epoch [8/15], Loss: 1.4542, Accuracy: 0.7960\n",
            "Epoch [9/15], Loss: 1.4160, Accuracy: 0.8307\n",
            "Epoch [10/15], Loss: 1.4357, Accuracy: 0.8027\n",
            "Epoch [11/15], Loss: 1.4400, Accuracy: 0.8027\n",
            "Epoch [12/15], Loss: 1.4460, Accuracy: 0.8187\n",
            "Epoch [13/15], Loss: 1.4484, Accuracy: 0.8147\n",
            "Epoch [14/15], Loss: 1.4123, Accuracy: 0.8240\n",
            "Epoch [15/15], Loss: 1.4254, Accuracy: 0.8240\n",
            "------------------------------------------------------------\n"
          ]
        },
        {
          "name": "stderr",
          "output_type": "stream",
          "text": [
            "/tmp/ipykernel_357819/1963945088.py:158: UserWarning: To copy construct from a tensor, it is recommended to use sourceTensor.clone().detach() or sourceTensor.clone().detach().requires_grad_(True), rather than torch.tensor(sourceTensor).\n",
            "  labels = torch.tensor(labels).to(device)\n"
          ]
        },
        {
          "name": "stdout",
          "output_type": "stream",
          "text": [
            "--------- Number of Iteration 12 ---------\n"
          ]
        },
        {
          "name": "stderr",
          "output_type": "stream",
          "text": [
            "/tmp/ipykernel_357819/1963945088.py:92: UserWarning: To copy construct from a tensor, it is recommended to use sourceTensor.clone().detach() or sourceTensor.clone().detach().requires_grad_(True), rather than torch.tensor(sourceTensor).\n",
            "  labels = torch.tensor(labels).to(device)\n"
          ]
        },
        {
          "name": "stdout",
          "output_type": "stream",
          "text": [
            "Epoch [1/15], Loss: 1.4422, Accuracy: 0.8025\n"
          ]
        },
        {
          "name": "stderr",
          "output_type": "stream",
          "text": [
            "/tmp/ipykernel_357819/1963945088.py:131: UserWarning: To copy construct from a tensor, it is recommended to use sourceTensor.clone().detach() or sourceTensor.clone().detach().requires_grad_(True), rather than torch.tensor(sourceTensor).\n",
            "  labels = torch.tensor(labels).to(device)\n"
          ]
        },
        {
          "name": "stdout",
          "output_type": "stream",
          "text": [
            "Epoch [2/15], Loss: 1.4545, Accuracy: 0.8074\n",
            "Epoch [3/15], Loss: 1.4400, Accuracy: 0.8000\n",
            "Epoch [4/15], Loss: 1.4502, Accuracy: 0.8000\n",
            "Epoch [5/15], Loss: 1.4603, Accuracy: 0.8074\n",
            "Epoch [6/15], Loss: 1.4581, Accuracy: 0.8012\n",
            "Epoch [7/15], Loss: 1.4386, Accuracy: 0.8136\n",
            "Epoch [8/15], Loss: 1.4463, Accuracy: 0.8123\n",
            "Epoch [9/15], Loss: 1.4515, Accuracy: 0.7728\n",
            "Epoch [10/15], Loss: 1.4552, Accuracy: 0.7988\n",
            "Epoch [11/15], Loss: 1.4292, Accuracy: 0.8346\n",
            "Epoch [12/15], Loss: 1.4229, Accuracy: 0.8259\n",
            "Epoch [13/15], Loss: 1.4393, Accuracy: 0.8395\n",
            "Epoch [14/15], Loss: 1.4294, Accuracy: 0.8136\n",
            "Epoch [15/15], Loss: 1.4322, Accuracy: 0.8185\n",
            "------------------------------------------------------------\n"
          ]
        },
        {
          "name": "stderr",
          "output_type": "stream",
          "text": [
            "/tmp/ipykernel_357819/1963945088.py:158: UserWarning: To copy construct from a tensor, it is recommended to use sourceTensor.clone().detach() or sourceTensor.clone().detach().requires_grad_(True), rather than torch.tensor(sourceTensor).\n",
            "  labels = torch.tensor(labels).to(device)\n"
          ]
        },
        {
          "name": "stdout",
          "output_type": "stream",
          "text": [
            "--------- Number of Iteration 13 ---------\n"
          ]
        },
        {
          "name": "stderr",
          "output_type": "stream",
          "text": [
            "/tmp/ipykernel_357819/1963945088.py:92: UserWarning: To copy construct from a tensor, it is recommended to use sourceTensor.clone().detach() or sourceTensor.clone().detach().requires_grad_(True), rather than torch.tensor(sourceTensor).\n",
            "  labels = torch.tensor(labels).to(device)\n"
          ]
        },
        {
          "name": "stdout",
          "output_type": "stream",
          "text": [
            "Epoch [1/15], Loss: 1.4822, Accuracy: 0.7862\n"
          ]
        },
        {
          "name": "stderr",
          "output_type": "stream",
          "text": [
            "/tmp/ipykernel_357819/1963945088.py:131: UserWarning: To copy construct from a tensor, it is recommended to use sourceTensor.clone().detach() or sourceTensor.clone().detach().requires_grad_(True), rather than torch.tensor(sourceTensor).\n",
            "  labels = torch.tensor(labels).to(device)\n"
          ]
        },
        {
          "name": "stdout",
          "output_type": "stream",
          "text": [
            "Epoch [2/15], Loss: 1.4669, Accuracy: 0.7931\n",
            "Epoch [3/15], Loss: 1.4767, Accuracy: 0.8023\n",
            "Epoch [4/15], Loss: 1.4892, Accuracy: 0.7931\n",
            "Epoch [5/15], Loss: 1.4787, Accuracy: 0.7713\n",
            "Epoch [6/15], Loss: 1.4527, Accuracy: 0.8023\n",
            "Epoch [7/15], Loss: 1.4858, Accuracy: 0.7782\n",
            "Epoch [8/15], Loss: 1.4575, Accuracy: 0.8023\n",
            "Epoch [9/15], Loss: 1.4613, Accuracy: 0.8046\n",
            "Epoch [10/15], Loss: 1.4835, Accuracy: 0.7425\n",
            "Epoch [11/15], Loss: 1.5077, Accuracy: 0.7575\n",
            "Epoch [12/15], Loss: 1.4960, Accuracy: 0.7609\n",
            "Epoch [13/15], Loss: 1.4776, Accuracy: 0.7885\n",
            "Epoch [14/15], Loss: 1.5500, Accuracy: 0.6287\n",
            "Epoch [15/15], Loss: 1.4668, Accuracy: 0.7678\n",
            "------------------------------------------------------------\n"
          ]
        },
        {
          "name": "stderr",
          "output_type": "stream",
          "text": [
            "/tmp/ipykernel_357819/1963945088.py:158: UserWarning: To copy construct from a tensor, it is recommended to use sourceTensor.clone().detach() or sourceTensor.clone().detach().requires_grad_(True), rather than torch.tensor(sourceTensor).\n",
            "  labels = torch.tensor(labels).to(device)\n"
          ]
        },
        {
          "name": "stdout",
          "output_type": "stream",
          "text": [
            "--------- Number of Iteration 14 ---------\n"
          ]
        },
        {
          "name": "stderr",
          "output_type": "stream",
          "text": [
            "/tmp/ipykernel_357819/1963945088.py:92: UserWarning: To copy construct from a tensor, it is recommended to use sourceTensor.clone().detach() or sourceTensor.clone().detach().requires_grad_(True), rather than torch.tensor(sourceTensor).\n",
            "  labels = torch.tensor(labels).to(device)\n"
          ]
        },
        {
          "name": "stdout",
          "output_type": "stream",
          "text": [
            "Epoch [1/15], Loss: 1.4869, Accuracy: 0.7828\n"
          ]
        },
        {
          "name": "stderr",
          "output_type": "stream",
          "text": [
            "/tmp/ipykernel_357819/1963945088.py:131: UserWarning: To copy construct from a tensor, it is recommended to use sourceTensor.clone().detach() or sourceTensor.clone().detach().requires_grad_(True), rather than torch.tensor(sourceTensor).\n",
            "  labels = torch.tensor(labels).to(device)\n"
          ]
        },
        {
          "name": "stdout",
          "output_type": "stream",
          "text": [
            "Epoch [2/15], Loss: 1.5268, Accuracy: 0.7634\n",
            "Epoch [3/15], Loss: 1.5276, Accuracy: 0.7634\n",
            "Epoch [4/15], Loss: 1.4905, Accuracy: 0.7796\n",
            "Epoch [5/15], Loss: 1.5012, Accuracy: 0.7903\n",
            "Epoch [6/15], Loss: 1.4914, Accuracy: 0.7892\n",
            "Epoch [7/15], Loss: 1.6047, Accuracy: 0.5753\n",
            "Epoch [8/15], Loss: 1.6749, Accuracy: 0.4462\n",
            "Epoch [9/15], Loss: 1.6098, Accuracy: 0.5473\n",
            "Epoch [10/15], Loss: 1.5343, Accuracy: 0.7204\n",
            "Epoch [11/15], Loss: 1.6513, Accuracy: 0.5731\n",
            "Epoch [12/15], Loss: 1.4828, Accuracy: 0.7774\n",
            "Epoch [13/15], Loss: 1.4817, Accuracy: 0.7871\n",
            "Epoch [14/15], Loss: 1.5507, Accuracy: 0.6140\n",
            "Epoch [15/15], Loss: 1.5404, Accuracy: 0.6161\n",
            "------------------------------------------------------------\n"
          ]
        },
        {
          "name": "stderr",
          "output_type": "stream",
          "text": [
            "/tmp/ipykernel_357819/1963945088.py:158: UserWarning: To copy construct from a tensor, it is recommended to use sourceTensor.clone().detach() or sourceTensor.clone().detach().requires_grad_(True), rather than torch.tensor(sourceTensor).\n",
            "  labels = torch.tensor(labels).to(device)\n"
          ]
        },
        {
          "name": "stdout",
          "output_type": "stream",
          "text": [
            "--------- Number of Iteration 15 ---------\n"
          ]
        },
        {
          "name": "stderr",
          "output_type": "stream",
          "text": [
            "/tmp/ipykernel_357819/1963945088.py:92: UserWarning: To copy construct from a tensor, it is recommended to use sourceTensor.clone().detach() or sourceTensor.clone().detach().requires_grad_(True), rather than torch.tensor(sourceTensor).\n",
            "  labels = torch.tensor(labels).to(device)\n"
          ]
        },
        {
          "name": "stdout",
          "output_type": "stream",
          "text": [
            "Epoch [1/15], Loss: 1.5002, Accuracy: 0.7636\n"
          ]
        },
        {
          "name": "stderr",
          "output_type": "stream",
          "text": [
            "/tmp/ipykernel_357819/1963945088.py:131: UserWarning: To copy construct from a tensor, it is recommended to use sourceTensor.clone().detach() or sourceTensor.clone().detach().requires_grad_(True), rather than torch.tensor(sourceTensor).\n",
            "  labels = torch.tensor(labels).to(device)\n"
          ]
        },
        {
          "name": "stdout",
          "output_type": "stream",
          "text": [
            "Epoch [2/15], Loss: 1.4734, Accuracy: 0.7848\n",
            "Epoch [3/15], Loss: 1.4657, Accuracy: 0.7919\n",
            "Epoch [4/15], Loss: 1.4634, Accuracy: 0.8010\n",
            "Epoch [5/15], Loss: 1.4800, Accuracy: 0.7838\n",
            "Epoch [6/15], Loss: 1.4545, Accuracy: 0.8040\n",
            "Epoch [7/15], Loss: 1.4457, Accuracy: 0.8182\n",
            "Epoch [8/15], Loss: 1.4661, Accuracy: 0.8081\n",
            "Epoch [9/15], Loss: 1.4650, Accuracy: 0.7788\n",
            "Epoch [10/15], Loss: 1.4612, Accuracy: 0.7970\n",
            "Epoch [11/15], Loss: 1.4504, Accuracy: 0.8152\n",
            "Epoch [12/15], Loss: 1.4645, Accuracy: 0.7939\n",
            "Epoch [13/15], Loss: 1.4505, Accuracy: 0.8263\n",
            "Epoch [14/15], Loss: 1.4400, Accuracy: 0.8232\n",
            "Epoch [15/15], Loss: 1.4358, Accuracy: 0.8232\n",
            "------------------------------------------------------------\n"
          ]
        },
        {
          "name": "stderr",
          "output_type": "stream",
          "text": [
            "/tmp/ipykernel_357819/1963945088.py:158: UserWarning: To copy construct from a tensor, it is recommended to use sourceTensor.clone().detach() or sourceTensor.clone().detach().requires_grad_(True), rather than torch.tensor(sourceTensor).\n",
            "  labels = torch.tensor(labels).to(device)\n"
          ]
        },
        {
          "name": "stdout",
          "output_type": "stream",
          "text": [
            "--------- Number of Iteration 16 ---------\n"
          ]
        },
        {
          "name": "stderr",
          "output_type": "stream",
          "text": [
            "/tmp/ipykernel_357819/1963945088.py:92: UserWarning: To copy construct from a tensor, it is recommended to use sourceTensor.clone().detach() or sourceTensor.clone().detach().requires_grad_(True), rather than torch.tensor(sourceTensor).\n",
            "  labels = torch.tensor(labels).to(device)\n"
          ]
        },
        {
          "name": "stdout",
          "output_type": "stream",
          "text": [
            "Epoch [1/15], Loss: 1.4861, Accuracy: 0.7933\n"
          ]
        },
        {
          "name": "stderr",
          "output_type": "stream",
          "text": [
            "/tmp/ipykernel_357819/1963945088.py:131: UserWarning: To copy construct from a tensor, it is recommended to use sourceTensor.clone().detach() or sourceTensor.clone().detach().requires_grad_(True), rather than torch.tensor(sourceTensor).\n",
            "  labels = torch.tensor(labels).to(device)\n"
          ]
        },
        {
          "name": "stdout",
          "output_type": "stream",
          "text": [
            "Epoch [2/15], Loss: 1.5019, Accuracy: 0.7848\n",
            "Epoch [3/15], Loss: 1.4670, Accuracy: 0.7876\n",
            "Epoch [4/15], Loss: 1.4786, Accuracy: 0.7886\n",
            "Epoch [5/15], Loss: 1.4849, Accuracy: 0.7886\n",
            "Epoch [6/15], Loss: 1.4604, Accuracy: 0.8162\n",
            "Epoch [7/15], Loss: 1.4610, Accuracy: 0.8048\n",
            "Epoch [8/15], Loss: 1.4962, Accuracy: 0.7838\n",
            "Epoch [9/15], Loss: 1.4553, Accuracy: 0.8162\n",
            "Epoch [10/15], Loss: 1.4575, Accuracy: 0.8076\n",
            "Epoch [11/15], Loss: 1.4604, Accuracy: 0.8067\n",
            "Epoch [12/15], Loss: 1.4558, Accuracy: 0.8114\n",
            "Epoch [13/15], Loss: 1.4451, Accuracy: 0.8190\n",
            "Epoch [14/15], Loss: 1.4433, Accuracy: 0.8276\n",
            "Epoch [15/15], Loss: 1.4480, Accuracy: 0.8219\n",
            "------------------------------------------------------------\n"
          ]
        },
        {
          "name": "stderr",
          "output_type": "stream",
          "text": [
            "/tmp/ipykernel_357819/1963945088.py:158: UserWarning: To copy construct from a tensor, it is recommended to use sourceTensor.clone().detach() or sourceTensor.clone().detach().requires_grad_(True), rather than torch.tensor(sourceTensor).\n",
            "  labels = torch.tensor(labels).to(device)\n"
          ]
        },
        {
          "name": "stdout",
          "output_type": "stream",
          "text": [
            "--------- Number of Iteration 17 ---------\n"
          ]
        },
        {
          "name": "stderr",
          "output_type": "stream",
          "text": [
            "/tmp/ipykernel_357819/1963945088.py:92: UserWarning: To copy construct from a tensor, it is recommended to use sourceTensor.clone().detach() or sourceTensor.clone().detach().requires_grad_(True), rather than torch.tensor(sourceTensor).\n",
            "  labels = torch.tensor(labels).to(device)\n"
          ]
        },
        {
          "name": "stdout",
          "output_type": "stream",
          "text": [
            "Epoch [1/15], Loss: 1.4956, Accuracy: 0.7901\n"
          ]
        },
        {
          "name": "stderr",
          "output_type": "stream",
          "text": [
            "/tmp/ipykernel_357819/1963945088.py:131: UserWarning: To copy construct from a tensor, it is recommended to use sourceTensor.clone().detach() or sourceTensor.clone().detach().requires_grad_(True), rather than torch.tensor(sourceTensor).\n",
            "  labels = torch.tensor(labels).to(device)\n"
          ]
        },
        {
          "name": "stdout",
          "output_type": "stream",
          "text": [
            "Epoch [2/15], Loss: 1.4797, Accuracy: 0.7946\n",
            "Epoch [3/15], Loss: 1.4751, Accuracy: 0.8018\n",
            "Epoch [4/15], Loss: 1.4673, Accuracy: 0.8000\n",
            "Epoch [5/15], Loss: 1.4573, Accuracy: 0.8108\n",
            "Epoch [6/15], Loss: 1.4668, Accuracy: 0.8009\n",
            "Epoch [7/15], Loss: 1.4613, Accuracy: 0.7928\n",
            "Epoch [8/15], Loss: 1.5175, Accuracy: 0.7387\n",
            "Epoch [9/15], Loss: 1.4593, Accuracy: 0.7991\n",
            "Epoch [10/15], Loss: 1.4707, Accuracy: 0.7910\n",
            "Epoch [11/15], Loss: 1.4622, Accuracy: 0.7955\n",
            "Epoch [12/15], Loss: 1.4741, Accuracy: 0.7982\n",
            "Epoch [13/15], Loss: 1.4460, Accuracy: 0.8153\n",
            "Epoch [14/15], Loss: 1.4612, Accuracy: 0.7901\n",
            "Epoch [15/15], Loss: 1.4303, Accuracy: 0.8315\n",
            "------------------------------------------------------------\n"
          ]
        },
        {
          "name": "stderr",
          "output_type": "stream",
          "text": [
            "/tmp/ipykernel_357819/1963945088.py:158: UserWarning: To copy construct from a tensor, it is recommended to use sourceTensor.clone().detach() or sourceTensor.clone().detach().requires_grad_(True), rather than torch.tensor(sourceTensor).\n",
            "  labels = torch.tensor(labels).to(device)\n"
          ]
        },
        {
          "name": "stdout",
          "output_type": "stream",
          "text": [
            "--------- Number of Iteration 18 ---------\n"
          ]
        },
        {
          "name": "stderr",
          "output_type": "stream",
          "text": [
            "/tmp/ipykernel_357819/1963945088.py:92: UserWarning: To copy construct from a tensor, it is recommended to use sourceTensor.clone().detach() or sourceTensor.clone().detach().requires_grad_(True), rather than torch.tensor(sourceTensor).\n",
            "  labels = torch.tensor(labels).to(device)\n"
          ]
        },
        {
          "name": "stdout",
          "output_type": "stream",
          "text": [
            "Epoch [1/15], Loss: 1.4732, Accuracy: 0.7957\n"
          ]
        },
        {
          "name": "stderr",
          "output_type": "stream",
          "text": [
            "/tmp/ipykernel_357819/1963945088.py:131: UserWarning: To copy construct from a tensor, it is recommended to use sourceTensor.clone().detach() or sourceTensor.clone().detach().requires_grad_(True), rather than torch.tensor(sourceTensor).\n",
            "  labels = torch.tensor(labels).to(device)\n"
          ]
        },
        {
          "name": "stdout",
          "output_type": "stream",
          "text": [
            "Epoch [2/15], Loss: 1.4860, Accuracy: 0.7803\n",
            "Epoch [3/15], Loss: 1.4739, Accuracy: 0.7966\n",
            "Epoch [4/15], Loss: 1.4653, Accuracy: 0.8043\n",
            "Epoch [5/15], Loss: 1.4772, Accuracy: 0.7846\n",
            "Epoch [6/15], Loss: 1.4637, Accuracy: 0.8111\n",
            "Epoch [7/15], Loss: 1.4558, Accuracy: 0.8154\n",
            "Epoch [8/15], Loss: 1.4470, Accuracy: 0.8308\n",
            "Epoch [9/15], Loss: 1.4514, Accuracy: 0.8256\n",
            "Epoch [10/15], Loss: 1.4513, Accuracy: 0.8154\n",
            "Epoch [11/15], Loss: 1.4651, Accuracy: 0.8026\n",
            "Epoch [12/15], Loss: 1.4510, Accuracy: 0.8043\n",
            "Epoch [13/15], Loss: 1.4635, Accuracy: 0.8094\n",
            "Epoch [14/15], Loss: 1.4591, Accuracy: 0.7974\n",
            "Epoch [15/15], Loss: 1.4482, Accuracy: 0.8197\n",
            "------------------------------------------------------------\n"
          ]
        },
        {
          "name": "stderr",
          "output_type": "stream",
          "text": [
            "/tmp/ipykernel_357819/1963945088.py:158: UserWarning: To copy construct from a tensor, it is recommended to use sourceTensor.clone().detach() or sourceTensor.clone().detach().requires_grad_(True), rather than torch.tensor(sourceTensor).\n",
            "  labels = torch.tensor(labels).to(device)\n"
          ]
        },
        {
          "name": "stdout",
          "output_type": "stream",
          "text": [
            "--------- Number of Iteration 19 ---------\n"
          ]
        },
        {
          "name": "stderr",
          "output_type": "stream",
          "text": [
            "/tmp/ipykernel_357819/1963945088.py:92: UserWarning: To copy construct from a tensor, it is recommended to use sourceTensor.clone().detach() or sourceTensor.clone().detach().requires_grad_(True), rather than torch.tensor(sourceTensor).\n",
            "  labels = torch.tensor(labels).to(device)\n"
          ]
        },
        {
          "name": "stdout",
          "output_type": "stream",
          "text": [
            "Epoch [1/15], Loss: 1.4511, Accuracy: 0.8146\n"
          ]
        },
        {
          "name": "stderr",
          "output_type": "stream",
          "text": [
            "/tmp/ipykernel_357819/1963945088.py:131: UserWarning: To copy construct from a tensor, it is recommended to use sourceTensor.clone().detach() or sourceTensor.clone().detach().requires_grad_(True), rather than torch.tensor(sourceTensor).\n",
            "  labels = torch.tensor(labels).to(device)\n"
          ]
        },
        {
          "name": "stdout",
          "output_type": "stream",
          "text": [
            "Epoch [2/15], Loss: 1.4506, Accuracy: 0.8106\n",
            "Epoch [3/15], Loss: 1.4503, Accuracy: 0.8138\n",
            "Epoch [4/15], Loss: 1.4763, Accuracy: 0.7959\n",
            "Epoch [5/15], Loss: 1.4381, Accuracy: 0.8211\n",
            "Epoch [6/15], Loss: 1.4390, Accuracy: 0.8268\n",
            "Epoch [7/15], Loss: 1.4394, Accuracy: 0.8033\n",
            "Epoch [8/15], Loss: 1.4345, Accuracy: 0.8211\n",
            "Epoch [9/15], Loss: 1.4394, Accuracy: 0.8106\n",
            "Epoch [10/15], Loss: 1.4413, Accuracy: 0.8236\n",
            "Epoch [11/15], Loss: 1.4487, Accuracy: 0.7992\n",
            "Epoch [12/15], Loss: 1.4377, Accuracy: 0.8268\n",
            "Epoch [13/15], Loss: 1.4301, Accuracy: 0.8285\n",
            "Epoch [14/15], Loss: 1.4193, Accuracy: 0.8528\n",
            "Epoch [15/15], Loss: 1.4352, Accuracy: 0.8130\n",
            "------------------------------------------------------------\n"
          ]
        },
        {
          "name": "stderr",
          "output_type": "stream",
          "text": [
            "/tmp/ipykernel_357819/1963945088.py:158: UserWarning: To copy construct from a tensor, it is recommended to use sourceTensor.clone().detach() or sourceTensor.clone().detach().requires_grad_(True), rather than torch.tensor(sourceTensor).\n",
            "  labels = torch.tensor(labels).to(device)\n"
          ]
        },
        {
          "data": {
            "image/png": "[encoded data removed]",
            "text/plain": [
              "<Figure size 640x480 with 1 Axes>"
            ]
          },
          "metadata": {},
          "output_type": "display_data"
        }
      ],
      "source": [
        "from transformers import ViTFeatureExtractor, ViTModel\n",
        "\n",
        "for criterion in selection_criteria:\n",
        "    AL_class = ActiveLearningPipeline(model=model,\n",
        "                                      test_indices=test_indices,\n",
        "                                      available_pool_indices=available_pool_indices,\n",
        "                                      train_indices=train_indices,\n",
        "                                      selection_criterion=criterion,\n",
        "                                      iterations=iterations,\n",
        "                                      budget_per_iter=budget_per_iter,\n",
        "                                      num_epochs=num_epoch)\n",
        "    accuracy_scores_dict[criterion] = AL_class.run_pipeline()\n",
        "generate_plot(accuracy_scores_dict)"
      ]
    },
    {
      "cell_type": "code",
      "execution_count": null,
      "metadata": {
        "id": "j5sKVVjSzEl7",
        "outputId": "d0b48ce8-3088-4918-cd6b-feedd8b38e96"
      },
      "outputs": [
        {
          "data": {
            "text/plain": [
              "defaultdict(list,\n",
              "            {'kmeans_budget': [0.5277777777777778,\n",
              "              0.5687830687830687,\n",
              "              0.6064814814814814,\n",
              "              0.5853174603174602,\n",
              "              0.6236772486772486,\n",
              "              0.621031746031746,\n",
              "              0.583994708994709,\n",
              "              0.5767195767195767,\n",
              "              0.566137566137566,\n",
              "              0.5965608465608465,\n",
              "              0.5687830687830687,\n",
              "              0.5939153439153438,\n",
              "              0.6216931216931216,\n",
              "              0.5945767195767195,\n",
              "              0.6223544973544973,\n",
              "              0.5813492063492063,\n",
              "              0.6064814814814814,\n",
              "              0.6375661375661376,\n",
              "              0.6005291005291005,\n",
              "              0.6461640211640212]})"
            ]
          },
          "execution_count": 14,
          "metadata": {},
          "output_type": "execute_result"
        }
      ],
      "source": [
        "accuracy_scores_dict"
      ]
    },
    {
      "cell_type": "code",
      "execution_count": null,
      "metadata": {
        "id": "QwY_UQ4XqzC2"
      },
      "outputs": [],
      "source": []
    }
  ],
  "metadata": {
    "colab": {
      "provenance": []
    },
    "kernelspec": {
      "display_name": "Python 3 (ipykernel)",
      "language": "python",
      "name": "python3"
    },
    "language_info": {
      "codemirror_mode": {
        "name": "ipython",
        "version": 3
      },
      "file_extension": ".py",
      "mimetype": "text/x-python",
      "name": "python",
      "nbconvert_exporter": "python",
      "pygments_lexer": "ipython3",
      "version": "3.9.15"
    }
  },
  "nbformat": 4,
  "nbformat_minor": 0
}