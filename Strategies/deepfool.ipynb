{
  "cells": [
    {
      "cell_type": "code",
      "execution_count": null,
      "metadata": {
        "id": "EutiSj6YmOAN"
      },
      "outputs": [],
      "source": [
        "!pip install foolbox"
      ]
    },
    {
      "cell_type": "code",
      "execution_count": null,
      "metadata": {
        "id": "JjgyTgaRfy4k"
      },
      "outputs": [],
      "source": [
        "import pandas as pd\n",
        "import numpy as np\n",
        "import pickle\n",
        "import random\n",
        "import torch\n",
        "from sklearn.ensemble import RandomForestClassifier\n",
        "from sklearn.svm import SVC\n",
        "from sklearn.linear_model import LogisticRegression\n",
        "from scipy.stats import entropy\n",
        "from collections import defaultdict\n",
        "import argparse\n",
        "from matplotlib import pyplot as plt\n",
        "\n",
        "# Set seed.\n",
        "random.seed(0)\n",
        "np.random.seed(0)\n",
        "torch.manual_seed(0)\n",
        "if torch.cuda.is_available():\n",
        "    torch.cuda.manual_seed_all(0)\n",
        "torch.backends.cudnn.deterministic = True\n",
        "torch.backends.cudnn.benchmark = False\n",
        "\n",
        "# Loading the DataSets.\n",
        "train_df = pd.read_csv('train_dataset/metadata.csv')\n",
        "test_df = pd.read_csv('test_dataset/metadata.csv')\n",
        "val_df = pd.read_csv('validation_dataset/metadata.csv')"
      ]
    },
    {
      "cell_type": "code",
      "execution_count": null,
      "metadata": {
        "colab": {
          "base_uri": "https://localhost:8080/",
          "height": 366
        },
        "id": "bcHCCahYj6B7",
        "outputId": "1facd164-3e8b-40f4-81d7-52fc3110e538"
      },
      "outputs": [
        {
          "name": "stdout",
          "output_type": "stream",
          "text": [
            "diagnosis\n",
            "nevus                         1205\n",
            "melanoma                      1113\n",
            "pigmented benign keratosis    1099\n",
            "basal cell carcinoma           514\n",
            "squamous cell carcinoma        197\n",
            "vascular lesion                142\n",
            "actinic keratosis              130\n",
            "dermatofibroma                 115\n",
            "Name: count, dtype: int64\n"
          ]
        }
      ],
      "source": [
        "# Print the number of samples for each class.\n",
        "print(train_df['diagnosis'].value_counts())"
      ]
    },
    {
      "cell_type": "code",
      "execution_count": null,
      "metadata": {
        "id": "PgH3cLvOmOAS",
        "outputId": "a0753ade-18e3-4dfd-936f-d333a8c06ef0"
      },
      "outputs": [
        {
          "data": {
            "text/plain": [
              "{'actinic keratosis': 0,\n",
              " 'basal cell carcinoma': 1,\n",
              " 'dermatofibroma': 2,\n",
              " 'melanoma': 3,\n",
              " 'nevus': 4,\n",
              " 'pigmented benign keratosis': 5,\n",
              " 'squamous cell carcinoma': 6,\n",
              " 'vascular lesion': 7}"
            ]
          },
          "execution_count": 17,
          "metadata": {},
          "output_type": "execute_result"
        }
      ],
      "source": [
        "class_mapping = {\n",
        "    \"actinic keratosis\": 0,\n",
        "    \"basal cell carcinoma\": 1,\n",
        "    \"dermatofibroma\": 2,\n",
        "    \"melanoma\": 3,\n",
        "    \"nevus\": 4,\n",
        "    \"pigmented benign keratosis\": 5,\n",
        "    \"squamous cell carcinoma\": 6,\n",
        "    \"vascular lesion\":7\n",
        "}\n",
        "class_mapping"
      ]
    },
    {
      "cell_type": "code",
      "execution_count": null,
      "metadata": {
        "id": "BLruwetXmPem"
      },
      "outputs": [],
      "source": [
        "from PIL import Image\n",
        "import os\n",
        "\n",
        "import torchvision.transforms as transforms\n",
        "\n",
        "# Define image transformations (resize, convert to tensor)\n",
        "transform = transforms.Compose([\n",
        "    transforms.Resize((224, 224)),\n",
        "    transforms.ToTensor()\n",
        "])\n",
        "\n",
        "class Dataset():\n",
        "    def __init__(self, dataframe, transform, train='train'):\n",
        "        self.dataframe=dataframe\n",
        "        self.train = train\n",
        "        self.transform = transform\n",
        "        self.path_to_image=self._create_path_to_image_dict()\n",
        "        self.paths=list(self.path_to_image.keys())\n",
        "        self.labels=list(self.path_to_image.values())\n",
        "\n",
        "    def _create_path_to_image_dict(self):\n",
        "      \"\"\"\n",
        "      Create a dictionary that maps image paths to their corresponding labels.\n",
        "      \"\"\"\n",
        "      path_to_image={}\n",
        "      for index,row in self.dataframe.iterrows():\n",
        "        if self.train == 'train':\n",
        "          img_path = os.path.join('train_dataset/',row['isic_id']+'.jpg')\n",
        "        elif self.train == 'test':\n",
        "          img_path = os.path.join('test_dataset/',row['isic_id']+'.jpg')\n",
        "        else:\n",
        "            img_path = os.path.join('validation_dataset/',row['isic_id']+'.jpg')\n",
        "        label=row['diagnosis']\n",
        "        path_to_image[img_path]=label\n",
        "      return path_to_image\n",
        "\n",
        "    def __len__(self):\n",
        "        return len(self.paths)\n",
        "\n",
        "    def __getitem__(self,index):\n",
        "      \"\"\"\n",
        "      Get an image and its corresponding label and index.\n",
        "      \"\"\"\n",
        "        img_path=self.paths[index]\n",
        "        img_label=self.labels[index]\n",
        "        image=Image.open(img_path)\n",
        "        image=self.transform(image)\n",
        "        if self.train == 'val':\n",
        "            return image, class_mapping[img_label], index\n",
        "        return image, img_label, index"
      ]
    },
    {
      "cell_type": "code",
      "execution_count": null,
      "metadata": {
        "id": "9yCvnprDoa_7"
      },
      "outputs": [],
      "source": [
        "# Create the Datasets.\n",
        "train_df = Dataset(train_df, transform)\n",
        "val_df = Dataset(val_df, transform,train='val')\n",
        "test_df = Dataset(test_df, transform,train='test')"
      ]
    },
    {
      "cell_type": "code",
      "execution_count": null,
      "metadata": {
        "colab": {
          "base_uri": "https://localhost:8080/"
        },
        "id": "l5L0NcpesnZI",
        "outputId": "22f97091-b571-4138-964f-95a509890583"
      },
      "outputs": [
        {
          "name": "stderr",
          "output_type": "stream",
          "text": [
            "/anaconda/envs/py38_default/lib/python3.9/site-packages/torchvision/models/_utils.py:208: UserWarning: The parameter 'pretrained' is deprecated since 0.13 and may be removed in the future, please use 'weights' instead.\n",
            "  warnings.warn(\n",
            "/anaconda/envs/py38_default/lib/python3.9/site-packages/torchvision/models/_utils.py:223: UserWarning: Arguments other than a weight enum or `None` for 'weights' are deprecated since 0.13 and may be removed in the future. The current behavior is equivalent to passing `weights=ResNet50_Weights.IMAGENET1K_V1`. You can also use `weights=ResNet50_Weights.DEFAULT` to get the most up-to-date weights.\n",
            "  warnings.warn(msg)\n"
          ]
        }
      ],
      "source": [
        "import torch\n",
        "import torch.nn as nn\n",
        "import torchvision.models as models\n",
        "from torchvision import transforms\n",
        "from torch.optim import Adam\n",
        "\n",
        "# Load pre-trained ResNet50 model from torchvision.\n",
        "base_model = models.resnet50(pretrained=True)\n",
        "\n",
        "# Add a fully connected layer witht the number of classes (for the prediction).\n",
        "num_classes = 8\n",
        "base_model.fc = nn.Sequential(\n",
        "    nn.Flatten(),\n",
        "    nn.Linear(base_model.fc.in_features, 128),\n",
        "    nn.ReLU(),\n",
        "    nn.Linear(128, num_classes),\n",
        "    nn.Softmax(dim=1)\n",
        ")\n",
        "\n",
        "# Freeze all layers except the fully connected ones\n",
        "for param in base_model.parameters():\n",
        "    param.requires_grad = False\n",
        "\n",
        "# Unfreeze the final fully connected layer\n",
        "for param in base_model.fc.parameters():\n",
        "    param.requires_grad = True\n",
        "\n",
        "loss_f = nn.CrossEntropyLoss()\n",
        "optimizer = Adam(base_model.fc.parameters(), lr=0.0008)\n",
        "\n",
        "# Move model to GPU if available\n",
        "device = torch.device(\"cuda\" if torch.cuda.is_available() else \"cpu\")\n",
        "base_model.to(device)\n",
        "x = 5"
      ]
    },
    {
      "cell_type": "code",
      "execution_count": null,
      "metadata": {
        "id": "2cmcgEWHmOAT"
      },
      "outputs": [],
      "source": [
        "from torch.utils.data import DataLoader, TensorDataset\n",
        "\n",
        "# Craete validation DataLoader.\n",
        "batch_size = 4\n",
        "val_loader = DataLoader(val_df, batch_size=batch_size, shuffle=False)"
      ]
    },
    {
      "cell_type": "code",
      "execution_count": null,
      "metadata": {
        "id": "-Vk8kyZsgACa"
      },
      "outputs": [],
      "source": [
        "from torch.utils.data import DataLoader, TensorDataset\n",
        "from sklearn.cluster import KMeans\n",
        "import foolbox as fb\n",
        "import numpy as np\n",
        "\n",
        "\n",
        "class ActiveLearningPipeline:\n",
        "    def __init__(self, model,\n",
        "                 available_pool_indices,\n",
        "                 train_indices,\n",
        "                 test_indices,\n",
        "                 selection_criterion,\n",
        "                 iterations,\n",
        "                 budget_per_iter,\n",
        "                 num_epochs):\n",
        "        self.model = model\n",
        "        self.iterations = iterations\n",
        "        self.budget_per_iter = budget_per_iter\n",
        "        self.available_pool_indices = available_pool_indices\n",
        "        self.train_indices = train_indices\n",
        "        self.test_indices = test_indices\n",
        "        self.selection_criterion = selection_criterion\n",
        "        if self.selection_criterion == 'random':\n",
        "          self.train_indices = []\n",
        "        self.num_epochs = num_epochs\n",
        "\n",
        "    def run_pipeline(self):\n",
        "        \"\"\"\n",
        "        Run the active learning pipeline\n",
        "        :return\n",
        "        accuracy_scores: list, accuracy scores at each iteration\n",
        "        \"\"\"\n",
        "        accuracy_scores = []\n",
        "        for iteration in range(self.iterations):\n",
        "            print(f\"--------- Number of Iteration {iteration} ---------\")\n",
        "            if self.selection_criterion == 'random':\n",
        "                self._random_sampling()\n",
        "            elif self.selection_criterion == 'adversial_attack':\n",
        "                self._adversial_attack_sampling()\n",
        "            else:\n",
        "              self._custom_sampling(iteration)\n",
        "\n",
        "            train_images = [train_df.__getitem__(index)[0] for index in self.train_indices]\n",
        "            label_df = [class_mapping[train_df.__getitem__(index)[1]] for index in self.train_indices]\n",
        "            self._train_model(train_images, label_df)\n",
        "            self.model.load_state_dict(torch.load(f\"best_{self.selection_criterion}_model.pth\"))\n",
        "            accuracy = self._evaluate_model()\n",
        "            accuracy_scores.append(accuracy)\n",
        "        return accuracy_scores\n",
        "\n",
        "    def calculate_class_weights(self, label_counts, num_classes=8):\n",
        "        \"\"\"\n",
        "        This function is to caculate the inverse probability of each class in the data\n",
        "        \"\"\"\n",
        "        total_samples = sum(label_counts.values())\n",
        "        class_weights = torch.zeros(num_classes)\n",
        "\n",
        "        for cls in range(num_classes):\n",
        "            if cls in label_counts:\n",
        "                class_weights[cls] = total_samples / (num_classes * label_counts[cls])\n",
        "            else:\n",
        "                class_weights[cls] = 1.0  # Handle the case where a class has zero samples in the current epoch\n",
        "\n",
        "        return class_weights\n",
        "\n",
        "    def _train_model(self, train_images, label_df):\n",
        "      label_counts = defaultdict(int)\n",
        "      for label in label_df:\n",
        "                label_counts[label] += 1\n",
        "      class_weights = self.calculate_class_weights(label_counts, 8)\n",
        "\n",
        "      # Giving higher weight for the loss of samples that their class is a minority in the data while giving less weight\n",
        "      # to the loss for classes that are majority\n",
        "      loss_f = nn.CrossEntropyLoss(weight=class_weights)\n",
        "      loss_f.to(device)\n",
        "\n",
        "      train_images_tensor = torch.stack(train_images)\n",
        "      label_df_tensor = torch.tensor(label_df)\n",
        "      train_dataset = TensorDataset(train_images_tensor, label_df_tensor)\n",
        "\n",
        "      batch_size = 32\n",
        "      train_loader = DataLoader(train_dataset, batch_size=batch_size, shuffle=True)\n",
        "      self.model.train()\n",
        "      best_acc = 0\n",
        "      for epoch in range(self.num_epochs):\n",
        "                running_loss = 0.0\n",
        "                correct_predictions = 0\n",
        "                total_predictions = 0\n",
        "\n",
        "                # Training loop\n",
        "                for inputs, labels in train_loader:\n",
        "                    inputs= inputs.to(device)\n",
        "                    labels = torch.tensor(labels).to(device)\n",
        "\n",
        "                    # Zero the parameter gradients\n",
        "                    optimizer.zero_grad()\n",
        "\n",
        "                    # Forward pass\n",
        "                    outputs = self.model(inputs)\n",
        "                    outputs = outputs.to(device)\n",
        "                    loss = loss_f(outputs, labels)\n",
        "\n",
        "                    # Backward pass and optimization\n",
        "                    loss.backward()\n",
        "                    optimizer.step()\n",
        "\n",
        "                    running_loss += loss.item()\n",
        "\n",
        "                    # Calculate accuracy\n",
        "                    _, preds = torch.max(outputs, 1)\n",
        "                    correct_predictions += torch.sum(preds == labels)\n",
        "                    total_predictions += inputs.shape[0]\n",
        "\n",
        "                # Print loss and accuracy at the end of each epoch\n",
        "                epoch_loss = running_loss / len(train_loader)\n",
        "                epoch_acc = correct_predictions.double() / total_predictions\n",
        "                print(f'Epoch [{epoch+1}/{self.num_epochs}], Loss: {epoch_loss:.4f}, Accuracy: {epoch_acc:.4f}')\n",
        "\n",
        "                # Saving the best model weights on the validation\n",
        "                val_acc = self._check_model()\n",
        "                if val_acc > best_acc:\n",
        "                    best_acc = val_acc\n",
        "                    torch.save(self.model.state_dict(), f\"best_{self.selection_criterion}_model.pth\")\n",
        "      print(\"--\"*30)\n",
        "\n",
        "    def _check_model(self):\n",
        "        self.model.eval()\n",
        "        \"\"\"\n",
        "        This function is used to evaluate the model on the validation set\n",
        "        \"\"\"\n",
        "        running_corrects = 0\n",
        "        total_predictions = 0.0\n",
        "\n",
        "        with torch.no_grad():\n",
        "            for inputs, labels, _ in val_loader:\n",
        "                inputs = inputs.to(device)\n",
        "                labels = torch.tensor(labels).to(device)\n",
        "\n",
        "                outputs = self.model(inputs)\n",
        "                _, preds = torch.max(outputs, 1)\n",
        "\n",
        "                running_corrects += torch.sum(preds == labels)\n",
        "                total_predictions += inputs.shape[0]\n",
        "        val_acc = running_corrects.double() / total_predictions\n",
        "        return val_acc.item()\n",
        "\n",
        "    def _evaluate_model(self):\n",
        "        \"\"\"\n",
        "        Evaluate the model\n",
        "        :return:\n",
        "        accuracy: float, accuracy of the model\n",
        "        \"\"\"\n",
        "        self.model.eval()\n",
        "        running_corrects = 0\n",
        "        test_images_tensor = torch.stack(test_images)\n",
        "        label_df_tensor = torch.tensor(test_label_df)\n",
        "        test_dataset = TensorDataset(test_images_tensor, label_df_tensor)\n",
        "        batch_size = 32\n",
        "        test_loader = DataLoader(test_dataset, batch_size=batch_size, shuffle=False)\n",
        "        total_predictions = 0.0\n",
        "        with torch.no_grad():\n",
        "            for inputs, labels in test_loader:\n",
        "                inputs = inputs.to(device)\n",
        "                labels = torch.tensor(labels).to(device)\n",
        "\n",
        "                outputs = self.model(inputs)\n",
        "                _, preds = torch.max(outputs, 1)\n",
        "\n",
        "                running_corrects += torch.sum(preds == labels)\n",
        "                total_predictions += inputs.shape[0]\n",
        "        test_acc = running_corrects.double() / total_predictions\n",
        "        return test_acc.item()\n",
        "\n",
        "    def _random_sampling(self):\n",
        "      \"\"\"\n",
        "      Random sampling strategy\n",
        "      \"\"\"\n",
        "      selected_indices = np.random.choice(self.available_pool_indices, self.budget_per_iter, replace=False)\n",
        "      selected_indices = selected_indices.tolist()\n",
        "      self.train_indices = self.train_indices + selected_indices\n",
        "\n",
        "      available_pool_set = set(self.available_pool_indices)\n",
        "      train_set = set(self.train_indices)\n",
        "      self.available_pool_indices = list(available_pool_set - train_set)\n",
        "\n",
        "\n",
        "    def _adversial_attack_sampling(self):\n",
        "      \"\"\"\n",
        "      Adversial attack (DeepFool) sampling strategy.\n",
        "      \"\"\"\n",
        "          X_unlabeled = [train_df.__getitem__(index)[0] for index in self.available_pool_indices]\n",
        "\n",
        "          pool_images_tensor = torch.stack(X_unlabeled)\n",
        "          pool_indices_tensor = torch.tensor(self.available_pool_indices)\n",
        "          pool_dataset = TensorDataset(pool_images_tensor,pool_indices_tensor)\n",
        "\n",
        "          batch_size = 32\n",
        "          pool_loader = DataLoader(pool_dataset, batch_size=batch_size, shuffle=False)\n",
        "\n",
        "          # Load the attack strategy.\n",
        "          fmodel = fb.PyTorchModel(self.model, bounds=(0, 255))\n",
        "          attack = fb.attacks.FGSM()\n",
        "          adversarial_images = []\n",
        "          self.model.eval()\n",
        "          outputs = []\n",
        "          epsilons = [0.01]\n",
        "          for inputs, index in pool_loader:\n",
        "              inputs = inputs.to(device)\n",
        "              x = self.model(inputs)\n",
        "              _,preds=torch.max(x,1)\n",
        "              for image, pred, i in zip(inputs, preds, index):\n",
        "                    image = image.unsqueeze(0).to(device)\n",
        "                    # Convert `pred` into a tensor with the correct shape for Foolbox\n",
        "                    pred_tensor = torch.tensor([pred.item()], dtype=torch.int64).to(device)\n",
        "                    # Run DeepFool attack with epsilons\n",
        "                    adversarial_images_eps, perturbations, success_status = attack(fmodel, image, criterion=fb.criteria.Misclassification(pred_tensor), epsilons=epsilons)\n",
        "                    adversarial_image = attack(fmodel, image, criterion=fb.criteria.Misclassification(pred_tensor), epsilons=0.01)[0]\n",
        "                    # Calculating the norm between each image and it's adversial.\n",
        "                    k=torch.norm((adversarial_image-image).view(image.size(0),-1),dim=1)\n",
        "                    adversarial_images.append((k,i))\n",
        "          # Sort the images according to the norm with the adversial, and taking the samples with the lowest norm.\n",
        "          adversarial_images=sorted(adversarial_images,key=lambda x:x[0])\n",
        "          selected_indices=[t[1] for t in adversarial_images[:self.budget_per_iter]]\n",
        "          self.train_indices = self.train_indices + selected_indices\n",
        "          available_pool_set = set(self.available_pool_indices)\n",
        "          train_set = set(self.train_indices)\n",
        "          self.available_pool_indices = list(available_pool_set - train_set)\n"
      ]
    },
    {
      "cell_type": "code",
      "execution_count": null,
      "metadata": {
        "id": "o5829ZYDh1Rp"
      },
      "outputs": [],
      "source": [
        "def generate_plot(accuracy_scores_dict):\n",
        "    \"\"\"\n",
        "    Generate a plot\n",
        "    \"\"\"\n",
        "    for criterion, accuracy_scores in accuracy_scores_dict.items():\n",
        "        plt.plot(range(1, len(accuracy_scores) + 1), accuracy_scores, label=criterion)\n",
        "    plt.xlabel('Iterations')\n",
        "    plt.ylabel('Accuracy')\n",
        "    plt.legend()\n",
        "    plt.show()"
      ]
    },
    {
      "cell_type": "code",
      "execution_count": null,
      "metadata": {
        "id": "DQ2IZmfRuYgX"
      },
      "outputs": [],
      "source": [
        "# Loading the images (pool, test datasets).\n",
        "available_pool_indices = []\n",
        "for i in range(len(train_df)):\n",
        "    image, label, index = train_df[i]\n",
        "    available_pool_indices.append(index)\n",
        "\n",
        "test_indices = []\n",
        "for i in range(len(test_df)):\n",
        "    image, label, index = test_df[i]\n",
        "    test_indices.append(index)\n",
        "test_images = [test_df.__getitem__(index)[0] for index in test_indices]\n",
        "test_label_df = [class_mapping[test_df.__getitem__(index)[1]] for index in test_indices]"
      ]
    },
    {
      "cell_type": "code",
      "execution_count": null,
      "metadata": {
        "id": "BWYnhbpgmOAV"
      },
      "outputs": [],
      "source": [
        "# According to the initialization that we got using KMeans++ Code of the initialization could be found in the initials file\n",
        "train_indices = [1372,\n",
        " 1277,\n",
        " 1255,\n",
        " 1423,\n",
        " 2925,\n",
        " 1963,\n",
        " 2335,\n",
        " 1923,\n",
        " 3791,\n",
        " 1239,\n",
        " 909,\n",
        " 134,\n",
        " 1547,\n",
        " 3931,\n",
        " 2467,\n",
        " 2832,\n",
        " 1789,\n",
        " 3022,\n",
        " 2424,\n",
        " 780,\n",
        " 2412,\n",
        " 3038,\n",
        " 2158,\n",
        " 3335,\n",
        " 1868,\n",
        " 1771,\n",
        " 2015,\n",
        " 1535,\n",
        " 710,\n",
        " 3007]\n",
        "available_pool_set = set(available_pool_indices)\n",
        "train_set = set(train_indices)\n",
        "available_pool_indices = list(available_pool_set - train_set)"
      ]
    },
    {
      "cell_type": "code",
      "execution_count": null,
      "metadata": {
        "id": "Pmcf2jc6h2S9"
      },
      "outputs": [],
      "source": [
        "# Hyperparameters Tuning.\n",
        "iterations = 6\n",
        "budget_per_iter = 100\n",
        "num_epoch = 15\n",
        "selection_criteria = [\"adversial_attack\"]\n",
        "accuracy_scores_dict = defaultdict(list)\n",
        "model = base_model"
      ]
    },
    {
      "cell_type": "code",
      "execution_count": null,
      "metadata": {
        "colab": {
          "base_uri": "https://localhost:8080/",
          "height": 339
        },
        "id": "4UGO2jW1h5Ql",
        "outputId": "0993cc7b-2fc2-4a84-a31a-ef45ed5febff"
      },
      "outputs": [
        {
          "name": "stdout",
          "output_type": "stream",
          "text": [
            "--------- Number of Iteration 0 ---------\n"
          ]
        },
        {
          "name": "stderr",
          "output_type": "stream",
          "text": [
            "/anaconda/envs/py38_default/lib/python3.9/site-packages/foolbox/models/pytorch.py:36: UserWarning: The PyTorch model is in training mode and therefore might not be deterministic. Call the eval() method to set it in evaluation mode if this is not intended.\n",
            "  warnings.warn(\n",
            "/tmp/ipykernel_526303/1519695226.py:84: UserWarning: To copy construct from a tensor, it is recommended to use sourceTensor.clone().detach() or sourceTensor.clone().detach().requires_grad_(True), rather than torch.tensor(sourceTensor).\n",
            "  labels = torch.tensor(labels).to(device)\n"
          ]
        },
        {
          "name": "stdout",
          "output_type": "stream",
          "text": [
            "Epoch [1/15], Loss: 2.0525, Accuracy: 0.2385\n"
          ]
        },
        {
          "name": "stderr",
          "output_type": "stream",
          "text": [
            "/tmp/ipykernel_526303/1519695226.py:124: UserWarning: To copy construct from a tensor, it is recommended to use sourceTensor.clone().detach() or sourceTensor.clone().detach().requires_grad_(True), rather than torch.tensor(sourceTensor).\n",
            "  labels = torch.tensor(labels).to(device)\n"
          ]
        },
        {
          "name": "stdout",
          "output_type": "stream",
          "text": [
            "Epoch [2/15], Loss: 1.9063, Accuracy: 0.4462\n",
            "Epoch [3/15], Loss: 2.0039, Accuracy: 0.4462\n",
            "Epoch [4/15], Loss: 1.9991, Accuracy: 0.4462\n",
            "Epoch [5/15], Loss: 1.9334, Accuracy: 0.4385\n",
            "Epoch [6/15], Loss: 2.0193, Accuracy: 0.4385\n",
            "Epoch [7/15], Loss: 1.9837, Accuracy: 0.4615\n",
            "Epoch [8/15], Loss: 1.9790, Accuracy: 0.4692\n",
            "Epoch [9/15], Loss: 1.9514, Accuracy: 0.4538\n",
            "Epoch [10/15], Loss: 1.8645, Accuracy: 0.3462\n",
            "Epoch [11/15], Loss: 1.8874, Accuracy: 0.4385\n",
            "Epoch [12/15], Loss: 1.8861, Accuracy: 0.6000\n",
            "Epoch [13/15], Loss: 1.7448, Accuracy: 0.5615\n",
            "Epoch [14/15], Loss: 1.8107, Accuracy: 0.6308\n",
            "Epoch [15/15], Loss: 1.7912, Accuracy: 0.5538\n",
            "------------------------------------------------------------\n"
          ]
        },
        {
          "name": "stderr",
          "output_type": "stream",
          "text": [
            "/tmp/ipykernel_526303/1519695226.py:152: UserWarning: To copy construct from a tensor, it is recommended to use sourceTensor.clone().detach() or sourceTensor.clone().detach().requires_grad_(True), rather than torch.tensor(sourceTensor).\n",
            "  labels = torch.tensor(labels).to(device)\n"
          ]
        },
        {
          "name": "stdout",
          "output_type": "stream",
          "text": [
            "--------- Number of Iteration 1 ---------\n",
            "Epoch [1/15], Loss: 1.9696, Accuracy: 0.3696\n",
            "Epoch [2/15], Loss: 1.8372, Accuracy: 0.5304\n",
            "Epoch [3/15], Loss: 1.7436, Accuracy: 0.5957\n",
            "Epoch [4/15], Loss: 1.7706, Accuracy: 0.4696\n",
            "Epoch [5/15], Loss: 1.7098, Accuracy: 0.5913\n",
            "Epoch [6/15], Loss: 1.6610, Accuracy: 0.6870\n",
            "Epoch [7/15], Loss: 1.6149, Accuracy: 0.6870\n",
            "Epoch [8/15], Loss: 1.6546, Accuracy: 0.7043\n",
            "Epoch [9/15], Loss: 1.6147, Accuracy: 0.7522\n",
            "Epoch [10/15], Loss: 1.5758, Accuracy: 0.7913\n",
            "Epoch [11/15], Loss: 1.5115, Accuracy: 0.7348\n",
            "Epoch [12/15], Loss: 1.5096, Accuracy: 0.8130\n",
            "Epoch [13/15], Loss: 1.4763, Accuracy: 0.8348\n",
            "Epoch [14/15], Loss: 1.5132, Accuracy: 0.8217\n",
            "Epoch [15/15], Loss: 1.4550, Accuracy: 0.8696\n",
            "------------------------------------------------------------\n",
            "--------- Number of Iteration 2 ---------\n",
            "Epoch [1/15], Loss: 1.7835, Accuracy: 0.5758\n",
            "Epoch [2/15], Loss: 1.6615, Accuracy: 0.4697\n",
            "Epoch [3/15], Loss: 1.5440, Accuracy: 0.7061\n",
            "Epoch [4/15], Loss: 1.4931, Accuracy: 0.7727\n",
            "Epoch [5/15], Loss: 1.4714, Accuracy: 0.7424\n",
            "Epoch [6/15], Loss: 1.4191, Accuracy: 0.8424\n",
            "Epoch [7/15], Loss: 1.4035, Accuracy: 0.8667\n",
            "Epoch [8/15], Loss: 1.3869, Accuracy: 0.8697\n",
            "Epoch [9/15], Loss: 1.3678, Accuracy: 0.8879\n",
            "Epoch [10/15], Loss: 1.3548, Accuracy: 0.9061\n",
            "Epoch [11/15], Loss: 1.3427, Accuracy: 0.9273\n",
            "Epoch [12/15], Loss: 1.3469, Accuracy: 0.9242\n",
            "Epoch [13/15], Loss: 1.3379, Accuracy: 0.9364\n",
            "Epoch [14/15], Loss: 1.3361, Accuracy: 0.9364\n",
            "Epoch [15/15], Loss: 1.3320, Accuracy: 0.9485\n",
            "------------------------------------------------------------\n",
            "--------- Number of Iteration 3 ---------\n",
            "Epoch [1/15], Loss: 1.6708, Accuracy: 0.6256\n",
            "Epoch [2/15], Loss: 1.5981, Accuracy: 0.6233\n",
            "Epoch [3/15], Loss: 1.5244, Accuracy: 0.7186\n",
            "Epoch [4/15], Loss: 1.4418, Accuracy: 0.8326\n",
            "Epoch [5/15], Loss: 1.3999, Accuracy: 0.8721\n",
            "Epoch [6/15], Loss: 1.3751, Accuracy: 0.9140\n",
            "Epoch [7/15], Loss: 1.3498, Accuracy: 0.9302\n",
            "Epoch [8/15], Loss: 1.3316, Accuracy: 0.9488\n",
            "Epoch [9/15], Loss: 1.3247, Accuracy: 0.9628\n",
            "Epoch [10/15], Loss: 1.3148, Accuracy: 0.9651\n",
            "Epoch [11/15], Loss: 1.3166, Accuracy: 0.9651\n",
            "Epoch [12/15], Loss: 1.3192, Accuracy: 0.9651\n",
            "Epoch [13/15], Loss: 1.3031, Accuracy: 0.9744\n",
            "Epoch [14/15], Loss: 1.2974, Accuracy: 0.9767\n",
            "Epoch [15/15], Loss: 1.2998, Accuracy: 0.9767\n",
            "------------------------------------------------------------\n",
            "--------- Number of Iteration 4 ---------\n",
            "Epoch [1/15], Loss: 1.5691, Accuracy: 0.6585\n",
            "Epoch [2/15], Loss: 1.5160, Accuracy: 0.6868\n",
            "Epoch [3/15], Loss: 1.4688, Accuracy: 0.8019\n",
            "Epoch [4/15], Loss: 1.4479, Accuracy: 0.8434\n",
            "Epoch [5/15], Loss: 1.4029, Accuracy: 0.9019\n",
            "Epoch [6/15], Loss: 1.3550, Accuracy: 0.9283\n",
            "Epoch [7/15], Loss: 1.3417, Accuracy: 0.9491\n",
            "Epoch [8/15], Loss: 1.3308, Accuracy: 0.9509\n",
            "Epoch [9/15], Loss: 1.3226, Accuracy: 0.9547\n",
            "Epoch [10/15], Loss: 1.3127, Accuracy: 0.9623\n",
            "Epoch [11/15], Loss: 1.3072, Accuracy: 0.9736\n",
            "Epoch [12/15], Loss: 1.3037, Accuracy: 0.9736\n",
            "Epoch [13/15], Loss: 1.3027, Accuracy: 0.9736\n",
            "Epoch [14/15], Loss: 1.3003, Accuracy: 0.9736\n",
            "Epoch [15/15], Loss: 1.2977, Accuracy: 0.9755\n",
            "------------------------------------------------------------\n",
            "--------- Number of Iteration 5 ---------\n",
            "Epoch [1/15], Loss: 1.4110, Accuracy: 0.8492\n",
            "Epoch [2/15], Loss: 1.3598, Accuracy: 0.9143\n",
            "Epoch [3/15], Loss: 1.3371, Accuracy: 0.9444\n",
            "Epoch [4/15], Loss: 1.3303, Accuracy: 0.9492\n",
            "Epoch [5/15], Loss: 1.3213, Accuracy: 0.9571\n",
            "Epoch [6/15], Loss: 1.3139, Accuracy: 0.9619\n",
            "Epoch [7/15], Loss: 1.3093, Accuracy: 0.9667\n",
            "Epoch [8/15], Loss: 1.3076, Accuracy: 0.9667\n",
            "Epoch [9/15], Loss: 1.3077, Accuracy: 0.9683\n",
            "Epoch [10/15], Loss: 1.3064, Accuracy: 0.9683\n",
            "Epoch [11/15], Loss: 1.2991, Accuracy: 0.9762\n",
            "Epoch [12/15], Loss: 1.2930, Accuracy: 0.9778\n",
            "Epoch [13/15], Loss: 1.2929, Accuracy: 0.9778\n",
            "Epoch [14/15], Loss: 1.2924, Accuracy: 0.9778\n",
            "Epoch [15/15], Loss: 1.2938, Accuracy: 0.9778\n",
            "------------------------------------------------------------\n"
          ]
        },
        {
          "data": {
            "image/png": "[encoded data removed]",
            "text/plain": [
              "<Figure size 640x480 with 1 Axes>"
            ]
          },
          "metadata": {},
          "output_type": "display_data"
        }
      ],
      "source": [
        "for criterion in selection_criteria:\n",
        "    AL_class = ActiveLearningPipeline(model=model,\n",
        "                                      test_indices=test_indices,\n",
        "                                      available_pool_indices=available_pool_indices,\n",
        "                                      train_indices=train_indices,\n",
        "                                      selection_criterion=criterion,\n",
        "                                      iterations=iterations,\n",
        "                                      budget_per_iter=budget_per_iter,\n",
        "                                      num_epochs=num_epoch)\n",
        "    accuracy_scores_dict[criterion] = AL_class.run_pipeline()\n",
        "generate_plot(accuracy_scores_dict)"
      ]
    },
    {
      "cell_type": "code",
      "execution_count": null,
      "metadata": {
        "id": "j5sKVVjSzEl7",
        "outputId": "2a7aa04e-76e5-498e-a83e-351bd466c2f1"
      },
      "outputs": [
        {
          "data": {
            "text/plain": [
              "defaultdict(list,\n",
              "            {'adversial_attack': [0.49867724867724866,\n",
              "              0.5654761904761905,\n",
              "              0.5575396825396826,\n",
              "              0.5793650793650793,\n",
              "              0.5787037037037037,\n",
              "              0.5092592592592592]})"
            ]
          },
          "execution_count": 28,
          "metadata": {},
          "output_type": "execute_result"
        }
      ],
      "source": [
        "accuracy_scores_dict"
      ]
    },
    {
      "cell_type": "code",
      "execution_count": null,
      "metadata": {
        "id": "9Qb8wm3-mOAW"
      },
      "outputs": [],
      "source": []
    }
  ],
  "metadata": {
    "colab": {
      "provenance": []
    },
    "kernelspec": {
      "display_name": "Python 3 (ipykernel)",
      "language": "python",
      "name": "python3"
    },
    "language_info": {
      "codemirror_mode": {
        "name": "ipython",
        "version": 3
      },
      "file_extension": ".py",
      "mimetype": "text/x-python",
      "name": "python",
      "nbconvert_exporter": "python",
      "pygments_lexer": "ipython3",
      "version": "3.9.15"
    }
  },
  "nbformat": 4,
  "nbformat_minor": 0
}