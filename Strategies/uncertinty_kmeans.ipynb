{
  "cells": [
    {
      "cell_type": "markdown",
      "metadata": {
        "id": "view-in-github",
        "colab_type": "text"
      },
      "source": [
        "<a href=\"https://colab.research.google.com/github/kinan-02/SkinCancer-AL/blob/main/Stratiges/uncertinty_kmeans.ipynb\" target=\"_parent\"><img src=\"https://colab.research.google.com/assets/colab-badge.svg\" alt=\"Open In Colab\"/></a>"
      ]
    },
    {
      "cell_type": "code",
      "execution_count": null,
      "metadata": {
        "id": "JjgyTgaRfy4k"
      },
      "outputs": [],
      "source": [
        "import pandas as pd\n",
        "import numpy as np\n",
        "import pickle\n",
        "from sklearn.ensemble import RandomForestClassifier\n",
        "from sklearn.svm import SVC\n",
        "from sklearn.linear_model import LogisticRegression\n",
        "from scipy.stats import entropy\n",
        "from collections import defaultdict\n",
        "import argparse\n",
        "from matplotlib import pyplot as plt\n",
        "import random\n",
        "import torch\n",
        "random.seed(0)\n",
        "np.random.seed(0)\n",
        "torch.manual_seed(0)\n",
        "if torch.cuda.is_available():\n",
        "    torch.cuda.manual_seed_all(0)\n",
        "torch.backends.cudnn.deterministic = True\n",
        "torch.backends.cudnn.benchmark = False\n",
        "\n",
        "train_df = pd.read_csv('train_dataset/metadata.csv')\n",
        "test_df = pd.read_csv('test_dataset/metadata.csv')\n",
        "val_df = pd.read_csv('validation_dataset/metadata.csv')"
      ]
    },
    {
      "cell_type": "code",
      "execution_count": null,
      "metadata": {
        "colab": {
          "base_uri": "https://localhost:8080/",
          "height": 366
        },
        "id": "bcHCCahYj6B7",
        "outputId": "1facd164-3e8b-40f4-81d7-52fc3110e538"
      },
      "outputs": [
        {
          "name": "stdout",
          "output_type": "stream",
          "text": [
            "diagnosis\n",
            "nevus                         1205\n",
            "melanoma                      1113\n",
            "pigmented benign keratosis    1099\n",
            "basal cell carcinoma           514\n",
            "squamous cell carcinoma        197\n",
            "vascular lesion                142\n",
            "actinic keratosis              130\n",
            "dermatofibroma                 115\n",
            "Name: count, dtype: int64\n"
          ]
        }
      ],
      "source": [
        "print(train_df['diagnosis'].value_counts())"
      ]
    },
    {
      "cell_type": "code",
      "execution_count": null,
      "metadata": {
        "id": "5hSsk5IJwdls",
        "outputId": "88cd0103-a2c1-44f3-d61c-e5c23dc698e4"
      },
      "outputs": [
        {
          "data": {
            "text/plain": [
              "{'actinic keratosis': 0,\n",
              " 'basal cell carcinoma': 1,\n",
              " 'dermatofibroma': 2,\n",
              " 'melanoma': 3,\n",
              " 'nevus': 4,\n",
              " 'pigmented benign keratosis': 5,\n",
              " 'squamous cell carcinoma': 6,\n",
              " 'vascular lesion': 7}"
            ]
          },
          "execution_count": 16,
          "metadata": {},
          "output_type": "execute_result"
        }
      ],
      "source": [
        "class_mapping = {\n",
        "    \"actinic keratosis\": 0,\n",
        "    \"basal cell carcinoma\": 1,\n",
        "    \"dermatofibroma\": 2,\n",
        "    \"melanoma\": 3,\n",
        "    \"nevus\": 4,\n",
        "    \"pigmented benign keratosis\": 5,\n",
        "    \"squamous cell carcinoma\": 6,\n",
        "    \"vascular lesion\":7\n",
        "}\n",
        "class_mapping"
      ]
    },
    {
      "cell_type": "code",
      "execution_count": null,
      "metadata": {
        "id": "BLruwetXmPem"
      },
      "outputs": [],
      "source": [
        "from PIL import Image\n",
        "import os\n",
        "\n",
        "import torchvision.transforms as transforms\n",
        "\n",
        "# Define image transformations (resize, convert to tensor)\n",
        "transform = transforms.Compose([\n",
        "    transforms.Resize((224, 224)),          # Resize images to 224x224 (matching ResNet input size)\n",
        "    transforms.ToTensor()\n",
        "])\n",
        "\n",
        "# we made this class to read the data from the file and to use it later in the dataloader\n",
        "class Dataset():\n",
        "    def __init__(self, dataframe, transform, train='train'):\n",
        "        self.dataframe=dataframe\n",
        "        self.train = train\n",
        "        self.transform = transform\n",
        "        self.path_to_image=self._create_path_to_image_dict()\n",
        "        self.paths=list(self.path_to_image.keys())\n",
        "        self.labels=list(self.path_to_image.values())\n",
        "\n",
        "    def _create_path_to_image_dict(self):\n",
        "      path_to_image={}\n",
        "      for index,row in self.dataframe.iterrows():\n",
        "        if self.train == 'train':\n",
        "          img_path = os.path.join('train_dataset/',row['isic_id']+'.jpg')\n",
        "        elif self.train == 'test':\n",
        "          img_path = os.path.join('test_dataset/',row['isic_id']+'.jpg')\n",
        "        else:\n",
        "            img_path = os.path.join('validation_dataset/',row['isic_id']+'.jpg')\n",
        "        label=row['diagnosis']\n",
        "        path_to_image[img_path]=label\n",
        "      return path_to_image\n",
        "\n",
        "    def __len__(self):\n",
        "        return len(self.paths)\n",
        "\n",
        "    def __getitem__(self,index):\n",
        "        img_path=self.paths[index]\n",
        "        img_label=self.labels[index]\n",
        "        image=Image.open(img_path)\n",
        "        image=self.transform(image)\n",
        "        if self.train == 'val':\n",
        "            return image, class_mapping[img_label], index\n",
        "        return image, img_label, index"
      ]
    },
    {
      "cell_type": "code",
      "execution_count": null,
      "metadata": {
        "id": "9yCvnprDoa_7"
      },
      "outputs": [],
      "source": [
        "train_df = Dataset(train_df, transform)\n",
        "val_df = Dataset(val_df, transform,train='val')\n",
        "test_df = Dataset(test_df, transform,train='test')"
      ]
    },
    {
      "cell_type": "code",
      "execution_count": null,
      "metadata": {
        "colab": {
          "base_uri": "https://localhost:8080/"
        },
        "id": "l5L0NcpesnZI",
        "outputId": "22f97091-b571-4138-964f-95a509890583"
      },
      "outputs": [
        {
          "name": "stderr",
          "output_type": "stream",
          "text": [
            "/anaconda/envs/py38_default/lib/python3.9/site-packages/torchvision/models/_utils.py:208: UserWarning: The parameter 'pretrained' is deprecated since 0.13 and may be removed in the future, please use 'weights' instead.\n",
            "  warnings.warn(\n",
            "/anaconda/envs/py38_default/lib/python3.9/site-packages/torchvision/models/_utils.py:223: UserWarning: Arguments other than a weight enum or `None` for 'weights' are deprecated since 0.13 and may be removed in the future. The current behavior is equivalent to passing `weights=ResNet50_Weights.IMAGENET1K_V1`. You can also use `weights=ResNet50_Weights.DEFAULT` to get the most up-to-date weights.\n",
            "  warnings.warn(msg)\n"
          ]
        }
      ],
      "source": [
        "import torch\n",
        "import torch.nn as nn\n",
        "import torchvision.models as models\n",
        "from torchvision import transforms\n",
        "from torch.optim import Adam\n",
        "\n",
        "# Load pre-trained ResNet50 model from torchvision\n",
        "base_model = models.resnet50(pretrained=True)\n",
        "\n",
        "num_classes = 8\n",
        "base_model.fc = nn.Sequential(\n",
        "    nn.Flatten(),\n",
        "    nn.Linear(base_model.fc.in_features, 128),  # Add a fully connected layer\n",
        "    nn.ReLU(),\n",
        "    nn.Linear(128, num_classes),  # Final layer with number of classes\n",
        "    nn.Softmax(dim=1)  # Softmax activation for multi-class classification\n",
        ")\n",
        "\n",
        "for param in base_model.parameters():\n",
        "    param.requires_grad = False  # Freeze all layers except the fully connected ones\n",
        "\n",
        "# Unfreeze the final fully connected layer\n",
        "for param in base_model.fc.parameters():\n",
        "    param.requires_grad = True\n",
        "\n",
        "loss_f = nn.CrossEntropyLoss()\n",
        "optimizer = Adam(base_model.fc.parameters(), lr=0.0008)\n",
        "\n",
        "# Move model to GPU if available\n",
        "device = torch.device(\"cuda\" if torch.cuda.is_available() else \"cpu\")\n",
        "base_model.to(device)\n",
        "x = 5"
      ]
    },
    {
      "cell_type": "code",
      "execution_count": null,
      "metadata": {
        "id": "jrqnCnhHwdlu"
      },
      "outputs": [],
      "source": [
        "from torch.utils.data import DataLoader, TensorDataset\n",
        "\n",
        "batch_size = 4\n",
        "val_loader = DataLoader(val_df, batch_size=batch_size, shuffle=False)"
      ]
    },
    {
      "cell_type": "code",
      "execution_count": null,
      "metadata": {
        "id": "-Vk8kyZsgACa"
      },
      "outputs": [],
      "source": [
        "from sklearn.cluster import KMeans\n",
        "import numpy as np\n",
        "from transformers import ViTFeatureExtractor, ViTModel\n",
        "\n",
        "class ActiveLearningPipeline:\n",
        "    def __init__(self, model,\n",
        "                 available_pool_indices,\n",
        "                 train_indices,\n",
        "                 test_indices,\n",
        "                 selection_criterion,\n",
        "                 iterations,\n",
        "                 budget_per_iter,\n",
        "                 num_epochs):\n",
        "        self.model = model\n",
        "        self.iterations = iterations\n",
        "        self.budget_per_iter = budget_per_iter\n",
        "        self.available_pool_indices = available_pool_indices\n",
        "        self.train_indices = train_indices\n",
        "        self.test_indices = test_indices\n",
        "        self.selection_criterion = selection_criterion\n",
        "        if self.selection_criterion == 'random':\n",
        "          self.train_indices = []\n",
        "        self.num_epochs = num_epochs\n",
        "        # self.best_acc = 0\n",
        "        self.pool_features = []\n",
        "        self.pool_indices = []\n",
        "\n",
        "    def run_pipeline(self):\n",
        "        \"\"\"\n",
        "        Run the active learning pipeline\n",
        "        :return\n",
        "        accuracy_scores: list, accuracy scores at each iteration\n",
        "        \"\"\"\n",
        "        accuracy_scores = []\n",
        "        self._get_features()\n",
        "        for iteration in range(self.iterations):\n",
        "            print(f\"--------- Number of Iteration {iteration} ---------\")\n",
        "            if self.selection_criterion == 'random':\n",
        "                self._random_sampling()\n",
        "            elif self.selection_criterion == 'uncertainty_kmeans':\n",
        "                self._uncertainty_kmeans_sampling(iteration)\n",
        "            else:\n",
        "              self._custom_sampling(iteration)\n",
        "\n",
        "            train_images = [train_df.__getitem__(index)[0] for index in self.train_indices]\n",
        "            label_df = [class_mapping[train_df.__getitem__(index)[1]] for index in self.train_indices]\n",
        "            self._train_model(train_images, label_df)\n",
        "            self.model.load_state_dict(torch.load(f\"best_{self.selection_criterion}_model.pth\"))\n",
        "            accuracy = self._evaluate_model()\n",
        "            accuracy_scores.append(accuracy)\n",
        "        return accuracy_scores\n",
        "\n",
        "    def calculate_class_weights(self, label_counts, num_classes=8):\n",
        "      \"\"\"\n",
        "      calculate class weights to handle data imbalance for the loss function.\n",
        "      \"\"\"\n",
        "        total_samples = sum(label_counts.values())\n",
        "        class_weights = torch.zeros(num_classes)\n",
        "\n",
        "        for cls in range(num_classes):\n",
        "            if cls in label_counts:\n",
        "                class_weights[cls] = total_samples / (num_classes * label_counts[cls])\n",
        "            else:\n",
        "                class_weights[cls] = 1.0\n",
        "\n",
        "        return class_weights\n",
        "\n",
        "    def _train_model(self, train_images, label_df):\n",
        "      \"\"\"\n",
        "      This function trains the base model on the provided training set and saves the best-performing model.\n",
        "      \"\"\"\n",
        "      label_counts = defaultdict(int)\n",
        "      for label in label_df:\n",
        "                label_counts[label] += 1\n",
        "      class_weights = self.calculate_class_weights(label_counts, 8).to(device)\n",
        "      loss_f = nn.CrossEntropyLoss(weight=class_weights)\n",
        "\n",
        "      train_images_tensor = torch.stack(train_images)\n",
        "      label_df_tensor = torch.tensor(label_df)\n",
        "      train_dataset = TensorDataset(train_images_tensor, label_df_tensor)\n",
        "\n",
        "      batch_size = 32\n",
        "      train_loader = DataLoader(train_dataset, batch_size=batch_size, shuffle=True)\n",
        "      best_acc = 0\n",
        "      for epoch in range(self.num_epochs):\n",
        "                self.model.train()\n",
        "                running_loss = 0.0  # Track the running loss\n",
        "                correct_predictions = 0\n",
        "                total_predictions = 0\n",
        "                # Training loop\n",
        "                for inputs, labels in train_loader:\n",
        "                    inputs = inputs\n",
        "                    inputs= inputs.to(device)\n",
        "                    labels = torch.tensor(labels).to(device)\n",
        "\n",
        "                    # Zero the parameter gradients\n",
        "                    optimizer.zero_grad()\n",
        "\n",
        "                    # Forward pass\n",
        "                    outputs = self.model(inputs)\n",
        "                    loss = loss_f(outputs, labels)\n",
        "\n",
        "                    # Backward pass and optimization\n",
        "                    loss.backward()\n",
        "                    optimizer.step()\n",
        "\n",
        "                    running_loss += loss.item()\n",
        "\n",
        "                    # Calculate accuracy\n",
        "                    _, preds = torch.max(outputs, 1)\n",
        "                    correct_predictions += torch.sum(preds == labels)\n",
        "                    total_predictions += inputs.shape[0]\n",
        "\n",
        "                # Print loss and accuracy at the end of each epoch\n",
        "                epoch_loss = running_loss / len(train_loader)\n",
        "                epoch_acc = correct_predictions.double() / total_predictions\n",
        "                print(f'Epoch [{epoch+1}/{self.num_epochs}], Loss: {epoch_loss:.4f}, Accuracy: {epoch_acc:.4f}')\n",
        "\n",
        "                val_acc = self._check_model()\n",
        "                if val_acc > best_acc:\n",
        "                    best_acc = val_acc\n",
        "                    torch.save(self.model.state_dict(), f\"best_{self.selection_criterion}_model.pth\")\n",
        "      print(\"--\"*30)\n",
        "\n",
        "    def _check_model(self):\n",
        "      \"\"\"\n",
        "      Returns the accuracy of the base model on the validation set.\n",
        "      \"\"\"\n",
        "        self.model.eval()\n",
        "        running_corrects = 0\n",
        "        total_predictions = 0.0\n",
        "\n",
        "        with torch.no_grad():\n",
        "            for inputs, labels, _ in val_loader:\n",
        "                inputs = inputs.to(device)\n",
        "                labels = torch.tensor(labels).to(device)\n",
        "\n",
        "                outputs = model(inputs)\n",
        "                _, preds = torch.max(outputs, 1)\n",
        "\n",
        "                running_corrects += torch.sum(preds == labels)\n",
        "                total_predictions += inputs.shape[0]\n",
        "        val_acc = running_corrects.double() / total_predictions\n",
        "        return val_acc.item()\n",
        "\n",
        "    def _evaluate_model(self):\n",
        "        \"\"\"\n",
        "        Returns the accuracy of the base model on the test set.\n",
        "        \"\"\"\n",
        "        self.model.eval()\n",
        "        running_corrects = 0\n",
        "        test_images_tensor = torch.stack(test_images)\n",
        "        label_df_tensor = torch.tensor(test_label_df)\n",
        "        test_dataset = TensorDataset(test_images_tensor, label_df_tensor)\n",
        "        batch_size = 32  # Adjust based on your memory and hardware\n",
        "        test_loader = DataLoader(test_dataset, batch_size=batch_size, shuffle=False)\n",
        "        total_predictions = 0.0\n",
        "        with torch.no_grad():\n",
        "            for inputs, labels in test_loader:\n",
        "                inputs = inputs.to(device)\n",
        "                labels = torch.tensor(labels).to(device)\n",
        "\n",
        "                outputs = model(inputs)\n",
        "                _, preds = torch.max(outputs, 1)\n",
        "\n",
        "                running_corrects += torch.sum(preds == labels)\n",
        "                total_predictions += inputs.shape[0]\n",
        "        test_acc = running_corrects.double() / total_predictions\n",
        "        return test_acc.item()\n",
        "\n",
        "    def _random_sampling(self):\n",
        "      \"\"\"\n",
        "      Adds samples to the training set using a random sampling strategy.\n",
        "      \"\"\"\n",
        "      selected_indices = np.random.choice(self.available_pool_indices, self.budget_per_iter, replace=False)\n",
        "      selected_indices = selected_indices.tolist()\n",
        "      self.train_indices = self.train_indices + selected_indices\n",
        "\n",
        "      available_pool_set = set(self.available_pool_indices)\n",
        "      train_set = set(self.train_indices)\n",
        "      self.available_pool_indices = list(available_pool_set - train_set)\n",
        "\n",
        "\n",
        "    def extract_vae_features(self, dataloader, model, feature_extractor):\n",
        "        \"\"\"\n",
        "        Return the latent vector for each image and the corresponding indices.\n",
        "        \"\"\"\n",
        "        features_list = []\n",
        "        indices_list = []\n",
        "\n",
        "        with torch.no_grad():\n",
        "            for images, indices in dataloader:\n",
        "                # images = images.to(device)  # Move images to GPU if available\n",
        "                images_list = [transforms.ToPILImage()(img) for img in images]\n",
        "                inputs = feature_extractor(images=images_list, return_tensors=\"pt\")\n",
        "                with torch.no_grad():\n",
        "                    outputs = model(**inputs)\n",
        "\n",
        "                x = outputs.last_hidden_state[:, 0, :]\n",
        "                features_list.append(x.cpu().numpy())\n",
        "\n",
        "                # Collect indices\n",
        "                indices_list.extend(indices)\n",
        "\n",
        "        # Stack all features into a 2D array (n_samples, hidden_dim)\n",
        "        features = np.vstack(features_list)\n",
        "\n",
        "        return features, indices_list\n",
        "\n",
        "\n",
        "    def get_representative_images(self, kmeans, pool_features, pool_indices):\n",
        "          \"\"\"\n",
        "         returns a dictionary where the keys are the index of the cluster and the values are the closest images to\n",
        "         each centroid note that the K of the KMeans is the budget per iteration.\n",
        "        \"\"\"\n",
        "        cluster_to_images = {}\n",
        "        for i in range(kmeans.n_clusters):\n",
        "            # Get the indices of all images in the current cluster\n",
        "            cluster_indices = np.where(kmeans.labels_ == i)[0]\n",
        "\n",
        "            # Extract features of the images in the current cluster\n",
        "            cluster_features = pool_features[cluster_indices]\n",
        "\n",
        "            # Compute distances between each feature and the cluster centroid\n",
        "            distances = np.linalg.norm(cluster_features - kmeans.cluster_centers_[i], axis=1)\n",
        "\n",
        "            # Map the cluster number to the index of the representative image\n",
        "            nearest_indices = cluster_indices[np.argsort(distances)[:1]]\n",
        "\n",
        "\n",
        "            # Map the cluster number to the indices of the top k nearest images\n",
        "            cluster_to_images[i] = [pool_indices[idx] for idx in nearest_indices]\n",
        "\n",
        "        return cluster_to_images\n",
        "\n",
        "    def _get_features(self):\n",
        "      \"\"\"\n",
        "      Creates latent feature vectors for each image in the available pool using a pre-trained Vision Transformer (ViT) model from Google.\n",
        "      \"\"\"\n",
        "        feature_extractor = ViTFeatureExtractor.from_pretrained('google/vit-base-patch16-224-in21k')\n",
        "        model = ViTModel.from_pretrained('google/vit-base-patch16-224-in21k')\n",
        "\n",
        "        X_unlabeled = [train_df.__getitem__(index)[0] for index in self.available_pool_indices]\n",
        "        # Extract latent features using the VAE model\n",
        "        pool_images_tensor = torch.stack(X_unlabeled)\n",
        "        pool_indices_tensor = torch.tensor(self.available_pool_indices)\n",
        "        pool_dataset = TensorDataset(pool_images_tensor, pool_indices_tensor)\n",
        "\n",
        "        batch_size = 32\n",
        "        pool_loader = DataLoader(pool_dataset, batch_size=batch_size, shuffle=False)\n",
        "\n",
        "        self.pool_features, self.pool_indices = self.extract_vae_features(pool_loader, model, feature_extractor)\n",
        "\n",
        "    def _kmean_uncertin_samples(self, selected_indices):\n",
        "      \"\"\"\n",
        "      returns the selected indices\n",
        "      \"\"\"\n",
        "        n_clusters = self.budget_per_iter\n",
        "        kmeans = KMeans(n_clusters=n_clusters, init='k-means++', random_state=0)\n",
        "        kmeans.fit(self.pool_features[selected_indices])\n",
        "\n",
        "        pool_indices_np = np.array(self.pool_indices)\n",
        "        representative_images = self.get_representative_images(kmeans, self.pool_features[selected_indices], pool_indices_np[selected_indices])\n",
        "        selected_indices = list(ids.item() for l in representative_images.values() for ids in l)\n",
        "\n",
        "        for i in selected_indices:\n",
        "              index = self.pool_indices.index(i)\n",
        "              self.pool_features = np.delete(self.pool_features, index, axis=0)\n",
        "              self.pool_indices.pop(index)\n",
        "        return selected_indices\n",
        "\n",
        "    def _uncertainty_kmeans_sampling(self, itr):\n",
        "      \"\"\"\n",
        "      Adds samples to the training set using a uncertainty-kmeans sampling strategy.\n",
        "      \"\"\"\n",
        "      model = self.model\n",
        "\n",
        "      X_unlabeled = [train_df.__getitem__(index)[0] for index in self.available_pool_indices]\n",
        "\n",
        "      pool_images_tensor = torch.stack(X_unlabeled)\n",
        "      pool_dataset = TensorDataset(pool_images_tensor)\n",
        "\n",
        "      batch_size = 32\n",
        "      pool_loader = DataLoader(pool_dataset, batch_size=batch_size, shuffle=False)\n",
        "      model.eval()\n",
        "      outputs = []\n",
        "      with torch.no_grad():\n",
        "                for inputs in pool_loader:\n",
        "                    inputs = inputs[0]\n",
        "                    inputs = inputs.to(device)\n",
        "                    x = model(inputs)\n",
        "                    if x.shape[0] != batch_size:\n",
        "                        padding_tensor = torch.full((batch_size - x.shape[0], 8), 0).to(device)\n",
        "                        c = batch_size - x.shape[0]\n",
        "                        x = torch.cat([x, padding_tensor])\n",
        "                    outputs.append(x)\n",
        "      probabilities = torch.cat(outputs, dim=0)\n",
        "      probabilities = probabilities[:-c]\n",
        "      probabilities_cpu = probabilities.cpu().numpy()\n",
        "      uncertainties = entropy(probabilities_cpu, axis=1)\n",
        "\n",
        "      selected_indices = np.argsort(uncertainties)[-(self.budget_per_iter*self.iterations):]\n",
        "\n",
        "      selected_indices = self._kmean_uncertin_samples(selected_indices)\n",
        "\n",
        "      self.train_indices = self.train_indices + selected_indices\n",
        "\n",
        "      available_pool_set = set(self.available_pool_indices)\n",
        "      train_set = set(self.train_indices)\n",
        "      self.available_pool_indices = list(available_pool_set - train_set)\n",
        ""
      ]
    },
    {
      "cell_type": "code",
      "execution_count": null,
      "metadata": {
        "id": "o5829ZYDh1Rp"
      },
      "outputs": [],
      "source": [
        "def generate_plot(accuracy_scores_dict):\n",
        "    \"\"\"\n",
        "    Generate a plot\n",
        "    \"\"\"\n",
        "    for criterion, accuracy_scores in accuracy_scores_dict.items():\n",
        "        plt.plot(range(1, len(accuracy_scores) + 1), accuracy_scores, label=criterion)\n",
        "    plt.xlabel('Iterations')\n",
        "    plt.ylabel('Accuracy')\n",
        "    plt.legend()\n",
        "    plt.show()"
      ]
    },
    {
      "cell_type": "code",
      "execution_count": null,
      "metadata": {
        "id": "DQ2IZmfRuYgX"
      },
      "outputs": [],
      "source": [
        "available_pool_indices = []\n",
        "for i in range(len(train_df)):\n",
        "  \"\"\" Initialize the available pool indices \"\"\"\n",
        "    image, label, index = train_df[i]\n",
        "    available_pool_indices.append(index)\n",
        "\n",
        "test_indices = []\n",
        "for i in range(len(test_df)):\n",
        "  \"\"\" Initialize the  test set \"\"\"\n",
        "    image, label, index = test_df[i]\n",
        "    test_indices.append(index)\n",
        "\n",
        "# Extract the images and labels for the collected test indices\n",
        "test_images = [test_df.__getitem__(index)[0] for index in test_indices]\n",
        "test_label_df = [class_mapping[test_df.__getitem__(index)[1]] for index in test_indices]"
      ]
    },
    {
      "cell_type": "code",
      "execution_count": null,
      "metadata": {
        "id": "jVImPDXSwdlw"
      },
      "outputs": [],
      "source": [
        "# This is the initial training set extracted using KMeans++ clustering with ViT (Vision Transformer) feature extraction.\n",
        "train_indices = [1372,\n",
        " 1277,\n",
        " 1255,\n",
        " 1423,\n",
        " 2925,\n",
        " 1963,\n",
        " 2335,\n",
        " 1923,\n",
        " 3791,\n",
        " 1239,\n",
        " 909,\n",
        " 134,\n",
        " 1547,\n",
        " 3931,\n",
        " 2467,\n",
        " 2832,\n",
        " 1789,\n",
        " 3022,\n",
        " 2424,\n",
        " 780,\n",
        " 2412,\n",
        " 3038,\n",
        " 2158,\n",
        " 3335,\n",
        " 1868,\n",
        " 1771,\n",
        " 2015,\n",
        " 1535,\n",
        " 710,\n",
        " 3007]\n",
        "available_pool_set = set(available_pool_indices)\n",
        "train_set = set(train_indices)\n",
        "available_pool_indices = list(available_pool_set - train_set)"
      ]
    },
    {
      "cell_type": "code",
      "execution_count": null,
      "metadata": {
        "id": "Pmcf2jc6h2S9"
      },
      "outputs": [],
      "source": [
        "# train_indices = []\n",
        "iterations = 20\n",
        "budget_per_iter = 60\n",
        "num_epoch = 15\n",
        "selection_criteria = ['uncertainty_kmeans']\n",
        "accuracy_scores_dict = defaultdict(list)\n",
        "model = base_model"
      ]
    },
    {
      "cell_type": "code",
      "execution_count": null,
      "metadata": {
        "colab": {
          "base_uri": "https://localhost:8080/",
          "height": 339
        },
        "id": "4UGO2jW1h5Ql",
        "outputId": "0993cc7b-2fc2-4a84-a31a-ef45ed5febff"
      },
      "outputs": [
        {
          "name": "stderr",
          "output_type": "stream",
          "text": [
            "/anaconda/envs/py38_default/lib/python3.9/site-packages/huggingface_hub/file_download.py:1142: FutureWarning: `resume_download` is deprecated and will be removed in version 1.0.0. Downloads always resume when possible. If you want to force a new download, use `force_download=True`.\n",
            "  warnings.warn(\n",
            "/anaconda/envs/py38_default/lib/python3.9/site-packages/transformers/models/vit/feature_extraction_vit.py:28: FutureWarning: The class ViTFeatureExtractor is deprecated and will be removed in version 5 of Transformers. Please use ViTImageProcessor instead.\n",
            "  warnings.warn(\n"
          ]
        },
        {
          "name": "stdout",
          "output_type": "stream",
          "text": [
            "--------- Number of Iteration 0 ---------\n"
          ]
        },
        {
          "name": "stderr",
          "output_type": "stream",
          "text": [
            "/tmp/ipykernel_443073/3868758775.py:88: UserWarning: To copy construct from a tensor, it is recommended to use sourceTensor.clone().detach() or sourceTensor.clone().detach().requires_grad_(True), rather than torch.tensor(sourceTensor).\n",
            "  labels = torch.tensor(labels).to(device)\n"
          ]
        },
        {
          "name": "stdout",
          "output_type": "stream",
          "text": [
            "Epoch [1/15], Loss: 2.0915, Accuracy: 0.1111\n"
          ]
        },
        {
          "name": "stderr",
          "output_type": "stream",
          "text": [
            "/tmp/ipykernel_443073/3868758775.py:127: UserWarning: To copy construct from a tensor, it is recommended to use sourceTensor.clone().detach() or sourceTensor.clone().detach().requires_grad_(True), rather than torch.tensor(sourceTensor).\n",
            "  labels = torch.tensor(labels).to(device)\n"
          ]
        },
        {
          "name": "stdout",
          "output_type": "stream",
          "text": [
            "Epoch [2/15], Loss: 2.0637, Accuracy: 0.2444\n",
            "Epoch [3/15], Loss: 2.0343, Accuracy: 0.2889\n",
            "Epoch [4/15], Loss: 1.9987, Accuracy: 0.4222\n",
            "Epoch [5/15], Loss: 1.9534, Accuracy: 0.5111\n",
            "Epoch [6/15], Loss: 1.9010, Accuracy: 0.5889\n",
            "Epoch [7/15], Loss: 1.8471, Accuracy: 0.6111\n",
            "Epoch [8/15], Loss: 1.7989, Accuracy: 0.5444\n",
            "Epoch [9/15], Loss: 1.7316, Accuracy: 0.6333\n",
            "Epoch [10/15], Loss: 1.6892, Accuracy: 0.6667\n",
            "Epoch [11/15], Loss: 1.6717, Accuracy: 0.7111\n",
            "Epoch [12/15], Loss: 1.6204, Accuracy: 0.7778\n",
            "Epoch [13/15], Loss: 1.5838, Accuracy: 0.7889\n",
            "Epoch [14/15], Loss: 1.5654, Accuracy: 0.8333\n",
            "Epoch [15/15], Loss: 1.5196, Accuracy: 0.8222\n",
            "------------------------------------------------------------\n"
          ]
        },
        {
          "name": "stderr",
          "output_type": "stream",
          "text": [
            "/tmp/ipykernel_443073/3868758775.py:154: UserWarning: To copy construct from a tensor, it is recommended to use sourceTensor.clone().detach() or sourceTensor.clone().detach().requires_grad_(True), rather than torch.tensor(sourceTensor).\n",
            "  labels = torch.tensor(labels).to(device)\n"
          ]
        },
        {
          "name": "stdout",
          "output_type": "stream",
          "text": [
            "--------- Number of Iteration 1 ---------\n"
          ]
        },
        {
          "name": "stderr",
          "output_type": "stream",
          "text": [
            "/tmp/ipykernel_443073/3868758775.py:88: UserWarning: To copy construct from a tensor, it is recommended to use sourceTensor.clone().detach() or sourceTensor.clone().detach().requires_grad_(True), rather than torch.tensor(sourceTensor).\n",
            "  labels = torch.tensor(labels).to(device)\n"
          ]
        },
        {
          "name": "stdout",
          "output_type": "stream",
          "text": [
            "Epoch [1/15], Loss: 1.7922, Accuracy: 0.6067\n"
          ]
        },
        {
          "name": "stderr",
          "output_type": "stream",
          "text": [
            "/tmp/ipykernel_443073/3868758775.py:127: UserWarning: To copy construct from a tensor, it is recommended to use sourceTensor.clone().detach() or sourceTensor.clone().detach().requires_grad_(True), rather than torch.tensor(sourceTensor).\n",
            "  labels = torch.tensor(labels).to(device)\n"
          ]
        },
        {
          "name": "stdout",
          "output_type": "stream",
          "text": [
            "Epoch [2/15], Loss: 1.7900, Accuracy: 0.5933\n",
            "Epoch [3/15], Loss: 1.7641, Accuracy: 0.6133\n",
            "Epoch [4/15], Loss: 1.7225, Accuracy: 0.6133\n",
            "Epoch [5/15], Loss: 1.6758, Accuracy: 0.6333\n",
            "Epoch [6/15], Loss: 1.6924, Accuracy: 0.6400\n",
            "Epoch [7/15], Loss: 1.6425, Accuracy: 0.6667\n",
            "Epoch [8/15], Loss: 1.6028, Accuracy: 0.7067\n",
            "Epoch [9/15], Loss: 1.5848, Accuracy: 0.6867\n",
            "Epoch [10/15], Loss: 1.5675, Accuracy: 0.7467\n",
            "Epoch [11/15], Loss: 1.5503, Accuracy: 0.7267\n",
            "Epoch [12/15], Loss: 1.4977, Accuracy: 0.7800\n",
            "Epoch [13/15], Loss: 1.4936, Accuracy: 0.7867\n",
            "Epoch [14/15], Loss: 1.4870, Accuracy: 0.8267\n",
            "Epoch [15/15], Loss: 1.5002, Accuracy: 0.7867\n",
            "------------------------------------------------------------\n"
          ]
        },
        {
          "name": "stderr",
          "output_type": "stream",
          "text": [
            "/tmp/ipykernel_443073/3868758775.py:154: UserWarning: To copy construct from a tensor, it is recommended to use sourceTensor.clone().detach() or sourceTensor.clone().detach().requires_grad_(True), rather than torch.tensor(sourceTensor).\n",
            "  labels = torch.tensor(labels).to(device)\n"
          ]
        },
        {
          "name": "stdout",
          "output_type": "stream",
          "text": [
            "--------- Number of Iteration 2 ---------\n"
          ]
        },
        {
          "name": "stderr",
          "output_type": "stream",
          "text": [
            "/tmp/ipykernel_443073/3868758775.py:88: UserWarning: To copy construct from a tensor, it is recommended to use sourceTensor.clone().detach() or sourceTensor.clone().detach().requires_grad_(True), rather than torch.tensor(sourceTensor).\n",
            "  labels = torch.tensor(labels).to(device)\n"
          ]
        },
        {
          "name": "stdout",
          "output_type": "stream",
          "text": [
            "Epoch [1/15], Loss: 1.5934, Accuracy: 0.6571\n"
          ]
        },
        {
          "name": "stderr",
          "output_type": "stream",
          "text": [
            "/tmp/ipykernel_443073/3868758775.py:127: UserWarning: To copy construct from a tensor, it is recommended to use sourceTensor.clone().detach() or sourceTensor.clone().detach().requires_grad_(True), rather than torch.tensor(sourceTensor).\n",
            "  labels = torch.tensor(labels).to(device)\n"
          ]
        },
        {
          "name": "stdout",
          "output_type": "stream",
          "text": [
            "Epoch [2/15], Loss: 1.5742, Accuracy: 0.6667\n",
            "Epoch [3/15], Loss: 1.5522, Accuracy: 0.7190\n",
            "Epoch [4/15], Loss: 1.5498, Accuracy: 0.7333\n",
            "Epoch [5/15], Loss: 1.5399, Accuracy: 0.7190\n",
            "Epoch [6/15], Loss: 1.5121, Accuracy: 0.7381\n",
            "Epoch [7/15], Loss: 1.5102, Accuracy: 0.7476\n",
            "Epoch [8/15], Loss: 1.4972, Accuracy: 0.7333\n",
            "Epoch [9/15], Loss: 1.4940, Accuracy: 0.7524\n",
            "Epoch [10/15], Loss: 1.4768, Accuracy: 0.7905\n",
            "Epoch [11/15], Loss: 1.4639, Accuracy: 0.7952\n",
            "Epoch [12/15], Loss: 1.4571, Accuracy: 0.7952\n",
            "Epoch [13/15], Loss: 1.4608, Accuracy: 0.7905\n",
            "Epoch [14/15], Loss: 1.4285, Accuracy: 0.8238\n",
            "Epoch [15/15], Loss: 1.4231, Accuracy: 0.8143\n",
            "------------------------------------------------------------\n"
          ]
        },
        {
          "name": "stderr",
          "output_type": "stream",
          "text": [
            "/tmp/ipykernel_443073/3868758775.py:154: UserWarning: To copy construct from a tensor, it is recommended to use sourceTensor.clone().detach() or sourceTensor.clone().detach().requires_grad_(True), rather than torch.tensor(sourceTensor).\n",
            "  labels = torch.tensor(labels).to(device)\n"
          ]
        },
        {
          "name": "stdout",
          "output_type": "stream",
          "text": [
            "--------- Number of Iteration 3 ---------\n"
          ]
        },
        {
          "name": "stderr",
          "output_type": "stream",
          "text": [
            "/tmp/ipykernel_443073/3868758775.py:88: UserWarning: To copy construct from a tensor, it is recommended to use sourceTensor.clone().detach() or sourceTensor.clone().detach().requires_grad_(True), rather than torch.tensor(sourceTensor).\n",
            "  labels = torch.tensor(labels).to(device)\n"
          ]
        },
        {
          "name": "stdout",
          "output_type": "stream",
          "text": [
            "Epoch [1/15], Loss: 1.5812, Accuracy: 0.7074\n"
          ]
        },
        {
          "name": "stderr",
          "output_type": "stream",
          "text": [
            "/tmp/ipykernel_443073/3868758775.py:127: UserWarning: To copy construct from a tensor, it is recommended to use sourceTensor.clone().detach() or sourceTensor.clone().detach().requires_grad_(True), rather than torch.tensor(sourceTensor).\n",
            "  labels = torch.tensor(labels).to(device)\n"
          ]
        },
        {
          "name": "stdout",
          "output_type": "stream",
          "text": [
            "Epoch [2/15], Loss: 1.6077, Accuracy: 0.6963\n",
            "Epoch [3/15], Loss: 1.5727, Accuracy: 0.7037\n",
            "Epoch [4/15], Loss: 1.5767, Accuracy: 0.7593\n",
            "Epoch [5/15], Loss: 1.5497, Accuracy: 0.7444\n",
            "Epoch [6/15], Loss: 1.5431, Accuracy: 0.7556\n",
            "Epoch [7/15], Loss: 1.5207, Accuracy: 0.7519\n",
            "Epoch [8/15], Loss: 1.5353, Accuracy: 0.7444\n",
            "Epoch [9/15], Loss: 1.5157, Accuracy: 0.7926\n",
            "Epoch [10/15], Loss: 1.5024, Accuracy: 0.7704\n",
            "Epoch [11/15], Loss: 1.4786, Accuracy: 0.8370\n",
            "Epoch [12/15], Loss: 1.4931, Accuracy: 0.7852\n",
            "Epoch [13/15], Loss: 1.4847, Accuracy: 0.8222\n",
            "Epoch [14/15], Loss: 1.4845, Accuracy: 0.8000\n",
            "Epoch [15/15], Loss: 1.4725, Accuracy: 0.8111\n",
            "------------------------------------------------------------\n"
          ]
        },
        {
          "name": "stderr",
          "output_type": "stream",
          "text": [
            "/tmp/ipykernel_443073/3868758775.py:154: UserWarning: To copy construct from a tensor, it is recommended to use sourceTensor.clone().detach() or sourceTensor.clone().detach().requires_grad_(True), rather than torch.tensor(sourceTensor).\n",
            "  labels = torch.tensor(labels).to(device)\n"
          ]
        },
        {
          "name": "stdout",
          "output_type": "stream",
          "text": [
            "--------- Number of Iteration 4 ---------\n"
          ]
        },
        {
          "name": "stderr",
          "output_type": "stream",
          "text": [
            "/tmp/ipykernel_443073/3868758775.py:88: UserWarning: To copy construct from a tensor, it is recommended to use sourceTensor.clone().detach() or sourceTensor.clone().detach().requires_grad_(True), rather than torch.tensor(sourceTensor).\n",
            "  labels = torch.tensor(labels).to(device)\n"
          ]
        },
        {
          "name": "stdout",
          "output_type": "stream",
          "text": [
            "Epoch [1/15], Loss: 1.6207, Accuracy: 0.7212\n"
          ]
        },
        {
          "name": "stderr",
          "output_type": "stream",
          "text": [
            "/tmp/ipykernel_443073/3868758775.py:127: UserWarning: To copy construct from a tensor, it is recommended to use sourceTensor.clone().detach() or sourceTensor.clone().detach().requires_grad_(True), rather than torch.tensor(sourceTensor).\n",
            "  labels = torch.tensor(labels).to(device)\n"
          ]
        },
        {
          "name": "stdout",
          "output_type": "stream",
          "text": [
            "Epoch [2/15], Loss: 1.5778, Accuracy: 0.6636\n",
            "Epoch [3/15], Loss: 1.6154, Accuracy: 0.6879\n",
            "Epoch [4/15], Loss: 1.5653, Accuracy: 0.7424\n",
            "Epoch [5/15], Loss: 1.5623, Accuracy: 0.7455\n",
            "Epoch [6/15], Loss: 1.5462, Accuracy: 0.7485\n",
            "Epoch [7/15], Loss: 1.5289, Accuracy: 0.7485\n",
            "Epoch [8/15], Loss: 1.5166, Accuracy: 0.7545\n",
            "Epoch [9/15], Loss: 1.5230, Accuracy: 0.7758\n",
            "Epoch [10/15], Loss: 1.5009, Accuracy: 0.7879\n",
            "Epoch [11/15], Loss: 1.5199, Accuracy: 0.7758\n",
            "Epoch [12/15], Loss: 1.4936, Accuracy: 0.7879\n",
            "Epoch [13/15], Loss: 1.4827, Accuracy: 0.7939\n",
            "Epoch [14/15], Loss: 1.4910, Accuracy: 0.8030\n",
            "Epoch [15/15], Loss: 1.5072, Accuracy: 0.7788\n",
            "------------------------------------------------------------\n"
          ]
        },
        {
          "name": "stderr",
          "output_type": "stream",
          "text": [
            "/tmp/ipykernel_443073/3868758775.py:154: UserWarning: To copy construct from a tensor, it is recommended to use sourceTensor.clone().detach() or sourceTensor.clone().detach().requires_grad_(True), rather than torch.tensor(sourceTensor).\n",
            "  labels = torch.tensor(labels).to(device)\n"
          ]
        },
        {
          "name": "stdout",
          "output_type": "stream",
          "text": [
            "--------- Number of Iteration 5 ---------\n"
          ]
        },
        {
          "name": "stderr",
          "output_type": "stream",
          "text": [
            "/tmp/ipykernel_443073/3868758775.py:88: UserWarning: To copy construct from a tensor, it is recommended to use sourceTensor.clone().detach() or sourceTensor.clone().detach().requires_grad_(True), rather than torch.tensor(sourceTensor).\n",
            "  labels = torch.tensor(labels).to(device)\n"
          ]
        },
        {
          "name": "stdout",
          "output_type": "stream",
          "text": [
            "Epoch [1/15], Loss: 1.6155, Accuracy: 0.6769\n"
          ]
        },
        {
          "name": "stderr",
          "output_type": "stream",
          "text": [
            "/tmp/ipykernel_443073/3868758775.py:127: UserWarning: To copy construct from a tensor, it is recommended to use sourceTensor.clone().detach() or sourceTensor.clone().detach().requires_grad_(True), rather than torch.tensor(sourceTensor).\n",
            "  labels = torch.tensor(labels).to(device)\n"
          ]
        },
        {
          "name": "stdout",
          "output_type": "stream",
          "text": [
            "Epoch [2/15], Loss: 1.5870, Accuracy: 0.6692\n",
            "Epoch [3/15], Loss: 1.6486, Accuracy: 0.6282\n",
            "Epoch [4/15], Loss: 1.6599, Accuracy: 0.6128\n",
            "Epoch [5/15], Loss: 1.5923, Accuracy: 0.7000\n",
            "Epoch [6/15], Loss: 1.5793, Accuracy: 0.7256\n",
            "Epoch [7/15], Loss: 1.5418, Accuracy: 0.7308\n",
            "Epoch [8/15], Loss: 1.5614, Accuracy: 0.7308\n",
            "Epoch [9/15], Loss: 1.5532, Accuracy: 0.7410\n",
            "Epoch [10/15], Loss: 1.5624, Accuracy: 0.7128\n",
            "Epoch [11/15], Loss: 1.4980, Accuracy: 0.7744\n",
            "Epoch [12/15], Loss: 1.4935, Accuracy: 0.7795\n",
            "Epoch [13/15], Loss: 1.5216, Accuracy: 0.7641\n",
            "Epoch [14/15], Loss: 1.5159, Accuracy: 0.7846\n",
            "Epoch [15/15], Loss: 1.4663, Accuracy: 0.7795\n",
            "------------------------------------------------------------\n"
          ]
        },
        {
          "name": "stderr",
          "output_type": "stream",
          "text": [
            "/tmp/ipykernel_443073/3868758775.py:154: UserWarning: To copy construct from a tensor, it is recommended to use sourceTensor.clone().detach() or sourceTensor.clone().detach().requires_grad_(True), rather than torch.tensor(sourceTensor).\n",
            "  labels = torch.tensor(labels).to(device)\n"
          ]
        },
        {
          "name": "stdout",
          "output_type": "stream",
          "text": [
            "--------- Number of Iteration 6 ---------\n"
          ]
        },
        {
          "name": "stderr",
          "output_type": "stream",
          "text": [
            "/tmp/ipykernel_443073/3868758775.py:88: UserWarning: To copy construct from a tensor, it is recommended to use sourceTensor.clone().detach() or sourceTensor.clone().detach().requires_grad_(True), rather than torch.tensor(sourceTensor).\n",
            "  labels = torch.tensor(labels).to(device)\n"
          ]
        },
        {
          "name": "stdout",
          "output_type": "stream",
          "text": [
            "Epoch [1/15], Loss: 1.6084, Accuracy: 0.6956\n"
          ]
        },
        {
          "name": "stderr",
          "output_type": "stream",
          "text": [
            "/tmp/ipykernel_443073/3868758775.py:127: UserWarning: To copy construct from a tensor, it is recommended to use sourceTensor.clone().detach() or sourceTensor.clone().detach().requires_grad_(True), rather than torch.tensor(sourceTensor).\n",
            "  labels = torch.tensor(labels).to(device)\n"
          ]
        },
        {
          "name": "stdout",
          "output_type": "stream",
          "text": [
            "Epoch [2/15], Loss: 1.6509, Accuracy: 0.6533\n",
            "Epoch [3/15], Loss: 1.6305, Accuracy: 0.5844\n",
            "Epoch [4/15], Loss: 1.7000, Accuracy: 0.5244\n",
            "Epoch [5/15], Loss: 1.6318, Accuracy: 0.6511\n",
            "Epoch [6/15], Loss: 1.5915, Accuracy: 0.6444\n",
            "Epoch [7/15], Loss: 1.6032, Accuracy: 0.6911\n",
            "Epoch [8/15], Loss: 1.5443, Accuracy: 0.7111\n",
            "Epoch [9/15], Loss: 1.5548, Accuracy: 0.7400\n",
            "Epoch [10/15], Loss: 1.4944, Accuracy: 0.7444\n",
            "Epoch [11/15], Loss: 1.5203, Accuracy: 0.7222\n",
            "Epoch [12/15], Loss: 1.5316, Accuracy: 0.7689\n",
            "Epoch [13/15], Loss: 1.5816, Accuracy: 0.6200\n",
            "Epoch [14/15], Loss: 1.5843, Accuracy: 0.5889\n",
            "Epoch [15/15], Loss: 1.4914, Accuracy: 0.7800\n",
            "------------------------------------------------------------\n"
          ]
        },
        {
          "name": "stderr",
          "output_type": "stream",
          "text": [
            "/tmp/ipykernel_443073/3868758775.py:154: UserWarning: To copy construct from a tensor, it is recommended to use sourceTensor.clone().detach() or sourceTensor.clone().detach().requires_grad_(True), rather than torch.tensor(sourceTensor).\n",
            "  labels = torch.tensor(labels).to(device)\n"
          ]
        },
        {
          "name": "stdout",
          "output_type": "stream",
          "text": [
            "--------- Number of Iteration 7 ---------\n"
          ]
        },
        {
          "name": "stderr",
          "output_type": "stream",
          "text": [
            "/tmp/ipykernel_443073/3868758775.py:88: UserWarning: To copy construct from a tensor, it is recommended to use sourceTensor.clone().detach() or sourceTensor.clone().detach().requires_grad_(True), rather than torch.tensor(sourceTensor).\n",
            "  labels = torch.tensor(labels).to(device)\n"
          ]
        },
        {
          "name": "stdout",
          "output_type": "stream",
          "text": [
            "Epoch [1/15], Loss: 1.7001, Accuracy: 0.5255\n"
          ]
        },
        {
          "name": "stderr",
          "output_type": "stream",
          "text": [
            "/tmp/ipykernel_443073/3868758775.py:127: UserWarning: To copy construct from a tensor, it is recommended to use sourceTensor.clone().detach() or sourceTensor.clone().detach().requires_grad_(True), rather than torch.tensor(sourceTensor).\n",
            "  labels = torch.tensor(labels).to(device)\n"
          ]
        },
        {
          "name": "stdout",
          "output_type": "stream",
          "text": [
            "Epoch [2/15], Loss: 1.6568, Accuracy: 0.6353\n",
            "Epoch [3/15], Loss: 1.5875, Accuracy: 0.6863\n",
            "Epoch [4/15], Loss: 1.6084, Accuracy: 0.6686\n",
            "Epoch [5/15], Loss: 1.5733, Accuracy: 0.7020\n",
            "Epoch [6/15], Loss: 1.5473, Accuracy: 0.7196\n",
            "Epoch [7/15], Loss: 1.5435, Accuracy: 0.7353\n",
            "Epoch [8/15], Loss: 1.5640, Accuracy: 0.6824\n",
            "Epoch [9/15], Loss: 1.5538, Accuracy: 0.7235\n",
            "Epoch [10/15], Loss: 1.5332, Accuracy: 0.7294\n",
            "Epoch [11/15], Loss: 1.5235, Accuracy: 0.7059\n",
            "Epoch [12/15], Loss: 1.5170, Accuracy: 0.7275\n",
            "Epoch [13/15], Loss: 1.5126, Accuracy: 0.7529\n",
            "Epoch [14/15], Loss: 1.5172, Accuracy: 0.7373\n",
            "Epoch [15/15], Loss: 1.5002, Accuracy: 0.7686\n",
            "------------------------------------------------------------\n"
          ]
        },
        {
          "name": "stderr",
          "output_type": "stream",
          "text": [
            "/tmp/ipykernel_443073/3868758775.py:154: UserWarning: To copy construct from a tensor, it is recommended to use sourceTensor.clone().detach() or sourceTensor.clone().detach().requires_grad_(True), rather than torch.tensor(sourceTensor).\n",
            "  labels = torch.tensor(labels).to(device)\n"
          ]
        },
        {
          "name": "stdout",
          "output_type": "stream",
          "text": [
            "--------- Number of Iteration 8 ---------\n"
          ]
        },
        {
          "name": "stderr",
          "output_type": "stream",
          "text": [
            "/tmp/ipykernel_443073/3868758775.py:88: UserWarning: To copy construct from a tensor, it is recommended to use sourceTensor.clone().detach() or sourceTensor.clone().detach().requires_grad_(True), rather than torch.tensor(sourceTensor).\n",
            "  labels = torch.tensor(labels).to(device)\n"
          ]
        },
        {
          "name": "stdout",
          "output_type": "stream",
          "text": [
            "Epoch [1/15], Loss: 1.5684, Accuracy: 0.6754\n"
          ]
        },
        {
          "name": "stderr",
          "output_type": "stream",
          "text": [
            "/tmp/ipykernel_443073/3868758775.py:127: UserWarning: To copy construct from a tensor, it is recommended to use sourceTensor.clone().detach() or sourceTensor.clone().detach().requires_grad_(True), rather than torch.tensor(sourceTensor).\n",
            "  labels = torch.tensor(labels).to(device)\n"
          ]
        },
        {
          "name": "stdout",
          "output_type": "stream",
          "text": [
            "Epoch [2/15], Loss: 1.5674, Accuracy: 0.7035\n",
            "Epoch [3/15], Loss: 1.5887, Accuracy: 0.6579\n",
            "Epoch [4/15], Loss: 1.5292, Accuracy: 0.7246\n",
            "Epoch [5/15], Loss: 1.5488, Accuracy: 0.7018\n",
            "Epoch [6/15], Loss: 1.5341, Accuracy: 0.7158\n",
            "Epoch [7/15], Loss: 1.5171, Accuracy: 0.7281\n",
            "Epoch [8/15], Loss: 1.5179, Accuracy: 0.7456\n",
            "Epoch [9/15], Loss: 1.5175, Accuracy: 0.7316\n",
            "Epoch [10/15], Loss: 1.4959, Accuracy: 0.7649\n",
            "Epoch [11/15], Loss: 1.4899, Accuracy: 0.7702\n",
            "Epoch [12/15], Loss: 1.4822, Accuracy: 0.7789\n",
            "Epoch [13/15], Loss: 1.5449, Accuracy: 0.6842\n",
            "Epoch [14/15], Loss: 1.4957, Accuracy: 0.7456\n",
            "Epoch [15/15], Loss: 1.4978, Accuracy: 0.7789\n",
            "------------------------------------------------------------\n"
          ]
        },
        {
          "name": "stderr",
          "output_type": "stream",
          "text": [
            "/tmp/ipykernel_443073/3868758775.py:154: UserWarning: To copy construct from a tensor, it is recommended to use sourceTensor.clone().detach() or sourceTensor.clone().detach().requires_grad_(True), rather than torch.tensor(sourceTensor).\n",
            "  labels = torch.tensor(labels).to(device)\n"
          ]
        },
        {
          "name": "stdout",
          "output_type": "stream",
          "text": [
            "--------- Number of Iteration 9 ---------\n"
          ]
        },
        {
          "name": "stderr",
          "output_type": "stream",
          "text": [
            "/tmp/ipykernel_443073/3868758775.py:88: UserWarning: To copy construct from a tensor, it is recommended to use sourceTensor.clone().detach() or sourceTensor.clone().detach().requires_grad_(True), rather than torch.tensor(sourceTensor).\n",
            "  labels = torch.tensor(labels).to(device)\n"
          ]
        },
        {
          "name": "stdout",
          "output_type": "stream",
          "text": [
            "Epoch [1/15], Loss: 1.5833, Accuracy: 0.6667\n"
          ]
        },
        {
          "name": "stderr",
          "output_type": "stream",
          "text": [
            "/tmp/ipykernel_443073/3868758775.py:127: UserWarning: To copy construct from a tensor, it is recommended to use sourceTensor.clone().detach() or sourceTensor.clone().detach().requires_grad_(True), rather than torch.tensor(sourceTensor).\n",
            "  labels = torch.tensor(labels).to(device)\n"
          ]
        },
        {
          "name": "stdout",
          "output_type": "stream",
          "text": [
            "Epoch [2/15], Loss: 1.5554, Accuracy: 0.7032\n",
            "Epoch [3/15], Loss: 1.5682, Accuracy: 0.6825\n",
            "Epoch [4/15], Loss: 1.5473, Accuracy: 0.6968\n",
            "Epoch [5/15], Loss: 1.5695, Accuracy: 0.6762\n",
            "Epoch [6/15], Loss: 1.5799, Accuracy: 0.6413\n",
            "Epoch [7/15], Loss: 1.5276, Accuracy: 0.7270\n",
            "Epoch [8/15], Loss: 1.5172, Accuracy: 0.7460\n",
            "Epoch [9/15], Loss: 1.5138, Accuracy: 0.7429\n",
            "Epoch [10/15], Loss: 1.5251, Accuracy: 0.7143\n",
            "Epoch [11/15], Loss: 1.5339, Accuracy: 0.7016\n",
            "Epoch [12/15], Loss: 1.5115, Accuracy: 0.7444\n",
            "Epoch [13/15], Loss: 1.4948, Accuracy: 0.7698\n",
            "Epoch [14/15], Loss: 1.4953, Accuracy: 0.7635\n",
            "Epoch [15/15], Loss: 1.4917, Accuracy: 0.7714\n",
            "------------------------------------------------------------\n"
          ]
        },
        {
          "name": "stderr",
          "output_type": "stream",
          "text": [
            "/tmp/ipykernel_443073/3868758775.py:154: UserWarning: To copy construct from a tensor, it is recommended to use sourceTensor.clone().detach() or sourceTensor.clone().detach().requires_grad_(True), rather than torch.tensor(sourceTensor).\n",
            "  labels = torch.tensor(labels).to(device)\n"
          ]
        },
        {
          "name": "stdout",
          "output_type": "stream",
          "text": [
            "--------- Number of Iteration 10 ---------\n"
          ]
        },
        {
          "name": "stderr",
          "output_type": "stream",
          "text": [
            "/tmp/ipykernel_443073/3868758775.py:88: UserWarning: To copy construct from a tensor, it is recommended to use sourceTensor.clone().detach() or sourceTensor.clone().detach().requires_grad_(True), rather than torch.tensor(sourceTensor).\n",
            "  labels = torch.tensor(labels).to(device)\n"
          ]
        },
        {
          "name": "stdout",
          "output_type": "stream",
          "text": [
            "Epoch [1/15], Loss: 1.6100, Accuracy: 0.6623\n"
          ]
        },
        {
          "name": "stderr",
          "output_type": "stream",
          "text": [
            "/tmp/ipykernel_443073/3868758775.py:127: UserWarning: To copy construct from a tensor, it is recommended to use sourceTensor.clone().detach() or sourceTensor.clone().detach().requires_grad_(True), rather than torch.tensor(sourceTensor).\n",
            "  labels = torch.tensor(labels).to(device)\n"
          ]
        },
        {
          "name": "stdout",
          "output_type": "stream",
          "text": [
            "Epoch [2/15], Loss: 1.6082, Accuracy: 0.6246\n",
            "Epoch [3/15], Loss: 1.5813, Accuracy: 0.6812\n",
            "Epoch [4/15], Loss: 1.5873, Accuracy: 0.6725\n",
            "Epoch [5/15], Loss: 1.5403, Accuracy: 0.7072\n",
            "Epoch [6/15], Loss: 1.5646, Accuracy: 0.6928\n",
            "Epoch [7/15], Loss: 1.5305, Accuracy: 0.7203\n",
            "Epoch [8/15], Loss: 1.5595, Accuracy: 0.6725\n",
            "Epoch [9/15], Loss: 1.5294, Accuracy: 0.7246\n",
            "Epoch [10/15], Loss: 1.5113, Accuracy: 0.7348\n",
            "Epoch [11/15], Loss: 1.5069, Accuracy: 0.7290\n",
            "Epoch [12/15], Loss: 1.5128, Accuracy: 0.7478\n",
            "Epoch [13/15], Loss: 1.4966, Accuracy: 0.7594\n",
            "Epoch [14/15], Loss: 1.4990, Accuracy: 0.7406\n",
            "Epoch [15/15], Loss: 1.5162, Accuracy: 0.7232\n",
            "------------------------------------------------------------\n"
          ]
        },
        {
          "name": "stderr",
          "output_type": "stream",
          "text": [
            "/tmp/ipykernel_443073/3868758775.py:154: UserWarning: To copy construct from a tensor, it is recommended to use sourceTensor.clone().detach() or sourceTensor.clone().detach().requires_grad_(True), rather than torch.tensor(sourceTensor).\n",
            "  labels = torch.tensor(labels).to(device)\n"
          ]
        },
        {
          "name": "stdout",
          "output_type": "stream",
          "text": [
            "--------- Number of Iteration 11 ---------\n"
          ]
        },
        {
          "name": "stderr",
          "output_type": "stream",
          "text": [
            "/tmp/ipykernel_443073/3868758775.py:88: UserWarning: To copy construct from a tensor, it is recommended to use sourceTensor.clone().detach() or sourceTensor.clone().detach().requires_grad_(True), rather than torch.tensor(sourceTensor).\n",
            "  labels = torch.tensor(labels).to(device)\n"
          ]
        },
        {
          "name": "stdout",
          "output_type": "stream",
          "text": [
            "Epoch [1/15], Loss: 1.5179, Accuracy: 0.7240\n"
          ]
        },
        {
          "name": "stderr",
          "output_type": "stream",
          "text": [
            "/tmp/ipykernel_443073/3868758775.py:127: UserWarning: To copy construct from a tensor, it is recommended to use sourceTensor.clone().detach() or sourceTensor.clone().detach().requires_grad_(True), rather than torch.tensor(sourceTensor).\n",
            "  labels = torch.tensor(labels).to(device)\n"
          ]
        },
        {
          "name": "stdout",
          "output_type": "stream",
          "text": [
            "Epoch [2/15], Loss: 1.5045, Accuracy: 0.7453\n",
            "Epoch [3/15], Loss: 1.5281, Accuracy: 0.7013\n",
            "Epoch [4/15], Loss: 1.5354, Accuracy: 0.7107\n",
            "Epoch [5/15], Loss: 1.5004, Accuracy: 0.7387\n",
            "Epoch [6/15], Loss: 1.5271, Accuracy: 0.7067\n",
            "Epoch [7/15], Loss: 1.5068, Accuracy: 0.7427\n",
            "Epoch [8/15], Loss: 1.5013, Accuracy: 0.7413\n",
            "Epoch [9/15], Loss: 1.4995, Accuracy: 0.7347\n",
            "Epoch [10/15], Loss: 1.4982, Accuracy: 0.7467\n",
            "Epoch [11/15], Loss: 1.4898, Accuracy: 0.7547\n",
            "Epoch [12/15], Loss: 1.4837, Accuracy: 0.7573\n",
            "Epoch [13/15], Loss: 1.4898, Accuracy: 0.7547\n",
            "Epoch [14/15], Loss: 1.4760, Accuracy: 0.7693\n",
            "Epoch [15/15], Loss: 1.4559, Accuracy: 0.7907\n",
            "------------------------------------------------------------\n"
          ]
        },
        {
          "name": "stderr",
          "output_type": "stream",
          "text": [
            "/tmp/ipykernel_443073/3868758775.py:154: UserWarning: To copy construct from a tensor, it is recommended to use sourceTensor.clone().detach() or sourceTensor.clone().detach().requires_grad_(True), rather than torch.tensor(sourceTensor).\n",
            "  labels = torch.tensor(labels).to(device)\n"
          ]
        },
        {
          "name": "stdout",
          "output_type": "stream",
          "text": [
            "--------- Number of Iteration 12 ---------\n"
          ]
        },
        {
          "name": "stderr",
          "output_type": "stream",
          "text": [
            "/tmp/ipykernel_443073/3868758775.py:88: UserWarning: To copy construct from a tensor, it is recommended to use sourceTensor.clone().detach() or sourceTensor.clone().detach().requires_grad_(True), rather than torch.tensor(sourceTensor).\n",
            "  labels = torch.tensor(labels).to(device)\n"
          ]
        },
        {
          "name": "stdout",
          "output_type": "stream",
          "text": [
            "Epoch [1/15], Loss: 1.5313, Accuracy: 0.7222\n"
          ]
        },
        {
          "name": "stderr",
          "output_type": "stream",
          "text": [
            "/tmp/ipykernel_443073/3868758775.py:127: UserWarning: To copy construct from a tensor, it is recommended to use sourceTensor.clone().detach() or sourceTensor.clone().detach().requires_grad_(True), rather than torch.tensor(sourceTensor).\n",
            "  labels = torch.tensor(labels).to(device)\n"
          ]
        },
        {
          "name": "stdout",
          "output_type": "stream",
          "text": [
            "Epoch [2/15], Loss: 1.5241, Accuracy: 0.7284\n",
            "Epoch [3/15], Loss: 1.5516, Accuracy: 0.6840\n",
            "Epoch [4/15], Loss: 1.5503, Accuracy: 0.6988\n",
            "Epoch [5/15], Loss: 1.5277, Accuracy: 0.7049\n",
            "Epoch [6/15], Loss: 1.5372, Accuracy: 0.7025\n",
            "Epoch [7/15], Loss: 1.5264, Accuracy: 0.7062\n",
            "Epoch [8/15], Loss: 1.5091, Accuracy: 0.7222\n",
            "Epoch [9/15], Loss: 1.5193, Accuracy: 0.7160\n",
            "Epoch [10/15], Loss: 1.5150, Accuracy: 0.7346\n",
            "Epoch [11/15], Loss: 1.5043, Accuracy: 0.7346\n",
            "Epoch [12/15], Loss: 1.4942, Accuracy: 0.7469\n",
            "Epoch [13/15], Loss: 1.4925, Accuracy: 0.7407\n",
            "Epoch [14/15], Loss: 1.4917, Accuracy: 0.7333\n",
            "Epoch [15/15], Loss: 1.4980, Accuracy: 0.7568\n",
            "------------------------------------------------------------\n"
          ]
        },
        {
          "name": "stderr",
          "output_type": "stream",
          "text": [
            "/tmp/ipykernel_443073/3868758775.py:154: UserWarning: To copy construct from a tensor, it is recommended to use sourceTensor.clone().detach() or sourceTensor.clone().detach().requires_grad_(True), rather than torch.tensor(sourceTensor).\n",
            "  labels = torch.tensor(labels).to(device)\n"
          ]
        },
        {
          "name": "stdout",
          "output_type": "stream",
          "text": [
            "--------- Number of Iteration 13 ---------\n"
          ]
        },
        {
          "name": "stderr",
          "output_type": "stream",
          "text": [
            "/tmp/ipykernel_443073/3868758775.py:88: UserWarning: To copy construct from a tensor, it is recommended to use sourceTensor.clone().detach() or sourceTensor.clone().detach().requires_grad_(True), rather than torch.tensor(sourceTensor).\n",
            "  labels = torch.tensor(labels).to(device)\n"
          ]
        },
        {
          "name": "stdout",
          "output_type": "stream",
          "text": [
            "Epoch [1/15], Loss: 1.5169, Accuracy: 0.7264\n"
          ]
        },
        {
          "name": "stderr",
          "output_type": "stream",
          "text": [
            "/tmp/ipykernel_443073/3868758775.py:127: UserWarning: To copy construct from a tensor, it is recommended to use sourceTensor.clone().detach() or sourceTensor.clone().detach().requires_grad_(True), rather than torch.tensor(sourceTensor).\n",
            "  labels = torch.tensor(labels).to(device)\n"
          ]
        },
        {
          "name": "stdout",
          "output_type": "stream",
          "text": [
            "Epoch [2/15], Loss: 1.5151, Accuracy: 0.7253\n",
            "Epoch [3/15], Loss: 1.5201, Accuracy: 0.7138\n",
            "Epoch [4/15], Loss: 1.4995, Accuracy: 0.7356\n",
            "Epoch [5/15], Loss: 1.5005, Accuracy: 0.7621\n",
            "Epoch [6/15], Loss: 1.5124, Accuracy: 0.7368\n",
            "Epoch [7/15], Loss: 1.5107, Accuracy: 0.7241\n",
            "Epoch [8/15], Loss: 1.4787, Accuracy: 0.7609\n",
            "Epoch [9/15], Loss: 1.4749, Accuracy: 0.7782\n",
            "Epoch [10/15], Loss: 1.5265, Accuracy: 0.7379\n",
            "Epoch [11/15], Loss: 1.5597, Accuracy: 0.6667\n",
            "Epoch [12/15], Loss: 1.5016, Accuracy: 0.7379\n",
            "Epoch [13/15], Loss: 1.4833, Accuracy: 0.7448\n",
            "Epoch [14/15], Loss: 1.5550, Accuracy: 0.5931\n",
            "Epoch [15/15], Loss: 1.5018, Accuracy: 0.7057\n",
            "------------------------------------------------------------\n"
          ]
        },
        {
          "name": "stderr",
          "output_type": "stream",
          "text": [
            "/tmp/ipykernel_443073/3868758775.py:154: UserWarning: To copy construct from a tensor, it is recommended to use sourceTensor.clone().detach() or sourceTensor.clone().detach().requires_grad_(True), rather than torch.tensor(sourceTensor).\n",
            "  labels = torch.tensor(labels).to(device)\n"
          ]
        },
        {
          "name": "stdout",
          "output_type": "stream",
          "text": [
            "--------- Number of Iteration 14 ---------\n"
          ]
        },
        {
          "name": "stderr",
          "output_type": "stream",
          "text": [
            "/tmp/ipykernel_443073/3868758775.py:88: UserWarning: To copy construct from a tensor, it is recommended to use sourceTensor.clone().detach() or sourceTensor.clone().detach().requires_grad_(True), rather than torch.tensor(sourceTensor).\n",
            "  labels = torch.tensor(labels).to(device)\n"
          ]
        },
        {
          "name": "stdout",
          "output_type": "stream",
          "text": [
            "Epoch [1/15], Loss: 1.5532, Accuracy: 0.7022\n"
          ]
        },
        {
          "name": "stderr",
          "output_type": "stream",
          "text": [
            "/tmp/ipykernel_443073/3868758775.py:127: UserWarning: To copy construct from a tensor, it is recommended to use sourceTensor.clone().detach() or sourceTensor.clone().detach().requires_grad_(True), rather than torch.tensor(sourceTensor).\n",
            "  labels = torch.tensor(labels).to(device)\n"
          ]
        },
        {
          "name": "stdout",
          "output_type": "stream",
          "text": [
            "Epoch [2/15], Loss: 1.5684, Accuracy: 0.7043\n",
            "Epoch [3/15], Loss: 1.5470, Accuracy: 0.7140\n",
            "Epoch [4/15], Loss: 1.5036, Accuracy: 0.7441\n",
            "Epoch [5/15], Loss: 1.5311, Accuracy: 0.7204\n",
            "Epoch [6/15], Loss: 1.5280, Accuracy: 0.7215\n",
            "Epoch [7/15], Loss: 1.5235, Accuracy: 0.7280\n",
            "Epoch [8/15], Loss: 1.5064, Accuracy: 0.7473\n",
            "Epoch [9/15], Loss: 1.6059, Accuracy: 0.5720\n",
            "Epoch [10/15], Loss: 1.5546, Accuracy: 0.6817\n",
            "Epoch [11/15], Loss: 1.6802, Accuracy: 0.4710\n",
            "Epoch [12/15], Loss: 1.7405, Accuracy: 0.3806\n",
            "Epoch [13/15], Loss: 1.6332, Accuracy: 0.5473\n",
            "Epoch [14/15], Loss: 1.5241, Accuracy: 0.7290\n",
            "Epoch [15/15], Loss: 1.5070, Accuracy: 0.7495\n",
            "------------------------------------------------------------\n"
          ]
        },
        {
          "name": "stderr",
          "output_type": "stream",
          "text": [
            "/tmp/ipykernel_443073/3868758775.py:154: UserWarning: To copy construct from a tensor, it is recommended to use sourceTensor.clone().detach() or sourceTensor.clone().detach().requires_grad_(True), rather than torch.tensor(sourceTensor).\n",
            "  labels = torch.tensor(labels).to(device)\n"
          ]
        },
        {
          "name": "stdout",
          "output_type": "stream",
          "text": [
            "--------- Number of Iteration 15 ---------\n"
          ]
        },
        {
          "name": "stderr",
          "output_type": "stream",
          "text": [
            "/tmp/ipykernel_443073/3868758775.py:88: UserWarning: To copy construct from a tensor, it is recommended to use sourceTensor.clone().detach() or sourceTensor.clone().detach().requires_grad_(True), rather than torch.tensor(sourceTensor).\n",
            "  labels = torch.tensor(labels).to(device)\n"
          ]
        },
        {
          "name": "stdout",
          "output_type": "stream",
          "text": [
            "Epoch [1/15], Loss: 1.5612, Accuracy: 0.6838\n"
          ]
        },
        {
          "name": "stderr",
          "output_type": "stream",
          "text": [
            "/tmp/ipykernel_443073/3868758775.py:127: UserWarning: To copy construct from a tensor, it is recommended to use sourceTensor.clone().detach() or sourceTensor.clone().detach().requires_grad_(True), rather than torch.tensor(sourceTensor).\n",
            "  labels = torch.tensor(labels).to(device)\n"
          ]
        },
        {
          "name": "stdout",
          "output_type": "stream",
          "text": [
            "Epoch [2/15], Loss: 1.5347, Accuracy: 0.7030\n",
            "Epoch [3/15], Loss: 1.5391, Accuracy: 0.6990\n",
            "Epoch [4/15], Loss: 1.5270, Accuracy: 0.7152\n",
            "Epoch [5/15], Loss: 1.5315, Accuracy: 0.7010\n",
            "Epoch [6/15], Loss: 1.5128, Accuracy: 0.7343\n",
            "Epoch [7/15], Loss: 1.5236, Accuracy: 0.7172\n",
            "Epoch [8/15], Loss: 1.5052, Accuracy: 0.7293\n",
            "Epoch [9/15], Loss: 1.5102, Accuracy: 0.7141\n",
            "Epoch [10/15], Loss: 1.5100, Accuracy: 0.7152\n",
            "Epoch [11/15], Loss: 1.5029, Accuracy: 0.7303\n",
            "Epoch [12/15], Loss: 1.4954, Accuracy: 0.7384\n",
            "Epoch [13/15], Loss: 1.4847, Accuracy: 0.7545\n",
            "Epoch [14/15], Loss: 1.5061, Accuracy: 0.7323\n",
            "Epoch [15/15], Loss: 1.4776, Accuracy: 0.7818\n",
            "------------------------------------------------------------\n"
          ]
        },
        {
          "name": "stderr",
          "output_type": "stream",
          "text": [
            "/tmp/ipykernel_443073/3868758775.py:154: UserWarning: To copy construct from a tensor, it is recommended to use sourceTensor.clone().detach() or sourceTensor.clone().detach().requires_grad_(True), rather than torch.tensor(sourceTensor).\n",
            "  labels = torch.tensor(labels).to(device)\n"
          ]
        },
        {
          "name": "stdout",
          "output_type": "stream",
          "text": [
            "--------- Number of Iteration 16 ---------\n"
          ]
        },
        {
          "name": "stderr",
          "output_type": "stream",
          "text": [
            "/tmp/ipykernel_443073/3868758775.py:88: UserWarning: To copy construct from a tensor, it is recommended to use sourceTensor.clone().detach() or sourceTensor.clone().detach().requires_grad_(True), rather than torch.tensor(sourceTensor).\n",
            "  labels = torch.tensor(labels).to(device)\n"
          ]
        },
        {
          "name": "stdout",
          "output_type": "stream",
          "text": [
            "Epoch [1/15], Loss: 1.5329, Accuracy: 0.6924\n"
          ]
        },
        {
          "name": "stderr",
          "output_type": "stream",
          "text": [
            "/tmp/ipykernel_443073/3868758775.py:127: UserWarning: To copy construct from a tensor, it is recommended to use sourceTensor.clone().detach() or sourceTensor.clone().detach().requires_grad_(True), rather than torch.tensor(sourceTensor).\n",
            "  labels = torch.tensor(labels).to(device)\n"
          ]
        },
        {
          "name": "stdout",
          "output_type": "stream",
          "text": [
            "Epoch [2/15], Loss: 1.5252, Accuracy: 0.6990\n",
            "Epoch [3/15], Loss: 1.5189, Accuracy: 0.7076\n",
            "Epoch [4/15], Loss: 1.5116, Accuracy: 0.7267\n",
            "Epoch [5/15], Loss: 1.5150, Accuracy: 0.7229\n",
            "Epoch [6/15], Loss: 1.4994, Accuracy: 0.7362\n",
            "Epoch [7/15], Loss: 1.4839, Accuracy: 0.7495\n",
            "Epoch [8/15], Loss: 1.4886, Accuracy: 0.7476\n",
            "Epoch [9/15], Loss: 1.4866, Accuracy: 0.7371\n",
            "Epoch [10/15], Loss: 1.4875, Accuracy: 0.7524\n",
            "Epoch [11/15], Loss: 1.4838, Accuracy: 0.7476\n",
            "Epoch [12/15], Loss: 1.4830, Accuracy: 0.7581\n",
            "Epoch [13/15], Loss: 1.4885, Accuracy: 0.7571\n",
            "Epoch [14/15], Loss: 1.4673, Accuracy: 0.7610\n",
            "Epoch [15/15], Loss: 1.4831, Accuracy: 0.7467\n",
            "------------------------------------------------------------\n"
          ]
        },
        {
          "name": "stderr",
          "output_type": "stream",
          "text": [
            "/tmp/ipykernel_443073/3868758775.py:154: UserWarning: To copy construct from a tensor, it is recommended to use sourceTensor.clone().detach() or sourceTensor.clone().detach().requires_grad_(True), rather than torch.tensor(sourceTensor).\n",
            "  labels = torch.tensor(labels).to(device)\n"
          ]
        },
        {
          "name": "stdout",
          "output_type": "stream",
          "text": [
            "--------- Number of Iteration 17 ---------\n"
          ]
        },
        {
          "name": "stderr",
          "output_type": "stream",
          "text": [
            "/tmp/ipykernel_443073/3868758775.py:88: UserWarning: To copy construct from a tensor, it is recommended to use sourceTensor.clone().detach() or sourceTensor.clone().detach().requires_grad_(True), rather than torch.tensor(sourceTensor).\n",
            "  labels = torch.tensor(labels).to(device)\n"
          ]
        },
        {
          "name": "stdout",
          "output_type": "stream",
          "text": [
            "Epoch [1/15], Loss: 1.5479, Accuracy: 0.6838\n"
          ]
        },
        {
          "name": "stderr",
          "output_type": "stream",
          "text": [
            "/tmp/ipykernel_443073/3868758775.py:127: UserWarning: To copy construct from a tensor, it is recommended to use sourceTensor.clone().detach() or sourceTensor.clone().detach().requires_grad_(True), rather than torch.tensor(sourceTensor).\n",
            "  labels = torch.tensor(labels).to(device)\n"
          ]
        },
        {
          "name": "stdout",
          "output_type": "stream",
          "text": [
            "Epoch [2/15], Loss: 1.5340, Accuracy: 0.6892\n",
            "Epoch [3/15], Loss: 1.5294, Accuracy: 0.7045\n",
            "Epoch [4/15], Loss: 1.5288, Accuracy: 0.6928\n",
            "Epoch [5/15], Loss: 1.5087, Accuracy: 0.7387\n",
            "Epoch [6/15], Loss: 1.5277, Accuracy: 0.7009\n",
            "Epoch [7/15], Loss: 1.5073, Accuracy: 0.7162\n",
            "Epoch [8/15], Loss: 1.5045, Accuracy: 0.7261\n",
            "Epoch [9/15], Loss: 1.4955, Accuracy: 0.7351\n",
            "Epoch [10/15], Loss: 1.5019, Accuracy: 0.7405\n",
            "Epoch [11/15], Loss: 1.4983, Accuracy: 0.7396\n",
            "Epoch [12/15], Loss: 1.4985, Accuracy: 0.7315\n",
            "Epoch [13/15], Loss: 1.5002, Accuracy: 0.7342\n",
            "Epoch [14/15], Loss: 1.4949, Accuracy: 0.7432\n",
            "Epoch [15/15], Loss: 1.4941, Accuracy: 0.7315\n",
            "------------------------------------------------------------\n"
          ]
        },
        {
          "name": "stderr",
          "output_type": "stream",
          "text": [
            "/tmp/ipykernel_443073/3868758775.py:154: UserWarning: To copy construct from a tensor, it is recommended to use sourceTensor.clone().detach() or sourceTensor.clone().detach().requires_grad_(True), rather than torch.tensor(sourceTensor).\n",
            "  labels = torch.tensor(labels).to(device)\n"
          ]
        },
        {
          "name": "stdout",
          "output_type": "stream",
          "text": [
            "--------- Number of Iteration 18 ---------\n"
          ]
        },
        {
          "name": "stderr",
          "output_type": "stream",
          "text": [
            "/tmp/ipykernel_443073/3868758775.py:88: UserWarning: To copy construct from a tensor, it is recommended to use sourceTensor.clone().detach() or sourceTensor.clone().detach().requires_grad_(True), rather than torch.tensor(sourceTensor).\n",
            "  labels = torch.tensor(labels).to(device)\n"
          ]
        },
        {
          "name": "stdout",
          "output_type": "stream",
          "text": [
            "Epoch [1/15], Loss: 1.5232, Accuracy: 0.7120\n"
          ]
        },
        {
          "name": "stderr",
          "output_type": "stream",
          "text": [
            "/tmp/ipykernel_443073/3868758775.py:127: UserWarning: To copy construct from a tensor, it is recommended to use sourceTensor.clone().detach() or sourceTensor.clone().detach().requires_grad_(True), rather than torch.tensor(sourceTensor).\n",
            "  labels = torch.tensor(labels).to(device)\n"
          ]
        },
        {
          "name": "stdout",
          "output_type": "stream",
          "text": [
            "Epoch [2/15], Loss: 1.5217, Accuracy: 0.7128\n",
            "Epoch [3/15], Loss: 1.5042, Accuracy: 0.7419\n",
            "Epoch [4/15], Loss: 1.5033, Accuracy: 0.7214\n",
            "Epoch [5/15], Loss: 1.5102, Accuracy: 0.7239\n",
            "Epoch [6/15], Loss: 1.4890, Accuracy: 0.7393\n",
            "Epoch [7/15], Loss: 1.4957, Accuracy: 0.7444\n",
            "Epoch [8/15], Loss: 1.5019, Accuracy: 0.7291\n",
            "Epoch [9/15], Loss: 1.5123, Accuracy: 0.7068\n",
            "Epoch [10/15], Loss: 1.5042, Accuracy: 0.7325\n",
            "Epoch [11/15], Loss: 1.4972, Accuracy: 0.7342\n",
            "Epoch [12/15], Loss: 1.4862, Accuracy: 0.7385\n",
            "Epoch [13/15], Loss: 1.4721, Accuracy: 0.7615\n",
            "Epoch [14/15], Loss: 1.5003, Accuracy: 0.7342\n",
            "Epoch [15/15], Loss: 1.4856, Accuracy: 0.7487\n",
            "------------------------------------------------------------\n"
          ]
        },
        {
          "name": "stderr",
          "output_type": "stream",
          "text": [
            "/tmp/ipykernel_443073/3868758775.py:154: UserWarning: To copy construct from a tensor, it is recommended to use sourceTensor.clone().detach() or sourceTensor.clone().detach().requires_grad_(True), rather than torch.tensor(sourceTensor).\n",
            "  labels = torch.tensor(labels).to(device)\n"
          ]
        },
        {
          "name": "stdout",
          "output_type": "stream",
          "text": [
            "--------- Number of Iteration 19 ---------\n"
          ]
        },
        {
          "name": "stderr",
          "output_type": "stream",
          "text": [
            "/tmp/ipykernel_443073/3868758775.py:88: UserWarning: To copy construct from a tensor, it is recommended to use sourceTensor.clone().detach() or sourceTensor.clone().detach().requires_grad_(True), rather than torch.tensor(sourceTensor).\n",
            "  labels = torch.tensor(labels).to(device)\n"
          ]
        },
        {
          "name": "stdout",
          "output_type": "stream",
          "text": [
            "Epoch [1/15], Loss: 1.5142, Accuracy: 0.7195\n"
          ]
        },
        {
          "name": "stderr",
          "output_type": "stream",
          "text": [
            "/tmp/ipykernel_443073/3868758775.py:127: UserWarning: To copy construct from a tensor, it is recommended to use sourceTensor.clone().detach() or sourceTensor.clone().detach().requires_grad_(True), rather than torch.tensor(sourceTensor).\n",
            "  labels = torch.tensor(labels).to(device)\n"
          ]
        },
        {
          "name": "stdout",
          "output_type": "stream",
          "text": [
            "Epoch [2/15], Loss: 1.5040, Accuracy: 0.7317\n",
            "Epoch [3/15], Loss: 1.5033, Accuracy: 0.7472\n",
            "Epoch [4/15], Loss: 1.5167, Accuracy: 0.7228\n",
            "Epoch [5/15], Loss: 1.4977, Accuracy: 0.7374\n",
            "Epoch [6/15], Loss: 1.4850, Accuracy: 0.7512\n",
            "Epoch [7/15], Loss: 1.4917, Accuracy: 0.7455\n",
            "Epoch [8/15], Loss: 1.4788, Accuracy: 0.7593\n",
            "Epoch [9/15], Loss: 1.4741, Accuracy: 0.7707\n",
            "Epoch [10/15], Loss: 1.4694, Accuracy: 0.7724\n",
            "Epoch [11/15], Loss: 1.4834, Accuracy: 0.7553\n",
            "Epoch [12/15], Loss: 1.4623, Accuracy: 0.7724\n",
            "Epoch [13/15], Loss: 1.4948, Accuracy: 0.7268\n",
            "Epoch [14/15], Loss: 1.4729, Accuracy: 0.7675\n",
            "Epoch [15/15], Loss: 1.4722, Accuracy: 0.7667\n",
            "------------------------------------------------------------\n"
          ]
        },
        {
          "name": "stderr",
          "output_type": "stream",
          "text": [
            "/tmp/ipykernel_443073/3868758775.py:154: UserWarning: To copy construct from a tensor, it is recommended to use sourceTensor.clone().detach() or sourceTensor.clone().detach().requires_grad_(True), rather than torch.tensor(sourceTensor).\n",
            "  labels = torch.tensor(labels).to(device)\n"
          ]
        },
        {
          "data": {
            "image/png": "[encoded data removed]",
            "text/plain": [
              "<Figure size 640x480 with 1 Axes>"
            ]
          },
          "metadata": {},
          "output_type": "display_data"
        }
      ],
      "source": [
        "for criterion in selection_criteria:\n",
        "    AL_class = ActiveLearningPipeline(model=model,\n",
        "                                      test_indices=test_indices,\n",
        "                                      available_pool_indices=available_pool_indices,\n",
        "                                      train_indices=train_indices,\n",
        "                                      selection_criterion=criterion,\n",
        "                                      iterations=iterations,\n",
        "                                      budget_per_iter=budget_per_iter,\n",
        "                                      num_epochs=num_epoch)\n",
        "    accuracy_scores_dict[criterion] = AL_class.run_pipeline()\n",
        "generate_plot(accuracy_scores_dict)"
      ]
    },
    {
      "cell_type": "code",
      "execution_count": null,
      "metadata": {
        "id": "j5sKVVjSzEl7",
        "outputId": "79a03208-b298-4097-dd21-e36fdf2292d1"
      },
      "outputs": [
        {
          "data": {
            "text/plain": [
              "defaultdict(list,\n",
              "            {'uncertainty_kmeans': [0.5198412698412698,\n",
              "              0.6329365079365079,\n",
              "              0.6183862433862434,\n",
              "              0.6236772486772486,\n",
              "              0.6428571428571428,\n",
              "              0.656084656084656,\n",
              "              0.6177248677248677,\n",
              "              0.6699735449735449,\n",
              "              0.6673280423280423,\n",
              "              0.673941798941799,\n",
              "              0.6574074074074073,\n",
              "              0.6402116402116402,\n",
              "              0.6428571428571428,\n",
              "              0.6660052910052909,\n",
              "              0.6818783068783069,\n",
              "              0.6626984126984127,\n",
              "              0.6924603174603174,\n",
              "              0.693121693121693,\n",
              "              0.691137566137566,\n",
              "              0.693121693121693]})"
            ]
          },
          "execution_count": 27,
          "metadata": {},
          "output_type": "execute_result"
        }
      ],
      "source": [
        "accuracy_scores_dict"
      ]
    },
    {
      "cell_type": "code",
      "execution_count": null,
      "metadata": {
        "id": "8MQzLd-vwdlx"
      },
      "outputs": [],
      "source": []
    }
  ],
  "metadata": {
    "colab": {
      "provenance": [],
      "include_colab_link": true
    },
    "kernelspec": {
      "display_name": "Python 3 (ipykernel)",
      "language": "python",
      "name": "python3"
    },
    "language_info": {
      "codemirror_mode": {
        "name": "ipython",
        "version": 3
      },
      "file_extension": ".py",
      "mimetype": "text/x-python",
      "name": "python",
      "nbconvert_exporter": "python",
      "pygments_lexer": "ipython3",
      "version": "3.9.15"
    }
  },
  "nbformat": 4,
  "nbformat_minor": 0
}